<!DOCTYPE html>
<html>
<head><meta charset="utf-8" />
<title>notebook</title><script src="https://cdnjs.cloudflare.com/ajax/libs/require.js/2.1.10/require.min.js"></script>
<script src="https://cdnjs.cloudflare.com/ajax/libs/jquery/2.0.3/jquery.min.js"></script>

<style type="text/css">
    /*!
*
* Twitter Bootstrap
*
*/
/*!
 * Bootstrap v3.3.7 (http://getbootstrap.com)
 * Copyright 2011-2016 Twitter, Inc.
 * Licensed under MIT (https://github.com/twbs/bootstrap/blob/master/LICENSE)
 */
/*! normalize.css v3.0.3 | MIT License | github.com/necolas/normalize.css */
html {
  font-family: sans-serif;
  -ms-text-size-adjust: 100%;
  -webkit-text-size-adjust: 100%;
}
body {
  margin: 0;
}
article,
aside,
details,
figcaption,
figure,
footer,
header,
hgroup,
main,
menu,
nav,
section,
summary {
  display: block;
}
audio,
canvas,
progress,
video {
  display: inline-block;
  vertical-align: baseline;
}
audio:not([controls]) {
  display: none;
  height: 0;
}
[hidden],
template {
  display: none;
}
a {
  background-color: transparent;
}
a:active,
a:hover {
  outline: 0;
}
abbr[title] {
  border-bottom: 1px dotted;
}
b,
strong {
  font-weight: bold;
}
dfn {
  font-style: italic;
}
h1 {
  font-size: 2em;
  margin: 0.67em 0;
}
mark {
  background: #ff0;
  color: #000;
}
small {
  font-size: 80%;
}
sub,
sup {
  font-size: 75%;
  line-height: 0;
  position: relative;
  vertical-align: baseline;
}
sup {
  top: -0.5em;
}
sub {
  bottom: -0.25em;
}
img {
  border: 0;
}
svg:not(:root) {
  overflow: hidden;
}
figure {
  margin: 1em 40px;
}
hr {
  box-sizing: content-box;
  height: 0;
}
pre {
  overflow: auto;
}
code,
kbd,
pre,
samp {
  font-family: monospace, monospace;
  font-size: 1em;
}
button,
input,
optgroup,
select,
textarea {
  color: inherit;
  font: inherit;
  margin: 0;
}
button {
  overflow: visible;
}
button,
select {
  text-transform: none;
}
button,
html input[type="button"],
input[type="reset"],
input[type="submit"] {
  -webkit-appearance: button;
  cursor: pointer;
}
button[disabled],
html input[disabled] {
  cursor: default;
}
button::-moz-focus-inner,
input::-moz-focus-inner {
  border: 0;
  padding: 0;
}
input {
  line-height: normal;
}
input[type="checkbox"],
input[type="radio"] {
  box-sizing: border-box;
  padding: 0;
}
input[type="number"]::-webkit-inner-spin-button,
input[type="number"]::-webkit-outer-spin-button {
  height: auto;
}
input[type="search"] {
  -webkit-appearance: textfield;
  box-sizing: content-box;
}
input[type="search"]::-webkit-search-cancel-button,
input[type="search"]::-webkit-search-decoration {
  -webkit-appearance: none;
}
fieldset {
  border: 1px solid #c0c0c0;
  margin: 0 2px;
  padding: 0.35em 0.625em 0.75em;
}
legend {
  border: 0;
  padding: 0;
}
textarea {
  overflow: auto;
}
optgroup {
  font-weight: bold;
}
table {
  border-collapse: collapse;
  border-spacing: 0;
}
td,
th {
  padding: 0;
}
/*! Source: https://github.com/h5bp/html5-boilerplate/blob/master/src/css/main.css */
@media print {
  *,
  *:before,
  *:after {
    background: transparent !important;
    color: #000 !important;
    box-shadow: none !important;
    text-shadow: none !important;
  }
  a,
  a:visited {
    text-decoration: underline;
  }
  a[href]:after {
    content: " (" attr(href) ")";
  }
  abbr[title]:after {
    content: " (" attr(title) ")";
  }
  a[href^="#"]:after,
  a[href^="javascript:"]:after {
    content: "";
  }
  pre,
  blockquote {
    border: 1px solid #999;
    page-break-inside: avoid;
  }
  thead {
    display: table-header-group;
  }
  tr,
  img {
    page-break-inside: avoid;
  }
  img {
    max-width: 100% !important;
  }
  p,
  h2,
  h3 {
    orphans: 3;
    widows: 3;
  }
  h2,
  h3 {
    page-break-after: avoid;
  }
  .navbar {
    display: none;
  }
  .btn > .caret,
  .dropup > .btn > .caret {
    border-top-color: #000 !important;
  }
  .label {
    border: 1px solid #000;
  }
  .table {
    border-collapse: collapse !important;
  }
  .table td,
  .table th {
    background-color: #fff !important;
  }
  .table-bordered th,
  .table-bordered td {
    border: 1px solid #ddd !important;
  }
}
@font-face {
  font-family: 'Glyphicons Halflings';
  src: url('../components/bootstrap/fonts/glyphicons-halflings-regular.eot');
  src: url('../components/bootstrap/fonts/glyphicons-halflings-regular.eot?#iefix') format('embedded-opentype'), url('../components/bootstrap/fonts/glyphicons-halflings-regular.woff2') format('woff2'), url('../components/bootstrap/fonts/glyphicons-halflings-regular.woff') format('woff'), url('../components/bootstrap/fonts/glyphicons-halflings-regular.ttf') format('truetype'), url('../components/bootstrap/fonts/glyphicons-halflings-regular.svg#glyphicons_halflingsregular') format('svg');
}
.glyphicon {
  position: relative;
  top: 1px;
  display: inline-block;
  font-family: 'Glyphicons Halflings';
  font-style: normal;
  font-weight: normal;
  line-height: 1;
  -webkit-font-smoothing: antialiased;
  -moz-osx-font-smoothing: grayscale;
}
.glyphicon-asterisk:before {
  content: "\002a";
}
.glyphicon-plus:before {
  content: "\002b";
}
.glyphicon-euro:before,
.glyphicon-eur:before {
  content: "\20ac";
}
.glyphicon-minus:before {
  content: "\2212";
}
.glyphicon-cloud:before {
  content: "\2601";
}
.glyphicon-envelope:before {
  content: "\2709";
}
.glyphicon-pencil:before {
  content: "\270f";
}
.glyphicon-glass:before {
  content: "\e001";
}
.glyphicon-music:before {
  content: "\e002";
}
.glyphicon-search:before {
  content: "\e003";
}
.glyphicon-heart:before {
  content: "\e005";
}
.glyphicon-star:before {
  content: "\e006";
}
.glyphicon-star-empty:before {
  content: "\e007";
}
.glyphicon-user:before {
  content: "\e008";
}
.glyphicon-film:before {
  content: "\e009";
}
.glyphicon-th-large:before {
  content: "\e010";
}
.glyphicon-th:before {
  content: "\e011";
}
.glyphicon-th-list:before {
  content: "\e012";
}
.glyphicon-ok:before {
  content: "\e013";
}
.glyphicon-remove:before {
  content: "\e014";
}
.glyphicon-zoom-in:before {
  content: "\e015";
}
.glyphicon-zoom-out:before {
  content: "\e016";
}
.glyphicon-off:before {
  content: "\e017";
}
.glyphicon-signal:before {
  content: "\e018";
}
.glyphicon-cog:before {
  content: "\e019";
}
.glyphicon-trash:before {
  content: "\e020";
}
.glyphicon-home:before {
  content: "\e021";
}
.glyphicon-file:before {
  content: "\e022";
}
.glyphicon-time:before {
  content: "\e023";
}
.glyphicon-road:before {
  content: "\e024";
}
.glyphicon-download-alt:before {
  content: "\e025";
}
.glyphicon-download:before {
  content: "\e026";
}
.glyphicon-upload:before {
  content: "\e027";
}
.glyphicon-inbox:before {
  content: "\e028";
}
.glyphicon-play-circle:before {
  content: "\e029";
}
.glyphicon-repeat:before {
  content: "\e030";
}
.glyphicon-refresh:before {
  content: "\e031";
}
.glyphicon-list-alt:before {
  content: "\e032";
}
.glyphicon-lock:before {
  content: "\e033";
}
.glyphicon-flag:before {
  content: "\e034";
}
.glyphicon-headphones:before {
  content: "\e035";
}
.glyphicon-volume-off:before {
  content: "\e036";
}
.glyphicon-volume-down:before {
  content: "\e037";
}
.glyphicon-volume-up:before {
  content: "\e038";
}
.glyphicon-qrcode:before {
  content: "\e039";
}
.glyphicon-barcode:before {
  content: "\e040";
}
.glyphicon-tag:before {
  content: "\e041";
}
.glyphicon-tags:before {
  content: "\e042";
}
.glyphicon-book:before {
  content: "\e043";
}
.glyphicon-bookmark:before {
  content: "\e044";
}
.glyphicon-print:before {
  content: "\e045";
}
.glyphicon-camera:before {
  content: "\e046";
}
.glyphicon-font:before {
  content: "\e047";
}
.glyphicon-bold:before {
  content: "\e048";
}
.glyphicon-italic:before {
  content: "\e049";
}
.glyphicon-text-height:before {
  content: "\e050";
}
.glyphicon-text-width:before {
  content: "\e051";
}
.glyphicon-align-left:before {
  content: "\e052";
}
.glyphicon-align-center:before {
  content: "\e053";
}
.glyphicon-align-right:before {
  content: "\e054";
}
.glyphicon-align-justify:before {
  content: "\e055";
}
.glyphicon-list:before {
  content: "\e056";
}
.glyphicon-indent-left:before {
  content: "\e057";
}
.glyphicon-indent-right:before {
  content: "\e058";
}
.glyphicon-facetime-video:before {
  content: "\e059";
}
.glyphicon-picture:before {
  content: "\e060";
}
.glyphicon-map-marker:before {
  content: "\e062";
}
.glyphicon-adjust:before {
  content: "\e063";
}
.glyphicon-tint:before {
  content: "\e064";
}
.glyphicon-edit:before {
  content: "\e065";
}
.glyphicon-share:before {
  content: "\e066";
}
.glyphicon-check:before {
  content: "\e067";
}
.glyphicon-move:before {
  content: "\e068";
}
.glyphicon-step-backward:before {
  content: "\e069";
}
.glyphicon-fast-backward:before {
  content: "\e070";
}
.glyphicon-backward:before {
  content: "\e071";
}
.glyphicon-play:before {
  content: "\e072";
}
.glyphicon-pause:before {
  content: "\e073";
}
.glyphicon-stop:before {
  content: "\e074";
}
.glyphicon-forward:before {
  content: "\e075";
}
.glyphicon-fast-forward:before {
  content: "\e076";
}
.glyphicon-step-forward:before {
  content: "\e077";
}
.glyphicon-eject:before {
  content: "\e078";
}
.glyphicon-chevron-left:before {
  content: "\e079";
}
.glyphicon-chevron-right:before {
  content: "\e080";
}
.glyphicon-plus-sign:before {
  content: "\e081";
}
.glyphicon-minus-sign:before {
  content: "\e082";
}
.glyphicon-remove-sign:before {
  content: "\e083";
}
.glyphicon-ok-sign:before {
  content: "\e084";
}
.glyphicon-question-sign:before {
  content: "\e085";
}
.glyphicon-info-sign:before {
  content: "\e086";
}
.glyphicon-screenshot:before {
  content: "\e087";
}
.glyphicon-remove-circle:before {
  content: "\e088";
}
.glyphicon-ok-circle:before {
  content: "\e089";
}
.glyphicon-ban-circle:before {
  content: "\e090";
}
.glyphicon-arrow-left:before {
  content: "\e091";
}
.glyphicon-arrow-right:before {
  content: "\e092";
}
.glyphicon-arrow-up:before {
  content: "\e093";
}
.glyphicon-arrow-down:before {
  content: "\e094";
}
.glyphicon-share-alt:before {
  content: "\e095";
}
.glyphicon-resize-full:before {
  content: "\e096";
}
.glyphicon-resize-small:before {
  content: "\e097";
}
.glyphicon-exclamation-sign:before {
  content: "\e101";
}
.glyphicon-gift:before {
  content: "\e102";
}
.glyphicon-leaf:before {
  content: "\e103";
}
.glyphicon-fire:before {
  content: "\e104";
}
.glyphicon-eye-open:before {
  content: "\e105";
}
.glyphicon-eye-close:before {
  content: "\e106";
}
.glyphicon-warning-sign:before {
  content: "\e107";
}
.glyphicon-plane:before {
  content: "\e108";
}
.glyphicon-calendar:before {
  content: "\e109";
}
.glyphicon-random:before {
  content: "\e110";
}
.glyphicon-comment:before {
  content: "\e111";
}
.glyphicon-magnet:before {
  content: "\e112";
}
.glyphicon-chevron-up:before {
  content: "\e113";
}
.glyphicon-chevron-down:before {
  content: "\e114";
}
.glyphicon-retweet:before {
  content: "\e115";
}
.glyphicon-shopping-cart:before {
  content: "\e116";
}
.glyphicon-folder-close:before {
  content: "\e117";
}
.glyphicon-folder-open:before {
  content: "\e118";
}
.glyphicon-resize-vertical:before {
  content: "\e119";
}
.glyphicon-resize-horizontal:before {
  content: "\e120";
}
.glyphicon-hdd:before {
  content: "\e121";
}
.glyphicon-bullhorn:before {
  content: "\e122";
}
.glyphicon-bell:before {
  content: "\e123";
}
.glyphicon-certificate:before {
  content: "\e124";
}
.glyphicon-thumbs-up:before {
  content: "\e125";
}
.glyphicon-thumbs-down:before {
  content: "\e126";
}
.glyphicon-hand-right:before {
  content: "\e127";
}
.glyphicon-hand-left:before {
  content: "\e128";
}
.glyphicon-hand-up:before {
  content: "\e129";
}
.glyphicon-hand-down:before {
  content: "\e130";
}
.glyphicon-circle-arrow-right:before {
  content: "\e131";
}
.glyphicon-circle-arrow-left:before {
  content: "\e132";
}
.glyphicon-circle-arrow-up:before {
  content: "\e133";
}
.glyphicon-circle-arrow-down:before {
  content: "\e134";
}
.glyphicon-globe:before {
  content: "\e135";
}
.glyphicon-wrench:before {
  content: "\e136";
}
.glyphicon-tasks:before {
  content: "\e137";
}
.glyphicon-filter:before {
  content: "\e138";
}
.glyphicon-briefcase:before {
  content: "\e139";
}
.glyphicon-fullscreen:before {
  content: "\e140";
}
.glyphicon-dashboard:before {
  content: "\e141";
}
.glyphicon-paperclip:before {
  content: "\e142";
}
.glyphicon-heart-empty:before {
  content: "\e143";
}
.glyphicon-link:before {
  content: "\e144";
}
.glyphicon-phone:before {
  content: "\e145";
}
.glyphicon-pushpin:before {
  content: "\e146";
}
.glyphicon-usd:before {
  content: "\e148";
}
.glyphicon-gbp:before {
  content: "\e149";
}
.glyphicon-sort:before {
  content: "\e150";
}
.glyphicon-sort-by-alphabet:before {
  content: "\e151";
}
.glyphicon-sort-by-alphabet-alt:before {
  content: "\e152";
}
.glyphicon-sort-by-order:before {
  content: "\e153";
}
.glyphicon-sort-by-order-alt:before {
  content: "\e154";
}
.glyphicon-sort-by-attributes:before {
  content: "\e155";
}
.glyphicon-sort-by-attributes-alt:before {
  content: "\e156";
}
.glyphicon-unchecked:before {
  content: "\e157";
}
.glyphicon-expand:before {
  content: "\e158";
}
.glyphicon-collapse-down:before {
  content: "\e159";
}
.glyphicon-collapse-up:before {
  content: "\e160";
}
.glyphicon-log-in:before {
  content: "\e161";
}
.glyphicon-flash:before {
  content: "\e162";
}
.glyphicon-log-out:before {
  content: "\e163";
}
.glyphicon-new-window:before {
  content: "\e164";
}
.glyphicon-record:before {
  content: "\e165";
}
.glyphicon-save:before {
  content: "\e166";
}
.glyphicon-open:before {
  content: "\e167";
}
.glyphicon-saved:before {
  content: "\e168";
}
.glyphicon-import:before {
  content: "\e169";
}
.glyphicon-export:before {
  content: "\e170";
}
.glyphicon-send:before {
  content: "\e171";
}
.glyphicon-floppy-disk:before {
  content: "\e172";
}
.glyphicon-floppy-saved:before {
  content: "\e173";
}
.glyphicon-floppy-remove:before {
  content: "\e174";
}
.glyphicon-floppy-save:before {
  content: "\e175";
}
.glyphicon-floppy-open:before {
  content: "\e176";
}
.glyphicon-credit-card:before {
  content: "\e177";
}
.glyphicon-transfer:before {
  content: "\e178";
}
.glyphicon-cutlery:before {
  content: "\e179";
}
.glyphicon-header:before {
  content: "\e180";
}
.glyphicon-compressed:before {
  content: "\e181";
}
.glyphicon-earphone:before {
  content: "\e182";
}
.glyphicon-phone-alt:before {
  content: "\e183";
}
.glyphicon-tower:before {
  content: "\e184";
}
.glyphicon-stats:before {
  content: "\e185";
}
.glyphicon-sd-video:before {
  content: "\e186";
}
.glyphicon-hd-video:before {
  content: "\e187";
}
.glyphicon-subtitles:before {
  content: "\e188";
}
.glyphicon-sound-stereo:before {
  content: "\e189";
}
.glyphicon-sound-dolby:before {
  content: "\e190";
}
.glyphicon-sound-5-1:before {
  content: "\e191";
}
.glyphicon-sound-6-1:before {
  content: "\e192";
}
.glyphicon-sound-7-1:before {
  content: "\e193";
}
.glyphicon-copyright-mark:before {
  content: "\e194";
}
.glyphicon-registration-mark:before {
  content: "\e195";
}
.glyphicon-cloud-download:before {
  content: "\e197";
}
.glyphicon-cloud-upload:before {
  content: "\e198";
}
.glyphicon-tree-conifer:before {
  content: "\e199";
}
.glyphicon-tree-deciduous:before {
  content: "\e200";
}
.glyphicon-cd:before {
  content: "\e201";
}
.glyphicon-save-file:before {
  content: "\e202";
}
.glyphicon-open-file:before {
  content: "\e203";
}
.glyphicon-level-up:before {
  content: "\e204";
}
.glyphicon-copy:before {
  content: "\e205";
}
.glyphicon-paste:before {
  content: "\e206";
}
.glyphicon-alert:before {
  content: "\e209";
}
.glyphicon-equalizer:before {
  content: "\e210";
}
.glyphicon-king:before {
  content: "\e211";
}
.glyphicon-queen:before {
  content: "\e212";
}
.glyphicon-pawn:before {
  content: "\e213";
}
.glyphicon-bishop:before {
  content: "\e214";
}
.glyphicon-knight:before {
  content: "\e215";
}
.glyphicon-baby-formula:before {
  content: "\e216";
}
.glyphicon-tent:before {
  content: "\26fa";
}
.glyphicon-blackboard:before {
  content: "\e218";
}
.glyphicon-bed:before {
  content: "\e219";
}
.glyphicon-apple:before {
  content: "\f8ff";
}
.glyphicon-erase:before {
  content: "\e221";
}
.glyphicon-hourglass:before {
  content: "\231b";
}
.glyphicon-lamp:before {
  content: "\e223";
}
.glyphicon-duplicate:before {
  content: "\e224";
}
.glyphicon-piggy-bank:before {
  content: "\e225";
}
.glyphicon-scissors:before {
  content: "\e226";
}
.glyphicon-bitcoin:before {
  content: "\e227";
}
.glyphicon-btc:before {
  content: "\e227";
}
.glyphicon-xbt:before {
  content: "\e227";
}
.glyphicon-yen:before {
  content: "\00a5";
}
.glyphicon-jpy:before {
  content: "\00a5";
}
.glyphicon-ruble:before {
  content: "\20bd";
}
.glyphicon-rub:before {
  content: "\20bd";
}
.glyphicon-scale:before {
  content: "\e230";
}
.glyphicon-ice-lolly:before {
  content: "\e231";
}
.glyphicon-ice-lolly-tasted:before {
  content: "\e232";
}
.glyphicon-education:before {
  content: "\e233";
}
.glyphicon-option-horizontal:before {
  content: "\e234";
}
.glyphicon-option-vertical:before {
  content: "\e235";
}
.glyphicon-menu-hamburger:before {
  content: "\e236";
}
.glyphicon-modal-window:before {
  content: "\e237";
}
.glyphicon-oil:before {
  content: "\e238";
}
.glyphicon-grain:before {
  content: "\e239";
}
.glyphicon-sunglasses:before {
  content: "\e240";
}
.glyphicon-text-size:before {
  content: "\e241";
}
.glyphicon-text-color:before {
  content: "\e242";
}
.glyphicon-text-background:before {
  content: "\e243";
}
.glyphicon-object-align-top:before {
  content: "\e244";
}
.glyphicon-object-align-bottom:before {
  content: "\e245";
}
.glyphicon-object-align-horizontal:before {
  content: "\e246";
}
.glyphicon-object-align-left:before {
  content: "\e247";
}
.glyphicon-object-align-vertical:before {
  content: "\e248";
}
.glyphicon-object-align-right:before {
  content: "\e249";
}
.glyphicon-triangle-right:before {
  content: "\e250";
}
.glyphicon-triangle-left:before {
  content: "\e251";
}
.glyphicon-triangle-bottom:before {
  content: "\e252";
}
.glyphicon-triangle-top:before {
  content: "\e253";
}
.glyphicon-console:before {
  content: "\e254";
}
.glyphicon-superscript:before {
  content: "\e255";
}
.glyphicon-subscript:before {
  content: "\e256";
}
.glyphicon-menu-left:before {
  content: "\e257";
}
.glyphicon-menu-right:before {
  content: "\e258";
}
.glyphicon-menu-down:before {
  content: "\e259";
}
.glyphicon-menu-up:before {
  content: "\e260";
}
* {
  -webkit-box-sizing: border-box;
  -moz-box-sizing: border-box;
  box-sizing: border-box;
}
*:before,
*:after {
  -webkit-box-sizing: border-box;
  -moz-box-sizing: border-box;
  box-sizing: border-box;
}
html {
  font-size: 10px;
  -webkit-tap-highlight-color: rgba(0, 0, 0, 0);
}
body {
  font-family: "Helvetica Neue", Helvetica, Arial, sans-serif;
  font-size: 13px;
  line-height: 1.42857143;
  color: #000;
  background-color: #fff;
}
input,
button,
select,
textarea {
  font-family: inherit;
  font-size: inherit;
  line-height: inherit;
}
a {
  color: #337ab7;
  text-decoration: none;
}
a:hover,
a:focus {
  color: #23527c;
  text-decoration: underline;
}
a:focus {
  outline: 5px auto -webkit-focus-ring-color;
  outline-offset: -2px;
}
figure {
  margin: 0;
}
img {
  vertical-align: middle;
}
.img-responsive,
.thumbnail > img,
.thumbnail a > img,
.carousel-inner > .item > img,
.carousel-inner > .item > a > img {
  display: block;
  max-width: 100%;
  height: auto;
}
.img-rounded {
  border-radius: 3px;
}
.img-thumbnail {
  padding: 4px;
  line-height: 1.42857143;
  background-color: #fff;
  border: 1px solid #ddd;
  border-radius: 2px;
  -webkit-transition: all 0.2s ease-in-out;
  -o-transition: all 0.2s ease-in-out;
  transition: all 0.2s ease-in-out;
  display: inline-block;
  max-width: 100%;
  height: auto;
}
.img-circle {
  border-radius: 50%;
}
hr {
  margin-top: 18px;
  margin-bottom: 18px;
  border: 0;
  border-top: 1px solid #eeeeee;
}
.sr-only {
  position: absolute;
  width: 1px;
  height: 1px;
  margin: -1px;
  padding: 0;
  overflow: hidden;
  clip: rect(0, 0, 0, 0);
  border: 0;
}
.sr-only-focusable:active,
.sr-only-focusable:focus {
  position: static;
  width: auto;
  height: auto;
  margin: 0;
  overflow: visible;
  clip: auto;
}
[role="button"] {
  cursor: pointer;
}
h1,
h2,
h3,
h4,
h5,
h6,
.h1,
.h2,
.h3,
.h4,
.h5,
.h6 {
  font-family: inherit;
  font-weight: 500;
  line-height: 1.1;
  color: inherit;
}
h1 small,
h2 small,
h3 small,
h4 small,
h5 small,
h6 small,
.h1 small,
.h2 small,
.h3 small,
.h4 small,
.h5 small,
.h6 small,
h1 .small,
h2 .small,
h3 .small,
h4 .small,
h5 .small,
h6 .small,
.h1 .small,
.h2 .small,
.h3 .small,
.h4 .small,
.h5 .small,
.h6 .small {
  font-weight: normal;
  line-height: 1;
  color: #777777;
}
h1,
.h1,
h2,
.h2,
h3,
.h3 {
  margin-top: 18px;
  margin-bottom: 9px;
}
h1 small,
.h1 small,
h2 small,
.h2 small,
h3 small,
.h3 small,
h1 .small,
.h1 .small,
h2 .small,
.h2 .small,
h3 .small,
.h3 .small {
  font-size: 65%;
}
h4,
.h4,
h5,
.h5,
h6,
.h6 {
  margin-top: 9px;
  margin-bottom: 9px;
}
h4 small,
.h4 small,
h5 small,
.h5 small,
h6 small,
.h6 small,
h4 .small,
.h4 .small,
h5 .small,
.h5 .small,
h6 .small,
.h6 .small {
  font-size: 75%;
}
h1,
.h1 {
  font-size: 33px;
}
h2,
.h2 {
  font-size: 27px;
}
h3,
.h3 {
  font-size: 23px;
}
h4,
.h4 {
  font-size: 17px;
}
h5,
.h5 {
  font-size: 13px;
}
h6,
.h6 {
  font-size: 12px;
}
p {
  margin: 0 0 9px;
}
.lead {
  margin-bottom: 18px;
  font-size: 14px;
  font-weight: 300;
  line-height: 1.4;
}
@media (min-width: 768px) {
  .lead {
    font-size: 19.5px;
  }
}
small,
.small {
  font-size: 92%;
}
mark,
.mark {
  background-color: #fcf8e3;
  padding: .2em;
}
.text-left {
  text-align: left;
}
.text-right {
  text-align: right;
}
.text-center {
  text-align: center;
}
.text-justify {
  text-align: justify;
}
.text-nowrap {
  white-space: nowrap;
}
.text-lowercase {
  text-transform: lowercase;
}
.text-uppercase {
  text-transform: uppercase;
}
.text-capitalize {
  text-transform: capitalize;
}
.text-muted {
  color: #777777;
}
.text-primary {
  color: #337ab7;
}
a.text-primary:hover,
a.text-primary:focus {
  color: #286090;
}
.text-success {
  color: #3c763d;
}
a.text-success:hover,
a.text-success:focus {
  color: #2b542c;
}
.text-info {
  color: #31708f;
}
a.text-info:hover,
a.text-info:focus {
  color: #245269;
}
.text-warning {
  color: #8a6d3b;
}
a.text-warning:hover,
a.text-warning:focus {
  color: #66512c;
}
.text-danger {
  color: #a94442;
}
a.text-danger:hover,
a.text-danger:focus {
  color: #843534;
}
.bg-primary {
  color: #fff;
  background-color: #337ab7;
}
a.bg-primary:hover,
a.bg-primary:focus {
  background-color: #286090;
}
.bg-success {
  background-color: #dff0d8;
}
a.bg-success:hover,
a.bg-success:focus {
  background-color: #c1e2b3;
}
.bg-info {
  background-color: #d9edf7;
}
a.bg-info:hover,
a.bg-info:focus {
  background-color: #afd9ee;
}
.bg-warning {
  background-color: #fcf8e3;
}
a.bg-warning:hover,
a.bg-warning:focus {
  background-color: #f7ecb5;
}
.bg-danger {
  background-color: #f2dede;
}
a.bg-danger:hover,
a.bg-danger:focus {
  background-color: #e4b9b9;
}
.page-header {
  padding-bottom: 8px;
  margin: 36px 0 18px;
  border-bottom: 1px solid #eeeeee;
}
ul,
ol {
  margin-top: 0;
  margin-bottom: 9px;
}
ul ul,
ol ul,
ul ol,
ol ol {
  margin-bottom: 0;
}
.list-unstyled {
  padding-left: 0;
  list-style: none;
}
.list-inline {
  padding-left: 0;
  list-style: none;
  margin-left: -5px;
}
.list-inline > li {
  display: inline-block;
  padding-left: 5px;
  padding-right: 5px;
}
dl {
  margin-top: 0;
  margin-bottom: 18px;
}
dt,
dd {
  line-height: 1.42857143;
}
dt {
  font-weight: bold;
}
dd {
  margin-left: 0;
}
@media (min-width: 541px) {
  .dl-horizontal dt {
    float: left;
    width: 160px;
    clear: left;
    text-align: right;
    overflow: hidden;
    text-overflow: ellipsis;
    white-space: nowrap;
  }
  .dl-horizontal dd {
    margin-left: 180px;
  }
}
abbr[title],
abbr[data-original-title] {
  cursor: help;
  border-bottom: 1px dotted #777777;
}
.initialism {
  font-size: 90%;
  text-transform: uppercase;
}
blockquote {
  padding: 9px 18px;
  margin: 0 0 18px;
  font-size: inherit;
  border-left: 5px solid #eeeeee;
}
blockquote p:last-child,
blockquote ul:last-child,
blockquote ol:last-child {
  margin-bottom: 0;
}
blockquote footer,
blockquote small,
blockquote .small {
  display: block;
  font-size: 80%;
  line-height: 1.42857143;
  color: #777777;
}
blockquote footer:before,
blockquote small:before,
blockquote .small:before {
  content: '\2014 \00A0';
}
.blockquote-reverse,
blockquote.pull-right {
  padding-right: 15px;
  padding-left: 0;
  border-right: 5px solid #eeeeee;
  border-left: 0;
  text-align: right;
}
.blockquote-reverse footer:before,
blockquote.pull-right footer:before,
.blockquote-reverse small:before,
blockquote.pull-right small:before,
.blockquote-reverse .small:before,
blockquote.pull-right .small:before {
  content: '';
}
.blockquote-reverse footer:after,
blockquote.pull-right footer:after,
.blockquote-reverse small:after,
blockquote.pull-right small:after,
.blockquote-reverse .small:after,
blockquote.pull-right .small:after {
  content: '\00A0 \2014';
}
address {
  margin-bottom: 18px;
  font-style: normal;
  line-height: 1.42857143;
}
code,
kbd,
pre,
samp {
  font-family: monospace;
}
code {
  padding: 2px 4px;
  font-size: 90%;
  color: #c7254e;
  background-color: #f9f2f4;
  border-radius: 2px;
}
kbd {
  padding: 2px 4px;
  font-size: 90%;
  color: #888;
  background-color: transparent;
  border-radius: 1px;
  box-shadow: inset 0 -1px 0 rgba(0, 0, 0, 0.25);
}
kbd kbd {
  padding: 0;
  font-size: 100%;
  font-weight: bold;
  box-shadow: none;
}
pre {
  display: block;
  padding: 8.5px;
  margin: 0 0 9px;
  font-size: 12px;
  line-height: 1.42857143;
  word-break: break-all;
  word-wrap: break-word;
  color: #333333;
  background-color: #f5f5f5;
  border: 1px solid #ccc;
  border-radius: 2px;
}
pre code {
  padding: 0;
  font-size: inherit;
  color: inherit;
  white-space: pre-wrap;
  background-color: transparent;
  border-radius: 0;
}
.pre-scrollable {
  max-height: 340px;
  overflow-y: scroll;
}
.container {
  margin-right: auto;
  margin-left: auto;
  padding-left: 0px;
  padding-right: 0px;
}
@media (min-width: 768px) {
  .container {
    width: 768px;
  }
}
@media (min-width: 992px) {
  .container {
    width: 940px;
  }
}
@media (min-width: 1200px) {
  .container {
    width: 1140px;
  }
}
.container-fluid {
  margin-right: auto;
  margin-left: auto;
  padding-left: 0px;
  padding-right: 0px;
}
.row {
  margin-left: 0px;
  margin-right: 0px;
}
.col-xs-1, .col-sm-1, .col-md-1, .col-lg-1, .col-xs-2, .col-sm-2, .col-md-2, .col-lg-2, .col-xs-3, .col-sm-3, .col-md-3, .col-lg-3, .col-xs-4, .col-sm-4, .col-md-4, .col-lg-4, .col-xs-5, .col-sm-5, .col-md-5, .col-lg-5, .col-xs-6, .col-sm-6, .col-md-6, .col-lg-6, .col-xs-7, .col-sm-7, .col-md-7, .col-lg-7, .col-xs-8, .col-sm-8, .col-md-8, .col-lg-8, .col-xs-9, .col-sm-9, .col-md-9, .col-lg-9, .col-xs-10, .col-sm-10, .col-md-10, .col-lg-10, .col-xs-11, .col-sm-11, .col-md-11, .col-lg-11, .col-xs-12, .col-sm-12, .col-md-12, .col-lg-12 {
  position: relative;
  min-height: 1px;
  padding-left: 0px;
  padding-right: 0px;
}
.col-xs-1, .col-xs-2, .col-xs-3, .col-xs-4, .col-xs-5, .col-xs-6, .col-xs-7, .col-xs-8, .col-xs-9, .col-xs-10, .col-xs-11, .col-xs-12 {
  float: left;
}
.col-xs-12 {
  width: 100%;
}
.col-xs-11 {
  width: 91.66666667%;
}
.col-xs-10 {
  width: 83.33333333%;
}
.col-xs-9 {
  width: 75%;
}
.col-xs-8 {
  width: 66.66666667%;
}
.col-xs-7 {
  width: 58.33333333%;
}
.col-xs-6 {
  width: 50%;
}
.col-xs-5 {
  width: 41.66666667%;
}
.col-xs-4 {
  width: 33.33333333%;
}
.col-xs-3 {
  width: 25%;
}
.col-xs-2 {
  width: 16.66666667%;
}
.col-xs-1 {
  width: 8.33333333%;
}
.col-xs-pull-12 {
  right: 100%;
}
.col-xs-pull-11 {
  right: 91.66666667%;
}
.col-xs-pull-10 {
  right: 83.33333333%;
}
.col-xs-pull-9 {
  right: 75%;
}
.col-xs-pull-8 {
  right: 66.66666667%;
}
.col-xs-pull-7 {
  right: 58.33333333%;
}
.col-xs-pull-6 {
  right: 50%;
}
.col-xs-pull-5 {
  right: 41.66666667%;
}
.col-xs-pull-4 {
  right: 33.33333333%;
}
.col-xs-pull-3 {
  right: 25%;
}
.col-xs-pull-2 {
  right: 16.66666667%;
}
.col-xs-pull-1 {
  right: 8.33333333%;
}
.col-xs-pull-0 {
  right: auto;
}
.col-xs-push-12 {
  left: 100%;
}
.col-xs-push-11 {
  left: 91.66666667%;
}
.col-xs-push-10 {
  left: 83.33333333%;
}
.col-xs-push-9 {
  left: 75%;
}
.col-xs-push-8 {
  left: 66.66666667%;
}
.col-xs-push-7 {
  left: 58.33333333%;
}
.col-xs-push-6 {
  left: 50%;
}
.col-xs-push-5 {
  left: 41.66666667%;
}
.col-xs-push-4 {
  left: 33.33333333%;
}
.col-xs-push-3 {
  left: 25%;
}
.col-xs-push-2 {
  left: 16.66666667%;
}
.col-xs-push-1 {
  left: 8.33333333%;
}
.col-xs-push-0 {
  left: auto;
}
.col-xs-offset-12 {
  margin-left: 100%;
}
.col-xs-offset-11 {
  margin-left: 91.66666667%;
}
.col-xs-offset-10 {
  margin-left: 83.33333333%;
}
.col-xs-offset-9 {
  margin-left: 75%;
}
.col-xs-offset-8 {
  margin-left: 66.66666667%;
}
.col-xs-offset-7 {
  margin-left: 58.33333333%;
}
.col-xs-offset-6 {
  margin-left: 50%;
}
.col-xs-offset-5 {
  margin-left: 41.66666667%;
}
.col-xs-offset-4 {
  margin-left: 33.33333333%;
}
.col-xs-offset-3 {
  margin-left: 25%;
}
.col-xs-offset-2 {
  margin-left: 16.66666667%;
}
.col-xs-offset-1 {
  margin-left: 8.33333333%;
}
.col-xs-offset-0 {
  margin-left: 0%;
}
@media (min-width: 768px) {
  .col-sm-1, .col-sm-2, .col-sm-3, .col-sm-4, .col-sm-5, .col-sm-6, .col-sm-7, .col-sm-8, .col-sm-9, .col-sm-10, .col-sm-11, .col-sm-12 {
    float: left;
  }
  .col-sm-12 {
    width: 100%;
  }
  .col-sm-11 {
    width: 91.66666667%;
  }
  .col-sm-10 {
    width: 83.33333333%;
  }
  .col-sm-9 {
    width: 75%;
  }
  .col-sm-8 {
    width: 66.66666667%;
  }
  .col-sm-7 {
    width: 58.33333333%;
  }
  .col-sm-6 {
    width: 50%;
  }
  .col-sm-5 {
    width: 41.66666667%;
  }
  .col-sm-4 {
    width: 33.33333333%;
  }
  .col-sm-3 {
    width: 25%;
  }
  .col-sm-2 {
    width: 16.66666667%;
  }
  .col-sm-1 {
    width: 8.33333333%;
  }
  .col-sm-pull-12 {
    right: 100%;
  }
  .col-sm-pull-11 {
    right: 91.66666667%;
  }
  .col-sm-pull-10 {
    right: 83.33333333%;
  }
  .col-sm-pull-9 {
    right: 75%;
  }
  .col-sm-pull-8 {
    right: 66.66666667%;
  }
  .col-sm-pull-7 {
    right: 58.33333333%;
  }
  .col-sm-pull-6 {
    right: 50%;
  }
  .col-sm-pull-5 {
    right: 41.66666667%;
  }
  .col-sm-pull-4 {
    right: 33.33333333%;
  }
  .col-sm-pull-3 {
    right: 25%;
  }
  .col-sm-pull-2 {
    right: 16.66666667%;
  }
  .col-sm-pull-1 {
    right: 8.33333333%;
  }
  .col-sm-pull-0 {
    right: auto;
  }
  .col-sm-push-12 {
    left: 100%;
  }
  .col-sm-push-11 {
    left: 91.66666667%;
  }
  .col-sm-push-10 {
    left: 83.33333333%;
  }
  .col-sm-push-9 {
    left: 75%;
  }
  .col-sm-push-8 {
    left: 66.66666667%;
  }
  .col-sm-push-7 {
    left: 58.33333333%;
  }
  .col-sm-push-6 {
    left: 50%;
  }
  .col-sm-push-5 {
    left: 41.66666667%;
  }
  .col-sm-push-4 {
    left: 33.33333333%;
  }
  .col-sm-push-3 {
    left: 25%;
  }
  .col-sm-push-2 {
    left: 16.66666667%;
  }
  .col-sm-push-1 {
    left: 8.33333333%;
  }
  .col-sm-push-0 {
    left: auto;
  }
  .col-sm-offset-12 {
    margin-left: 100%;
  }
  .col-sm-offset-11 {
    margin-left: 91.66666667%;
  }
  .col-sm-offset-10 {
    margin-left: 83.33333333%;
  }
  .col-sm-offset-9 {
    margin-left: 75%;
  }
  .col-sm-offset-8 {
    margin-left: 66.66666667%;
  }
  .col-sm-offset-7 {
    margin-left: 58.33333333%;
  }
  .col-sm-offset-6 {
    margin-left: 50%;
  }
  .col-sm-offset-5 {
    margin-left: 41.66666667%;
  }
  .col-sm-offset-4 {
    margin-left: 33.33333333%;
  }
  .col-sm-offset-3 {
    margin-left: 25%;
  }
  .col-sm-offset-2 {
    margin-left: 16.66666667%;
  }
  .col-sm-offset-1 {
    margin-left: 8.33333333%;
  }
  .col-sm-offset-0 {
    margin-left: 0%;
  }
}
@media (min-width: 992px) {
  .col-md-1, .col-md-2, .col-md-3, .col-md-4, .col-md-5, .col-md-6, .col-md-7, .col-md-8, .col-md-9, .col-md-10, .col-md-11, .col-md-12 {
    float: left;
  }
  .col-md-12 {
    width: 100%;
  }
  .col-md-11 {
    width: 91.66666667%;
  }
  .col-md-10 {
    width: 83.33333333%;
  }
  .col-md-9 {
    width: 75%;
  }
  .col-md-8 {
    width: 66.66666667%;
  }
  .col-md-7 {
    width: 58.33333333%;
  }
  .col-md-6 {
    width: 50%;
  }
  .col-md-5 {
    width: 41.66666667%;
  }
  .col-md-4 {
    width: 33.33333333%;
  }
  .col-md-3 {
    width: 25%;
  }
  .col-md-2 {
    width: 16.66666667%;
  }
  .col-md-1 {
    width: 8.33333333%;
  }
  .col-md-pull-12 {
    right: 100%;
  }
  .col-md-pull-11 {
    right: 91.66666667%;
  }
  .col-md-pull-10 {
    right: 83.33333333%;
  }
  .col-md-pull-9 {
    right: 75%;
  }
  .col-md-pull-8 {
    right: 66.66666667%;
  }
  .col-md-pull-7 {
    right: 58.33333333%;
  }
  .col-md-pull-6 {
    right: 50%;
  }
  .col-md-pull-5 {
    right: 41.66666667%;
  }
  .col-md-pull-4 {
    right: 33.33333333%;
  }
  .col-md-pull-3 {
    right: 25%;
  }
  .col-md-pull-2 {
    right: 16.66666667%;
  }
  .col-md-pull-1 {
    right: 8.33333333%;
  }
  .col-md-pull-0 {
    right: auto;
  }
  .col-md-push-12 {
    left: 100%;
  }
  .col-md-push-11 {
    left: 91.66666667%;
  }
  .col-md-push-10 {
    left: 83.33333333%;
  }
  .col-md-push-9 {
    left: 75%;
  }
  .col-md-push-8 {
    left: 66.66666667%;
  }
  .col-md-push-7 {
    left: 58.33333333%;
  }
  .col-md-push-6 {
    left: 50%;
  }
  .col-md-push-5 {
    left: 41.66666667%;
  }
  .col-md-push-4 {
    left: 33.33333333%;
  }
  .col-md-push-3 {
    left: 25%;
  }
  .col-md-push-2 {
    left: 16.66666667%;
  }
  .col-md-push-1 {
    left: 8.33333333%;
  }
  .col-md-push-0 {
    left: auto;
  }
  .col-md-offset-12 {
    margin-left: 100%;
  }
  .col-md-offset-11 {
    margin-left: 91.66666667%;
  }
  .col-md-offset-10 {
    margin-left: 83.33333333%;
  }
  .col-md-offset-9 {
    margin-left: 75%;
  }
  .col-md-offset-8 {
    margin-left: 66.66666667%;
  }
  .col-md-offset-7 {
    margin-left: 58.33333333%;
  }
  .col-md-offset-6 {
    margin-left: 50%;
  }
  .col-md-offset-5 {
    margin-left: 41.66666667%;
  }
  .col-md-offset-4 {
    margin-left: 33.33333333%;
  }
  .col-md-offset-3 {
    margin-left: 25%;
  }
  .col-md-offset-2 {
    margin-left: 16.66666667%;
  }
  .col-md-offset-1 {
    margin-left: 8.33333333%;
  }
  .col-md-offset-0 {
    margin-left: 0%;
  }
}
@media (min-width: 1200px) {
  .col-lg-1, .col-lg-2, .col-lg-3, .col-lg-4, .col-lg-5, .col-lg-6, .col-lg-7, .col-lg-8, .col-lg-9, .col-lg-10, .col-lg-11, .col-lg-12 {
    float: left;
  }
  .col-lg-12 {
    width: 100%;
  }
  .col-lg-11 {
    width: 91.66666667%;
  }
  .col-lg-10 {
    width: 83.33333333%;
  }
  .col-lg-9 {
    width: 75%;
  }
  .col-lg-8 {
    width: 66.66666667%;
  }
  .col-lg-7 {
    width: 58.33333333%;
  }
  .col-lg-6 {
    width: 50%;
  }
  .col-lg-5 {
    width: 41.66666667%;
  }
  .col-lg-4 {
    width: 33.33333333%;
  }
  .col-lg-3 {
    width: 25%;
  }
  .col-lg-2 {
    width: 16.66666667%;
  }
  .col-lg-1 {
    width: 8.33333333%;
  }
  .col-lg-pull-12 {
    right: 100%;
  }
  .col-lg-pull-11 {
    right: 91.66666667%;
  }
  .col-lg-pull-10 {
    right: 83.33333333%;
  }
  .col-lg-pull-9 {
    right: 75%;
  }
  .col-lg-pull-8 {
    right: 66.66666667%;
  }
  .col-lg-pull-7 {
    right: 58.33333333%;
  }
  .col-lg-pull-6 {
    right: 50%;
  }
  .col-lg-pull-5 {
    right: 41.66666667%;
  }
  .col-lg-pull-4 {
    right: 33.33333333%;
  }
  .col-lg-pull-3 {
    right: 25%;
  }
  .col-lg-pull-2 {
    right: 16.66666667%;
  }
  .col-lg-pull-1 {
    right: 8.33333333%;
  }
  .col-lg-pull-0 {
    right: auto;
  }
  .col-lg-push-12 {
    left: 100%;
  }
  .col-lg-push-11 {
    left: 91.66666667%;
  }
  .col-lg-push-10 {
    left: 83.33333333%;
  }
  .col-lg-push-9 {
    left: 75%;
  }
  .col-lg-push-8 {
    left: 66.66666667%;
  }
  .col-lg-push-7 {
    left: 58.33333333%;
  }
  .col-lg-push-6 {
    left: 50%;
  }
  .col-lg-push-5 {
    left: 41.66666667%;
  }
  .col-lg-push-4 {
    left: 33.33333333%;
  }
  .col-lg-push-3 {
    left: 25%;
  }
  .col-lg-push-2 {
    left: 16.66666667%;
  }
  .col-lg-push-1 {
    left: 8.33333333%;
  }
  .col-lg-push-0 {
    left: auto;
  }
  .col-lg-offset-12 {
    margin-left: 100%;
  }
  .col-lg-offset-11 {
    margin-left: 91.66666667%;
  }
  .col-lg-offset-10 {
    margin-left: 83.33333333%;
  }
  .col-lg-offset-9 {
    margin-left: 75%;
  }
  .col-lg-offset-8 {
    margin-left: 66.66666667%;
  }
  .col-lg-offset-7 {
    margin-left: 58.33333333%;
  }
  .col-lg-offset-6 {
    margin-left: 50%;
  }
  .col-lg-offset-5 {
    margin-left: 41.66666667%;
  }
  .col-lg-offset-4 {
    margin-left: 33.33333333%;
  }
  .col-lg-offset-3 {
    margin-left: 25%;
  }
  .col-lg-offset-2 {
    margin-left: 16.66666667%;
  }
  .col-lg-offset-1 {
    margin-left: 8.33333333%;
  }
  .col-lg-offset-0 {
    margin-left: 0%;
  }
}
table {
  background-color: transparent;
}
caption {
  padding-top: 8px;
  padding-bottom: 8px;
  color: #777777;
  text-align: left;
}
th {
  text-align: left;
}
.table {
  width: 100%;
  max-width: 100%;
  margin-bottom: 18px;
}
.table > thead > tr > th,
.table > tbody > tr > th,
.table > tfoot > tr > th,
.table > thead > tr > td,
.table > tbody > tr > td,
.table > tfoot > tr > td {
  padding: 8px;
  line-height: 1.42857143;
  vertical-align: top;
  border-top: 1px solid #ddd;
}
.table > thead > tr > th {
  vertical-align: bottom;
  border-bottom: 2px solid #ddd;
}
.table > caption + thead > tr:first-child > th,
.table > colgroup + thead > tr:first-child > th,
.table > thead:first-child > tr:first-child > th,
.table > caption + thead > tr:first-child > td,
.table > colgroup + thead > tr:first-child > td,
.table > thead:first-child > tr:first-child > td {
  border-top: 0;
}
.table > tbody + tbody {
  border-top: 2px solid #ddd;
}
.table .table {
  background-color: #fff;
}
.table-condensed > thead > tr > th,
.table-condensed > tbody > tr > th,
.table-condensed > tfoot > tr > th,
.table-condensed > thead > tr > td,
.table-condensed > tbody > tr > td,
.table-condensed > tfoot > tr > td {
  padding: 5px;
}
.table-bordered {
  border: 1px solid #ddd;
}
.table-bordered > thead > tr > th,
.table-bordered > tbody > tr > th,
.table-bordered > tfoot > tr > th,
.table-bordered > thead > tr > td,
.table-bordered > tbody > tr > td,
.table-bordered > tfoot > tr > td {
  border: 1px solid #ddd;
}
.table-bordered > thead > tr > th,
.table-bordered > thead > tr > td {
  border-bottom-width: 2px;
}
.table-striped > tbody > tr:nth-of-type(odd) {
  background-color: #f9f9f9;
}
.table-hover > tbody > tr:hover {
  background-color: #f5f5f5;
}
table col[class*="col-"] {
  position: static;
  float: none;
  display: table-column;
}
table td[class*="col-"],
table th[class*="col-"] {
  position: static;
  float: none;
  display: table-cell;
}
.table > thead > tr > td.active,
.table > tbody > tr > td.active,
.table > tfoot > tr > td.active,
.table > thead > tr > th.active,
.table > tbody > tr > th.active,
.table > tfoot > tr > th.active,
.table > thead > tr.active > td,
.table > tbody > tr.active > td,
.table > tfoot > tr.active > td,
.table > thead > tr.active > th,
.table > tbody > tr.active > th,
.table > tfoot > tr.active > th {
  background-color: #f5f5f5;
}
.table-hover > tbody > tr > td.active:hover,
.table-hover > tbody > tr > th.active:hover,
.table-hover > tbody > tr.active:hover > td,
.table-hover > tbody > tr:hover > .active,
.table-hover > tbody > tr.active:hover > th {
  background-color: #e8e8e8;
}
.table > thead > tr > td.success,
.table > tbody > tr > td.success,
.table > tfoot > tr > td.success,
.table > thead > tr > th.success,
.table > tbody > tr > th.success,
.table > tfoot > tr > th.success,
.table > thead > tr.success > td,
.table > tbody > tr.success > td,
.table > tfoot > tr.success > td,
.table > thead > tr.success > th,
.table > tbody > tr.success > th,
.table > tfoot > tr.success > th {
  background-color: #dff0d8;
}
.table-hover > tbody > tr > td.success:hover,
.table-hover > tbody > tr > th.success:hover,
.table-hover > tbody > tr.success:hover > td,
.table-hover > tbody > tr:hover > .success,
.table-hover > tbody > tr.success:hover > th {
  background-color: #d0e9c6;
}
.table > thead > tr > td.info,
.table > tbody > tr > td.info,
.table > tfoot > tr > td.info,
.table > thead > tr > th.info,
.table > tbody > tr > th.info,
.table > tfoot > tr > th.info,
.table > thead > tr.info > td,
.table > tbody > tr.info > td,
.table > tfoot > tr.info > td,
.table > thead > tr.info > th,
.table > tbody > tr.info > th,
.table > tfoot > tr.info > th {
  background-color: #d9edf7;
}
.table-hover > tbody > tr > td.info:hover,
.table-hover > tbody > tr > th.info:hover,
.table-hover > tbody > tr.info:hover > td,
.table-hover > tbody > tr:hover > .info,
.table-hover > tbody > tr.info:hover > th {
  background-color: #c4e3f3;
}
.table > thead > tr > td.warning,
.table > tbody > tr > td.warning,
.table > tfoot > tr > td.warning,
.table > thead > tr > th.warning,
.table > tbody > tr > th.warning,
.table > tfoot > tr > th.warning,
.table > thead > tr.warning > td,
.table > tbody > tr.warning > td,
.table > tfoot > tr.warning > td,
.table > thead > tr.warning > th,
.table > tbody > tr.warning > th,
.table > tfoot > tr.warning > th {
  background-color: #fcf8e3;
}
.table-hover > tbody > tr > td.warning:hover,
.table-hover > tbody > tr > th.warning:hover,
.table-hover > tbody > tr.warning:hover > td,
.table-hover > tbody > tr:hover > .warning,
.table-hover > tbody > tr.warning:hover > th {
  background-color: #faf2cc;
}
.table > thead > tr > td.danger,
.table > tbody > tr > td.danger,
.table > tfoot > tr > td.danger,
.table > thead > tr > th.danger,
.table > tbody > tr > th.danger,
.table > tfoot > tr > th.danger,
.table > thead > tr.danger > td,
.table > tbody > tr.danger > td,
.table > tfoot > tr.danger > td,
.table > thead > tr.danger > th,
.table > tbody > tr.danger > th,
.table > tfoot > tr.danger > th {
  background-color: #f2dede;
}
.table-hover > tbody > tr > td.danger:hover,
.table-hover > tbody > tr > th.danger:hover,
.table-hover > tbody > tr.danger:hover > td,
.table-hover > tbody > tr:hover > .danger,
.table-hover > tbody > tr.danger:hover > th {
  background-color: #ebcccc;
}
.table-responsive {
  overflow-x: auto;
  min-height: 0.01%;
}
@media screen and (max-width: 767px) {
  .table-responsive {
    width: 100%;
    margin-bottom: 13.5px;
    overflow-y: hidden;
    -ms-overflow-style: -ms-autohiding-scrollbar;
    border: 1px solid #ddd;
  }
  .table-responsive > .table {
    margin-bottom: 0;
  }
  .table-responsive > .table > thead > tr > th,
  .table-responsive > .table > tbody > tr > th,
  .table-responsive > .table > tfoot > tr > th,
  .table-responsive > .table > thead > tr > td,
  .table-responsive > .table > tbody > tr > td,
  .table-responsive > .table > tfoot > tr > td {
    white-space: nowrap;
  }
  .table-responsive > .table-bordered {
    border: 0;
  }
  .table-responsive > .table-bordered > thead > tr > th:first-child,
  .table-responsive > .table-bordered > tbody > tr > th:first-child,
  .table-responsive > .table-bordered > tfoot > tr > th:first-child,
  .table-responsive > .table-bordered > thead > tr > td:first-child,
  .table-responsive > .table-bordered > tbody > tr > td:first-child,
  .table-responsive > .table-bordered > tfoot > tr > td:first-child {
    border-left: 0;
  }
  .table-responsive > .table-bordered > thead > tr > th:last-child,
  .table-responsive > .table-bordered > tbody > tr > th:last-child,
  .table-responsive > .table-bordered > tfoot > tr > th:last-child,
  .table-responsive > .table-bordered > thead > tr > td:last-child,
  .table-responsive > .table-bordered > tbody > tr > td:last-child,
  .table-responsive > .table-bordered > tfoot > tr > td:last-child {
    border-right: 0;
  }
  .table-responsive > .table-bordered > tbody > tr:last-child > th,
  .table-responsive > .table-bordered > tfoot > tr:last-child > th,
  .table-responsive > .table-bordered > tbody > tr:last-child > td,
  .table-responsive > .table-bordered > tfoot > tr:last-child > td {
    border-bottom: 0;
  }
}
fieldset {
  padding: 0;
  margin: 0;
  border: 0;
  min-width: 0;
}
legend {
  display: block;
  width: 100%;
  padding: 0;
  margin-bottom: 18px;
  font-size: 19.5px;
  line-height: inherit;
  color: #333333;
  border: 0;
  border-bottom: 1px solid #e5e5e5;
}
label {
  display: inline-block;
  max-width: 100%;
  margin-bottom: 5px;
  font-weight: bold;
}
input[type="search"] {
  -webkit-box-sizing: border-box;
  -moz-box-sizing: border-box;
  box-sizing: border-box;
}
input[type="radio"],
input[type="checkbox"] {
  margin: 4px 0 0;
  margin-top: 1px \9;
  line-height: normal;
}
input[type="file"] {
  display: block;
}
input[type="range"] {
  display: block;
  width: 100%;
}
select[multiple],
select[size] {
  height: auto;
}
input[type="file"]:focus,
input[type="radio"]:focus,
input[type="checkbox"]:focus {
  outline: 5px auto -webkit-focus-ring-color;
  outline-offset: -2px;
}
output {
  display: block;
  padding-top: 7px;
  font-size: 13px;
  line-height: 1.42857143;
  color: #555555;
}
.form-control {
  display: block;
  width: 100%;
  height: 32px;
  padding: 6px 12px;
  font-size: 13px;
  line-height: 1.42857143;
  color: #555555;
  background-color: #fff;
  background-image: none;
  border: 1px solid #ccc;
  border-radius: 2px;
  -webkit-box-shadow: inset 0 1px 1px rgba(0, 0, 0, 0.075);
  box-shadow: inset 0 1px 1px rgba(0, 0, 0, 0.075);
  -webkit-transition: border-color ease-in-out .15s, box-shadow ease-in-out .15s;
  -o-transition: border-color ease-in-out .15s, box-shadow ease-in-out .15s;
  transition: border-color ease-in-out .15s, box-shadow ease-in-out .15s;
}
.form-control:focus {
  border-color: #66afe9;
  outline: 0;
  -webkit-box-shadow: inset 0 1px 1px rgba(0,0,0,.075), 0 0 8px rgba(102, 175, 233, 0.6);
  box-shadow: inset 0 1px 1px rgba(0,0,0,.075), 0 0 8px rgba(102, 175, 233, 0.6);
}
.form-control::-moz-placeholder {
  color: #999;
  opacity: 1;
}
.form-control:-ms-input-placeholder {
  color: #999;
}
.form-control::-webkit-input-placeholder {
  color: #999;
}
.form-control::-ms-expand {
  border: 0;
  background-color: transparent;
}
.form-control[disabled],
.form-control[readonly],
fieldset[disabled] .form-control {
  background-color: #eeeeee;
  opacity: 1;
}
.form-control[disabled],
fieldset[disabled] .form-control {
  cursor: not-allowed;
}
textarea.form-control {
  height: auto;
}
input[type="search"] {
  -webkit-appearance: none;
}
@media screen and (-webkit-min-device-pixel-ratio: 0) {
  input[type="date"].form-control,
  input[type="time"].form-control,
  input[type="datetime-local"].form-control,
  input[type="month"].form-control {
    line-height: 32px;
  }
  input[type="date"].input-sm,
  input[type="time"].input-sm,
  input[type="datetime-local"].input-sm,
  input[type="month"].input-sm,
  .input-group-sm input[type="date"],
  .input-group-sm input[type="time"],
  .input-group-sm input[type="datetime-local"],
  .input-group-sm input[type="month"] {
    line-height: 30px;
  }
  input[type="date"].input-lg,
  input[type="time"].input-lg,
  input[type="datetime-local"].input-lg,
  input[type="month"].input-lg,
  .input-group-lg input[type="date"],
  .input-group-lg input[type="time"],
  .input-group-lg input[type="datetime-local"],
  .input-group-lg input[type="month"] {
    line-height: 45px;
  }
}
.form-group {
  margin-bottom: 15px;
}
.radio,
.checkbox {
  position: relative;
  display: block;
  margin-top: 10px;
  margin-bottom: 10px;
}
.radio label,
.checkbox label {
  min-height: 18px;
  padding-left: 20px;
  margin-bottom: 0;
  font-weight: normal;
  cursor: pointer;
}
.radio input[type="radio"],
.radio-inline input[type="radio"],
.checkbox input[type="checkbox"],
.checkbox-inline input[type="checkbox"] {
  position: absolute;
  margin-left: -20px;
  margin-top: 4px \9;
}
.radio + .radio,
.checkbox + .checkbox {
  margin-top: -5px;
}
.radio-inline,
.checkbox-inline {
  position: relative;
  display: inline-block;
  padding-left: 20px;
  margin-bottom: 0;
  vertical-align: middle;
  font-weight: normal;
  cursor: pointer;
}
.radio-inline + .radio-inline,
.checkbox-inline + .checkbox-inline {
  margin-top: 0;
  margin-left: 10px;
}
input[type="radio"][disabled],
input[type="checkbox"][disabled],
input[type="radio"].disabled,
input[type="checkbox"].disabled,
fieldset[disabled] input[type="radio"],
fieldset[disabled] input[type="checkbox"] {
  cursor: not-allowed;
}
.radio-inline.disabled,
.checkbox-inline.disabled,
fieldset[disabled] .radio-inline,
fieldset[disabled] .checkbox-inline {
  cursor: not-allowed;
}
.radio.disabled label,
.checkbox.disabled label,
fieldset[disabled] .radio label,
fieldset[disabled] .checkbox label {
  cursor: not-allowed;
}
.form-control-static {
  padding-top: 7px;
  padding-bottom: 7px;
  margin-bottom: 0;
  min-height: 31px;
}
.form-control-static.input-lg,
.form-control-static.input-sm {
  padding-left: 0;
  padding-right: 0;
}
.input-sm {
  height: 30px;
  padding: 5px 10px;
  font-size: 12px;
  line-height: 1.5;
  border-radius: 1px;
}
select.input-sm {
  height: 30px;
  line-height: 30px;
}
textarea.input-sm,
select[multiple].input-sm {
  height: auto;
}
.form-group-sm .form-control {
  height: 30px;
  padding: 5px 10px;
  font-size: 12px;
  line-height: 1.5;
  border-radius: 1px;
}
.form-group-sm select.form-control {
  height: 30px;
  line-height: 30px;
}
.form-group-sm textarea.form-control,
.form-group-sm select[multiple].form-control {
  height: auto;
}
.form-group-sm .form-control-static {
  height: 30px;
  min-height: 30px;
  padding: 6px 10px;
  font-size: 12px;
  line-height: 1.5;
}
.input-lg {
  height: 45px;
  padding: 10px 16px;
  font-size: 17px;
  line-height: 1.3333333;
  border-radius: 3px;
}
select.input-lg {
  height: 45px;
  line-height: 45px;
}
textarea.input-lg,
select[multiple].input-lg {
  height: auto;
}
.form-group-lg .form-control {
  height: 45px;
  padding: 10px 16px;
  font-size: 17px;
  line-height: 1.3333333;
  border-radius: 3px;
}
.form-group-lg select.form-control {
  height: 45px;
  line-height: 45px;
}
.form-group-lg textarea.form-control,
.form-group-lg select[multiple].form-control {
  height: auto;
}
.form-group-lg .form-control-static {
  height: 45px;
  min-height: 35px;
  padding: 11px 16px;
  font-size: 17px;
  line-height: 1.3333333;
}
.has-feedback {
  position: relative;
}
.has-feedback .form-control {
  padding-right: 40px;
}
.form-control-feedback {
  position: absolute;
  top: 0;
  right: 0;
  z-index: 2;
  display: block;
  width: 32px;
  height: 32px;
  line-height: 32px;
  text-align: center;
  pointer-events: none;
}
.input-lg + .form-control-feedback,
.input-group-lg + .form-control-feedback,
.form-group-lg .form-control + .form-control-feedback {
  width: 45px;
  height: 45px;
  line-height: 45px;
}
.input-sm + .form-control-feedback,
.input-group-sm + .form-control-feedback,
.form-group-sm .form-control + .form-control-feedback {
  width: 30px;
  height: 30px;
  line-height: 30px;
}
.has-success .help-block,
.has-success .control-label,
.has-success .radio,
.has-success .checkbox,
.has-success .radio-inline,
.has-success .checkbox-inline,
.has-success.radio label,
.has-success.checkbox label,
.has-success.radio-inline label,
.has-success.checkbox-inline label {
  color: #3c763d;
}
.has-success .form-control {
  border-color: #3c763d;
  -webkit-box-shadow: inset 0 1px 1px rgba(0, 0, 0, 0.075);
  box-shadow: inset 0 1px 1px rgba(0, 0, 0, 0.075);
}
.has-success .form-control:focus {
  border-color: #2b542c;
  -webkit-box-shadow: inset 0 1px 1px rgba(0, 0, 0, 0.075), 0 0 6px #67b168;
  box-shadow: inset 0 1px 1px rgba(0, 0, 0, 0.075), 0 0 6px #67b168;
}
.has-success .input-group-addon {
  color: #3c763d;
  border-color: #3c763d;
  background-color: #dff0d8;
}
.has-success .form-control-feedback {
  color: #3c763d;
}
.has-warning .help-block,
.has-warning .control-label,
.has-warning .radio,
.has-warning .checkbox,
.has-warning .radio-inline,
.has-warning .checkbox-inline,
.has-warning.radio label,
.has-warning.checkbox label,
.has-warning.radio-inline label,
.has-warning.checkbox-inline label {
  color: #8a6d3b;
}
.has-warning .form-control {
  border-color: #8a6d3b;
  -webkit-box-shadow: inset 0 1px 1px rgba(0, 0, 0, 0.075);
  box-shadow: inset 0 1px 1px rgba(0, 0, 0, 0.075);
}
.has-warning .form-control:focus {
  border-color: #66512c;
  -webkit-box-shadow: inset 0 1px 1px rgba(0, 0, 0, 0.075), 0 0 6px #c0a16b;
  box-shadow: inset 0 1px 1px rgba(0, 0, 0, 0.075), 0 0 6px #c0a16b;
}
.has-warning .input-group-addon {
  color: #8a6d3b;
  border-color: #8a6d3b;
  background-color: #fcf8e3;
}
.has-warning .form-control-feedback {
  color: #8a6d3b;
}
.has-error .help-block,
.has-error .control-label,
.has-error .radio,
.has-error .checkbox,
.has-error .radio-inline,
.has-error .checkbox-inline,
.has-error.radio label,
.has-error.checkbox label,
.has-error.radio-inline label,
.has-error.checkbox-inline label {
  color: #a94442;
}
.has-error .form-control {
  border-color: #a94442;
  -webkit-box-shadow: inset 0 1px 1px rgba(0, 0, 0, 0.075);
  box-shadow: inset 0 1px 1px rgba(0, 0, 0, 0.075);
}
.has-error .form-control:focus {
  border-color: #843534;
  -webkit-box-shadow: inset 0 1px 1px rgba(0, 0, 0, 0.075), 0 0 6px #ce8483;
  box-shadow: inset 0 1px 1px rgba(0, 0, 0, 0.075), 0 0 6px #ce8483;
}
.has-error .input-group-addon {
  color: #a94442;
  border-color: #a94442;
  background-color: #f2dede;
}
.has-error .form-control-feedback {
  color: #a94442;
}
.has-feedback label ~ .form-control-feedback {
  top: 23px;
}
.has-feedback label.sr-only ~ .form-control-feedback {
  top: 0;
}
.help-block {
  display: block;
  margin-top: 5px;
  margin-bottom: 10px;
  color: #404040;
}
@media (min-width: 768px) {
  .form-inline .form-group {
    display: inline-block;
    margin-bottom: 0;
    vertical-align: middle;
  }
  .form-inline .form-control {
    display: inline-block;
    width: auto;
    vertical-align: middle;
  }
  .form-inline .form-control-static {
    display: inline-block;
  }
  .form-inline .input-group {
    display: inline-table;
    vertical-align: middle;
  }
  .form-inline .input-group .input-group-addon,
  .form-inline .input-group .input-group-btn,
  .form-inline .input-group .form-control {
    width: auto;
  }
  .form-inline .input-group > .form-control {
    width: 100%;
  }
  .form-inline .control-label {
    margin-bottom: 0;
    vertical-align: middle;
  }
  .form-inline .radio,
  .form-inline .checkbox {
    display: inline-block;
    margin-top: 0;
    margin-bottom: 0;
    vertical-align: middle;
  }
  .form-inline .radio label,
  .form-inline .checkbox label {
    padding-left: 0;
  }
  .form-inline .radio input[type="radio"],
  .form-inline .checkbox input[type="checkbox"] {
    position: relative;
    margin-left: 0;
  }
  .form-inline .has-feedback .form-control-feedback {
    top: 0;
  }
}
.form-horizontal .radio,
.form-horizontal .checkbox,
.form-horizontal .radio-inline,
.form-horizontal .checkbox-inline {
  margin-top: 0;
  margin-bottom: 0;
  padding-top: 7px;
}
.form-horizontal .radio,
.form-horizontal .checkbox {
  min-height: 25px;
}
.form-horizontal .form-group {
  margin-left: 0px;
  margin-right: 0px;
}
@media (min-width: 768px) {
  .form-horizontal .control-label {
    text-align: right;
    margin-bottom: 0;
    padding-top: 7px;
  }
}
.form-horizontal .has-feedback .form-control-feedback {
  right: 0px;
}
@media (min-width: 768px) {
  .form-horizontal .form-group-lg .control-label {
    padding-top: 11px;
    font-size: 17px;
  }
}
@media (min-width: 768px) {
  .form-horizontal .form-group-sm .control-label {
    padding-top: 6px;
    font-size: 12px;
  }
}
.btn {
  display: inline-block;
  margin-bottom: 0;
  font-weight: normal;
  text-align: center;
  vertical-align: middle;
  touch-action: manipulation;
  cursor: pointer;
  background-image: none;
  border: 1px solid transparent;
  white-space: nowrap;
  padding: 6px 12px;
  font-size: 13px;
  line-height: 1.42857143;
  border-radius: 2px;
  -webkit-user-select: none;
  -moz-user-select: none;
  -ms-user-select: none;
  user-select: none;
}
.btn:focus,
.btn:active:focus,
.btn.active:focus,
.btn.focus,
.btn:active.focus,
.btn.active.focus {
  outline: 5px auto -webkit-focus-ring-color;
  outline-offset: -2px;
}
.btn:hover,
.btn:focus,
.btn.focus {
  color: #333;
  text-decoration: none;
}
.btn:active,
.btn.active {
  outline: 0;
  background-image: none;
  -webkit-box-shadow: inset 0 3px 5px rgba(0, 0, 0, 0.125);
  box-shadow: inset 0 3px 5px rgba(0, 0, 0, 0.125);
}
.btn.disabled,
.btn[disabled],
fieldset[disabled] .btn {
  cursor: not-allowed;
  opacity: 0.65;
  filter: alpha(opacity=65);
  -webkit-box-shadow: none;
  box-shadow: none;
}
a.btn.disabled,
fieldset[disabled] a.btn {
  pointer-events: none;
}
.btn-default {
  color: #333;
  background-color: #fff;
  border-color: #ccc;
}
.btn-default:focus,
.btn-default.focus {
  color: #333;
  background-color: #e6e6e6;
  border-color: #8c8c8c;
}
.btn-default:hover {
  color: #333;
  background-color: #e6e6e6;
  border-color: #adadad;
}
.btn-default:active,
.btn-default.active,
.open > .dropdown-toggle.btn-default {
  color: #333;
  background-color: #e6e6e6;
  border-color: #adadad;
}
.btn-default:active:hover,
.btn-default.active:hover,
.open > .dropdown-toggle.btn-default:hover,
.btn-default:active:focus,
.btn-default.active:focus,
.open > .dropdown-toggle.btn-default:focus,
.btn-default:active.focus,
.btn-default.active.focus,
.open > .dropdown-toggle.btn-default.focus {
  color: #333;
  background-color: #d4d4d4;
  border-color: #8c8c8c;
}
.btn-default:active,
.btn-default.active,
.open > .dropdown-toggle.btn-default {
  background-image: none;
}
.btn-default.disabled:hover,
.btn-default[disabled]:hover,
fieldset[disabled] .btn-default:hover,
.btn-default.disabled:focus,
.btn-default[disabled]:focus,
fieldset[disabled] .btn-default:focus,
.btn-default.disabled.focus,
.btn-default[disabled].focus,
fieldset[disabled] .btn-default.focus {
  background-color: #fff;
  border-color: #ccc;
}
.btn-default .badge {
  color: #fff;
  background-color: #333;
}
.btn-primary {
  color: #fff;
  background-color: #337ab7;
  border-color: #2e6da4;
}
.btn-primary:focus,
.btn-primary.focus {
  color: #fff;
  background-color: #286090;
  border-color: #122b40;
}
.btn-primary:hover {
  color: #fff;
  background-color: #286090;
  border-color: #204d74;
}
.btn-primary:active,
.btn-primary.active,
.open > .dropdown-toggle.btn-primary {
  color: #fff;
  background-color: #286090;
  border-color: #204d74;
}
.btn-primary:active:hover,
.btn-primary.active:hover,
.open > .dropdown-toggle.btn-primary:hover,
.btn-primary:active:focus,
.btn-primary.active:focus,
.open > .dropdown-toggle.btn-primary:focus,
.btn-primary:active.focus,
.btn-primary.active.focus,
.open > .dropdown-toggle.btn-primary.focus {
  color: #fff;
  background-color: #204d74;
  border-color: #122b40;
}
.btn-primary:active,
.btn-primary.active,
.open > .dropdown-toggle.btn-primary {
  background-image: none;
}
.btn-primary.disabled:hover,
.btn-primary[disabled]:hover,
fieldset[disabled] .btn-primary:hover,
.btn-primary.disabled:focus,
.btn-primary[disabled]:focus,
fieldset[disabled] .btn-primary:focus,
.btn-primary.disabled.focus,
.btn-primary[disabled].focus,
fieldset[disabled] .btn-primary.focus {
  background-color: #337ab7;
  border-color: #2e6da4;
}
.btn-primary .badge {
  color: #337ab7;
  background-color: #fff;
}
.btn-success {
  color: #fff;
  background-color: #5cb85c;
  border-color: #4cae4c;
}
.btn-success:focus,
.btn-success.focus {
  color: #fff;
  background-color: #449d44;
  border-color: #255625;
}
.btn-success:hover {
  color: #fff;
  background-color: #449d44;
  border-color: #398439;
}
.btn-success:active,
.btn-success.active,
.open > .dropdown-toggle.btn-success {
  color: #fff;
  background-color: #449d44;
  border-color: #398439;
}
.btn-success:active:hover,
.btn-success.active:hover,
.open > .dropdown-toggle.btn-success:hover,
.btn-success:active:focus,
.btn-success.active:focus,
.open > .dropdown-toggle.btn-success:focus,
.btn-success:active.focus,
.btn-success.active.focus,
.open > .dropdown-toggle.btn-success.focus {
  color: #fff;
  background-color: #398439;
  border-color: #255625;
}
.btn-success:active,
.btn-success.active,
.open > .dropdown-toggle.btn-success {
  background-image: none;
}
.btn-success.disabled:hover,
.btn-success[disabled]:hover,
fieldset[disabled] .btn-success:hover,
.btn-success.disabled:focus,
.btn-success[disabled]:focus,
fieldset[disabled] .btn-success:focus,
.btn-success.disabled.focus,
.btn-success[disabled].focus,
fieldset[disabled] .btn-success.focus {
  background-color: #5cb85c;
  border-color: #4cae4c;
}
.btn-success .badge {
  color: #5cb85c;
  background-color: #fff;
}
.btn-info {
  color: #fff;
  background-color: #5bc0de;
  border-color: #46b8da;
}
.btn-info:focus,
.btn-info.focus {
  color: #fff;
  background-color: #31b0d5;
  border-color: #1b6d85;
}
.btn-info:hover {
  color: #fff;
  background-color: #31b0d5;
  border-color: #269abc;
}
.btn-info:active,
.btn-info.active,
.open > .dropdown-toggle.btn-info {
  color: #fff;
  background-color: #31b0d5;
  border-color: #269abc;
}
.btn-info:active:hover,
.btn-info.active:hover,
.open > .dropdown-toggle.btn-info:hover,
.btn-info:active:focus,
.btn-info.active:focus,
.open > .dropdown-toggle.btn-info:focus,
.btn-info:active.focus,
.btn-info.active.focus,
.open > .dropdown-toggle.btn-info.focus {
  color: #fff;
  background-color: #269abc;
  border-color: #1b6d85;
}
.btn-info:active,
.btn-info.active,
.open > .dropdown-toggle.btn-info {
  background-image: none;
}
.btn-info.disabled:hover,
.btn-info[disabled]:hover,
fieldset[disabled] .btn-info:hover,
.btn-info.disabled:focus,
.btn-info[disabled]:focus,
fieldset[disabled] .btn-info:focus,
.btn-info.disabled.focus,
.btn-info[disabled].focus,
fieldset[disabled] .btn-info.focus {
  background-color: #5bc0de;
  border-color: #46b8da;
}
.btn-info .badge {
  color: #5bc0de;
  background-color: #fff;
}
.btn-warning {
  color: #fff;
  background-color: #f0ad4e;
  border-color: #eea236;
}
.btn-warning:focus,
.btn-warning.focus {
  color: #fff;
  background-color: #ec971f;
  border-color: #985f0d;
}
.btn-warning:hover {
  color: #fff;
  background-color: #ec971f;
  border-color: #d58512;
}
.btn-warning:active,
.btn-warning.active,
.open > .dropdown-toggle.btn-warning {
  color: #fff;
  background-color: #ec971f;
  border-color: #d58512;
}
.btn-warning:active:hover,
.btn-warning.active:hover,
.open > .dropdown-toggle.btn-warning:hover,
.btn-warning:active:focus,
.btn-warning.active:focus,
.open > .dropdown-toggle.btn-warning:focus,
.btn-warning:active.focus,
.btn-warning.active.focus,
.open > .dropdown-toggle.btn-warning.focus {
  color: #fff;
  background-color: #d58512;
  border-color: #985f0d;
}
.btn-warning:active,
.btn-warning.active,
.open > .dropdown-toggle.btn-warning {
  background-image: none;
}
.btn-warning.disabled:hover,
.btn-warning[disabled]:hover,
fieldset[disabled] .btn-warning:hover,
.btn-warning.disabled:focus,
.btn-warning[disabled]:focus,
fieldset[disabled] .btn-warning:focus,
.btn-warning.disabled.focus,
.btn-warning[disabled].focus,
fieldset[disabled] .btn-warning.focus {
  background-color: #f0ad4e;
  border-color: #eea236;
}
.btn-warning .badge {
  color: #f0ad4e;
  background-color: #fff;
}
.btn-danger {
  color: #fff;
  background-color: #d9534f;
  border-color: #d43f3a;
}
.btn-danger:focus,
.btn-danger.focus {
  color: #fff;
  background-color: #c9302c;
  border-color: #761c19;
}
.btn-danger:hover {
  color: #fff;
  background-color: #c9302c;
  border-color: #ac2925;
}
.btn-danger:active,
.btn-danger.active,
.open > .dropdown-toggle.btn-danger {
  color: #fff;
  background-color: #c9302c;
  border-color: #ac2925;
}
.btn-danger:active:hover,
.btn-danger.active:hover,
.open > .dropdown-toggle.btn-danger:hover,
.btn-danger:active:focus,
.btn-danger.active:focus,
.open > .dropdown-toggle.btn-danger:focus,
.btn-danger:active.focus,
.btn-danger.active.focus,
.open > .dropdown-toggle.btn-danger.focus {
  color: #fff;
  background-color: #ac2925;
  border-color: #761c19;
}
.btn-danger:active,
.btn-danger.active,
.open > .dropdown-toggle.btn-danger {
  background-image: none;
}
.btn-danger.disabled:hover,
.btn-danger[disabled]:hover,
fieldset[disabled] .btn-danger:hover,
.btn-danger.disabled:focus,
.btn-danger[disabled]:focus,
fieldset[disabled] .btn-danger:focus,
.btn-danger.disabled.focus,
.btn-danger[disabled].focus,
fieldset[disabled] .btn-danger.focus {
  background-color: #d9534f;
  border-color: #d43f3a;
}
.btn-danger .badge {
  color: #d9534f;
  background-color: #fff;
}
.btn-link {
  color: #337ab7;
  font-weight: normal;
  border-radius: 0;
}
.btn-link,
.btn-link:active,
.btn-link.active,
.btn-link[disabled],
fieldset[disabled] .btn-link {
  background-color: transparent;
  -webkit-box-shadow: none;
  box-shadow: none;
}
.btn-link,
.btn-link:hover,
.btn-link:focus,
.btn-link:active {
  border-color: transparent;
}
.btn-link:hover,
.btn-link:focus {
  color: #23527c;
  text-decoration: underline;
  background-color: transparent;
}
.btn-link[disabled]:hover,
fieldset[disabled] .btn-link:hover,
.btn-link[disabled]:focus,
fieldset[disabled] .btn-link:focus {
  color: #777777;
  text-decoration: none;
}
.btn-lg,
.btn-group-lg > .btn {
  padding: 10px 16px;
  font-size: 17px;
  line-height: 1.3333333;
  border-radius: 3px;
}
.btn-sm,
.btn-group-sm > .btn {
  padding: 5px 10px;
  font-size: 12px;
  line-height: 1.5;
  border-radius: 1px;
}
.btn-xs,
.btn-group-xs > .btn {
  padding: 1px 5px;
  font-size: 12px;
  line-height: 1.5;
  border-radius: 1px;
}
.btn-block {
  display: block;
  width: 100%;
}
.btn-block + .btn-block {
  margin-top: 5px;
}
input[type="submit"].btn-block,
input[type="reset"].btn-block,
input[type="button"].btn-block {
  width: 100%;
}
.fade {
  opacity: 0;
  -webkit-transition: opacity 0.15s linear;
  -o-transition: opacity 0.15s linear;
  transition: opacity 0.15s linear;
}
.fade.in {
  opacity: 1;
}
.collapse {
  display: none;
}
.collapse.in {
  display: block;
}
tr.collapse.in {
  display: table-row;
}
tbody.collapse.in {
  display: table-row-group;
}
.collapsing {
  position: relative;
  height: 0;
  overflow: hidden;
  -webkit-transition-property: height, visibility;
  transition-property: height, visibility;
  -webkit-transition-duration: 0.35s;
  transition-duration: 0.35s;
  -webkit-transition-timing-function: ease;
  transition-timing-function: ease;
}
.caret {
  display: inline-block;
  width: 0;
  height: 0;
  margin-left: 2px;
  vertical-align: middle;
  border-top: 4px dashed;
  border-top: 4px solid \9;
  border-right: 4px solid transparent;
  border-left: 4px solid transparent;
}
.dropup,
.dropdown {
  position: relative;
}
.dropdown-toggle:focus {
  outline: 0;
}
.dropdown-menu {
  position: absolute;
  top: 100%;
  left: 0;
  z-index: 1000;
  display: none;
  float: left;
  min-width: 160px;
  padding: 5px 0;
  margin: 2px 0 0;
  list-style: none;
  font-size: 13px;
  text-align: left;
  background-color: #fff;
  border: 1px solid #ccc;
  border: 1px solid rgba(0, 0, 0, 0.15);
  border-radius: 2px;
  -webkit-box-shadow: 0 6px 12px rgba(0, 0, 0, 0.175);
  box-shadow: 0 6px 12px rgba(0, 0, 0, 0.175);
  background-clip: padding-box;
}
.dropdown-menu.pull-right {
  right: 0;
  left: auto;
}
.dropdown-menu .divider {
  height: 1px;
  margin: 8px 0;
  overflow: hidden;
  background-color: #e5e5e5;
}
.dropdown-menu > li > a {
  display: block;
  padding: 3px 20px;
  clear: both;
  font-weight: normal;
  line-height: 1.42857143;
  color: #333333;
  white-space: nowrap;
}
.dropdown-menu > li > a:hover,
.dropdown-menu > li > a:focus {
  text-decoration: none;
  color: #262626;
  background-color: #f5f5f5;
}
.dropdown-menu > .active > a,
.dropdown-menu > .active > a:hover,
.dropdown-menu > .active > a:focus {
  color: #fff;
  text-decoration: none;
  outline: 0;
  background-color: #337ab7;
}
.dropdown-menu > .disabled > a,
.dropdown-menu > .disabled > a:hover,
.dropdown-menu > .disabled > a:focus {
  color: #777777;
}
.dropdown-menu > .disabled > a:hover,
.dropdown-menu > .disabled > a:focus {
  text-decoration: none;
  background-color: transparent;
  background-image: none;
  filter: progid:DXImageTransform.Microsoft.gradient(enabled = false);
  cursor: not-allowed;
}
.open > .dropdown-menu {
  display: block;
}
.open > a {
  outline: 0;
}
.dropdown-menu-right {
  left: auto;
  right: 0;
}
.dropdown-menu-left {
  left: 0;
  right: auto;
}
.dropdown-header {
  display: block;
  padding: 3px 20px;
  font-size: 12px;
  line-height: 1.42857143;
  color: #777777;
  white-space: nowrap;
}
.dropdown-backdrop {
  position: fixed;
  left: 0;
  right: 0;
  bottom: 0;
  top: 0;
  z-index: 990;
}
.pull-right > .dropdown-menu {
  right: 0;
  left: auto;
}
.dropup .caret,
.navbar-fixed-bottom .dropdown .caret {
  border-top: 0;
  border-bottom: 4px dashed;
  border-bottom: 4px solid \9;
  content: "";
}
.dropup .dropdown-menu,
.navbar-fixed-bottom .dropdown .dropdown-menu {
  top: auto;
  bottom: 100%;
  margin-bottom: 2px;
}
@media (min-width: 541px) {
  .navbar-right .dropdown-menu {
    left: auto;
    right: 0;
  }
  .navbar-right .dropdown-menu-left {
    left: 0;
    right: auto;
  }
}
.btn-group,
.btn-group-vertical {
  position: relative;
  display: inline-block;
  vertical-align: middle;
}
.btn-group > .btn,
.btn-group-vertical > .btn {
  position: relative;
  float: left;
}
.btn-group > .btn:hover,
.btn-group-vertical > .btn:hover,
.btn-group > .btn:focus,
.btn-group-vertical > .btn:focus,
.btn-group > .btn:active,
.btn-group-vertical > .btn:active,
.btn-group > .btn.active,
.btn-group-vertical > .btn.active {
  z-index: 2;
}
.btn-group .btn + .btn,
.btn-group .btn + .btn-group,
.btn-group .btn-group + .btn,
.btn-group .btn-group + .btn-group {
  margin-left: -1px;
}
.btn-toolbar {
  margin-left: -5px;
}
.btn-toolbar .btn,
.btn-toolbar .btn-group,
.btn-toolbar .input-group {
  float: left;
}
.btn-toolbar > .btn,
.btn-toolbar > .btn-group,
.btn-toolbar > .input-group {
  margin-left: 5px;
}
.btn-group > .btn:not(:first-child):not(:last-child):not(.dropdown-toggle) {
  border-radius: 0;
}
.btn-group > .btn:first-child {
  margin-left: 0;
}
.btn-group > .btn:first-child:not(:last-child):not(.dropdown-toggle) {
  border-bottom-right-radius: 0;
  border-top-right-radius: 0;
}
.btn-group > .btn:last-child:not(:first-child),
.btn-group > .dropdown-toggle:not(:first-child) {
  border-bottom-left-radius: 0;
  border-top-left-radius: 0;
}
.btn-group > .btn-group {
  float: left;
}
.btn-group > .btn-group:not(:first-child):not(:last-child) > .btn {
  border-radius: 0;
}
.btn-group > .btn-group:first-child:not(:last-child) > .btn:last-child,
.btn-group > .btn-group:first-child:not(:last-child) > .dropdown-toggle {
  border-bottom-right-radius: 0;
  border-top-right-radius: 0;
}
.btn-group > .btn-group:last-child:not(:first-child) > .btn:first-child {
  border-bottom-left-radius: 0;
  border-top-left-radius: 0;
}
.btn-group .dropdown-toggle:active,
.btn-group.open .dropdown-toggle {
  outline: 0;
}
.btn-group > .btn + .dropdown-toggle {
  padding-left: 8px;
  padding-right: 8px;
}
.btn-group > .btn-lg + .dropdown-toggle {
  padding-left: 12px;
  padding-right: 12px;
}
.btn-group.open .dropdown-toggle {
  -webkit-box-shadow: inset 0 3px 5px rgba(0, 0, 0, 0.125);
  box-shadow: inset 0 3px 5px rgba(0, 0, 0, 0.125);
}
.btn-group.open .dropdown-toggle.btn-link {
  -webkit-box-shadow: none;
  box-shadow: none;
}
.btn .caret {
  margin-left: 0;
}
.btn-lg .caret {
  border-width: 5px 5px 0;
  border-bottom-width: 0;
}
.dropup .btn-lg .caret {
  border-width: 0 5px 5px;
}
.btn-group-vertical > .btn,
.btn-group-vertical > .btn-group,
.btn-group-vertical > .btn-group > .btn {
  display: block;
  float: none;
  width: 100%;
  max-width: 100%;
}
.btn-group-vertical > .btn-group > .btn {
  float: none;
}
.btn-group-vertical > .btn + .btn,
.btn-group-vertical > .btn + .btn-group,
.btn-group-vertical > .btn-group + .btn,
.btn-group-vertical > .btn-group + .btn-group {
  margin-top: -1px;
  margin-left: 0;
}
.btn-group-vertical > .btn:not(:first-child):not(:last-child) {
  border-radius: 0;
}
.btn-group-vertical > .btn:first-child:not(:last-child) {
  border-top-right-radius: 2px;
  border-top-left-radius: 2px;
  border-bottom-right-radius: 0;
  border-bottom-left-radius: 0;
}
.btn-group-vertical > .btn:last-child:not(:first-child) {
  border-top-right-radius: 0;
  border-top-left-radius: 0;
  border-bottom-right-radius: 2px;
  border-bottom-left-radius: 2px;
}
.btn-group-vertical > .btn-group:not(:first-child):not(:last-child) > .btn {
  border-radius: 0;
}
.btn-group-vertical > .btn-group:first-child:not(:last-child) > .btn:last-child,
.btn-group-vertical > .btn-group:first-child:not(:last-child) > .dropdown-toggle {
  border-bottom-right-radius: 0;
  border-bottom-left-radius: 0;
}
.btn-group-vertical > .btn-group:last-child:not(:first-child) > .btn:first-child {
  border-top-right-radius: 0;
  border-top-left-radius: 0;
}
.btn-group-justified {
  display: table;
  width: 100%;
  table-layout: fixed;
  border-collapse: separate;
}
.btn-group-justified > .btn,
.btn-group-justified > .btn-group {
  float: none;
  display: table-cell;
  width: 1%;
}
.btn-group-justified > .btn-group .btn {
  width: 100%;
}
.btn-group-justified > .btn-group .dropdown-menu {
  left: auto;
}
[data-toggle="buttons"] > .btn input[type="radio"],
[data-toggle="buttons"] > .btn-group > .btn input[type="radio"],
[data-toggle="buttons"] > .btn input[type="checkbox"],
[data-toggle="buttons"] > .btn-group > .btn input[type="checkbox"] {
  position: absolute;
  clip: rect(0, 0, 0, 0);
  pointer-events: none;
}
.input-group {
  position: relative;
  display: table;
  border-collapse: separate;
}
.input-group[class*="col-"] {
  float: none;
  padding-left: 0;
  padding-right: 0;
}
.input-group .form-control {
  position: relative;
  z-index: 2;
  float: left;
  width: 100%;
  margin-bottom: 0;
}
.input-group .form-control:focus {
  z-index: 3;
}
.input-group-lg > .form-control,
.input-group-lg > .input-group-addon,
.input-group-lg > .input-group-btn > .btn {
  height: 45px;
  padding: 10px 16px;
  font-size: 17px;
  line-height: 1.3333333;
  border-radius: 3px;
}
select.input-group-lg > .form-control,
select.input-group-lg > .input-group-addon,
select.input-group-lg > .input-group-btn > .btn {
  height: 45px;
  line-height: 45px;
}
textarea.input-group-lg > .form-control,
textarea.input-group-lg > .input-group-addon,
textarea.input-group-lg > .input-group-btn > .btn,
select[multiple].input-group-lg > .form-control,
select[multiple].input-group-lg > .input-group-addon,
select[multiple].input-group-lg > .input-group-btn > .btn {
  height: auto;
}
.input-group-sm > .form-control,
.input-group-sm > .input-group-addon,
.input-group-sm > .input-group-btn > .btn {
  height: 30px;
  padding: 5px 10px;
  font-size: 12px;
  line-height: 1.5;
  border-radius: 1px;
}
select.input-group-sm > .form-control,
select.input-group-sm > .input-group-addon,
select.input-group-sm > .input-group-btn > .btn {
  height: 30px;
  line-height: 30px;
}
textarea.input-group-sm > .form-control,
textarea.input-group-sm > .input-group-addon,
textarea.input-group-sm > .input-group-btn > .btn,
select[multiple].input-group-sm > .form-control,
select[multiple].input-group-sm > .input-group-addon,
select[multiple].input-group-sm > .input-group-btn > .btn {
  height: auto;
}
.input-group-addon,
.input-group-btn,
.input-group .form-control {
  display: table-cell;
}
.input-group-addon:not(:first-child):not(:last-child),
.input-group-btn:not(:first-child):not(:last-child),
.input-group .form-control:not(:first-child):not(:last-child) {
  border-radius: 0;
}
.input-group-addon,
.input-group-btn {
  width: 1%;
  white-space: nowrap;
  vertical-align: middle;
}
.input-group-addon {
  padding: 6px 12px;
  font-size: 13px;
  font-weight: normal;
  line-height: 1;
  color: #555555;
  text-align: center;
  background-color: #eeeeee;
  border: 1px solid #ccc;
  border-radius: 2px;
}
.input-group-addon.input-sm {
  padding: 5px 10px;
  font-size: 12px;
  border-radius: 1px;
}
.input-group-addon.input-lg {
  padding: 10px 16px;
  font-size: 17px;
  border-radius: 3px;
}
.input-group-addon input[type="radio"],
.input-group-addon input[type="checkbox"] {
  margin-top: 0;
}
.input-group .form-control:first-child,
.input-group-addon:first-child,
.input-group-btn:first-child > .btn,
.input-group-btn:first-child > .btn-group > .btn,
.input-group-btn:first-child > .dropdown-toggle,
.input-group-btn:last-child > .btn:not(:last-child):not(.dropdown-toggle),
.input-group-btn:last-child > .btn-group:not(:last-child) > .btn {
  border-bottom-right-radius: 0;
  border-top-right-radius: 0;
}
.input-group-addon:first-child {
  border-right: 0;
}
.input-group .form-control:last-child,
.input-group-addon:last-child,
.input-group-btn:last-child > .btn,
.input-group-btn:last-child > .btn-group > .btn,
.input-group-btn:last-child > .dropdown-toggle,
.input-group-btn:first-child > .btn:not(:first-child),
.input-group-btn:first-child > .btn-group:not(:first-child) > .btn {
  border-bottom-left-radius: 0;
  border-top-left-radius: 0;
}
.input-group-addon:last-child {
  border-left: 0;
}
.input-group-btn {
  position: relative;
  font-size: 0;
  white-space: nowrap;
}
.input-group-btn > .btn {
  position: relative;
}
.input-group-btn > .btn + .btn {
  margin-left: -1px;
}
.input-group-btn > .btn:hover,
.input-group-btn > .btn:focus,
.input-group-btn > .btn:active {
  z-index: 2;
}
.input-group-btn:first-child > .btn,
.input-group-btn:first-child > .btn-group {
  margin-right: -1px;
}
.input-group-btn:last-child > .btn,
.input-group-btn:last-child > .btn-group {
  z-index: 2;
  margin-left: -1px;
}
.nav {
  margin-bottom: 0;
  padding-left: 0;
  list-style: none;
}
.nav > li {
  position: relative;
  display: block;
}
.nav > li > a {
  position: relative;
  display: block;
  padding: 10px 15px;
}
.nav > li > a:hover,
.nav > li > a:focus {
  text-decoration: none;
  background-color: #eeeeee;
}
.nav > li.disabled > a {
  color: #777777;
}
.nav > li.disabled > a:hover,
.nav > li.disabled > a:focus {
  color: #777777;
  text-decoration: none;
  background-color: transparent;
  cursor: not-allowed;
}
.nav .open > a,
.nav .open > a:hover,
.nav .open > a:focus {
  background-color: #eeeeee;
  border-color: #337ab7;
}
.nav .nav-divider {
  height: 1px;
  margin: 8px 0;
  overflow: hidden;
  background-color: #e5e5e5;
}
.nav > li > a > img {
  max-width: none;
}
.nav-tabs {
  border-bottom: 1px solid #ddd;
}
.nav-tabs > li {
  float: left;
  margin-bottom: -1px;
}
.nav-tabs > li > a {
  margin-right: 2px;
  line-height: 1.42857143;
  border: 1px solid transparent;
  border-radius: 2px 2px 0 0;
}
.nav-tabs > li > a:hover {
  border-color: #eeeeee #eeeeee #ddd;
}
.nav-tabs > li.active > a,
.nav-tabs > li.active > a:hover,
.nav-tabs > li.active > a:focus {
  color: #555555;
  background-color: #fff;
  border: 1px solid #ddd;
  border-bottom-color: transparent;
  cursor: default;
}
.nav-tabs.nav-justified {
  width: 100%;
  border-bottom: 0;
}
.nav-tabs.nav-justified > li {
  float: none;
}
.nav-tabs.nav-justified > li > a {
  text-align: center;
  margin-bottom: 5px;
}
.nav-tabs.nav-justified > .dropdown .dropdown-menu {
  top: auto;
  left: auto;
}
@media (min-width: 768px) {
  .nav-tabs.nav-justified > li {
    display: table-cell;
    width: 1%;
  }
  .nav-tabs.nav-justified > li > a {
    margin-bottom: 0;
  }
}
.nav-tabs.nav-justified > li > a {
  margin-right: 0;
  border-radius: 2px;
}
.nav-tabs.nav-justified > .active > a,
.nav-tabs.nav-justified > .active > a:hover,
.nav-tabs.nav-justified > .active > a:focus {
  border: 1px solid #ddd;
}
@media (min-width: 768px) {
  .nav-tabs.nav-justified > li > a {
    border-bottom: 1px solid #ddd;
    border-radius: 2px 2px 0 0;
  }
  .nav-tabs.nav-justified > .active > a,
  .nav-tabs.nav-justified > .active > a:hover,
  .nav-tabs.nav-justified > .active > a:focus {
    border-bottom-color: #fff;
  }
}
.nav-pills > li {
  float: left;
}
.nav-pills > li > a {
  border-radius: 2px;
}
.nav-pills > li + li {
  margin-left: 2px;
}
.nav-pills > li.active > a,
.nav-pills > li.active > a:hover,
.nav-pills > li.active > a:focus {
  color: #fff;
  background-color: #337ab7;
}
.nav-stacked > li {
  float: none;
}
.nav-stacked > li + li {
  margin-top: 2px;
  margin-left: 0;
}
.nav-justified {
  width: 100%;
}
.nav-justified > li {
  float: none;
}
.nav-justified > li > a {
  text-align: center;
  margin-bottom: 5px;
}
.nav-justified > .dropdown .dropdown-menu {
  top: auto;
  left: auto;
}
@media (min-width: 768px) {
  .nav-justified > li {
    display: table-cell;
    width: 1%;
  }
  .nav-justified > li > a {
    margin-bottom: 0;
  }
}
.nav-tabs-justified {
  border-bottom: 0;
}
.nav-tabs-justified > li > a {
  margin-right: 0;
  border-radius: 2px;
}
.nav-tabs-justified > .active > a,
.nav-tabs-justified > .active > a:hover,
.nav-tabs-justified > .active > a:focus {
  border: 1px solid #ddd;
}
@media (min-width: 768px) {
  .nav-tabs-justified > li > a {
    border-bottom: 1px solid #ddd;
    border-radius: 2px 2px 0 0;
  }
  .nav-tabs-justified > .active > a,
  .nav-tabs-justified > .active > a:hover,
  .nav-tabs-justified > .active > a:focus {
    border-bottom-color: #fff;
  }
}
.tab-content > .tab-pane {
  display: none;
}
.tab-content > .active {
  display: block;
}
.nav-tabs .dropdown-menu {
  margin-top: -1px;
  border-top-right-radius: 0;
  border-top-left-radius: 0;
}
.navbar {
  position: relative;
  min-height: 30px;
  margin-bottom: 18px;
  border: 1px solid transparent;
}
@media (min-width: 541px) {
  .navbar {
    border-radius: 2px;
  }
}
@media (min-width: 541px) {
  .navbar-header {
    float: left;
  }
}
.navbar-collapse {
  overflow-x: visible;
  padding-right: 0px;
  padding-left: 0px;
  border-top: 1px solid transparent;
  box-shadow: inset 0 1px 0 rgba(255, 255, 255, 0.1);
  -webkit-overflow-scrolling: touch;
}
.navbar-collapse.in {
  overflow-y: auto;
}
@media (min-width: 541px) {
  .navbar-collapse {
    width: auto;
    border-top: 0;
    box-shadow: none;
  }
  .navbar-collapse.collapse {
    display: block !important;
    height: auto !important;
    padding-bottom: 0;
    overflow: visible !important;
  }
  .navbar-collapse.in {
    overflow-y: visible;
  }
  .navbar-fixed-top .navbar-collapse,
  .navbar-static-top .navbar-collapse,
  .navbar-fixed-bottom .navbar-collapse {
    padding-left: 0;
    padding-right: 0;
  }
}
.navbar-fixed-top .navbar-collapse,
.navbar-fixed-bottom .navbar-collapse {
  max-height: 340px;
}
@media (max-device-width: 540px) and (orientation: landscape) {
  .navbar-fixed-top .navbar-collapse,
  .navbar-fixed-bottom .navbar-collapse {
    max-height: 200px;
  }
}
.container > .navbar-header,
.container-fluid > .navbar-header,
.container > .navbar-collapse,
.container-fluid > .navbar-collapse {
  margin-right: 0px;
  margin-left: 0px;
}
@media (min-width: 541px) {
  .container > .navbar-header,
  .container-fluid > .navbar-header,
  .container > .navbar-collapse,
  .container-fluid > .navbar-collapse {
    margin-right: 0;
    margin-left: 0;
  }
}
.navbar-static-top {
  z-index: 1000;
  border-width: 0 0 1px;
}
@media (min-width: 541px) {
  .navbar-static-top {
    border-radius: 0;
  }
}
.navbar-fixed-top,
.navbar-fixed-bottom {
  position: fixed;
  right: 0;
  left: 0;
  z-index: 1030;
}
@media (min-width: 541px) {
  .navbar-fixed-top,
  .navbar-fixed-bottom {
    border-radius: 0;
  }
}
.navbar-fixed-top {
  top: 0;
  border-width: 0 0 1px;
}
.navbar-fixed-bottom {
  bottom: 0;
  margin-bottom: 0;
  border-width: 1px 0 0;
}
.navbar-brand {
  float: left;
  padding: 6px 0px;
  font-size: 17px;
  line-height: 18px;
  height: 30px;
}
.navbar-brand:hover,
.navbar-brand:focus {
  text-decoration: none;
}
.navbar-brand > img {
  display: block;
}
@media (min-width: 541px) {
  .navbar > .container .navbar-brand,
  .navbar > .container-fluid .navbar-brand {
    margin-left: 0px;
  }
}
.navbar-toggle {
  position: relative;
  float: right;
  margin-right: 0px;
  padding: 9px 10px;
  margin-top: -2px;
  margin-bottom: -2px;
  background-color: transparent;
  background-image: none;
  border: 1px solid transparent;
  border-radius: 2px;
}
.navbar-toggle:focus {
  outline: 0;
}
.navbar-toggle .icon-bar {
  display: block;
  width: 22px;
  height: 2px;
  border-radius: 1px;
}
.navbar-toggle .icon-bar + .icon-bar {
  margin-top: 4px;
}
@media (min-width: 541px) {
  .navbar-toggle {
    display: none;
  }
}
.navbar-nav {
  margin: 3px 0px;
}
.navbar-nav > li > a {
  padding-top: 10px;
  padding-bottom: 10px;
  line-height: 18px;
}
@media (max-width: 540px) {
  .navbar-nav .open .dropdown-menu {
    position: static;
    float: none;
    width: auto;
    margin-top: 0;
    background-color: transparent;
    border: 0;
    box-shadow: none;
  }
  .navbar-nav .open .dropdown-menu > li > a,
  .navbar-nav .open .dropdown-menu .dropdown-header {
    padding: 5px 15px 5px 25px;
  }
  .navbar-nav .open .dropdown-menu > li > a {
    line-height: 18px;
  }
  .navbar-nav .open .dropdown-menu > li > a:hover,
  .navbar-nav .open .dropdown-menu > li > a:focus {
    background-image: none;
  }
}
@media (min-width: 541px) {
  .navbar-nav {
    float: left;
    margin: 0;
  }
  .navbar-nav > li {
    float: left;
  }
  .navbar-nav > li > a {
    padding-top: 6px;
    padding-bottom: 6px;
  }
}
.navbar-form {
  margin-left: 0px;
  margin-right: 0px;
  padding: 10px 0px;
  border-top: 1px solid transparent;
  border-bottom: 1px solid transparent;
  -webkit-box-shadow: inset 0 1px 0 rgba(255, 255, 255, 0.1), 0 1px 0 rgba(255, 255, 255, 0.1);
  box-shadow: inset 0 1px 0 rgba(255, 255, 255, 0.1), 0 1px 0 rgba(255, 255, 255, 0.1);
  margin-top: -1px;
  margin-bottom: -1px;
}
@media (min-width: 768px) {
  .navbar-form .form-group {
    display: inline-block;
    margin-bottom: 0;
    vertical-align: middle;
  }
  .navbar-form .form-control {
    display: inline-block;
    width: auto;
    vertical-align: middle;
  }
  .navbar-form .form-control-static {
    display: inline-block;
  }
  .navbar-form .input-group {
    display: inline-table;
    vertical-align: middle;
  }
  .navbar-form .input-group .input-group-addon,
  .navbar-form .input-group .input-group-btn,
  .navbar-form .input-group .form-control {
    width: auto;
  }
  .navbar-form .input-group > .form-control {
    width: 100%;
  }
  .navbar-form .control-label {
    margin-bottom: 0;
    vertical-align: middle;
  }
  .navbar-form .radio,
  .navbar-form .checkbox {
    display: inline-block;
    margin-top: 0;
    margin-bottom: 0;
    vertical-align: middle;
  }
  .navbar-form .radio label,
  .navbar-form .checkbox label {
    padding-left: 0;
  }
  .navbar-form .radio input[type="radio"],
  .navbar-form .checkbox input[type="checkbox"] {
    position: relative;
    margin-left: 0;
  }
  .navbar-form .has-feedback .form-control-feedback {
    top: 0;
  }
}
@media (max-width: 540px) {
  .navbar-form .form-group {
    margin-bottom: 5px;
  }
  .navbar-form .form-group:last-child {
    margin-bottom: 0;
  }
}
@media (min-width: 541px) {
  .navbar-form {
    width: auto;
    border: 0;
    margin-left: 0;
    margin-right: 0;
    padding-top: 0;
    padding-bottom: 0;
    -webkit-box-shadow: none;
    box-shadow: none;
  }
}
.navbar-nav > li > .dropdown-menu {
  margin-top: 0;
  border-top-right-radius: 0;
  border-top-left-radius: 0;
}
.navbar-fixed-bottom .navbar-nav > li > .dropdown-menu {
  margin-bottom: 0;
  border-top-right-radius: 2px;
  border-top-left-radius: 2px;
  border-bottom-right-radius: 0;
  border-bottom-left-radius: 0;
}
.navbar-btn {
  margin-top: -1px;
  margin-bottom: -1px;
}
.navbar-btn.btn-sm {
  margin-top: 0px;
  margin-bottom: 0px;
}
.navbar-btn.btn-xs {
  margin-top: 4px;
  margin-bottom: 4px;
}
.navbar-text {
  margin-top: 6px;
  margin-bottom: 6px;
}
@media (min-width: 541px) {
  .navbar-text {
    float: left;
    margin-left: 0px;
    margin-right: 0px;
  }
}
@media (min-width: 541px) {
  .navbar-left {
    float: left !important;
    float: left;
  }
  .navbar-right {
    float: right !important;
    float: right;
    margin-right: 0px;
  }
  .navbar-right ~ .navbar-right {
    margin-right: 0;
  }
}
.navbar-default {
  background-color: #f8f8f8;
  border-color: #e7e7e7;
}
.navbar-default .navbar-brand {
  color: #777;
}
.navbar-default .navbar-brand:hover,
.navbar-default .navbar-brand:focus {
  color: #5e5e5e;
  background-color: transparent;
}
.navbar-default .navbar-text {
  color: #777;
}
.navbar-default .navbar-nav > li > a {
  color: #777;
}
.navbar-default .navbar-nav > li > a:hover,
.navbar-default .navbar-nav > li > a:focus {
  color: #333;
  background-color: transparent;
}
.navbar-default .navbar-nav > .active > a,
.navbar-default .navbar-nav > .active > a:hover,
.navbar-default .navbar-nav > .active > a:focus {
  color: #555;
  background-color: #e7e7e7;
}
.navbar-default .navbar-nav > .disabled > a,
.navbar-default .navbar-nav > .disabled > a:hover,
.navbar-default .navbar-nav > .disabled > a:focus {
  color: #ccc;
  background-color: transparent;
}
.navbar-default .navbar-toggle {
  border-color: #ddd;
}
.navbar-default .navbar-toggle:hover,
.navbar-default .navbar-toggle:focus {
  background-color: #ddd;
}
.navbar-default .navbar-toggle .icon-bar {
  background-color: #888;
}
.navbar-default .navbar-collapse,
.navbar-default .navbar-form {
  border-color: #e7e7e7;
}
.navbar-default .navbar-nav > .open > a,
.navbar-default .navbar-nav > .open > a:hover,
.navbar-default .navbar-nav > .open > a:focus {
  background-color: #e7e7e7;
  color: #555;
}
@media (max-width: 540px) {
  .navbar-default .navbar-nav .open .dropdown-menu > li > a {
    color: #777;
  }
  .navbar-default .navbar-nav .open .dropdown-menu > li > a:hover,
  .navbar-default .navbar-nav .open .dropdown-menu > li > a:focus {
    color: #333;
    background-color: transparent;
  }
  .navbar-default .navbar-nav .open .dropdown-menu > .active > a,
  .navbar-default .navbar-nav .open .dropdown-menu > .active > a:hover,
  .navbar-default .navbar-nav .open .dropdown-menu > .active > a:focus {
    color: #555;
    background-color: #e7e7e7;
  }
  .navbar-default .navbar-nav .open .dropdown-menu > .disabled > a,
  .navbar-default .navbar-nav .open .dropdown-menu > .disabled > a:hover,
  .navbar-default .navbar-nav .open .dropdown-menu > .disabled > a:focus {
    color: #ccc;
    background-color: transparent;
  }
}
.navbar-default .navbar-link {
  color: #777;
}
.navbar-default .navbar-link:hover {
  color: #333;
}
.navbar-default .btn-link {
  color: #777;
}
.navbar-default .btn-link:hover,
.navbar-default .btn-link:focus {
  color: #333;
}
.navbar-default .btn-link[disabled]:hover,
fieldset[disabled] .navbar-default .btn-link:hover,
.navbar-default .btn-link[disabled]:focus,
fieldset[disabled] .navbar-default .btn-link:focus {
  color: #ccc;
}
.navbar-inverse {
  background-color: #222;
  border-color: #080808;
}
.navbar-inverse .navbar-brand {
  color: #9d9d9d;
}
.navbar-inverse .navbar-brand:hover,
.navbar-inverse .navbar-brand:focus {
  color: #fff;
  background-color: transparent;
}
.navbar-inverse .navbar-text {
  color: #9d9d9d;
}
.navbar-inverse .navbar-nav > li > a {
  color: #9d9d9d;
}
.navbar-inverse .navbar-nav > li > a:hover,
.navbar-inverse .navbar-nav > li > a:focus {
  color: #fff;
  background-color: transparent;
}
.navbar-inverse .navbar-nav > .active > a,
.navbar-inverse .navbar-nav > .active > a:hover,
.navbar-inverse .navbar-nav > .active > a:focus {
  color: #fff;
  background-color: #080808;
}
.navbar-inverse .navbar-nav > .disabled > a,
.navbar-inverse .navbar-nav > .disabled > a:hover,
.navbar-inverse .navbar-nav > .disabled > a:focus {
  color: #444;
  background-color: transparent;
}
.navbar-inverse .navbar-toggle {
  border-color: #333;
}
.navbar-inverse .navbar-toggle:hover,
.navbar-inverse .navbar-toggle:focus {
  background-color: #333;
}
.navbar-inverse .navbar-toggle .icon-bar {
  background-color: #fff;
}
.navbar-inverse .navbar-collapse,
.navbar-inverse .navbar-form {
  border-color: #101010;
}
.navbar-inverse .navbar-nav > .open > a,
.navbar-inverse .navbar-nav > .open > a:hover,
.navbar-inverse .navbar-nav > .open > a:focus {
  background-color: #080808;
  color: #fff;
}
@media (max-width: 540px) {
  .navbar-inverse .navbar-nav .open .dropdown-menu > .dropdown-header {
    border-color: #080808;
  }
  .navbar-inverse .navbar-nav .open .dropdown-menu .divider {
    background-color: #080808;
  }
  .navbar-inverse .navbar-nav .open .dropdown-menu > li > a {
    color: #9d9d9d;
  }
  .navbar-inverse .navbar-nav .open .dropdown-menu > li > a:hover,
  .navbar-inverse .navbar-nav .open .dropdown-menu > li > a:focus {
    color: #fff;
    background-color: transparent;
  }
  .navbar-inverse .navbar-nav .open .dropdown-menu > .active > a,
  .navbar-inverse .navbar-nav .open .dropdown-menu > .active > a:hover,
  .navbar-inverse .navbar-nav .open .dropdown-menu > .active > a:focus {
    color: #fff;
    background-color: #080808;
  }
  .navbar-inverse .navbar-nav .open .dropdown-menu > .disabled > a,
  .navbar-inverse .navbar-nav .open .dropdown-menu > .disabled > a:hover,
  .navbar-inverse .navbar-nav .open .dropdown-menu > .disabled > a:focus {
    color: #444;
    background-color: transparent;
  }
}
.navbar-inverse .navbar-link {
  color: #9d9d9d;
}
.navbar-inverse .navbar-link:hover {
  color: #fff;
}
.navbar-inverse .btn-link {
  color: #9d9d9d;
}
.navbar-inverse .btn-link:hover,
.navbar-inverse .btn-link:focus {
  color: #fff;
}
.navbar-inverse .btn-link[disabled]:hover,
fieldset[disabled] .navbar-inverse .btn-link:hover,
.navbar-inverse .btn-link[disabled]:focus,
fieldset[disabled] .navbar-inverse .btn-link:focus {
  color: #444;
}
.breadcrumb {
  padding: 8px 15px;
  margin-bottom: 18px;
  list-style: none;
  background-color: #f5f5f5;
  border-radius: 2px;
}
.breadcrumb > li {
  display: inline-block;
}
.breadcrumb > li + li:before {
  content: "/\00a0";
  padding: 0 5px;
  color: #5e5e5e;
}
.breadcrumb > .active {
  color: #777777;
}
.pagination {
  display: inline-block;
  padding-left: 0;
  margin: 18px 0;
  border-radius: 2px;
}
.pagination > li {
  display: inline;
}
.pagination > li > a,
.pagination > li > span {
  position: relative;
  float: left;
  padding: 6px 12px;
  line-height: 1.42857143;
  text-decoration: none;
  color: #337ab7;
  background-color: #fff;
  border: 1px solid #ddd;
  margin-left: -1px;
}
.pagination > li:first-child > a,
.pagination > li:first-child > span {
  margin-left: 0;
  border-bottom-left-radius: 2px;
  border-top-left-radius: 2px;
}
.pagination > li:last-child > a,
.pagination > li:last-child > span {
  border-bottom-right-radius: 2px;
  border-top-right-radius: 2px;
}
.pagination > li > a:hover,
.pagination > li > span:hover,
.pagination > li > a:focus,
.pagination > li > span:focus {
  z-index: 2;
  color: #23527c;
  background-color: #eeeeee;
  border-color: #ddd;
}
.pagination > .active > a,
.pagination > .active > span,
.pagination > .active > a:hover,
.pagination > .active > span:hover,
.pagination > .active > a:focus,
.pagination > .active > span:focus {
  z-index: 3;
  color: #fff;
  background-color: #337ab7;
  border-color: #337ab7;
  cursor: default;
}
.pagination > .disabled > span,
.pagination > .disabled > span:hover,
.pagination > .disabled > span:focus,
.pagination > .disabled > a,
.pagination > .disabled > a:hover,
.pagination > .disabled > a:focus {
  color: #777777;
  background-color: #fff;
  border-color: #ddd;
  cursor: not-allowed;
}
.pagination-lg > li > a,
.pagination-lg > li > span {
  padding: 10px 16px;
  font-size: 17px;
  line-height: 1.3333333;
}
.pagination-lg > li:first-child > a,
.pagination-lg > li:first-child > span {
  border-bottom-left-radius: 3px;
  border-top-left-radius: 3px;
}
.pagination-lg > li:last-child > a,
.pagination-lg > li:last-child > span {
  border-bottom-right-radius: 3px;
  border-top-right-radius: 3px;
}
.pagination-sm > li > a,
.pagination-sm > li > span {
  padding: 5px 10px;
  font-size: 12px;
  line-height: 1.5;
}
.pagination-sm > li:first-child > a,
.pagination-sm > li:first-child > span {
  border-bottom-left-radius: 1px;
  border-top-left-radius: 1px;
}
.pagination-sm > li:last-child > a,
.pagination-sm > li:last-child > span {
  border-bottom-right-radius: 1px;
  border-top-right-radius: 1px;
}
.pager {
  padding-left: 0;
  margin: 18px 0;
  list-style: none;
  text-align: center;
}
.pager li {
  display: inline;
}
.pager li > a,
.pager li > span {
  display: inline-block;
  padding: 5px 14px;
  background-color: #fff;
  border: 1px solid #ddd;
  border-radius: 15px;
}
.pager li > a:hover,
.pager li > a:focus {
  text-decoration: none;
  background-color: #eeeeee;
}
.pager .next > a,
.pager .next > span {
  float: right;
}
.pager .previous > a,
.pager .previous > span {
  float: left;
}
.pager .disabled > a,
.pager .disabled > a:hover,
.pager .disabled > a:focus,
.pager .disabled > span {
  color: #777777;
  background-color: #fff;
  cursor: not-allowed;
}
.label {
  display: inline;
  padding: .2em .6em .3em;
  font-size: 75%;
  font-weight: bold;
  line-height: 1;
  color: #fff;
  text-align: center;
  white-space: nowrap;
  vertical-align: baseline;
  border-radius: .25em;
}
a.label:hover,
a.label:focus {
  color: #fff;
  text-decoration: none;
  cursor: pointer;
}
.label:empty {
  display: none;
}
.btn .label {
  position: relative;
  top: -1px;
}
.label-default {
  background-color: #777777;
}
.label-default[href]:hover,
.label-default[href]:focus {
  background-color: #5e5e5e;
}
.label-primary {
  background-color: #337ab7;
}
.label-primary[href]:hover,
.label-primary[href]:focus {
  background-color: #286090;
}
.label-success {
  background-color: #5cb85c;
}
.label-success[href]:hover,
.label-success[href]:focus {
  background-color: #449d44;
}
.label-info {
  background-color: #5bc0de;
}
.label-info[href]:hover,
.label-info[href]:focus {
  background-color: #31b0d5;
}
.label-warning {
  background-color: #f0ad4e;
}
.label-warning[href]:hover,
.label-warning[href]:focus {
  background-color: #ec971f;
}
.label-danger {
  background-color: #d9534f;
}
.label-danger[href]:hover,
.label-danger[href]:focus {
  background-color: #c9302c;
}
.badge {
  display: inline-block;
  min-width: 10px;
  padding: 3px 7px;
  font-size: 12px;
  font-weight: bold;
  color: #fff;
  line-height: 1;
  vertical-align: middle;
  white-space: nowrap;
  text-align: center;
  background-color: #777777;
  border-radius: 10px;
}
.badge:empty {
  display: none;
}
.btn .badge {
  position: relative;
  top: -1px;
}
.btn-xs .badge,
.btn-group-xs > .btn .badge {
  top: 0;
  padding: 1px 5px;
}
a.badge:hover,
a.badge:focus {
  color: #fff;
  text-decoration: none;
  cursor: pointer;
}
.list-group-item.active > .badge,
.nav-pills > .active > a > .badge {
  color: #337ab7;
  background-color: #fff;
}
.list-group-item > .badge {
  float: right;
}
.list-group-item > .badge + .badge {
  margin-right: 5px;
}
.nav-pills > li > a > .badge {
  margin-left: 3px;
}
.jumbotron {
  padding-top: 30px;
  padding-bottom: 30px;
  margin-bottom: 30px;
  color: inherit;
  background-color: #eeeeee;
}
.jumbotron h1,
.jumbotron .h1 {
  color: inherit;
}
.jumbotron p {
  margin-bottom: 15px;
  font-size: 20px;
  font-weight: 200;
}
.jumbotron > hr {
  border-top-color: #d5d5d5;
}
.container .jumbotron,
.container-fluid .jumbotron {
  border-radius: 3px;
  padding-left: 0px;
  padding-right: 0px;
}
.jumbotron .container {
  max-width: 100%;
}
@media screen and (min-width: 768px) {
  .jumbotron {
    padding-top: 48px;
    padding-bottom: 48px;
  }
  .container .jumbotron,
  .container-fluid .jumbotron {
    padding-left: 60px;
    padding-right: 60px;
  }
  .jumbotron h1,
  .jumbotron .h1 {
    font-size: 59px;
  }
}
.thumbnail {
  display: block;
  padding: 4px;
  margin-bottom: 18px;
  line-height: 1.42857143;
  background-color: #fff;
  border: 1px solid #ddd;
  border-radius: 2px;
  -webkit-transition: border 0.2s ease-in-out;
  -o-transition: border 0.2s ease-in-out;
  transition: border 0.2s ease-in-out;
}
.thumbnail > img,
.thumbnail a > img {
  margin-left: auto;
  margin-right: auto;
}
a.thumbnail:hover,
a.thumbnail:focus,
a.thumbnail.active {
  border-color: #337ab7;
}
.thumbnail .caption {
  padding: 9px;
  color: #000;
}
.alert {
  padding: 15px;
  margin-bottom: 18px;
  border: 1px solid transparent;
  border-radius: 2px;
}
.alert h4 {
  margin-top: 0;
  color: inherit;
}
.alert .alert-link {
  font-weight: bold;
}
.alert > p,
.alert > ul {
  margin-bottom: 0;
}
.alert > p + p {
  margin-top: 5px;
}
.alert-dismissable,
.alert-dismissible {
  padding-right: 35px;
}
.alert-dismissable .close,
.alert-dismissible .close {
  position: relative;
  top: -2px;
  right: -21px;
  color: inherit;
}
.alert-success {
  background-color: #dff0d8;
  border-color: #d6e9c6;
  color: #3c763d;
}
.alert-success hr {
  border-top-color: #c9e2b3;
}
.alert-success .alert-link {
  color: #2b542c;
}
.alert-info {
  background-color: #d9edf7;
  border-color: #bce8f1;
  color: #31708f;
}
.alert-info hr {
  border-top-color: #a6e1ec;
}
.alert-info .alert-link {
  color: #245269;
}
.alert-warning {
  background-color: #fcf8e3;
  border-color: #faebcc;
  color: #8a6d3b;
}
.alert-warning hr {
  border-top-color: #f7e1b5;
}
.alert-warning .alert-link {
  color: #66512c;
}
.alert-danger {
  background-color: #f2dede;
  border-color: #ebccd1;
  color: #a94442;
}
.alert-danger hr {
  border-top-color: #e4b9c0;
}
.alert-danger .alert-link {
  color: #843534;
}
@-webkit-keyframes progress-bar-stripes {
  from {
    background-position: 40px 0;
  }
  to {
    background-position: 0 0;
  }
}
@keyframes progress-bar-stripes {
  from {
    background-position: 40px 0;
  }
  to {
    background-position: 0 0;
  }
}
.progress {
  overflow: hidden;
  height: 18px;
  margin-bottom: 18px;
  background-color: #f5f5f5;
  border-radius: 2px;
  -webkit-box-shadow: inset 0 1px 2px rgba(0, 0, 0, 0.1);
  box-shadow: inset 0 1px 2px rgba(0, 0, 0, 0.1);
}
.progress-bar {
  float: left;
  width: 0%;
  height: 100%;
  font-size: 12px;
  line-height: 18px;
  color: #fff;
  text-align: center;
  background-color: #337ab7;
  -webkit-box-shadow: inset 0 -1px 0 rgba(0, 0, 0, 0.15);
  box-shadow: inset 0 -1px 0 rgba(0, 0, 0, 0.15);
  -webkit-transition: width 0.6s ease;
  -o-transition: width 0.6s ease;
  transition: width 0.6s ease;
}
.progress-striped .progress-bar,
.progress-bar-striped {
  background-image: -webkit-linear-gradient(45deg, rgba(255, 255, 255, 0.15) 25%, transparent 25%, transparent 50%, rgba(255, 255, 255, 0.15) 50%, rgba(255, 255, 255, 0.15) 75%, transparent 75%, transparent);
  background-image: -o-linear-gradient(45deg, rgba(255, 255, 255, 0.15) 25%, transparent 25%, transparent 50%, rgba(255, 255, 255, 0.15) 50%, rgba(255, 255, 255, 0.15) 75%, transparent 75%, transparent);
  background-image: linear-gradient(45deg, rgba(255, 255, 255, 0.15) 25%, transparent 25%, transparent 50%, rgba(255, 255, 255, 0.15) 50%, rgba(255, 255, 255, 0.15) 75%, transparent 75%, transparent);
  background-size: 40px 40px;
}
.progress.active .progress-bar,
.progress-bar.active {
  -webkit-animation: progress-bar-stripes 2s linear infinite;
  -o-animation: progress-bar-stripes 2s linear infinite;
  animation: progress-bar-stripes 2s linear infinite;
}
.progress-bar-success {
  background-color: #5cb85c;
}
.progress-striped .progress-bar-success {
  background-image: -webkit-linear-gradient(45deg, rgba(255, 255, 255, 0.15) 25%, transparent 25%, transparent 50%, rgba(255, 255, 255, 0.15) 50%, rgba(255, 255, 255, 0.15) 75%, transparent 75%, transparent);
  background-image: -o-linear-gradient(45deg, rgba(255, 255, 255, 0.15) 25%, transparent 25%, transparent 50%, rgba(255, 255, 255, 0.15) 50%, rgba(255, 255, 255, 0.15) 75%, transparent 75%, transparent);
  background-image: linear-gradient(45deg, rgba(255, 255, 255, 0.15) 25%, transparent 25%, transparent 50%, rgba(255, 255, 255, 0.15) 50%, rgba(255, 255, 255, 0.15) 75%, transparent 75%, transparent);
}
.progress-bar-info {
  background-color: #5bc0de;
}
.progress-striped .progress-bar-info {
  background-image: -webkit-linear-gradient(45deg, rgba(255, 255, 255, 0.15) 25%, transparent 25%, transparent 50%, rgba(255, 255, 255, 0.15) 50%, rgba(255, 255, 255, 0.15) 75%, transparent 75%, transparent);
  background-image: -o-linear-gradient(45deg, rgba(255, 255, 255, 0.15) 25%, transparent 25%, transparent 50%, rgba(255, 255, 255, 0.15) 50%, rgba(255, 255, 255, 0.15) 75%, transparent 75%, transparent);
  background-image: linear-gradient(45deg, rgba(255, 255, 255, 0.15) 25%, transparent 25%, transparent 50%, rgba(255, 255, 255, 0.15) 50%, rgba(255, 255, 255, 0.15) 75%, transparent 75%, transparent);
}
.progress-bar-warning {
  background-color: #f0ad4e;
}
.progress-striped .progress-bar-warning {
  background-image: -webkit-linear-gradient(45deg, rgba(255, 255, 255, 0.15) 25%, transparent 25%, transparent 50%, rgba(255, 255, 255, 0.15) 50%, rgba(255, 255, 255, 0.15) 75%, transparent 75%, transparent);
  background-image: -o-linear-gradient(45deg, rgba(255, 255, 255, 0.15) 25%, transparent 25%, transparent 50%, rgba(255, 255, 255, 0.15) 50%, rgba(255, 255, 255, 0.15) 75%, transparent 75%, transparent);
  background-image: linear-gradient(45deg, rgba(255, 255, 255, 0.15) 25%, transparent 25%, transparent 50%, rgba(255, 255, 255, 0.15) 50%, rgba(255, 255, 255, 0.15) 75%, transparent 75%, transparent);
}
.progress-bar-danger {
  background-color: #d9534f;
}
.progress-striped .progress-bar-danger {
  background-image: -webkit-linear-gradient(45deg, rgba(255, 255, 255, 0.15) 25%, transparent 25%, transparent 50%, rgba(255, 255, 255, 0.15) 50%, rgba(255, 255, 255, 0.15) 75%, transparent 75%, transparent);
  background-image: -o-linear-gradient(45deg, rgba(255, 255, 255, 0.15) 25%, transparent 25%, transparent 50%, rgba(255, 255, 255, 0.15) 50%, rgba(255, 255, 255, 0.15) 75%, transparent 75%, transparent);
  background-image: linear-gradient(45deg, rgba(255, 255, 255, 0.15) 25%, transparent 25%, transparent 50%, rgba(255, 255, 255, 0.15) 50%, rgba(255, 255, 255, 0.15) 75%, transparent 75%, transparent);
}
.media {
  margin-top: 15px;
}
.media:first-child {
  margin-top: 0;
}
.media,
.media-body {
  zoom: 1;
  overflow: hidden;
}
.media-body {
  width: 10000px;
}
.media-object {
  display: block;
}
.media-object.img-thumbnail {
  max-width: none;
}
.media-right,
.media > .pull-right {
  padding-left: 10px;
}
.media-left,
.media > .pull-left {
  padding-right: 10px;
}
.media-left,
.media-right,
.media-body {
  display: table-cell;
  vertical-align: top;
}
.media-middle {
  vertical-align: middle;
}
.media-bottom {
  vertical-align: bottom;
}
.media-heading {
  margin-top: 0;
  margin-bottom: 5px;
}
.media-list {
  padding-left: 0;
  list-style: none;
}
.list-group {
  margin-bottom: 20px;
  padding-left: 0;
}
.list-group-item {
  position: relative;
  display: block;
  padding: 10px 15px;
  margin-bottom: -1px;
  background-color: #fff;
  border: 1px solid #ddd;
}
.list-group-item:first-child {
  border-top-right-radius: 2px;
  border-top-left-radius: 2px;
}
.list-group-item:last-child {
  margin-bottom: 0;
  border-bottom-right-radius: 2px;
  border-bottom-left-radius: 2px;
}
a.list-group-item,
button.list-group-item {
  color: #555;
}
a.list-group-item .list-group-item-heading,
button.list-group-item .list-group-item-heading {
  color: #333;
}
a.list-group-item:hover,
button.list-group-item:hover,
a.list-group-item:focus,
button.list-group-item:focus {
  text-decoration: none;
  color: #555;
  background-color: #f5f5f5;
}
button.list-group-item {
  width: 100%;
  text-align: left;
}
.list-group-item.disabled,
.list-group-item.disabled:hover,
.list-group-item.disabled:focus {
  background-color: #eeeeee;
  color: #777777;
  cursor: not-allowed;
}
.list-group-item.disabled .list-group-item-heading,
.list-group-item.disabled:hover .list-group-item-heading,
.list-group-item.disabled:focus .list-group-item-heading {
  color: inherit;
}
.list-group-item.disabled .list-group-item-text,
.list-group-item.disabled:hover .list-group-item-text,
.list-group-item.disabled:focus .list-group-item-text {
  color: #777777;
}
.list-group-item.active,
.list-group-item.active:hover,
.list-group-item.active:focus {
  z-index: 2;
  color: #fff;
  background-color: #337ab7;
  border-color: #337ab7;
}
.list-group-item.active .list-group-item-heading,
.list-group-item.active:hover .list-group-item-heading,
.list-group-item.active:focus .list-group-item-heading,
.list-group-item.active .list-group-item-heading > small,
.list-group-item.active:hover .list-group-item-heading > small,
.list-group-item.active:focus .list-group-item-heading > small,
.list-group-item.active .list-group-item-heading > .small,
.list-group-item.active:hover .list-group-item-heading > .small,
.list-group-item.active:focus .list-group-item-heading > .small {
  color: inherit;
}
.list-group-item.active .list-group-item-text,
.list-group-item.active:hover .list-group-item-text,
.list-group-item.active:focus .list-group-item-text {
  color: #c7ddef;
}
.list-group-item-success {
  color: #3c763d;
  background-color: #dff0d8;
}
a.list-group-item-success,
button.list-group-item-success {
  color: #3c763d;
}
a.list-group-item-success .list-group-item-heading,
button.list-group-item-success .list-group-item-heading {
  color: inherit;
}
a.list-group-item-success:hover,
button.list-group-item-success:hover,
a.list-group-item-success:focus,
button.list-group-item-success:focus {
  color: #3c763d;
  background-color: #d0e9c6;
}
a.list-group-item-success.active,
button.list-group-item-success.active,
a.list-group-item-success.active:hover,
button.list-group-item-success.active:hover,
a.list-group-item-success.active:focus,
button.list-group-item-success.active:focus {
  color: #fff;
  background-color: #3c763d;
  border-color: #3c763d;
}
.list-group-item-info {
  color: #31708f;
  background-color: #d9edf7;
}
a.list-group-item-info,
button.list-group-item-info {
  color: #31708f;
}
a.list-group-item-info .list-group-item-heading,
button.list-group-item-info .list-group-item-heading {
  color: inherit;
}
a.list-group-item-info:hover,
button.list-group-item-info:hover,
a.list-group-item-info:focus,
button.list-group-item-info:focus {
  color: #31708f;
  background-color: #c4e3f3;
}
a.list-group-item-info.active,
button.list-group-item-info.active,
a.list-group-item-info.active:hover,
button.list-group-item-info.active:hover,
a.list-group-item-info.active:focus,
button.list-group-item-info.active:focus {
  color: #fff;
  background-color: #31708f;
  border-color: #31708f;
}
.list-group-item-warning {
  color: #8a6d3b;
  background-color: #fcf8e3;
}
a.list-group-item-warning,
button.list-group-item-warning {
  color: #8a6d3b;
}
a.list-group-item-warning .list-group-item-heading,
button.list-group-item-warning .list-group-item-heading {
  color: inherit;
}
a.list-group-item-warning:hover,
button.list-group-item-warning:hover,
a.list-group-item-warning:focus,
button.list-group-item-warning:focus {
  color: #8a6d3b;
  background-color: #faf2cc;
}
a.list-group-item-warning.active,
button.list-group-item-warning.active,
a.list-group-item-warning.active:hover,
button.list-group-item-warning.active:hover,
a.list-group-item-warning.active:focus,
button.list-group-item-warning.active:focus {
  color: #fff;
  background-color: #8a6d3b;
  border-color: #8a6d3b;
}
.list-group-item-danger {
  color: #a94442;
  background-color: #f2dede;
}
a.list-group-item-danger,
button.list-group-item-danger {
  color: #a94442;
}
a.list-group-item-danger .list-group-item-heading,
button.list-group-item-danger .list-group-item-heading {
  color: inherit;
}
a.list-group-item-danger:hover,
button.list-group-item-danger:hover,
a.list-group-item-danger:focus,
button.list-group-item-danger:focus {
  color: #a94442;
  background-color: #ebcccc;
}
a.list-group-item-danger.active,
button.list-group-item-danger.active,
a.list-group-item-danger.active:hover,
button.list-group-item-danger.active:hover,
a.list-group-item-danger.active:focus,
button.list-group-item-danger.active:focus {
  color: #fff;
  background-color: #a94442;
  border-color: #a94442;
}
.list-group-item-heading {
  margin-top: 0;
  margin-bottom: 5px;
}
.list-group-item-text {
  margin-bottom: 0;
  line-height: 1.3;
}
.panel {
  margin-bottom: 18px;
  background-color: #fff;
  border: 1px solid transparent;
  border-radius: 2px;
  -webkit-box-shadow: 0 1px 1px rgba(0, 0, 0, 0.05);
  box-shadow: 0 1px 1px rgba(0, 0, 0, 0.05);
}
.panel-body {
  padding: 15px;
}
.panel-heading {
  padding: 10px 15px;
  border-bottom: 1px solid transparent;
  border-top-right-radius: 1px;
  border-top-left-radius: 1px;
}
.panel-heading > .dropdown .dropdown-toggle {
  color: inherit;
}
.panel-title {
  margin-top: 0;
  margin-bottom: 0;
  font-size: 15px;
  color: inherit;
}
.panel-title > a,
.panel-title > small,
.panel-title > .small,
.panel-title > small > a,
.panel-title > .small > a {
  color: inherit;
}
.panel-footer {
  padding: 10px 15px;
  background-color: #f5f5f5;
  border-top: 1px solid #ddd;
  border-bottom-right-radius: 1px;
  border-bottom-left-radius: 1px;
}
.panel > .list-group,
.panel > .panel-collapse > .list-group {
  margin-bottom: 0;
}
.panel > .list-group .list-group-item,
.panel > .panel-collapse > .list-group .list-group-item {
  border-width: 1px 0;
  border-radius: 0;
}
.panel > .list-group:first-child .list-group-item:first-child,
.panel > .panel-collapse > .list-group:first-child .list-group-item:first-child {
  border-top: 0;
  border-top-right-radius: 1px;
  border-top-left-radius: 1px;
}
.panel > .list-group:last-child .list-group-item:last-child,
.panel > .panel-collapse > .list-group:last-child .list-group-item:last-child {
  border-bottom: 0;
  border-bottom-right-radius: 1px;
  border-bottom-left-radius: 1px;
}
.panel > .panel-heading + .panel-collapse > .list-group .list-group-item:first-child {
  border-top-right-radius: 0;
  border-top-left-radius: 0;
}
.panel-heading + .list-group .list-group-item:first-child {
  border-top-width: 0;
}
.list-group + .panel-footer {
  border-top-width: 0;
}
.panel > .table,
.panel > .table-responsive > .table,
.panel > .panel-collapse > .table {
  margin-bottom: 0;
}
.panel > .table caption,
.panel > .table-responsive > .table caption,
.panel > .panel-collapse > .table caption {
  padding-left: 15px;
  padding-right: 15px;
}
.panel > .table:first-child,
.panel > .table-responsive:first-child > .table:first-child {
  border-top-right-radius: 1px;
  border-top-left-radius: 1px;
}
.panel > .table:first-child > thead:first-child > tr:first-child,
.panel > .table-responsive:first-child > .table:first-child > thead:first-child > tr:first-child,
.panel > .table:first-child > tbody:first-child > tr:first-child,
.panel > .table-responsive:first-child > .table:first-child > tbody:first-child > tr:first-child {
  border-top-left-radius: 1px;
  border-top-right-radius: 1px;
}
.panel > .table:first-child > thead:first-child > tr:first-child td:first-child,
.panel > .table-responsive:first-child > .table:first-child > thead:first-child > tr:first-child td:first-child,
.panel > .table:first-child > tbody:first-child > tr:first-child td:first-child,
.panel > .table-responsive:first-child > .table:first-child > tbody:first-child > tr:first-child td:first-child,
.panel > .table:first-child > thead:first-child > tr:first-child th:first-child,
.panel > .table-responsive:first-child > .table:first-child > thead:first-child > tr:first-child th:first-child,
.panel > .table:first-child > tbody:first-child > tr:first-child th:first-child,
.panel > .table-responsive:first-child > .table:first-child > tbody:first-child > tr:first-child th:first-child {
  border-top-left-radius: 1px;
}
.panel > .table:first-child > thead:first-child > tr:first-child td:last-child,
.panel > .table-responsive:first-child > .table:first-child > thead:first-child > tr:first-child td:last-child,
.panel > .table:first-child > tbody:first-child > tr:first-child td:last-child,
.panel > .table-responsive:first-child > .table:first-child > tbody:first-child > tr:first-child td:last-child,
.panel > .table:first-child > thead:first-child > tr:first-child th:last-child,
.panel > .table-responsive:first-child > .table:first-child > thead:first-child > tr:first-child th:last-child,
.panel > .table:first-child > tbody:first-child > tr:first-child th:last-child,
.panel > .table-responsive:first-child > .table:first-child > tbody:first-child > tr:first-child th:last-child {
  border-top-right-radius: 1px;
}
.panel > .table:last-child,
.panel > .table-responsive:last-child > .table:last-child {
  border-bottom-right-radius: 1px;
  border-bottom-left-radius: 1px;
}
.panel > .table:last-child > tbody:last-child > tr:last-child,
.panel > .table-responsive:last-child > .table:last-child > tbody:last-child > tr:last-child,
.panel > .table:last-child > tfoot:last-child > tr:last-child,
.panel > .table-responsive:last-child > .table:last-child > tfoot:last-child > tr:last-child {
  border-bottom-left-radius: 1px;
  border-bottom-right-radius: 1px;
}
.panel > .table:last-child > tbody:last-child > tr:last-child td:first-child,
.panel > .table-responsive:last-child > .table:last-child > tbody:last-child > tr:last-child td:first-child,
.panel > .table:last-child > tfoot:last-child > tr:last-child td:first-child,
.panel > .table-responsive:last-child > .table:last-child > tfoot:last-child > tr:last-child td:first-child,
.panel > .table:last-child > tbody:last-child > tr:last-child th:first-child,
.panel > .table-responsive:last-child > .table:last-child > tbody:last-child > tr:last-child th:first-child,
.panel > .table:last-child > tfoot:last-child > tr:last-child th:first-child,
.panel > .table-responsive:last-child > .table:last-child > tfoot:last-child > tr:last-child th:first-child {
  border-bottom-left-radius: 1px;
}
.panel > .table:last-child > tbody:last-child > tr:last-child td:last-child,
.panel > .table-responsive:last-child > .table:last-child > tbody:last-child > tr:last-child td:last-child,
.panel > .table:last-child > tfoot:last-child > tr:last-child td:last-child,
.panel > .table-responsive:last-child > .table:last-child > tfoot:last-child > tr:last-child td:last-child,
.panel > .table:last-child > tbody:last-child > tr:last-child th:last-child,
.panel > .table-responsive:last-child > .table:last-child > tbody:last-child > tr:last-child th:last-child,
.panel > .table:last-child > tfoot:last-child > tr:last-child th:last-child,
.panel > .table-responsive:last-child > .table:last-child > tfoot:last-child > tr:last-child th:last-child {
  border-bottom-right-radius: 1px;
}
.panel > .panel-body + .table,
.panel > .panel-body + .table-responsive,
.panel > .table + .panel-body,
.panel > .table-responsive + .panel-body {
  border-top: 1px solid #ddd;
}
.panel > .table > tbody:first-child > tr:first-child th,
.panel > .table > tbody:first-child > tr:first-child td {
  border-top: 0;
}
.panel > .table-bordered,
.panel > .table-responsive > .table-bordered {
  border: 0;
}
.panel > .table-bordered > thead > tr > th:first-child,
.panel > .table-responsive > .table-bordered > thead > tr > th:first-child,
.panel > .table-bordered > tbody > tr > th:first-child,
.panel > .table-responsive > .table-bordered > tbody > tr > th:first-child,
.panel > .table-bordered > tfoot > tr > th:first-child,
.panel > .table-responsive > .table-bordered > tfoot > tr > th:first-child,
.panel > .table-bordered > thead > tr > td:first-child,
.panel > .table-responsive > .table-bordered > thead > tr > td:first-child,
.panel > .table-bordered > tbody > tr > td:first-child,
.panel > .table-responsive > .table-bordered > tbody > tr > td:first-child,
.panel > .table-bordered > tfoot > tr > td:first-child,
.panel > .table-responsive > .table-bordered > tfoot > tr > td:first-child {
  border-left: 0;
}
.panel > .table-bordered > thead > tr > th:last-child,
.panel > .table-responsive > .table-bordered > thead > tr > th:last-child,
.panel > .table-bordered > tbody > tr > th:last-child,
.panel > .table-responsive > .table-bordered > tbody > tr > th:last-child,
.panel > .table-bordered > tfoot > tr > th:last-child,
.panel > .table-responsive > .table-bordered > tfoot > tr > th:last-child,
.panel > .table-bordered > thead > tr > td:last-child,
.panel > .table-responsive > .table-bordered > thead > tr > td:last-child,
.panel > .table-bordered > tbody > tr > td:last-child,
.panel > .table-responsive > .table-bordered > tbody > tr > td:last-child,
.panel > .table-bordered > tfoot > tr > td:last-child,
.panel > .table-responsive > .table-bordered > tfoot > tr > td:last-child {
  border-right: 0;
}
.panel > .table-bordered > thead > tr:first-child > td,
.panel > .table-responsive > .table-bordered > thead > tr:first-child > td,
.panel > .table-bordered > tbody > tr:first-child > td,
.panel > .table-responsive > .table-bordered > tbody > tr:first-child > td,
.panel > .table-bordered > thead > tr:first-child > th,
.panel > .table-responsive > .table-bordered > thead > tr:first-child > th,
.panel > .table-bordered > tbody > tr:first-child > th,
.panel > .table-responsive > .table-bordered > tbody > tr:first-child > th {
  border-bottom: 0;
}
.panel > .table-bordered > tbody > tr:last-child > td,
.panel > .table-responsive > .table-bordered > tbody > tr:last-child > td,
.panel > .table-bordered > tfoot > tr:last-child > td,
.panel > .table-responsive > .table-bordered > tfoot > tr:last-child > td,
.panel > .table-bordered > tbody > tr:last-child > th,
.panel > .table-responsive > .table-bordered > tbody > tr:last-child > th,
.panel > .table-bordered > tfoot > tr:last-child > th,
.panel > .table-responsive > .table-bordered > tfoot > tr:last-child > th {
  border-bottom: 0;
}
.panel > .table-responsive {
  border: 0;
  margin-bottom: 0;
}
.panel-group {
  margin-bottom: 18px;
}
.panel-group .panel {
  margin-bottom: 0;
  border-radius: 2px;
}
.panel-group .panel + .panel {
  margin-top: 5px;
}
.panel-group .panel-heading {
  border-bottom: 0;
}
.panel-group .panel-heading + .panel-collapse > .panel-body,
.panel-group .panel-heading + .panel-collapse > .list-group {
  border-top: 1px solid #ddd;
}
.panel-group .panel-footer {
  border-top: 0;
}
.panel-group .panel-footer + .panel-collapse .panel-body {
  border-bottom: 1px solid #ddd;
}
.panel-default {
  border-color: #ddd;
}
.panel-default > .panel-heading {
  color: #333333;
  background-color: #f5f5f5;
  border-color: #ddd;
}
.panel-default > .panel-heading + .panel-collapse > .panel-body {
  border-top-color: #ddd;
}
.panel-default > .panel-heading .badge {
  color: #f5f5f5;
  background-color: #333333;
}
.panel-default > .panel-footer + .panel-collapse > .panel-body {
  border-bottom-color: #ddd;
}
.panel-primary {
  border-color: #337ab7;
}
.panel-primary > .panel-heading {
  color: #fff;
  background-color: #337ab7;
  border-color: #337ab7;
}
.panel-primary > .panel-heading + .panel-collapse > .panel-body {
  border-top-color: #337ab7;
}
.panel-primary > .panel-heading .badge {
  color: #337ab7;
  background-color: #fff;
}
.panel-primary > .panel-footer + .panel-collapse > .panel-body {
  border-bottom-color: #337ab7;
}
.panel-success {
  border-color: #d6e9c6;
}
.panel-success > .panel-heading {
  color: #3c763d;
  background-color: #dff0d8;
  border-color: #d6e9c6;
}
.panel-success > .panel-heading + .panel-collapse > .panel-body {
  border-top-color: #d6e9c6;
}
.panel-success > .panel-heading .badge {
  color: #dff0d8;
  background-color: #3c763d;
}
.panel-success > .panel-footer + .panel-collapse > .panel-body {
  border-bottom-color: #d6e9c6;
}
.panel-info {
  border-color: #bce8f1;
}
.panel-info > .panel-heading {
  color: #31708f;
  background-color: #d9edf7;
  border-color: #bce8f1;
}
.panel-info > .panel-heading + .panel-collapse > .panel-body {
  border-top-color: #bce8f1;
}
.panel-info > .panel-heading .badge {
  color: #d9edf7;
  background-color: #31708f;
}
.panel-info > .panel-footer + .panel-collapse > .panel-body {
  border-bottom-color: #bce8f1;
}
.panel-warning {
  border-color: #faebcc;
}
.panel-warning > .panel-heading {
  color: #8a6d3b;
  background-color: #fcf8e3;
  border-color: #faebcc;
}
.panel-warning > .panel-heading + .panel-collapse > .panel-body {
  border-top-color: #faebcc;
}
.panel-warning > .panel-heading .badge {
  color: #fcf8e3;
  background-color: #8a6d3b;
}
.panel-warning > .panel-footer + .panel-collapse > .panel-body {
  border-bottom-color: #faebcc;
}
.panel-danger {
  border-color: #ebccd1;
}
.panel-danger > .panel-heading {
  color: #a94442;
  background-color: #f2dede;
  border-color: #ebccd1;
}
.panel-danger > .panel-heading + .panel-collapse > .panel-body {
  border-top-color: #ebccd1;
}
.panel-danger > .panel-heading .badge {
  color: #f2dede;
  background-color: #a94442;
}
.panel-danger > .panel-footer + .panel-collapse > .panel-body {
  border-bottom-color: #ebccd1;
}
.embed-responsive {
  position: relative;
  display: block;
  height: 0;
  padding: 0;
  overflow: hidden;
}
.embed-responsive .embed-responsive-item,
.embed-responsive iframe,
.embed-responsive embed,
.embed-responsive object,
.embed-responsive video {
  position: absolute;
  top: 0;
  left: 0;
  bottom: 0;
  height: 100%;
  width: 100%;
  border: 0;
}
.embed-responsive-16by9 {
  padding-bottom: 56.25%;
}
.embed-responsive-4by3 {
  padding-bottom: 75%;
}
.well {
  min-height: 20px;
  padding: 19px;
  margin-bottom: 20px;
  background-color: #f5f5f5;
  border: 1px solid #e3e3e3;
  border-radius: 2px;
  -webkit-box-shadow: inset 0 1px 1px rgba(0, 0, 0, 0.05);
  box-shadow: inset 0 1px 1px rgba(0, 0, 0, 0.05);
}
.well blockquote {
  border-color: #ddd;
  border-color: rgba(0, 0, 0, 0.15);
}
.well-lg {
  padding: 24px;
  border-radius: 3px;
}
.well-sm {
  padding: 9px;
  border-radius: 1px;
}
.close {
  float: right;
  font-size: 19.5px;
  font-weight: bold;
  line-height: 1;
  color: #000;
  text-shadow: 0 1px 0 #fff;
  opacity: 0.2;
  filter: alpha(opacity=20);
}
.close:hover,
.close:focus {
  color: #000;
  text-decoration: none;
  cursor: pointer;
  opacity: 0.5;
  filter: alpha(opacity=50);
}
button.close {
  padding: 0;
  cursor: pointer;
  background: transparent;
  border: 0;
  -webkit-appearance: none;
}
.modal-open {
  overflow: hidden;
}
.modal {
  display: none;
  overflow: hidden;
  position: fixed;
  top: 0;
  right: 0;
  bottom: 0;
  left: 0;
  z-index: 1050;
  -webkit-overflow-scrolling: touch;
  outline: 0;
}
.modal.fade .modal-dialog {
  -webkit-transform: translate(0, -25%);
  -ms-transform: translate(0, -25%);
  -o-transform: translate(0, -25%);
  transform: translate(0, -25%);
  -webkit-transition: -webkit-transform 0.3s ease-out;
  -moz-transition: -moz-transform 0.3s ease-out;
  -o-transition: -o-transform 0.3s ease-out;
  transition: transform 0.3s ease-out;
}
.modal.in .modal-dialog {
  -webkit-transform: translate(0, 0);
  -ms-transform: translate(0, 0);
  -o-transform: translate(0, 0);
  transform: translate(0, 0);
}
.modal-open .modal {
  overflow-x: hidden;
  overflow-y: auto;
}
.modal-dialog {
  position: relative;
  width: auto;
  margin: 10px;
}
.modal-content {
  position: relative;
  background-color: #fff;
  border: 1px solid #999;
  border: 1px solid rgba(0, 0, 0, 0.2);
  border-radius: 3px;
  -webkit-box-shadow: 0 3px 9px rgba(0, 0, 0, 0.5);
  box-shadow: 0 3px 9px rgba(0, 0, 0, 0.5);
  background-clip: padding-box;
  outline: 0;
}
.modal-backdrop {
  position: fixed;
  top: 0;
  right: 0;
  bottom: 0;
  left: 0;
  z-index: 1040;
  background-color: #000;
}
.modal-backdrop.fade {
  opacity: 0;
  filter: alpha(opacity=0);
}
.modal-backdrop.in {
  opacity: 0.5;
  filter: alpha(opacity=50);
}
.modal-header {
  padding: 15px;
  border-bottom: 1px solid #e5e5e5;
}
.modal-header .close {
  margin-top: -2px;
}
.modal-title {
  margin: 0;
  line-height: 1.42857143;
}
.modal-body {
  position: relative;
  padding: 15px;
}
.modal-footer {
  padding: 15px;
  text-align: right;
  border-top: 1px solid #e5e5e5;
}
.modal-footer .btn + .btn {
  margin-left: 5px;
  margin-bottom: 0;
}
.modal-footer .btn-group .btn + .btn {
  margin-left: -1px;
}
.modal-footer .btn-block + .btn-block {
  margin-left: 0;
}
.modal-scrollbar-measure {
  position: absolute;
  top: -9999px;
  width: 50px;
  height: 50px;
  overflow: scroll;
}
@media (min-width: 768px) {
  .modal-dialog {
    width: 600px;
    margin: 30px auto;
  }
  .modal-content {
    -webkit-box-shadow: 0 5px 15px rgba(0, 0, 0, 0.5);
    box-shadow: 0 5px 15px rgba(0, 0, 0, 0.5);
  }
  .modal-sm {
    width: 300px;
  }
}
@media (min-width: 992px) {
  .modal-lg {
    width: 900px;
  }
}
.tooltip {
  position: absolute;
  z-index: 1070;
  display: block;
  font-family: "Helvetica Neue", Helvetica, Arial, sans-serif;
  font-style: normal;
  font-weight: normal;
  letter-spacing: normal;
  line-break: auto;
  line-height: 1.42857143;
  text-align: left;
  text-align: start;
  text-decoration: none;
  text-shadow: none;
  text-transform: none;
  white-space: normal;
  word-break: normal;
  word-spacing: normal;
  word-wrap: normal;
  font-size: 12px;
  opacity: 0;
  filter: alpha(opacity=0);
}
.tooltip.in {
  opacity: 0.9;
  filter: alpha(opacity=90);
}
.tooltip.top {
  margin-top: -3px;
  padding: 5px 0;
}
.tooltip.right {
  margin-left: 3px;
  padding: 0 5px;
}
.tooltip.bottom {
  margin-top: 3px;
  padding: 5px 0;
}
.tooltip.left {
  margin-left: -3px;
  padding: 0 5px;
}
.tooltip-inner {
  max-width: 200px;
  padding: 3px 8px;
  color: #fff;
  text-align: center;
  background-color: #000;
  border-radius: 2px;
}
.tooltip-arrow {
  position: absolute;
  width: 0;
  height: 0;
  border-color: transparent;
  border-style: solid;
}
.tooltip.top .tooltip-arrow {
  bottom: 0;
  left: 50%;
  margin-left: -5px;
  border-width: 5px 5px 0;
  border-top-color: #000;
}
.tooltip.top-left .tooltip-arrow {
  bottom: 0;
  right: 5px;
  margin-bottom: -5px;
  border-width: 5px 5px 0;
  border-top-color: #000;
}
.tooltip.top-right .tooltip-arrow {
  bottom: 0;
  left: 5px;
  margin-bottom: -5px;
  border-width: 5px 5px 0;
  border-top-color: #000;
}
.tooltip.right .tooltip-arrow {
  top: 50%;
  left: 0;
  margin-top: -5px;
  border-width: 5px 5px 5px 0;
  border-right-color: #000;
}
.tooltip.left .tooltip-arrow {
  top: 50%;
  right: 0;
  margin-top: -5px;
  border-width: 5px 0 5px 5px;
  border-left-color: #000;
}
.tooltip.bottom .tooltip-arrow {
  top: 0;
  left: 50%;
  margin-left: -5px;
  border-width: 0 5px 5px;
  border-bottom-color: #000;
}
.tooltip.bottom-left .tooltip-arrow {
  top: 0;
  right: 5px;
  margin-top: -5px;
  border-width: 0 5px 5px;
  border-bottom-color: #000;
}
.tooltip.bottom-right .tooltip-arrow {
  top: 0;
  left: 5px;
  margin-top: -5px;
  border-width: 0 5px 5px;
  border-bottom-color: #000;
}
.popover {
  position: absolute;
  top: 0;
  left: 0;
  z-index: 1060;
  display: none;
  max-width: 276px;
  padding: 1px;
  font-family: "Helvetica Neue", Helvetica, Arial, sans-serif;
  font-style: normal;
  font-weight: normal;
  letter-spacing: normal;
  line-break: auto;
  line-height: 1.42857143;
  text-align: left;
  text-align: start;
  text-decoration: none;
  text-shadow: none;
  text-transform: none;
  white-space: normal;
  word-break: normal;
  word-spacing: normal;
  word-wrap: normal;
  font-size: 13px;
  background-color: #fff;
  background-clip: padding-box;
  border: 1px solid #ccc;
  border: 1px solid rgba(0, 0, 0, 0.2);
  border-radius: 3px;
  -webkit-box-shadow: 0 5px 10px rgba(0, 0, 0, 0.2);
  box-shadow: 0 5px 10px rgba(0, 0, 0, 0.2);
}
.popover.top {
  margin-top: -10px;
}
.popover.right {
  margin-left: 10px;
}
.popover.bottom {
  margin-top: 10px;
}
.popover.left {
  margin-left: -10px;
}
.popover-title {
  margin: 0;
  padding: 8px 14px;
  font-size: 13px;
  background-color: #f7f7f7;
  border-bottom: 1px solid #ebebeb;
  border-radius: 2px 2px 0 0;
}
.popover-content {
  padding: 9px 14px;
}
.popover > .arrow,
.popover > .arrow:after {
  position: absolute;
  display: block;
  width: 0;
  height: 0;
  border-color: transparent;
  border-style: solid;
}
.popover > .arrow {
  border-width: 11px;
}
.popover > .arrow:after {
  border-width: 10px;
  content: "";
}
.popover.top > .arrow {
  left: 50%;
  margin-left: -11px;
  border-bottom-width: 0;
  border-top-color: #999999;
  border-top-color: rgba(0, 0, 0, 0.25);
  bottom: -11px;
}
.popover.top > .arrow:after {
  content: " ";
  bottom: 1px;
  margin-left: -10px;
  border-bottom-width: 0;
  border-top-color: #fff;
}
.popover.right > .arrow {
  top: 50%;
  left: -11px;
  margin-top: -11px;
  border-left-width: 0;
  border-right-color: #999999;
  border-right-color: rgba(0, 0, 0, 0.25);
}
.popover.right > .arrow:after {
  content: " ";
  left: 1px;
  bottom: -10px;
  border-left-width: 0;
  border-right-color: #fff;
}
.popover.bottom > .arrow {
  left: 50%;
  margin-left: -11px;
  border-top-width: 0;
  border-bottom-color: #999999;
  border-bottom-color: rgba(0, 0, 0, 0.25);
  top: -11px;
}
.popover.bottom > .arrow:after {
  content: " ";
  top: 1px;
  margin-left: -10px;
  border-top-width: 0;
  border-bottom-color: #fff;
}
.popover.left > .arrow {
  top: 50%;
  right: -11px;
  margin-top: -11px;
  border-right-width: 0;
  border-left-color: #999999;
  border-left-color: rgba(0, 0, 0, 0.25);
}
.popover.left > .arrow:after {
  content: " ";
  right: 1px;
  border-right-width: 0;
  border-left-color: #fff;
  bottom: -10px;
}
.carousel {
  position: relative;
}
.carousel-inner {
  position: relative;
  overflow: hidden;
  width: 100%;
}
.carousel-inner > .item {
  display: none;
  position: relative;
  -webkit-transition: 0.6s ease-in-out left;
  -o-transition: 0.6s ease-in-out left;
  transition: 0.6s ease-in-out left;
}
.carousel-inner > .item > img,
.carousel-inner > .item > a > img {
  line-height: 1;
}
@media all and (transform-3d), (-webkit-transform-3d) {
  .carousel-inner > .item {
    -webkit-transition: -webkit-transform 0.6s ease-in-out;
    -moz-transition: -moz-transform 0.6s ease-in-out;
    -o-transition: -o-transform 0.6s ease-in-out;
    transition: transform 0.6s ease-in-out;
    -webkit-backface-visibility: hidden;
    -moz-backface-visibility: hidden;
    backface-visibility: hidden;
    -webkit-perspective: 1000px;
    -moz-perspective: 1000px;
    perspective: 1000px;
  }
  .carousel-inner > .item.next,
  .carousel-inner > .item.active.right {
    -webkit-transform: translate3d(100%, 0, 0);
    transform: translate3d(100%, 0, 0);
    left: 0;
  }
  .carousel-inner > .item.prev,
  .carousel-inner > .item.active.left {
    -webkit-transform: translate3d(-100%, 0, 0);
    transform: translate3d(-100%, 0, 0);
    left: 0;
  }
  .carousel-inner > .item.next.left,
  .carousel-inner > .item.prev.right,
  .carousel-inner > .item.active {
    -webkit-transform: translate3d(0, 0, 0);
    transform: translate3d(0, 0, 0);
    left: 0;
  }
}
.carousel-inner > .active,
.carousel-inner > .next,
.carousel-inner > .prev {
  display: block;
}
.carousel-inner > .active {
  left: 0;
}
.carousel-inner > .next,
.carousel-inner > .prev {
  position: absolute;
  top: 0;
  width: 100%;
}
.carousel-inner > .next {
  left: 100%;
}
.carousel-inner > .prev {
  left: -100%;
}
.carousel-inner > .next.left,
.carousel-inner > .prev.right {
  left: 0;
}
.carousel-inner > .active.left {
  left: -100%;
}
.carousel-inner > .active.right {
  left: 100%;
}
.carousel-control {
  position: absolute;
  top: 0;
  left: 0;
  bottom: 0;
  width: 15%;
  opacity: 0.5;
  filter: alpha(opacity=50);
  font-size: 20px;
  color: #fff;
  text-align: center;
  text-shadow: 0 1px 2px rgba(0, 0, 0, 0.6);
  background-color: rgba(0, 0, 0, 0);
}
.carousel-control.left {
  background-image: -webkit-linear-gradient(left, rgba(0, 0, 0, 0.5) 0%, rgba(0, 0, 0, 0.0001) 100%);
  background-image: -o-linear-gradient(left, rgba(0, 0, 0, 0.5) 0%, rgba(0, 0, 0, 0.0001) 100%);
  background-image: linear-gradient(to right, rgba(0, 0, 0, 0.5) 0%, rgba(0, 0, 0, 0.0001) 100%);
  background-repeat: repeat-x;
  filter: progid:DXImageTransform.Microsoft.gradient(startColorstr='#80000000', endColorstr='#00000000', GradientType=1);
}
.carousel-control.right {
  left: auto;
  right: 0;
  background-image: -webkit-linear-gradient(left, rgba(0, 0, 0, 0.0001) 0%, rgba(0, 0, 0, 0.5) 100%);
  background-image: -o-linear-gradient(left, rgba(0, 0, 0, 0.0001) 0%, rgba(0, 0, 0, 0.5) 100%);
  background-image: linear-gradient(to right, rgba(0, 0, 0, 0.0001) 0%, rgba(0, 0, 0, 0.5) 100%);
  background-repeat: repeat-x;
  filter: progid:DXImageTransform.Microsoft.gradient(startColorstr='#00000000', endColorstr='#80000000', GradientType=1);
}
.carousel-control:hover,
.carousel-control:focus {
  outline: 0;
  color: #fff;
  text-decoration: none;
  opacity: 0.9;
  filter: alpha(opacity=90);
}
.carousel-control .icon-prev,
.carousel-control .icon-next,
.carousel-control .glyphicon-chevron-left,
.carousel-control .glyphicon-chevron-right {
  position: absolute;
  top: 50%;
  margin-top: -10px;
  z-index: 5;
  display: inline-block;
}
.carousel-control .icon-prev,
.carousel-control .glyphicon-chevron-left {
  left: 50%;
  margin-left: -10px;
}
.carousel-control .icon-next,
.carousel-control .glyphicon-chevron-right {
  right: 50%;
  margin-right: -10px;
}
.carousel-control .icon-prev,
.carousel-control .icon-next {
  width: 20px;
  height: 20px;
  line-height: 1;
  font-family: serif;
}
.carousel-control .icon-prev:before {
  content: '\2039';
}
.carousel-control .icon-next:before {
  content: '\203a';
}
.carousel-indicators {
  position: absolute;
  bottom: 10px;
  left: 50%;
  z-index: 15;
  width: 60%;
  margin-left: -30%;
  padding-left: 0;
  list-style: none;
  text-align: center;
}
.carousel-indicators li {
  display: inline-block;
  width: 10px;
  height: 10px;
  margin: 1px;
  text-indent: -999px;
  border: 1px solid #fff;
  border-radius: 10px;
  cursor: pointer;
  background-color: #000 \9;
  background-color: rgba(0, 0, 0, 0);
}
.carousel-indicators .active {
  margin: 0;
  width: 12px;
  height: 12px;
  background-color: #fff;
}
.carousel-caption {
  position: absolute;
  left: 15%;
  right: 15%;
  bottom: 20px;
  z-index: 10;
  padding-top: 20px;
  padding-bottom: 20px;
  color: #fff;
  text-align: center;
  text-shadow: 0 1px 2px rgba(0, 0, 0, 0.6);
}
.carousel-caption .btn {
  text-shadow: none;
}
@media screen and (min-width: 768px) {
  .carousel-control .glyphicon-chevron-left,
  .carousel-control .glyphicon-chevron-right,
  .carousel-control .icon-prev,
  .carousel-control .icon-next {
    width: 30px;
    height: 30px;
    margin-top: -10px;
    font-size: 30px;
  }
  .carousel-control .glyphicon-chevron-left,
  .carousel-control .icon-prev {
    margin-left: -10px;
  }
  .carousel-control .glyphicon-chevron-right,
  .carousel-control .icon-next {
    margin-right: -10px;
  }
  .carousel-caption {
    left: 20%;
    right: 20%;
    padding-bottom: 30px;
  }
  .carousel-indicators {
    bottom: 20px;
  }
}
.clearfix:before,
.clearfix:after,
.dl-horizontal dd:before,
.dl-horizontal dd:after,
.container:before,
.container:after,
.container-fluid:before,
.container-fluid:after,
.row:before,
.row:after,
.form-horizontal .form-group:before,
.form-horizontal .form-group:after,
.btn-toolbar:before,
.btn-toolbar:after,
.btn-group-vertical > .btn-group:before,
.btn-group-vertical > .btn-group:after,
.nav:before,
.nav:after,
.navbar:before,
.navbar:after,
.navbar-header:before,
.navbar-header:after,
.navbar-collapse:before,
.navbar-collapse:after,
.pager:before,
.pager:after,
.panel-body:before,
.panel-body:after,
.modal-header:before,
.modal-header:after,
.modal-footer:before,
.modal-footer:after,
.item_buttons:before,
.item_buttons:after {
  content: " ";
  display: table;
}
.clearfix:after,
.dl-horizontal dd:after,
.container:after,
.container-fluid:after,
.row:after,
.form-horizontal .form-group:after,
.btn-toolbar:after,
.btn-group-vertical > .btn-group:after,
.nav:after,
.navbar:after,
.navbar-header:after,
.navbar-collapse:after,
.pager:after,
.panel-body:after,
.modal-header:after,
.modal-footer:after,
.item_buttons:after {
  clear: both;
}
.center-block {
  display: block;
  margin-left: auto;
  margin-right: auto;
}
.pull-right {
  float: right !important;
}
.pull-left {
  float: left !important;
}
.hide {
  display: none !important;
}
.show {
  display: block !important;
}
.invisible {
  visibility: hidden;
}
.text-hide {
  font: 0/0 a;
  color: transparent;
  text-shadow: none;
  background-color: transparent;
  border: 0;
}
.hidden {
  display: none !important;
}
.affix {
  position: fixed;
}
@-ms-viewport {
  width: device-width;
}
.visible-xs,
.visible-sm,
.visible-md,
.visible-lg {
  display: none !important;
}
.visible-xs-block,
.visible-xs-inline,
.visible-xs-inline-block,
.visible-sm-block,
.visible-sm-inline,
.visible-sm-inline-block,
.visible-md-block,
.visible-md-inline,
.visible-md-inline-block,
.visible-lg-block,
.visible-lg-inline,
.visible-lg-inline-block {
  display: none !important;
}
@media (max-width: 767px) {
  .visible-xs {
    display: block !important;
  }
  table.visible-xs {
    display: table !important;
  }
  tr.visible-xs {
    display: table-row !important;
  }
  th.visible-xs,
  td.visible-xs {
    display: table-cell !important;
  }
}
@media (max-width: 767px) {
  .visible-xs-block {
    display: block !important;
  }
}
@media (max-width: 767px) {
  .visible-xs-inline {
    display: inline !important;
  }
}
@media (max-width: 767px) {
  .visible-xs-inline-block {
    display: inline-block !important;
  }
}
@media (min-width: 768px) and (max-width: 991px) {
  .visible-sm {
    display: block !important;
  }
  table.visible-sm {
    display: table !important;
  }
  tr.visible-sm {
    display: table-row !important;
  }
  th.visible-sm,
  td.visible-sm {
    display: table-cell !important;
  }
}
@media (min-width: 768px) and (max-width: 991px) {
  .visible-sm-block {
    display: block !important;
  }
}
@media (min-width: 768px) and (max-width: 991px) {
  .visible-sm-inline {
    display: inline !important;
  }
}
@media (min-width: 768px) and (max-width: 991px) {
  .visible-sm-inline-block {
    display: inline-block !important;
  }
}
@media (min-width: 992px) and (max-width: 1199px) {
  .visible-md {
    display: block !important;
  }
  table.visible-md {
    display: table !important;
  }
  tr.visible-md {
    display: table-row !important;
  }
  th.visible-md,
  td.visible-md {
    display: table-cell !important;
  }
}
@media (min-width: 992px) and (max-width: 1199px) {
  .visible-md-block {
    display: block !important;
  }
}
@media (min-width: 992px) and (max-width: 1199px) {
  .visible-md-inline {
    display: inline !important;
  }
}
@media (min-width: 992px) and (max-width: 1199px) {
  .visible-md-inline-block {
    display: inline-block !important;
  }
}
@media (min-width: 1200px) {
  .visible-lg {
    display: block !important;
  }
  table.visible-lg {
    display: table !important;
  }
  tr.visible-lg {
    display: table-row !important;
  }
  th.visible-lg,
  td.visible-lg {
    display: table-cell !important;
  }
}
@media (min-width: 1200px) {
  .visible-lg-block {
    display: block !important;
  }
}
@media (min-width: 1200px) {
  .visible-lg-inline {
    display: inline !important;
  }
}
@media (min-width: 1200px) {
  .visible-lg-inline-block {
    display: inline-block !important;
  }
}
@media (max-width: 767px) {
  .hidden-xs {
    display: none !important;
  }
}
@media (min-width: 768px) and (max-width: 991px) {
  .hidden-sm {
    display: none !important;
  }
}
@media (min-width: 992px) and (max-width: 1199px) {
  .hidden-md {
    display: none !important;
  }
}
@media (min-width: 1200px) {
  .hidden-lg {
    display: none !important;
  }
}
.visible-print {
  display: none !important;
}
@media print {
  .visible-print {
    display: block !important;
  }
  table.visible-print {
    display: table !important;
  }
  tr.visible-print {
    display: table-row !important;
  }
  th.visible-print,
  td.visible-print {
    display: table-cell !important;
  }
}
.visible-print-block {
  display: none !important;
}
@media print {
  .visible-print-block {
    display: block !important;
  }
}
.visible-print-inline {
  display: none !important;
}
@media print {
  .visible-print-inline {
    display: inline !important;
  }
}
.visible-print-inline-block {
  display: none !important;
}
@media print {
  .visible-print-inline-block {
    display: inline-block !important;
  }
}
@media print {
  .hidden-print {
    display: none !important;
  }
}
/*!
*
* Font Awesome
*
*/
/*!
 *  Font Awesome 4.2.0 by @davegandy - http://fontawesome.io - @fontawesome
 *  License - http://fontawesome.io/license (Font: SIL OFL 1.1, CSS: MIT License)
 */
/* FONT PATH
 * -------------------------- */
@font-face {
  font-family: 'FontAwesome';
  src: url('../components/font-awesome/fonts/fontawesome-webfont.eot?v=4.2.0');
  src: url('../components/font-awesome/fonts/fontawesome-webfont.eot?#iefix&v=4.2.0') format('embedded-opentype'), url('../components/font-awesome/fonts/fontawesome-webfont.woff?v=4.2.0') format('woff'), url('../components/font-awesome/fonts/fontawesome-webfont.ttf?v=4.2.0') format('truetype'), url('../components/font-awesome/fonts/fontawesome-webfont.svg?v=4.2.0#fontawesomeregular') format('svg');
  font-weight: normal;
  font-style: normal;
}
.fa {
  display: inline-block;
  font: normal normal normal 14px/1 FontAwesome;
  font-size: inherit;
  text-rendering: auto;
  -webkit-font-smoothing: antialiased;
  -moz-osx-font-smoothing: grayscale;
}
/* makes the font 33% larger relative to the icon container */
.fa-lg {
  font-size: 1.33333333em;
  line-height: 0.75em;
  vertical-align: -15%;
}
.fa-2x {
  font-size: 2em;
}
.fa-3x {
  font-size: 3em;
}
.fa-4x {
  font-size: 4em;
}
.fa-5x {
  font-size: 5em;
}
.fa-fw {
  width: 1.28571429em;
  text-align: center;
}
.fa-ul {
  padding-left: 0;
  margin-left: 2.14285714em;
  list-style-type: none;
}
.fa-ul > li {
  position: relative;
}
.fa-li {
  position: absolute;
  left: -2.14285714em;
  width: 2.14285714em;
  top: 0.14285714em;
  text-align: center;
}
.fa-li.fa-lg {
  left: -1.85714286em;
}
.fa-border {
  padding: .2em .25em .15em;
  border: solid 0.08em #eee;
  border-radius: .1em;
}
.pull-right {
  float: right;
}
.pull-left {
  float: left;
}
.fa.pull-left {
  margin-right: .3em;
}
.fa.pull-right {
  margin-left: .3em;
}
.fa-spin {
  -webkit-animation: fa-spin 2s infinite linear;
  animation: fa-spin 2s infinite linear;
}
@-webkit-keyframes fa-spin {
  0% {
    -webkit-transform: rotate(0deg);
    transform: rotate(0deg);
  }
  100% {
    -webkit-transform: rotate(359deg);
    transform: rotate(359deg);
  }
}
@keyframes fa-spin {
  0% {
    -webkit-transform: rotate(0deg);
    transform: rotate(0deg);
  }
  100% {
    -webkit-transform: rotate(359deg);
    transform: rotate(359deg);
  }
}
.fa-rotate-90 {
  filter: progid:DXImageTransform.Microsoft.BasicImage(rotation=1);
  -webkit-transform: rotate(90deg);
  -ms-transform: rotate(90deg);
  transform: rotate(90deg);
}
.fa-rotate-180 {
  filter: progid:DXImageTransform.Microsoft.BasicImage(rotation=2);
  -webkit-transform: rotate(180deg);
  -ms-transform: rotate(180deg);
  transform: rotate(180deg);
}
.fa-rotate-270 {
  filter: progid:DXImageTransform.Microsoft.BasicImage(rotation=3);
  -webkit-transform: rotate(270deg);
  -ms-transform: rotate(270deg);
  transform: rotate(270deg);
}
.fa-flip-horizontal {
  filter: progid:DXImageTransform.Microsoft.BasicImage(rotation=0, mirror=1);
  -webkit-transform: scale(-1, 1);
  -ms-transform: scale(-1, 1);
  transform: scale(-1, 1);
}
.fa-flip-vertical {
  filter: progid:DXImageTransform.Microsoft.BasicImage(rotation=2, mirror=1);
  -webkit-transform: scale(1, -1);
  -ms-transform: scale(1, -1);
  transform: scale(1, -1);
}
:root .fa-rotate-90,
:root .fa-rotate-180,
:root .fa-rotate-270,
:root .fa-flip-horizontal,
:root .fa-flip-vertical {
  filter: none;
}
.fa-stack {
  position: relative;
  display: inline-block;
  width: 2em;
  height: 2em;
  line-height: 2em;
  vertical-align: middle;
}
.fa-stack-1x,
.fa-stack-2x {
  position: absolute;
  left: 0;
  width: 100%;
  text-align: center;
}
.fa-stack-1x {
  line-height: inherit;
}
.fa-stack-2x {
  font-size: 2em;
}
.fa-inverse {
  color: #fff;
}
/* Font Awesome uses the Unicode Private Use Area (PUA) to ensure screen
   readers do not read off random characters that represent icons */
.fa-glass:before {
  content: "\f000";
}
.fa-music:before {
  content: "\f001";
}
.fa-search:before {
  content: "\f002";
}
.fa-envelope-o:before {
  content: "\f003";
}
.fa-heart:before {
  content: "\f004";
}
.fa-star:before {
  content: "\f005";
}
.fa-star-o:before {
  content: "\f006";
}
.fa-user:before {
  content: "\f007";
}
.fa-film:before {
  content: "\f008";
}
.fa-th-large:before {
  content: "\f009";
}
.fa-th:before {
  content: "\f00a";
}
.fa-th-list:before {
  content: "\f00b";
}
.fa-check:before {
  content: "\f00c";
}
.fa-remove:before,
.fa-close:before,
.fa-times:before {
  content: "\f00d";
}
.fa-search-plus:before {
  content: "\f00e";
}
.fa-search-minus:before {
  content: "\f010";
}
.fa-power-off:before {
  content: "\f011";
}
.fa-signal:before {
  content: "\f012";
}
.fa-gear:before,
.fa-cog:before {
  content: "\f013";
}
.fa-trash-o:before {
  content: "\f014";
}
.fa-home:before {
  content: "\f015";
}
.fa-file-o:before {
  content: "\f016";
}
.fa-clock-o:before {
  content: "\f017";
}
.fa-road:before {
  content: "\f018";
}
.fa-download:before {
  content: "\f019";
}
.fa-arrow-circle-o-down:before {
  content: "\f01a";
}
.fa-arrow-circle-o-up:before {
  content: "\f01b";
}
.fa-inbox:before {
  content: "\f01c";
}
.fa-play-circle-o:before {
  content: "\f01d";
}
.fa-rotate-right:before,
.fa-repeat:before {
  content: "\f01e";
}
.fa-refresh:before {
  content: "\f021";
}
.fa-list-alt:before {
  content: "\f022";
}
.fa-lock:before {
  content: "\f023";
}
.fa-flag:before {
  content: "\f024";
}
.fa-headphones:before {
  content: "\f025";
}
.fa-volume-off:before {
  content: "\f026";
}
.fa-volume-down:before {
  content: "\f027";
}
.fa-volume-up:before {
  content: "\f028";
}
.fa-qrcode:before {
  content: "\f029";
}
.fa-barcode:before {
  content: "\f02a";
}
.fa-tag:before {
  content: "\f02b";
}
.fa-tags:before {
  content: "\f02c";
}
.fa-book:before {
  content: "\f02d";
}
.fa-bookmark:before {
  content: "\f02e";
}
.fa-print:before {
  content: "\f02f";
}
.fa-camera:before {
  content: "\f030";
}
.fa-font:before {
  content: "\f031";
}
.fa-bold:before {
  content: "\f032";
}
.fa-italic:before {
  content: "\f033";
}
.fa-text-height:before {
  content: "\f034";
}
.fa-text-width:before {
  content: "\f035";
}
.fa-align-left:before {
  content: "\f036";
}
.fa-align-center:before {
  content: "\f037";
}
.fa-align-right:before {
  content: "\f038";
}
.fa-align-justify:before {
  content: "\f039";
}
.fa-list:before {
  content: "\f03a";
}
.fa-dedent:before,
.fa-outdent:before {
  content: "\f03b";
}
.fa-indent:before {
  content: "\f03c";
}
.fa-video-camera:before {
  content: "\f03d";
}
.fa-photo:before,
.fa-image:before,
.fa-picture-o:before {
  content: "\f03e";
}
.fa-pencil:before {
  content: "\f040";
}
.fa-map-marker:before {
  content: "\f041";
}
.fa-adjust:before {
  content: "\f042";
}
.fa-tint:before {
  content: "\f043";
}
.fa-edit:before,
.fa-pencil-square-o:before {
  content: "\f044";
}
.fa-share-square-o:before {
  content: "\f045";
}
.fa-check-square-o:before {
  content: "\f046";
}
.fa-arrows:before {
  content: "\f047";
}
.fa-step-backward:before {
  content: "\f048";
}
.fa-fast-backward:before {
  content: "\f049";
}
.fa-backward:before {
  content: "\f04a";
}
.fa-play:before {
  content: "\f04b";
}
.fa-pause:before {
  content: "\f04c";
}
.fa-stop:before {
  content: "\f04d";
}
.fa-forward:before {
  content: "\f04e";
}
.fa-fast-forward:before {
  content: "\f050";
}
.fa-step-forward:before {
  content: "\f051";
}
.fa-eject:before {
  content: "\f052";
}
.fa-chevron-left:before {
  content: "\f053";
}
.fa-chevron-right:before {
  content: "\f054";
}
.fa-plus-circle:before {
  content: "\f055";
}
.fa-minus-circle:before {
  content: "\f056";
}
.fa-times-circle:before {
  content: "\f057";
}
.fa-check-circle:before {
  content: "\f058";
}
.fa-question-circle:before {
  content: "\f059";
}
.fa-info-circle:before {
  content: "\f05a";
}
.fa-crosshairs:before {
  content: "\f05b";
}
.fa-times-circle-o:before {
  content: "\f05c";
}
.fa-check-circle-o:before {
  content: "\f05d";
}
.fa-ban:before {
  content: "\f05e";
}
.fa-arrow-left:before {
  content: "\f060";
}
.fa-arrow-right:before {
  content: "\f061";
}
.fa-arrow-up:before {
  content: "\f062";
}
.fa-arrow-down:before {
  content: "\f063";
}
.fa-mail-forward:before,
.fa-share:before {
  content: "\f064";
}
.fa-expand:before {
  content: "\f065";
}
.fa-compress:before {
  content: "\f066";
}
.fa-plus:before {
  content: "\f067";
}
.fa-minus:before {
  content: "\f068";
}
.fa-asterisk:before {
  content: "\f069";
}
.fa-exclamation-circle:before {
  content: "\f06a";
}
.fa-gift:before {
  content: "\f06b";
}
.fa-leaf:before {
  content: "\f06c";
}
.fa-fire:before {
  content: "\f06d";
}
.fa-eye:before {
  content: "\f06e";
}
.fa-eye-slash:before {
  content: "\f070";
}
.fa-warning:before,
.fa-exclamation-triangle:before {
  content: "\f071";
}
.fa-plane:before {
  content: "\f072";
}
.fa-calendar:before {
  content: "\f073";
}
.fa-random:before {
  content: "\f074";
}
.fa-comment:before {
  content: "\f075";
}
.fa-magnet:before {
  content: "\f076";
}
.fa-chevron-up:before {
  content: "\f077";
}
.fa-chevron-down:before {
  content: "\f078";
}
.fa-retweet:before {
  content: "\f079";
}
.fa-shopping-cart:before {
  content: "\f07a";
}
.fa-folder:before {
  content: "\f07b";
}
.fa-folder-open:before {
  content: "\f07c";
}
.fa-arrows-v:before {
  content: "\f07d";
}
.fa-arrows-h:before {
  content: "\f07e";
}
.fa-bar-chart-o:before,
.fa-bar-chart:before {
  content: "\f080";
}
.fa-twitter-square:before {
  content: "\f081";
}
.fa-facebook-square:before {
  content: "\f082";
}
.fa-camera-retro:before {
  content: "\f083";
}
.fa-key:before {
  content: "\f084";
}
.fa-gears:before,
.fa-cogs:before {
  content: "\f085";
}
.fa-comments:before {
  content: "\f086";
}
.fa-thumbs-o-up:before {
  content: "\f087";
}
.fa-thumbs-o-down:before {
  content: "\f088";
}
.fa-star-half:before {
  content: "\f089";
}
.fa-heart-o:before {
  content: "\f08a";
}
.fa-sign-out:before {
  content: "\f08b";
}
.fa-linkedin-square:before {
  content: "\f08c";
}
.fa-thumb-tack:before {
  content: "\f08d";
}
.fa-external-link:before {
  content: "\f08e";
}
.fa-sign-in:before {
  content: "\f090";
}
.fa-trophy:before {
  content: "\f091";
}
.fa-github-square:before {
  content: "\f092";
}
.fa-upload:before {
  content: "\f093";
}
.fa-lemon-o:before {
  content: "\f094";
}
.fa-phone:before {
  content: "\f095";
}
.fa-square-o:before {
  content: "\f096";
}
.fa-bookmark-o:before {
  content: "\f097";
}
.fa-phone-square:before {
  content: "\f098";
}
.fa-twitter:before {
  content: "\f099";
}
.fa-facebook:before {
  content: "\f09a";
}
.fa-github:before {
  content: "\f09b";
}
.fa-unlock:before {
  content: "\f09c";
}
.fa-credit-card:before {
  content: "\f09d";
}
.fa-rss:before {
  content: "\f09e";
}
.fa-hdd-o:before {
  content: "\f0a0";
}
.fa-bullhorn:before {
  content: "\f0a1";
}
.fa-bell:before {
  content: "\f0f3";
}
.fa-certificate:before {
  content: "\f0a3";
}
.fa-hand-o-right:before {
  content: "\f0a4";
}
.fa-hand-o-left:before {
  content: "\f0a5";
}
.fa-hand-o-up:before {
  content: "\f0a6";
}
.fa-hand-o-down:before {
  content: "\f0a7";
}
.fa-arrow-circle-left:before {
  content: "\f0a8";
}
.fa-arrow-circle-right:before {
  content: "\f0a9";
}
.fa-arrow-circle-up:before {
  content: "\f0aa";
}
.fa-arrow-circle-down:before {
  content: "\f0ab";
}
.fa-globe:before {
  content: "\f0ac";
}
.fa-wrench:before {
  content: "\f0ad";
}
.fa-tasks:before {
  content: "\f0ae";
}
.fa-filter:before {
  content: "\f0b0";
}
.fa-briefcase:before {
  content: "\f0b1";
}
.fa-arrows-alt:before {
  content: "\f0b2";
}
.fa-group:before,
.fa-users:before {
  content: "\f0c0";
}
.fa-chain:before,
.fa-link:before {
  content: "\f0c1";
}
.fa-cloud:before {
  content: "\f0c2";
}
.fa-flask:before {
  content: "\f0c3";
}
.fa-cut:before,
.fa-scissors:before {
  content: "\f0c4";
}
.fa-copy:before,
.fa-files-o:before {
  content: "\f0c5";
}
.fa-paperclip:before {
  content: "\f0c6";
}
.fa-save:before,
.fa-floppy-o:before {
  content: "\f0c7";
}
.fa-square:before {
  content: "\f0c8";
}
.fa-navicon:before,
.fa-reorder:before,
.fa-bars:before {
  content: "\f0c9";
}
.fa-list-ul:before {
  content: "\f0ca";
}
.fa-list-ol:before {
  content: "\f0cb";
}
.fa-strikethrough:before {
  content: "\f0cc";
}
.fa-underline:before {
  content: "\f0cd";
}
.fa-table:before {
  content: "\f0ce";
}
.fa-magic:before {
  content: "\f0d0";
}
.fa-truck:before {
  content: "\f0d1";
}
.fa-pinterest:before {
  content: "\f0d2";
}
.fa-pinterest-square:before {
  content: "\f0d3";
}
.fa-google-plus-square:before {
  content: "\f0d4";
}
.fa-google-plus:before {
  content: "\f0d5";
}
.fa-money:before {
  content: "\f0d6";
}
.fa-caret-down:before {
  content: "\f0d7";
}
.fa-caret-up:before {
  content: "\f0d8";
}
.fa-caret-left:before {
  content: "\f0d9";
}
.fa-caret-right:before {
  content: "\f0da";
}
.fa-columns:before {
  content: "\f0db";
}
.fa-unsorted:before,
.fa-sort:before {
  content: "\f0dc";
}
.fa-sort-down:before,
.fa-sort-desc:before {
  content: "\f0dd";
}
.fa-sort-up:before,
.fa-sort-asc:before {
  content: "\f0de";
}
.fa-envelope:before {
  content: "\f0e0";
}
.fa-linkedin:before {
  content: "\f0e1";
}
.fa-rotate-left:before,
.fa-undo:before {
  content: "\f0e2";
}
.fa-legal:before,
.fa-gavel:before {
  content: "\f0e3";
}
.fa-dashboard:before,
.fa-tachometer:before {
  content: "\f0e4";
}
.fa-comment-o:before {
  content: "\f0e5";
}
.fa-comments-o:before {
  content: "\f0e6";
}
.fa-flash:before,
.fa-bolt:before {
  content: "\f0e7";
}
.fa-sitemap:before {
  content: "\f0e8";
}
.fa-umbrella:before {
  content: "\f0e9";
}
.fa-paste:before,
.fa-clipboard:before {
  content: "\f0ea";
}
.fa-lightbulb-o:before {
  content: "\f0eb";
}
.fa-exchange:before {
  content: "\f0ec";
}
.fa-cloud-download:before {
  content: "\f0ed";
}
.fa-cloud-upload:before {
  content: "\f0ee";
}
.fa-user-md:before {
  content: "\f0f0";
}
.fa-stethoscope:before {
  content: "\f0f1";
}
.fa-suitcase:before {
  content: "\f0f2";
}
.fa-bell-o:before {
  content: "\f0a2";
}
.fa-coffee:before {
  content: "\f0f4";
}
.fa-cutlery:before {
  content: "\f0f5";
}
.fa-file-text-o:before {
  content: "\f0f6";
}
.fa-building-o:before {
  content: "\f0f7";
}
.fa-hospital-o:before {
  content: "\f0f8";
}
.fa-ambulance:before {
  content: "\f0f9";
}
.fa-medkit:before {
  content: "\f0fa";
}
.fa-fighter-jet:before {
  content: "\f0fb";
}
.fa-beer:before {
  content: "\f0fc";
}
.fa-h-square:before {
  content: "\f0fd";
}
.fa-plus-square:before {
  content: "\f0fe";
}
.fa-angle-double-left:before {
  content: "\f100";
}
.fa-angle-double-right:before {
  content: "\f101";
}
.fa-angle-double-up:before {
  content: "\f102";
}
.fa-angle-double-down:before {
  content: "\f103";
}
.fa-angle-left:before {
  content: "\f104";
}
.fa-angle-right:before {
  content: "\f105";
}
.fa-angle-up:before {
  content: "\f106";
}
.fa-angle-down:before {
  content: "\f107";
}
.fa-desktop:before {
  content: "\f108";
}
.fa-laptop:before {
  content: "\f109";
}
.fa-tablet:before {
  content: "\f10a";
}
.fa-mobile-phone:before,
.fa-mobile:before {
  content: "\f10b";
}
.fa-circle-o:before {
  content: "\f10c";
}
.fa-quote-left:before {
  content: "\f10d";
}
.fa-quote-right:before {
  content: "\f10e";
}
.fa-spinner:before {
  content: "\f110";
}
.fa-circle:before {
  content: "\f111";
}
.fa-mail-reply:before,
.fa-reply:before {
  content: "\f112";
}
.fa-github-alt:before {
  content: "\f113";
}
.fa-folder-o:before {
  content: "\f114";
}
.fa-folder-open-o:before {
  content: "\f115";
}
.fa-smile-o:before {
  content: "\f118";
}
.fa-frown-o:before {
  content: "\f119";
}
.fa-meh-o:before {
  content: "\f11a";
}
.fa-gamepad:before {
  content: "\f11b";
}
.fa-keyboard-o:before {
  content: "\f11c";
}
.fa-flag-o:before {
  content: "\f11d";
}
.fa-flag-checkered:before {
  content: "\f11e";
}
.fa-terminal:before {
  content: "\f120";
}
.fa-code:before {
  content: "\f121";
}
.fa-mail-reply-all:before,
.fa-reply-all:before {
  content: "\f122";
}
.fa-star-half-empty:before,
.fa-star-half-full:before,
.fa-star-half-o:before {
  content: "\f123";
}
.fa-location-arrow:before {
  content: "\f124";
}
.fa-crop:before {
  content: "\f125";
}
.fa-code-fork:before {
  content: "\f126";
}
.fa-unlink:before,
.fa-chain-broken:before {
  content: "\f127";
}
.fa-question:before {
  content: "\f128";
}
.fa-info:before {
  content: "\f129";
}
.fa-exclamation:before {
  content: "\f12a";
}
.fa-superscript:before {
  content: "\f12b";
}
.fa-subscript:before {
  content: "\f12c";
}
.fa-eraser:before {
  content: "\f12d";
}
.fa-puzzle-piece:before {
  content: "\f12e";
}
.fa-microphone:before {
  content: "\f130";
}
.fa-microphone-slash:before {
  content: "\f131";
}
.fa-shield:before {
  content: "\f132";
}
.fa-calendar-o:before {
  content: "\f133";
}
.fa-fire-extinguisher:before {
  content: "\f134";
}
.fa-rocket:before {
  content: "\f135";
}
.fa-maxcdn:before {
  content: "\f136";
}
.fa-chevron-circle-left:before {
  content: "\f137";
}
.fa-chevron-circle-right:before {
  content: "\f138";
}
.fa-chevron-circle-up:before {
  content: "\f139";
}
.fa-chevron-circle-down:before {
  content: "\f13a";
}
.fa-html5:before {
  content: "\f13b";
}
.fa-css3:before {
  content: "\f13c";
}
.fa-anchor:before {
  content: "\f13d";
}
.fa-unlock-alt:before {
  content: "\f13e";
}
.fa-bullseye:before {
  content: "\f140";
}
.fa-ellipsis-h:before {
  content: "\f141";
}
.fa-ellipsis-v:before {
  content: "\f142";
}
.fa-rss-square:before {
  content: "\f143";
}
.fa-play-circle:before {
  content: "\f144";
}
.fa-ticket:before {
  content: "\f145";
}
.fa-minus-square:before {
  content: "\f146";
}
.fa-minus-square-o:before {
  content: "\f147";
}
.fa-level-up:before {
  content: "\f148";
}
.fa-level-down:before {
  content: "\f149";
}
.fa-check-square:before {
  content: "\f14a";
}
.fa-pencil-square:before {
  content: "\f14b";
}
.fa-external-link-square:before {
  content: "\f14c";
}
.fa-share-square:before {
  content: "\f14d";
}
.fa-compass:before {
  content: "\f14e";
}
.fa-toggle-down:before,
.fa-caret-square-o-down:before {
  content: "\f150";
}
.fa-toggle-up:before,
.fa-caret-square-o-up:before {
  content: "\f151";
}
.fa-toggle-right:before,
.fa-caret-square-o-right:before {
  content: "\f152";
}
.fa-euro:before,
.fa-eur:before {
  content: "\f153";
}
.fa-gbp:before {
  content: "\f154";
}
.fa-dollar:before,
.fa-usd:before {
  content: "\f155";
}
.fa-rupee:before,
.fa-inr:before {
  content: "\f156";
}
.fa-cny:before,
.fa-rmb:before,
.fa-yen:before,
.fa-jpy:before {
  content: "\f157";
}
.fa-ruble:before,
.fa-rouble:before,
.fa-rub:before {
  content: "\f158";
}
.fa-won:before,
.fa-krw:before {
  content: "\f159";
}
.fa-bitcoin:before,
.fa-btc:before {
  content: "\f15a";
}
.fa-file:before {
  content: "\f15b";
}
.fa-file-text:before {
  content: "\f15c";
}
.fa-sort-alpha-asc:before {
  content: "\f15d";
}
.fa-sort-alpha-desc:before {
  content: "\f15e";
}
.fa-sort-amount-asc:before {
  content: "\f160";
}
.fa-sort-amount-desc:before {
  content: "\f161";
}
.fa-sort-numeric-asc:before {
  content: "\f162";
}
.fa-sort-numeric-desc:before {
  content: "\f163";
}
.fa-thumbs-up:before {
  content: "\f164";
}
.fa-thumbs-down:before {
  content: "\f165";
}
.fa-youtube-square:before {
  content: "\f166";
}
.fa-youtube:before {
  content: "\f167";
}
.fa-xing:before {
  content: "\f168";
}
.fa-xing-square:before {
  content: "\f169";
}
.fa-youtube-play:before {
  content: "\f16a";
}
.fa-dropbox:before {
  content: "\f16b";
}
.fa-stack-overflow:before {
  content: "\f16c";
}
.fa-instagram:before {
  content: "\f16d";
}
.fa-flickr:before {
  content: "\f16e";
}
.fa-adn:before {
  content: "\f170";
}
.fa-bitbucket:before {
  content: "\f171";
}
.fa-bitbucket-square:before {
  content: "\f172";
}
.fa-tumblr:before {
  content: "\f173";
}
.fa-tumblr-square:before {
  content: "\f174";
}
.fa-long-arrow-down:before {
  content: "\f175";
}
.fa-long-arrow-up:before {
  content: "\f176";
}
.fa-long-arrow-left:before {
  content: "\f177";
}
.fa-long-arrow-right:before {
  content: "\f178";
}
.fa-apple:before {
  content: "\f179";
}
.fa-windows:before {
  content: "\f17a";
}
.fa-android:before {
  content: "\f17b";
}
.fa-linux:before {
  content: "\f17c";
}
.fa-dribbble:before {
  content: "\f17d";
}
.fa-skype:before {
  content: "\f17e";
}
.fa-foursquare:before {
  content: "\f180";
}
.fa-trello:before {
  content: "\f181";
}
.fa-female:before {
  content: "\f182";
}
.fa-male:before {
  content: "\f183";
}
.fa-gittip:before {
  content: "\f184";
}
.fa-sun-o:before {
  content: "\f185";
}
.fa-moon-o:before {
  content: "\f186";
}
.fa-archive:before {
  content: "\f187";
}
.fa-bug:before {
  content: "\f188";
}
.fa-vk:before {
  content: "\f189";
}
.fa-weibo:before {
  content: "\f18a";
}
.fa-renren:before {
  content: "\f18b";
}
.fa-pagelines:before {
  content: "\f18c";
}
.fa-stack-exchange:before {
  content: "\f18d";
}
.fa-arrow-circle-o-right:before {
  content: "\f18e";
}
.fa-arrow-circle-o-left:before {
  content: "\f190";
}
.fa-toggle-left:before,
.fa-caret-square-o-left:before {
  content: "\f191";
}
.fa-dot-circle-o:before {
  content: "\f192";
}
.fa-wheelchair:before {
  content: "\f193";
}
.fa-vimeo-square:before {
  content: "\f194";
}
.fa-turkish-lira:before,
.fa-try:before {
  content: "\f195";
}
.fa-plus-square-o:before {
  content: "\f196";
}
.fa-space-shuttle:before {
  content: "\f197";
}
.fa-slack:before {
  content: "\f198";
}
.fa-envelope-square:before {
  content: "\f199";
}
.fa-wordpress:before {
  content: "\f19a";
}
.fa-openid:before {
  content: "\f19b";
}
.fa-institution:before,
.fa-bank:before,
.fa-university:before {
  content: "\f19c";
}
.fa-mortar-board:before,
.fa-graduation-cap:before {
  content: "\f19d";
}
.fa-yahoo:before {
  content: "\f19e";
}
.fa-google:before {
  content: "\f1a0";
}
.fa-reddit:before {
  content: "\f1a1";
}
.fa-reddit-square:before {
  content: "\f1a2";
}
.fa-stumbleupon-circle:before {
  content: "\f1a3";
}
.fa-stumbleupon:before {
  content: "\f1a4";
}
.fa-delicious:before {
  content: "\f1a5";
}
.fa-digg:before {
  content: "\f1a6";
}
.fa-pied-piper:before {
  content: "\f1a7";
}
.fa-pied-piper-alt:before {
  content: "\f1a8";
}
.fa-drupal:before {
  content: "\f1a9";
}
.fa-joomla:before {
  content: "\f1aa";
}
.fa-language:before {
  content: "\f1ab";
}
.fa-fax:before {
  content: "\f1ac";
}
.fa-building:before {
  content: "\f1ad";
}
.fa-child:before {
  content: "\f1ae";
}
.fa-paw:before {
  content: "\f1b0";
}
.fa-spoon:before {
  content: "\f1b1";
}
.fa-cube:before {
  content: "\f1b2";
}
.fa-cubes:before {
  content: "\f1b3";
}
.fa-behance:before {
  content: "\f1b4";
}
.fa-behance-square:before {
  content: "\f1b5";
}
.fa-steam:before {
  content: "\f1b6";
}
.fa-steam-square:before {
  content: "\f1b7";
}
.fa-recycle:before {
  content: "\f1b8";
}
.fa-automobile:before,
.fa-car:before {
  content: "\f1b9";
}
.fa-cab:before,
.fa-taxi:before {
  content: "\f1ba";
}
.fa-tree:before {
  content: "\f1bb";
}
.fa-spotify:before {
  content: "\f1bc";
}
.fa-deviantart:before {
  content: "\f1bd";
}
.fa-soundcloud:before {
  content: "\f1be";
}
.fa-database:before {
  content: "\f1c0";
}
.fa-file-pdf-o:before {
  content: "\f1c1";
}
.fa-file-word-o:before {
  content: "\f1c2";
}
.fa-file-excel-o:before {
  content: "\f1c3";
}
.fa-file-powerpoint-o:before {
  content: "\f1c4";
}
.fa-file-photo-o:before,
.fa-file-picture-o:before,
.fa-file-image-o:before {
  content: "\f1c5";
}
.fa-file-zip-o:before,
.fa-file-archive-o:before {
  content: "\f1c6";
}
.fa-file-sound-o:before,
.fa-file-audio-o:before {
  content: "\f1c7";
}
.fa-file-movie-o:before,
.fa-file-video-o:before {
  content: "\f1c8";
}
.fa-file-code-o:before {
  content: "\f1c9";
}
.fa-vine:before {
  content: "\f1ca";
}
.fa-codepen:before {
  content: "\f1cb";
}
.fa-jsfiddle:before {
  content: "\f1cc";
}
.fa-life-bouy:before,
.fa-life-buoy:before,
.fa-life-saver:before,
.fa-support:before,
.fa-life-ring:before {
  content: "\f1cd";
}
.fa-circle-o-notch:before {
  content: "\f1ce";
}
.fa-ra:before,
.fa-rebel:before {
  content: "\f1d0";
}
.fa-ge:before,
.fa-empire:before {
  content: "\f1d1";
}
.fa-git-square:before {
  content: "\f1d2";
}
.fa-git:before {
  content: "\f1d3";
}
.fa-hacker-news:before {
  content: "\f1d4";
}
.fa-tencent-weibo:before {
  content: "\f1d5";
}
.fa-qq:before {
  content: "\f1d6";
}
.fa-wechat:before,
.fa-weixin:before {
  content: "\f1d7";
}
.fa-send:before,
.fa-paper-plane:before {
  content: "\f1d8";
}
.fa-send-o:before,
.fa-paper-plane-o:before {
  content: "\f1d9";
}
.fa-history:before {
  content: "\f1da";
}
.fa-circle-thin:before {
  content: "\f1db";
}
.fa-header:before {
  content: "\f1dc";
}
.fa-paragraph:before {
  content: "\f1dd";
}
.fa-sliders:before {
  content: "\f1de";
}
.fa-share-alt:before {
  content: "\f1e0";
}
.fa-share-alt-square:before {
  content: "\f1e1";
}
.fa-bomb:before {
  content: "\f1e2";
}
.fa-soccer-ball-o:before,
.fa-futbol-o:before {
  content: "\f1e3";
}
.fa-tty:before {
  content: "\f1e4";
}
.fa-binoculars:before {
  content: "\f1e5";
}
.fa-plug:before {
  content: "\f1e6";
}
.fa-slideshare:before {
  content: "\f1e7";
}
.fa-twitch:before {
  content: "\f1e8";
}
.fa-yelp:before {
  content: "\f1e9";
}
.fa-newspaper-o:before {
  content: "\f1ea";
}
.fa-wifi:before {
  content: "\f1eb";
}
.fa-calculator:before {
  content: "\f1ec";
}
.fa-paypal:before {
  content: "\f1ed";
}
.fa-google-wallet:before {
  content: "\f1ee";
}
.fa-cc-visa:before {
  content: "\f1f0";
}
.fa-cc-mastercard:before {
  content: "\f1f1";
}
.fa-cc-discover:before {
  content: "\f1f2";
}
.fa-cc-amex:before {
  content: "\f1f3";
}
.fa-cc-paypal:before {
  content: "\f1f4";
}
.fa-cc-stripe:before {
  content: "\f1f5";
}
.fa-bell-slash:before {
  content: "\f1f6";
}
.fa-bell-slash-o:before {
  content: "\f1f7";
}
.fa-trash:before {
  content: "\f1f8";
}
.fa-copyright:before {
  content: "\f1f9";
}
.fa-at:before {
  content: "\f1fa";
}
.fa-eyedropper:before {
  content: "\f1fb";
}
.fa-paint-brush:before {
  content: "\f1fc";
}
.fa-birthday-cake:before {
  content: "\f1fd";
}
.fa-area-chart:before {
  content: "\f1fe";
}
.fa-pie-chart:before {
  content: "\f200";
}
.fa-line-chart:before {
  content: "\f201";
}
.fa-lastfm:before {
  content: "\f202";
}
.fa-lastfm-square:before {
  content: "\f203";
}
.fa-toggle-off:before {
  content: "\f204";
}
.fa-toggle-on:before {
  content: "\f205";
}
.fa-bicycle:before {
  content: "\f206";
}
.fa-bus:before {
  content: "\f207";
}
.fa-ioxhost:before {
  content: "\f208";
}
.fa-angellist:before {
  content: "\f209";
}
.fa-cc:before {
  content: "\f20a";
}
.fa-shekel:before,
.fa-sheqel:before,
.fa-ils:before {
  content: "\f20b";
}
.fa-meanpath:before {
  content: "\f20c";
}
/*!
*
* IPython base
*
*/
.modal.fade .modal-dialog {
  -webkit-transform: translate(0, 0);
  -ms-transform: translate(0, 0);
  -o-transform: translate(0, 0);
  transform: translate(0, 0);
}
code {
  color: #000;
}
pre {
  font-size: inherit;
  line-height: inherit;
}
label {
  font-weight: normal;
}
/* Make the page background atleast 100% the height of the view port */
/* Make the page itself atleast 70% the height of the view port */
.border-box-sizing {
  box-sizing: border-box;
  -moz-box-sizing: border-box;
  -webkit-box-sizing: border-box;
}
.corner-all {
  border-radius: 2px;
}
.no-padding {
  padding: 0px;
}
/* Flexible box model classes */
/* Taken from Alex Russell http://infrequently.org/2009/08/css-3-progress/ */
/* This file is a compatability layer.  It allows the usage of flexible box 
model layouts accross multiple browsers, including older browsers.  The newest,
universal implementation of the flexible box model is used when available (see
`Modern browsers` comments below).  Browsers that are known to implement this 
new spec completely include:

    Firefox 28.0+
    Chrome 29.0+
    Internet Explorer 11+ 
    Opera 17.0+

Browsers not listed, including Safari, are supported via the styling under the
`Old browsers` comments below.
*/
.hbox {
  /* Old browsers */
  display: -webkit-box;
  -webkit-box-orient: horizontal;
  -webkit-box-align: stretch;
  display: -moz-box;
  -moz-box-orient: horizontal;
  -moz-box-align: stretch;
  display: box;
  box-orient: horizontal;
  box-align: stretch;
  /* Modern browsers */
  display: flex;
  flex-direction: row;
  align-items: stretch;
}
.hbox > * {
  /* Old browsers */
  -webkit-box-flex: 0;
  -moz-box-flex: 0;
  box-flex: 0;
  /* Modern browsers */
  flex: none;
}
.vbox {
  /* Old browsers */
  display: -webkit-box;
  -webkit-box-orient: vertical;
  -webkit-box-align: stretch;
  display: -moz-box;
  -moz-box-orient: vertical;
  -moz-box-align: stretch;
  display: box;
  box-orient: vertical;
  box-align: stretch;
  /* Modern browsers */
  display: flex;
  flex-direction: column;
  align-items: stretch;
}
.vbox > * {
  /* Old browsers */
  -webkit-box-flex: 0;
  -moz-box-flex: 0;
  box-flex: 0;
  /* Modern browsers */
  flex: none;
}
.hbox.reverse,
.vbox.reverse,
.reverse {
  /* Old browsers */
  -webkit-box-direction: reverse;
  -moz-box-direction: reverse;
  box-direction: reverse;
  /* Modern browsers */
  flex-direction: row-reverse;
}
.hbox.box-flex0,
.vbox.box-flex0,
.box-flex0 {
  /* Old browsers */
  -webkit-box-flex: 0;
  -moz-box-flex: 0;
  box-flex: 0;
  /* Modern browsers */
  flex: none;
  width: auto;
}
.hbox.box-flex1,
.vbox.box-flex1,
.box-flex1 {
  /* Old browsers */
  -webkit-box-flex: 1;
  -moz-box-flex: 1;
  box-flex: 1;
  /* Modern browsers */
  flex: 1;
}
.hbox.box-flex,
.vbox.box-flex,
.box-flex {
  /* Old browsers */
  /* Old browsers */
  -webkit-box-flex: 1;
  -moz-box-flex: 1;
  box-flex: 1;
  /* Modern browsers */
  flex: 1;
}
.hbox.box-flex2,
.vbox.box-flex2,
.box-flex2 {
  /* Old browsers */
  -webkit-box-flex: 2;
  -moz-box-flex: 2;
  box-flex: 2;
  /* Modern browsers */
  flex: 2;
}
.box-group1 {
  /*  Deprecated */
  -webkit-box-flex-group: 1;
  -moz-box-flex-group: 1;
  box-flex-group: 1;
}
.box-group2 {
  /* Deprecated */
  -webkit-box-flex-group: 2;
  -moz-box-flex-group: 2;
  box-flex-group: 2;
}
.hbox.start,
.vbox.start,
.start {
  /* Old browsers */
  -webkit-box-pack: start;
  -moz-box-pack: start;
  box-pack: start;
  /* Modern browsers */
  justify-content: flex-start;
}
.hbox.end,
.vbox.end,
.end {
  /* Old browsers */
  -webkit-box-pack: end;
  -moz-box-pack: end;
  box-pack: end;
  /* Modern browsers */
  justify-content: flex-end;
}
.hbox.center,
.vbox.center,
.center {
  /* Old browsers */
  -webkit-box-pack: center;
  -moz-box-pack: center;
  box-pack: center;
  /* Modern browsers */
  justify-content: center;
}
.hbox.baseline,
.vbox.baseline,
.baseline {
  /* Old browsers */
  -webkit-box-pack: baseline;
  -moz-box-pack: baseline;
  box-pack: baseline;
  /* Modern browsers */
  justify-content: baseline;
}
.hbox.stretch,
.vbox.stretch,
.stretch {
  /* Old browsers */
  -webkit-box-pack: stretch;
  -moz-box-pack: stretch;
  box-pack: stretch;
  /* Modern browsers */
  justify-content: stretch;
}
.hbox.align-start,
.vbox.align-start,
.align-start {
  /* Old browsers */
  -webkit-box-align: start;
  -moz-box-align: start;
  box-align: start;
  /* Modern browsers */
  align-items: flex-start;
}
.hbox.align-end,
.vbox.align-end,
.align-end {
  /* Old browsers */
  -webkit-box-align: end;
  -moz-box-align: end;
  box-align: end;
  /* Modern browsers */
  align-items: flex-end;
}
.hbox.align-center,
.vbox.align-center,
.align-center {
  /* Old browsers */
  -webkit-box-align: center;
  -moz-box-align: center;
  box-align: center;
  /* Modern browsers */
  align-items: center;
}
.hbox.align-baseline,
.vbox.align-baseline,
.align-baseline {
  /* Old browsers */
  -webkit-box-align: baseline;
  -moz-box-align: baseline;
  box-align: baseline;
  /* Modern browsers */
  align-items: baseline;
}
.hbox.align-stretch,
.vbox.align-stretch,
.align-stretch {
  /* Old browsers */
  -webkit-box-align: stretch;
  -moz-box-align: stretch;
  box-align: stretch;
  /* Modern browsers */
  align-items: stretch;
}
div.error {
  margin: 2em;
  text-align: center;
}
div.error > h1 {
  font-size: 500%;
  line-height: normal;
}
div.error > p {
  font-size: 200%;
  line-height: normal;
}
div.traceback-wrapper {
  text-align: left;
  max-width: 800px;
  margin: auto;
}
/**
 * Primary styles
 *
 * Author: Jupyter Development Team
 */
body {
  background-color: #fff;
  /* This makes sure that the body covers the entire window and needs to
       be in a different element than the display: box in wrapper below */
  position: absolute;
  left: 0px;
  right: 0px;
  top: 0px;
  bottom: 0px;
  overflow: visible;
}
body > #header {
  /* Initially hidden to prevent FLOUC */
  display: none;
  background-color: #fff;
  /* Display over codemirror */
  position: relative;
  z-index: 100;
}
body > #header #header-container {
  padding-bottom: 5px;
  padding-top: 5px;
  box-sizing: border-box;
  -moz-box-sizing: border-box;
  -webkit-box-sizing: border-box;
}
body > #header .header-bar {
  width: 100%;
  height: 1px;
  background: #e7e7e7;
  margin-bottom: -1px;
}
@media print {
  body > #header {
    display: none !important;
  }
}
#header-spacer {
  width: 100%;
  visibility: hidden;
}
@media print {
  #header-spacer {
    display: none;
  }
}
#ipython_notebook {
  padding-left: 0px;
  padding-top: 1px;
  padding-bottom: 1px;
}
@media (max-width: 991px) {
  #ipython_notebook {
    margin-left: 10px;
  }
}
[dir="rtl"] #ipython_notebook {
  float: right !important;
}
#noscript {
  width: auto;
  padding-top: 16px;
  padding-bottom: 16px;
  text-align: center;
  font-size: 22px;
  color: red;
  font-weight: bold;
}
#ipython_notebook img {
  height: 28px;
}
#site {
  width: 100%;
  display: none;
  box-sizing: border-box;
  -moz-box-sizing: border-box;
  -webkit-box-sizing: border-box;
  overflow: auto;
}
@media print {
  #site {
    height: auto !important;
  }
}
/* Smaller buttons */
.ui-button .ui-button-text {
  padding: 0.2em 0.8em;
  font-size: 77%;
}
input.ui-button {
  padding: 0.3em 0.9em;
}
span#login_widget {
  float: right;
}
span#login_widget > .button,
#logout {
  color: #333;
  background-color: #fff;
  border-color: #ccc;
}
span#login_widget > .button:focus,
#logout:focus,
span#login_widget > .button.focus,
#logout.focus {
  color: #333;
  background-color: #e6e6e6;
  border-color: #8c8c8c;
}
span#login_widget > .button:hover,
#logout:hover {
  color: #333;
  background-color: #e6e6e6;
  border-color: #adadad;
}
span#login_widget > .button:active,
#logout:active,
span#login_widget > .button.active,
#logout.active,
.open > .dropdown-togglespan#login_widget > .button,
.open > .dropdown-toggle#logout {
  color: #333;
  background-color: #e6e6e6;
  border-color: #adadad;
}
span#login_widget > .button:active:hover,
#logout:active:hover,
span#login_widget > .button.active:hover,
#logout.active:hover,
.open > .dropdown-togglespan#login_widget > .button:hover,
.open > .dropdown-toggle#logout:hover,
span#login_widget > .button:active:focus,
#logout:active:focus,
span#login_widget > .button.active:focus,
#logout.active:focus,
.open > .dropdown-togglespan#login_widget > .button:focus,
.open > .dropdown-toggle#logout:focus,
span#login_widget > .button:active.focus,
#logout:active.focus,
span#login_widget > .button.active.focus,
#logout.active.focus,
.open > .dropdown-togglespan#login_widget > .button.focus,
.open > .dropdown-toggle#logout.focus {
  color: #333;
  background-color: #d4d4d4;
  border-color: #8c8c8c;
}
span#login_widget > .button:active,
#logout:active,
span#login_widget > .button.active,
#logout.active,
.open > .dropdown-togglespan#login_widget > .button,
.open > .dropdown-toggle#logout {
  background-image: none;
}
span#login_widget > .button.disabled:hover,
#logout.disabled:hover,
span#login_widget > .button[disabled]:hover,
#logout[disabled]:hover,
fieldset[disabled] span#login_widget > .button:hover,
fieldset[disabled] #logout:hover,
span#login_widget > .button.disabled:focus,
#logout.disabled:focus,
span#login_widget > .button[disabled]:focus,
#logout[disabled]:focus,
fieldset[disabled] span#login_widget > .button:focus,
fieldset[disabled] #logout:focus,
span#login_widget > .button.disabled.focus,
#logout.disabled.focus,
span#login_widget > .button[disabled].focus,
#logout[disabled].focus,
fieldset[disabled] span#login_widget > .button.focus,
fieldset[disabled] #logout.focus {
  background-color: #fff;
  border-color: #ccc;
}
span#login_widget > .button .badge,
#logout .badge {
  color: #fff;
  background-color: #333;
}
.nav-header {
  text-transform: none;
}
#header > span {
  margin-top: 10px;
}
.modal_stretch .modal-dialog {
  /* Old browsers */
  display: -webkit-box;
  -webkit-box-orient: vertical;
  -webkit-box-align: stretch;
  display: -moz-box;
  -moz-box-orient: vertical;
  -moz-box-align: stretch;
  display: box;
  box-orient: vertical;
  box-align: stretch;
  /* Modern browsers */
  display: flex;
  flex-direction: column;
  align-items: stretch;
  min-height: 80vh;
}
.modal_stretch .modal-dialog .modal-body {
  max-height: calc(100vh - 200px);
  overflow: auto;
  flex: 1;
}
@media (min-width: 768px) {
  .modal .modal-dialog {
    width: 700px;
  }
}
@media (min-width: 768px) {
  select.form-control {
    margin-left: 12px;
    margin-right: 12px;
  }
}
/*!
*
* IPython auth
*
*/
.center-nav {
  display: inline-block;
  margin-bottom: -4px;
}
/*!
*
* IPython tree view
*
*/
/* We need an invisible input field on top of the sentense*/
/* "Drag file onto the list ..." */
.alternate_upload {
  background-color: none;
  display: inline;
}
.alternate_upload.form {
  padding: 0;
  margin: 0;
}
.alternate_upload input.fileinput {
  text-align: center;
  vertical-align: middle;
  display: inline;
  opacity: 0;
  z-index: 2;
  width: 12ex;
  margin-right: -12ex;
}
.alternate_upload .btn-upload {
  height: 22px;
}
/**
 * Primary styles
 *
 * Author: Jupyter Development Team
 */
[dir="rtl"] #tabs li {
  float: right;
}
ul#tabs {
  margin-bottom: 4px;
}
[dir="rtl"] ul#tabs {
  margin-right: 0px;
}
ul#tabs a {
  padding-top: 6px;
  padding-bottom: 4px;
}
ul.breadcrumb a:focus,
ul.breadcrumb a:hover {
  text-decoration: none;
}
ul.breadcrumb i.icon-home {
  font-size: 16px;
  margin-right: 4px;
}
ul.breadcrumb span {
  color: #5e5e5e;
}
.list_toolbar {
  padding: 4px 0 4px 0;
  vertical-align: middle;
}
.list_toolbar .tree-buttons {
  padding-top: 1px;
}
[dir="rtl"] .list_toolbar .tree-buttons {
  float: left !important;
}
[dir="rtl"] .list_toolbar .pull-right {
  padding-top: 1px;
  float: left !important;
}
[dir="rtl"] .list_toolbar .pull-left {
  float: right !important;
}
.dynamic-buttons {
  padding-top: 3px;
  display: inline-block;
}
.list_toolbar [class*="span"] {
  min-height: 24px;
}
.list_header {
  font-weight: bold;
  background-color: #EEE;
}
.list_placeholder {
  font-weight: bold;
  padding-top: 4px;
  padding-bottom: 4px;
  padding-left: 7px;
  padding-right: 7px;
}
.list_container {
  margin-top: 4px;
  margin-bottom: 20px;
  border: 1px solid #ddd;
  border-radius: 2px;
}
.list_container > div {
  border-bottom: 1px solid #ddd;
}
.list_container > div:hover .list-item {
  background-color: red;
}
.list_container > div:last-child {
  border: none;
}
.list_item:hover .list_item {
  background-color: #ddd;
}
.list_item a {
  text-decoration: none;
}
.list_item:hover {
  background-color: #fafafa;
}
.list_header > div,
.list_item > div {
  padding-top: 4px;
  padding-bottom: 4px;
  padding-left: 7px;
  padding-right: 7px;
  line-height: 22px;
}
.list_header > div input,
.list_item > div input {
  margin-right: 7px;
  margin-left: 14px;
  vertical-align: baseline;
  line-height: 22px;
  position: relative;
  top: -1px;
}
.list_header > div .item_link,
.list_item > div .item_link {
  margin-left: -1px;
  vertical-align: baseline;
  line-height: 22px;
}
.new-file input[type=checkbox] {
  visibility: hidden;
}
.item_name {
  line-height: 22px;
  height: 24px;
}
.item_icon {
  font-size: 14px;
  color: #5e5e5e;
  margin-right: 7px;
  margin-left: 7px;
  line-height: 22px;
  vertical-align: baseline;
}
.item_buttons {
  line-height: 1em;
  margin-left: -5px;
}
.item_buttons .btn,
.item_buttons .btn-group,
.item_buttons .input-group {
  float: left;
}
.item_buttons > .btn,
.item_buttons > .btn-group,
.item_buttons > .input-group {
  margin-left: 5px;
}
.item_buttons .btn {
  min-width: 13ex;
}
.item_buttons .running-indicator {
  padding-top: 4px;
  color: #5cb85c;
}
.item_buttons .kernel-name {
  padding-top: 4px;
  color: #5bc0de;
  margin-right: 7px;
  float: left;
}
.toolbar_info {
  height: 24px;
  line-height: 24px;
}
.list_item input:not([type=checkbox]) {
  padding-top: 3px;
  padding-bottom: 3px;
  height: 22px;
  line-height: 14px;
  margin: 0px;
}
.highlight_text {
  color: blue;
}
#project_name {
  display: inline-block;
  padding-left: 7px;
  margin-left: -2px;
}
#project_name > .breadcrumb {
  padding: 0px;
  margin-bottom: 0px;
  background-color: transparent;
  font-weight: bold;
}
#tree-selector {
  padding-right: 0px;
}
[dir="rtl"] #tree-selector a {
  float: right;
}
#button-select-all {
  min-width: 50px;
}
#select-all {
  margin-left: 7px;
  margin-right: 2px;
}
.menu_icon {
  margin-right: 2px;
}
.tab-content .row {
  margin-left: 0px;
  margin-right: 0px;
}
.folder_icon:before {
  display: inline-block;
  font: normal normal normal 14px/1 FontAwesome;
  font-size: inherit;
  text-rendering: auto;
  -webkit-font-smoothing: antialiased;
  -moz-osx-font-smoothing: grayscale;
  content: "\f114";
}
.folder_icon:before.pull-left {
  margin-right: .3em;
}
.folder_icon:before.pull-right {
  margin-left: .3em;
}
.notebook_icon:before {
  display: inline-block;
  font: normal normal normal 14px/1 FontAwesome;
  font-size: inherit;
  text-rendering: auto;
  -webkit-font-smoothing: antialiased;
  -moz-osx-font-smoothing: grayscale;
  content: "\f02d";
  position: relative;
  top: -1px;
}
.notebook_icon:before.pull-left {
  margin-right: .3em;
}
.notebook_icon:before.pull-right {
  margin-left: .3em;
}
.running_notebook_icon:before {
  display: inline-block;
  font: normal normal normal 14px/1 FontAwesome;
  font-size: inherit;
  text-rendering: auto;
  -webkit-font-smoothing: antialiased;
  -moz-osx-font-smoothing: grayscale;
  content: "\f02d";
  position: relative;
  top: -1px;
  color: #5cb85c;
}
.running_notebook_icon:before.pull-left {
  margin-right: .3em;
}
.running_notebook_icon:before.pull-right {
  margin-left: .3em;
}
.file_icon:before {
  display: inline-block;
  font: normal normal normal 14px/1 FontAwesome;
  font-size: inherit;
  text-rendering: auto;
  -webkit-font-smoothing: antialiased;
  -moz-osx-font-smoothing: grayscale;
  content: "\f016";
  position: relative;
  top: -2px;
}
.file_icon:before.pull-left {
  margin-right: .3em;
}
.file_icon:before.pull-right {
  margin-left: .3em;
}
#notebook_toolbar .pull-right {
  padding-top: 0px;
  margin-right: -1px;
}
ul#new-menu {
  left: auto;
  right: 0;
}
[dir="rtl"] #new-menu {
  text-align: right;
}
.kernel-menu-icon {
  padding-right: 12px;
  width: 24px;
  content: "\f096";
}
.kernel-menu-icon:before {
  content: "\f096";
}
.kernel-menu-icon-current:before {
  content: "\f00c";
}
#tab_content {
  padding-top: 20px;
}
#running .panel-group .panel {
  margin-top: 3px;
  margin-bottom: 1em;
}
#running .panel-group .panel .panel-heading {
  background-color: #EEE;
  padding-top: 4px;
  padding-bottom: 4px;
  padding-left: 7px;
  padding-right: 7px;
  line-height: 22px;
}
#running .panel-group .panel .panel-heading a:focus,
#running .panel-group .panel .panel-heading a:hover {
  text-decoration: none;
}
#running .panel-group .panel .panel-body {
  padding: 0px;
}
#running .panel-group .panel .panel-body .list_container {
  margin-top: 0px;
  margin-bottom: 0px;
  border: 0px;
  border-radius: 0px;
}
#running .panel-group .panel .panel-body .list_container .list_item {
  border-bottom: 1px solid #ddd;
}
#running .panel-group .panel .panel-body .list_container .list_item:last-child {
  border-bottom: 0px;
}
[dir="rtl"] #running .col-sm-8 {
  float: right !important;
}
.delete-button {
  display: none;
}
.duplicate-button {
  display: none;
}
.rename-button {
  display: none;
}
.shutdown-button {
  display: none;
}
.dynamic-instructions {
  display: inline-block;
  padding-top: 4px;
}
/*!
*
* IPython text editor webapp
*
*/
.selected-keymap i.fa {
  padding: 0px 5px;
}
.selected-keymap i.fa:before {
  content: "\f00c";
}
#mode-menu {
  overflow: auto;
  max-height: 20em;
}
.edit_app #header {
  -webkit-box-shadow: 0px 0px 12px 1px rgba(87, 87, 87, 0.2);
  box-shadow: 0px 0px 12px 1px rgba(87, 87, 87, 0.2);
}
.edit_app #menubar .navbar {
  /* Use a negative 1 bottom margin, so the border overlaps the border of the
    header */
  margin-bottom: -1px;
}
.dirty-indicator {
  display: inline-block;
  font: normal normal normal 14px/1 FontAwesome;
  font-size: inherit;
  text-rendering: auto;
  -webkit-font-smoothing: antialiased;
  -moz-osx-font-smoothing: grayscale;
  width: 20px;
}
.dirty-indicator.pull-left {
  margin-right: .3em;
}
.dirty-indicator.pull-right {
  margin-left: .3em;
}
.dirty-indicator-dirty {
  display: inline-block;
  font: normal normal normal 14px/1 FontAwesome;
  font-size: inherit;
  text-rendering: auto;
  -webkit-font-smoothing: antialiased;
  -moz-osx-font-smoothing: grayscale;
  width: 20px;
}
.dirty-indicator-dirty.pull-left {
  margin-right: .3em;
}
.dirty-indicator-dirty.pull-right {
  margin-left: .3em;
}
.dirty-indicator-clean {
  display: inline-block;
  font: normal normal normal 14px/1 FontAwesome;
  font-size: inherit;
  text-rendering: auto;
  -webkit-font-smoothing: antialiased;
  -moz-osx-font-smoothing: grayscale;
  width: 20px;
}
.dirty-indicator-clean.pull-left {
  margin-right: .3em;
}
.dirty-indicator-clean.pull-right {
  margin-left: .3em;
}
.dirty-indicator-clean:before {
  display: inline-block;
  font: normal normal normal 14px/1 FontAwesome;
  font-size: inherit;
  text-rendering: auto;
  -webkit-font-smoothing: antialiased;
  -moz-osx-font-smoothing: grayscale;
  content: "\f00c";
}
.dirty-indicator-clean:before.pull-left {
  margin-right: .3em;
}
.dirty-indicator-clean:before.pull-right {
  margin-left: .3em;
}
#filename {
  font-size: 16pt;
  display: table;
  padding: 0px 5px;
}
#current-mode {
  padding-left: 5px;
  padding-right: 5px;
}
#texteditor-backdrop {
  padding-top: 20px;
  padding-bottom: 20px;
}
@media not print {
  #texteditor-backdrop {
    background-color: #EEE;
  }
}
@media print {
  #texteditor-backdrop #texteditor-container .CodeMirror-gutter,
  #texteditor-backdrop #texteditor-container .CodeMirror-gutters {
    background-color: #fff;
  }
}
@media not print {
  #texteditor-backdrop #texteditor-container .CodeMirror-gutter,
  #texteditor-backdrop #texteditor-container .CodeMirror-gutters {
    background-color: #fff;
  }
}
@media not print {
  #texteditor-backdrop #texteditor-container {
    padding: 0px;
    background-color: #fff;
    -webkit-box-shadow: 0px 0px 12px 1px rgba(87, 87, 87, 0.2);
    box-shadow: 0px 0px 12px 1px rgba(87, 87, 87, 0.2);
  }
}
/*!
*
* IPython notebook
*
*/
/* CSS font colors for translated ANSI colors. */
.ansibold {
  font-weight: bold;
}
/* use dark versions for foreground, to improve visibility */
.ansiblack {
  color: black;
}
.ansired {
  color: darkred;
}
.ansigreen {
  color: darkgreen;
}
.ansiyellow {
  color: #c4a000;
}
.ansiblue {
  color: darkblue;
}
.ansipurple {
  color: darkviolet;
}
.ansicyan {
  color: steelblue;
}
.ansigray {
  color: gray;
}
/* and light for background, for the same reason */
.ansibgblack {
  background-color: black;
}
.ansibgred {
  background-color: red;
}
.ansibggreen {
  background-color: green;
}
.ansibgyellow {
  background-color: yellow;
}
.ansibgblue {
  background-color: blue;
}
.ansibgpurple {
  background-color: magenta;
}
.ansibgcyan {
  background-color: cyan;
}
.ansibggray {
  background-color: gray;
}
div.cell {
  /* Old browsers */
  display: -webkit-box;
  -webkit-box-orient: vertical;
  -webkit-box-align: stretch;
  display: -moz-box;
  -moz-box-orient: vertical;
  -moz-box-align: stretch;
  display: box;
  box-orient: vertical;
  box-align: stretch;
  /* Modern browsers */
  display: flex;
  flex-direction: column;
  align-items: stretch;
  border-radius: 2px;
  box-sizing: border-box;
  -moz-box-sizing: border-box;
  -webkit-box-sizing: border-box;
  border-width: 1px;
  border-style: solid;
  border-color: transparent;
  width: 100%;
  padding: 5px;
  /* This acts as a spacer between cells, that is outside the border */
  margin: 0px;
  outline: none;
  border-left-width: 1px;
  padding-left: 5px;
  background: linear-gradient(to right, transparent -40px, transparent 1px, transparent 1px, transparent 100%);
}
div.cell.jupyter-soft-selected {
  border-left-color: #90CAF9;
  border-left-color: #E3F2FD;
  border-left-width: 1px;
  padding-left: 5px;
  border-right-color: #E3F2FD;
  border-right-width: 1px;
  background: #E3F2FD;
}
@media print {
  div.cell.jupyter-soft-selected {
    border-color: transparent;
  }
}
div.cell.selected {
  border-color: #ababab;
  border-left-width: 0px;
  padding-left: 6px;
  background: linear-gradient(to right, #42A5F5 -40px, #42A5F5 5px, transparent 5px, transparent 100%);
}
@media print {
  div.cell.selected {
    border-color: transparent;
  }
}
div.cell.selected.jupyter-soft-selected {
  border-left-width: 0;
  padding-left: 6px;
  background: linear-gradient(to right, #42A5F5 -40px, #42A5F5 7px, #E3F2FD 7px, #E3F2FD 100%);
}
.edit_mode div.cell.selected {
  border-color: #66BB6A;
  border-left-width: 0px;
  padding-left: 6px;
  background: linear-gradient(to right, #66BB6A -40px, #66BB6A 5px, transparent 5px, transparent 100%);
}
@media print {
  .edit_mode div.cell.selected {
    border-color: transparent;
  }
}
.prompt {
  /* This needs to be wide enough for 3 digit prompt numbers: In[100]: */
  min-width: 14ex;
  /* This padding is tuned to match the padding on the CodeMirror editor. */
  padding: 0.4em;
  margin: 0px;
  font-family: monospace;
  text-align: right;
  /* This has to match that of the the CodeMirror class line-height below */
  line-height: 1.21429em;
  /* Don't highlight prompt number selection */
  -webkit-touch-callout: none;
  -webkit-user-select: none;
  -khtml-user-select: none;
  -moz-user-select: none;
  -ms-user-select: none;
  user-select: none;
  /* Use default cursor */
  cursor: default;
}
@media (max-width: 540px) {
  .prompt {
    text-align: left;
  }
}
div.inner_cell {
  min-width: 0;
  /* Old browsers */
  display: -webkit-box;
  -webkit-box-orient: vertical;
  -webkit-box-align: stretch;
  display: -moz-box;
  -moz-box-orient: vertical;
  -moz-box-align: stretch;
  display: box;
  box-orient: vertical;
  box-align: stretch;
  /* Modern browsers */
  display: flex;
  flex-direction: column;
  align-items: stretch;
  /* Old browsers */
  -webkit-box-flex: 1;
  -moz-box-flex: 1;
  box-flex: 1;
  /* Modern browsers */
  flex: 1;
}
/* input_area and input_prompt must match in top border and margin for alignment */
div.input_area {
  border: 1px solid #cfcfcf;
  border-radius: 2px;
  background: #f7f7f7;
  line-height: 1.21429em;
}
/* This is needed so that empty prompt areas can collapse to zero height when there
   is no content in the output_subarea and the prompt. The main purpose of this is
   to make sure that empty JavaScript output_subareas have no height. */
div.prompt:empty {
  padding-top: 0;
  padding-bottom: 0;
}
div.unrecognized_cell {
  padding: 5px 5px 5px 0px;
  /* Old browsers */
  display: -webkit-box;
  -webkit-box-orient: horizontal;
  -webkit-box-align: stretch;
  display: -moz-box;
  -moz-box-orient: horizontal;
  -moz-box-align: stretch;
  display: box;
  box-orient: horizontal;
  box-align: stretch;
  /* Modern browsers */
  display: flex;
  flex-direction: row;
  align-items: stretch;
}
div.unrecognized_cell .inner_cell {
  border-radius: 2px;
  padding: 5px;
  font-weight: bold;
  color: red;
  border: 1px solid #cfcfcf;
  background: #eaeaea;
}
div.unrecognized_cell .inner_cell a {
  color: inherit;
  text-decoration: none;
}
div.unrecognized_cell .inner_cell a:hover {
  color: inherit;
  text-decoration: none;
}
@media (max-width: 540px) {
  div.unrecognized_cell > div.prompt {
    display: none;
  }
}
div.code_cell {
  /* avoid page breaking on code cells when printing */
}
@media print {
  div.code_cell {
    page-break-inside: avoid;
  }
}
/* any special styling for code cells that are currently running goes here */
div.input {
  page-break-inside: avoid;
  /* Old browsers */
  display: -webkit-box;
  -webkit-box-orient: horizontal;
  -webkit-box-align: stretch;
  display: -moz-box;
  -moz-box-orient: horizontal;
  -moz-box-align: stretch;
  display: box;
  box-orient: horizontal;
  box-align: stretch;
  /* Modern browsers */
  display: flex;
  flex-direction: row;
  align-items: stretch;
}
@media (max-width: 540px) {
  div.input {
    /* Old browsers */
    display: -webkit-box;
    -webkit-box-orient: vertical;
    -webkit-box-align: stretch;
    display: -moz-box;
    -moz-box-orient: vertical;
    -moz-box-align: stretch;
    display: box;
    box-orient: vertical;
    box-align: stretch;
    /* Modern browsers */
    display: flex;
    flex-direction: column;
    align-items: stretch;
  }
}
/* input_area and input_prompt must match in top border and margin for alignment */
div.input_prompt {
  color: #303F9F;
  border-top: 1px solid transparent;
}
div.input_area > div.highlight {
  margin: 0.4em;
  border: none;
  padding: 0px;
  background-color: transparent;
}
div.input_area > div.highlight > pre {
  margin: 0px;
  border: none;
  padding: 0px;
  background-color: transparent;
}
/* The following gets added to the <head> if it is detected that the user has a
 * monospace font with inconsistent normal/bold/italic height.  See
 * notebookmain.js.  Such fonts will have keywords vertically offset with
 * respect to the rest of the text.  The user should select a better font.
 * See: https://github.com/ipython/ipython/issues/1503
 *
 * .CodeMirror span {
 *      vertical-align: bottom;
 * }
 */
.CodeMirror {
  line-height: 1.21429em;
  /* Changed from 1em to our global default */
  font-size: 14px;
  height: auto;
  /* Changed to auto to autogrow */
  background: none;
  /* Changed from white to allow our bg to show through */
}
.CodeMirror-scroll {
  /*  The CodeMirror docs are a bit fuzzy on if overflow-y should be hidden or visible.*/
  /*  We have found that if it is visible, vertical scrollbars appear with font size changes.*/
  overflow-y: hidden;
  overflow-x: auto;
}
.CodeMirror-lines {
  /* In CM2, this used to be 0.4em, but in CM3 it went to 4px. We need the em value because */
  /* we have set a different line-height and want this to scale with that. */
  padding: 0.4em;
}
.CodeMirror-linenumber {
  padding: 0 8px 0 4px;
}
.CodeMirror-gutters {
  border-bottom-left-radius: 2px;
  border-top-left-radius: 2px;
}
.CodeMirror pre {
  /* In CM3 this went to 4px from 0 in CM2. We need the 0 value because of how we size */
  /* .CodeMirror-lines */
  padding: 0;
  border: 0;
  border-radius: 0;
}
/*

Original style from softwaremaniacs.org (c) Ivan Sagalaev <Maniac@SoftwareManiacs.Org>
Adapted from GitHub theme

*/
.highlight-base {
  color: #000;
}
.highlight-variable {
  color: #000;
}
.highlight-variable-2 {
  color: #1a1a1a;
}
.highlight-variable-3 {
  color: #333333;
}
.highlight-string {
  color: #BA2121;
}
.highlight-comment {
  color: #408080;
  font-style: italic;
}
.highlight-number {
  color: #080;
}
.highlight-atom {
  color: #88F;
}
.highlight-keyword {
  color: #008000;
  font-weight: bold;
}
.highlight-builtin {
  color: #008000;
}
.highlight-error {
  color: #f00;
}
.highlight-operator {
  color: #AA22FF;
  font-weight: bold;
}
.highlight-meta {
  color: #AA22FF;
}
/* previously not defined, copying from default codemirror */
.highlight-def {
  color: #00f;
}
.highlight-string-2 {
  color: #f50;
}
.highlight-qualifier {
  color: #555;
}
.highlight-bracket {
  color: #997;
}
.highlight-tag {
  color: #170;
}
.highlight-attribute {
  color: #00c;
}
.highlight-header {
  color: blue;
}
.highlight-quote {
  color: #090;
}
.highlight-link {
  color: #00c;
}
/* apply the same style to codemirror */
.cm-s-ipython span.cm-keyword {
  color: #008000;
  font-weight: bold;
}
.cm-s-ipython span.cm-atom {
  color: #88F;
}
.cm-s-ipython span.cm-number {
  color: #080;
}
.cm-s-ipython span.cm-def {
  color: #00f;
}
.cm-s-ipython span.cm-variable {
  color: #000;
}
.cm-s-ipython span.cm-operator {
  color: #AA22FF;
  font-weight: bold;
}
.cm-s-ipython span.cm-variable-2 {
  color: #1a1a1a;
}
.cm-s-ipython span.cm-variable-3 {
  color: #333333;
}
.cm-s-ipython span.cm-comment {
  color: #408080;
  font-style: italic;
}
.cm-s-ipython span.cm-string {
  color: #BA2121;
}
.cm-s-ipython span.cm-string-2 {
  color: #f50;
}
.cm-s-ipython span.cm-meta {
  color: #AA22FF;
}
.cm-s-ipython span.cm-qualifier {
  color: #555;
}
.cm-s-ipython span.cm-builtin {
  color: #008000;
}
.cm-s-ipython span.cm-bracket {
  color: #997;
}
.cm-s-ipython span.cm-tag {
  color: #170;
}
.cm-s-ipython span.cm-attribute {
  color: #00c;
}
.cm-s-ipython span.cm-header {
  color: blue;
}
.cm-s-ipython span.cm-quote {
  color: #090;
}
.cm-s-ipython span.cm-link {
  color: #00c;
}
.cm-s-ipython span.cm-error {
  color: #f00;
}
.cm-s-ipython span.cm-tab {
  background: url(data:image/png;base64,iVBORw0KGgoAAAANSUhEUgAAADAAAAAMCAYAAAAkuj5RAAAAAXNSR0IArs4c6QAAAGFJREFUSMft1LsRQFAQheHPowAKoACx3IgEKtaEHujDjORSgWTH/ZOdnZOcM/sgk/kFFWY0qV8foQwS4MKBCS3qR6ixBJvElOobYAtivseIE120FaowJPN75GMu8j/LfMwNjh4HUpwg4LUAAAAASUVORK5CYII=);
  background-position: right;
  background-repeat: no-repeat;
}
div.output_wrapper {
  /* this position must be relative to enable descendents to be absolute within it */
  position: relative;
  /* Old browsers */
  display: -webkit-box;
  -webkit-box-orient: vertical;
  -webkit-box-align: stretch;
  display: -moz-box;
  -moz-box-orient: vertical;
  -moz-box-align: stretch;
  display: box;
  box-orient: vertical;
  box-align: stretch;
  /* Modern browsers */
  display: flex;
  flex-direction: column;
  align-items: stretch;
  z-index: 1;
}
/* class for the output area when it should be height-limited */
div.output_scroll {
  /* ideally, this would be max-height, but FF barfs all over that */
  height: 24em;
  /* FF needs this *and the wrapper* to specify full width, or it will shrinkwrap */
  width: 100%;
  overflow: auto;
  border-radius: 2px;
  -webkit-box-shadow: inset 0 2px 8px rgba(0, 0, 0, 0.8);
  box-shadow: inset 0 2px 8px rgba(0, 0, 0, 0.8);
  display: block;
}
/* output div while it is collapsed */
div.output_collapsed {
  margin: 0px;
  padding: 0px;
  /* Old browsers */
  display: -webkit-box;
  -webkit-box-orient: vertical;
  -webkit-box-align: stretch;
  display: -moz-box;
  -moz-box-orient: vertical;
  -moz-box-align: stretch;
  display: box;
  box-orient: vertical;
  box-align: stretch;
  /* Modern browsers */
  display: flex;
  flex-direction: column;
  align-items: stretch;
}
div.out_prompt_overlay {
  height: 100%;
  padding: 0px 0.4em;
  position: absolute;
  border-radius: 2px;
}
div.out_prompt_overlay:hover {
  /* use inner shadow to get border that is computed the same on WebKit/FF */
  -webkit-box-shadow: inset 0 0 1px #000;
  box-shadow: inset 0 0 1px #000;
  background: rgba(240, 240, 240, 0.5);
}
div.output_prompt {
  color: #D84315;
}
/* This class is the outer container of all output sections. */
div.output_area {
  padding: 0px;
  page-break-inside: avoid;
  /* Old browsers */
  display: -webkit-box;
  -webkit-box-orient: horizontal;
  -webkit-box-align: stretch;
  display: -moz-box;
  -moz-box-orient: horizontal;
  -moz-box-align: stretch;
  display: box;
  box-orient: horizontal;
  box-align: stretch;
  /* Modern browsers */
  display: flex;
  flex-direction: row;
  align-items: stretch;
}
div.output_area .MathJax_Display {
  text-align: left !important;
}
div.output_area .rendered_html table {
  margin-left: 0;
  margin-right: 0;
}
div.output_area .rendered_html img {
  margin-left: 0;
  margin-right: 0;
}
div.output_area img,
div.output_area svg {
  max-width: 100%;
  height: auto;
}
div.output_area img.unconfined,
div.output_area svg.unconfined {
  max-width: none;
}
/* This is needed to protect the pre formating from global settings such
   as that of bootstrap */
.output {
  /* Old browsers */
  display: -webkit-box;
  -webkit-box-orient: vertical;
  -webkit-box-align: stretch;
  display: -moz-box;
  -moz-box-orient: vertical;
  -moz-box-align: stretch;
  display: box;
  box-orient: vertical;
  box-align: stretch;
  /* Modern browsers */
  display: flex;
  flex-direction: column;
  align-items: stretch;
}
@media (max-width: 540px) {
  div.output_area {
    /* Old browsers */
    display: -webkit-box;
    -webkit-box-orient: vertical;
    -webkit-box-align: stretch;
    display: -moz-box;
    -moz-box-orient: vertical;
    -moz-box-align: stretch;
    display: box;
    box-orient: vertical;
    box-align: stretch;
    /* Modern browsers */
    display: flex;
    flex-direction: column;
    align-items: stretch;
  }
}
div.output_area pre {
  margin: 0;
  padding: 0;
  border: 0;
  vertical-align: baseline;
  color: black;
  background-color: transparent;
  border-radius: 0;
}
/* This class is for the output subarea inside the output_area and after
   the prompt div. */
div.output_subarea {
  overflow-x: auto;
  padding: 0.4em;
  /* Old browsers */
  -webkit-box-flex: 1;
  -moz-box-flex: 1;
  box-flex: 1;
  /* Modern browsers */
  flex: 1;
  max-width: calc(100% - 14ex);
}
div.output_scroll div.output_subarea {
  overflow-x: visible;
}
/* The rest of the output_* classes are for special styling of the different
   output types */
/* all text output has this class: */
div.output_text {
  text-align: left;
  color: #000;
  /* This has to match that of the the CodeMirror class line-height below */
  line-height: 1.21429em;
}
/* stdout/stderr are 'text' as well as 'stream', but execute_result/error are *not* streams */
div.output_stderr {
  background: #fdd;
  /* very light red background for stderr */
}
div.output_latex {
  text-align: left;
}
/* Empty output_javascript divs should have no height */
div.output_javascript:empty {
  padding: 0;
}
.js-error {
  color: darkred;
}
/* raw_input styles */
div.raw_input_container {
  line-height: 1.21429em;
  padding-top: 5px;
}
pre.raw_input_prompt {
  /* nothing needed here. */
}
input.raw_input {
  font-family: monospace;
  font-size: inherit;
  color: inherit;
  width: auto;
  /* make sure input baseline aligns with prompt */
  vertical-align: baseline;
  /* padding + margin = 0.5em between prompt and cursor */
  padding: 0em 0.25em;
  margin: 0em 0.25em;
}
input.raw_input:focus {
  box-shadow: none;
}
p.p-space {
  margin-bottom: 10px;
}
div.output_unrecognized {
  padding: 5px;
  font-weight: bold;
  color: red;
}
div.output_unrecognized a {
  color: inherit;
  text-decoration: none;
}
div.output_unrecognized a:hover {
  color: inherit;
  text-decoration: none;
}
.rendered_html {
  color: #000;
  /* any extras will just be numbers: */
}
.rendered_html em {
  font-style: italic;
}
.rendered_html strong {
  font-weight: bold;
}
.rendered_html u {
  text-decoration: underline;
}
.rendered_html :link {
  text-decoration: underline;
}
.rendered_html :visited {
  text-decoration: underline;
}
.rendered_html h1 {
  font-size: 185.7%;
  margin: 1.08em 0 0 0;
  font-weight: bold;
  line-height: 1.0;
}
.rendered_html h2 {
  font-size: 157.1%;
  margin: 1.27em 0 0 0;
  font-weight: bold;
  line-height: 1.0;
}
.rendered_html h3 {
  font-size: 128.6%;
  margin: 1.55em 0 0 0;
  font-weight: bold;
  line-height: 1.0;
}
.rendered_html h4 {
  font-size: 100%;
  margin: 2em 0 0 0;
  font-weight: bold;
  line-height: 1.0;
}
.rendered_html h5 {
  font-size: 100%;
  margin: 2em 0 0 0;
  font-weight: bold;
  line-height: 1.0;
  font-style: italic;
}
.rendered_html h6 {
  font-size: 100%;
  margin: 2em 0 0 0;
  font-weight: bold;
  line-height: 1.0;
  font-style: italic;
}
.rendered_html h1:first-child {
  margin-top: 0.538em;
}
.rendered_html h2:first-child {
  margin-top: 0.636em;
}
.rendered_html h3:first-child {
  margin-top: 0.777em;
}
.rendered_html h4:first-child {
  margin-top: 1em;
}
.rendered_html h5:first-child {
  margin-top: 1em;
}
.rendered_html h6:first-child {
  margin-top: 1em;
}
.rendered_html ul {
  list-style: disc;
  margin: 0em 2em;
  padding-left: 0px;
}
.rendered_html ul ul {
  list-style: square;
  margin: 0em 2em;
}
.rendered_html ul ul ul {
  list-style: circle;
  margin: 0em 2em;
}
.rendered_html ol {
  list-style: decimal;
  margin: 0em 2em;
  padding-left: 0px;
}
.rendered_html ol ol {
  list-style: upper-alpha;
  margin: 0em 2em;
}
.rendered_html ol ol ol {
  list-style: lower-alpha;
  margin: 0em 2em;
}
.rendered_html ol ol ol ol {
  list-style: lower-roman;
  margin: 0em 2em;
}
.rendered_html ol ol ol ol ol {
  list-style: decimal;
  margin: 0em 2em;
}
.rendered_html * + ul {
  margin-top: 1em;
}
.rendered_html * + ol {
  margin-top: 1em;
}
.rendered_html hr {
  color: black;
  background-color: black;
}
.rendered_html pre {
  margin: 1em 2em;
}
.rendered_html pre,
.rendered_html code {
  border: 0;
  background-color: #fff;
  color: #000;
  font-size: 100%;
  padding: 0px;
}
.rendered_html blockquote {
  margin: 1em 2em;
}
.rendered_html table {
  margin-left: auto;
  margin-right: auto;
  border: 1px solid black;
  border-collapse: collapse;
}
.rendered_html tr,
.rendered_html th,
.rendered_html td {
  border: 1px solid black;
  border-collapse: collapse;
  margin: 1em 2em;
}
.rendered_html td,
.rendered_html th {
  text-align: left;
  vertical-align: middle;
  padding: 4px;
}
.rendered_html th {
  font-weight: bold;
}
.rendered_html * + table {
  margin-top: 1em;
}
.rendered_html p {
  text-align: left;
}
.rendered_html * + p {
  margin-top: 1em;
}
.rendered_html img {
  display: block;
  margin-left: auto;
  margin-right: auto;
}
.rendered_html * + img {
  margin-top: 1em;
}
.rendered_html img,
.rendered_html svg {
  max-width: 100%;
  height: auto;
}
.rendered_html img.unconfined,
.rendered_html svg.unconfined {
  max-width: none;
}
div.text_cell {
  /* Old browsers */
  display: -webkit-box;
  -webkit-box-orient: horizontal;
  -webkit-box-align: stretch;
  display: -moz-box;
  -moz-box-orient: horizontal;
  -moz-box-align: stretch;
  display: box;
  box-orient: horizontal;
  box-align: stretch;
  /* Modern browsers */
  display: flex;
  flex-direction: row;
  align-items: stretch;
}
@media (max-width: 540px) {
  div.text_cell > div.prompt {
    display: none;
  }
}
div.text_cell_render {
  /*font-family: "Helvetica Neue", Arial, Helvetica, Geneva, sans-serif;*/
  outline: none;
  resize: none;
  width: inherit;
  border-style: none;
  padding: 0.5em 0.5em 0.5em 0.4em;
  color: #000;
  box-sizing: border-box;
  -moz-box-sizing: border-box;
  -webkit-box-sizing: border-box;
}
a.anchor-link:link {
  text-decoration: none;
  padding: 0px 20px;
  visibility: hidden;
}
h1:hover .anchor-link,
h2:hover .anchor-link,
h3:hover .anchor-link,
h4:hover .anchor-link,
h5:hover .anchor-link,
h6:hover .anchor-link {
  visibility: visible;
}
.text_cell.rendered .input_area {
  display: none;
}
.text_cell.rendered .rendered_html {
  overflow-x: auto;
  overflow-y: hidden;
}
.text_cell.unrendered .text_cell_render {
  display: none;
}
.cm-header-1,
.cm-header-2,
.cm-header-3,
.cm-header-4,
.cm-header-5,
.cm-header-6 {
  font-weight: bold;
  font-family: "Helvetica Neue", Helvetica, Arial, sans-serif;
}
.cm-header-1 {
  font-size: 185.7%;
}
.cm-header-2 {
  font-size: 157.1%;
}
.cm-header-3 {
  font-size: 128.6%;
}
.cm-header-4 {
  font-size: 110%;
}
.cm-header-5 {
  font-size: 100%;
  font-style: italic;
}
.cm-header-6 {
  font-size: 100%;
  font-style: italic;
}
/*!
*
* IPython notebook webapp
*
*/
@media (max-width: 767px) {
  .notebook_app {
    padding-left: 0px;
    padding-right: 0px;
  }
}
#ipython-main-app {
  box-sizing: border-box;
  -moz-box-sizing: border-box;
  -webkit-box-sizing: border-box;
  height: 100%;
}
div#notebook_panel {
  margin: 0px;
  padding: 0px;
  box-sizing: border-box;
  -moz-box-sizing: border-box;
  -webkit-box-sizing: border-box;
  height: 100%;
}
div#notebook {
  font-size: 14px;
  line-height: 20px;
  overflow-y: hidden;
  overflow-x: auto;
  width: 100%;
  /* This spaces the page away from the edge of the notebook area */
  padding-top: 20px;
  margin: 0px;
  outline: none;
  box-sizing: border-box;
  -moz-box-sizing: border-box;
  -webkit-box-sizing: border-box;
  min-height: 100%;
}
@media not print {
  #notebook-container {
    padding: 15px;
    background-color: #fff;
    min-height: 0;
    -webkit-box-shadow: 0px 0px 12px 1px rgba(87, 87, 87, 0.2);
    box-shadow: 0px 0px 12px 1px rgba(87, 87, 87, 0.2);
  }
}
@media print {
  #notebook-container {
    width: 100%;
  }
}
div.ui-widget-content {
  border: 1px solid #ababab;
  outline: none;
}
pre.dialog {
  background-color: #f7f7f7;
  border: 1px solid #ddd;
  border-radius: 2px;
  padding: 0.4em;
  padding-left: 2em;
}
p.dialog {
  padding: 0.2em;
}
/* Word-wrap output correctly.  This is the CSS3 spelling, though Firefox seems
   to not honor it correctly.  Webkit browsers (Chrome, rekonq, Safari) do.
 */
pre,
code,
kbd,
samp {
  white-space: pre-wrap;
}
#fonttest {
  font-family: monospace;
}
p {
  margin-bottom: 0;
}
.end_space {
  min-height: 100px;
  transition: height .2s ease;
}
.notebook_app > #header {
  -webkit-box-shadow: 0px 0px 12px 1px rgba(87, 87, 87, 0.2);
  box-shadow: 0px 0px 12px 1px rgba(87, 87, 87, 0.2);
}
@media not print {
  .notebook_app {
    background-color: #EEE;
  }
}
kbd {
  border-style: solid;
  border-width: 1px;
  box-shadow: none;
  margin: 2px;
  padding-left: 2px;
  padding-right: 2px;
  padding-top: 1px;
  padding-bottom: 1px;
}
/* CSS for the cell toolbar */
.celltoolbar {
  border: thin solid #CFCFCF;
  border-bottom: none;
  background: #EEE;
  border-radius: 2px 2px 0px 0px;
  width: 100%;
  height: 29px;
  padding-right: 4px;
  /* Old browsers */
  display: -webkit-box;
  -webkit-box-orient: horizontal;
  -webkit-box-align: stretch;
  display: -moz-box;
  -moz-box-orient: horizontal;
  -moz-box-align: stretch;
  display: box;
  box-orient: horizontal;
  box-align: stretch;
  /* Modern browsers */
  display: flex;
  flex-direction: row;
  align-items: stretch;
  /* Old browsers */
  -webkit-box-pack: end;
  -moz-box-pack: end;
  box-pack: end;
  /* Modern browsers */
  justify-content: flex-end;
  display: -webkit-flex;
}
@media print {
  .celltoolbar {
    display: none;
  }
}
.ctb_hideshow {
  display: none;
  vertical-align: bottom;
}
/* ctb_show is added to the ctb_hideshow div to show the cell toolbar.
   Cell toolbars are only shown when the ctb_global_show class is also set.
*/
.ctb_global_show .ctb_show.ctb_hideshow {
  display: block;
}
.ctb_global_show .ctb_show + .input_area,
.ctb_global_show .ctb_show + div.text_cell_input,
.ctb_global_show .ctb_show ~ div.text_cell_render {
  border-top-right-radius: 0px;
  border-top-left-radius: 0px;
}
.ctb_global_show .ctb_show ~ div.text_cell_render {
  border: 1px solid #cfcfcf;
}
.celltoolbar {
  font-size: 87%;
  padding-top: 3px;
}
.celltoolbar select {
  display: block;
  width: 100%;
  height: 32px;
  padding: 6px 12px;
  font-size: 13px;
  line-height: 1.42857143;
  color: #555555;
  background-color: #fff;
  background-image: none;
  border: 1px solid #ccc;
  border-radius: 2px;
  -webkit-box-shadow: inset 0 1px 1px rgba(0, 0, 0, 0.075);
  box-shadow: inset 0 1px 1px rgba(0, 0, 0, 0.075);
  -webkit-transition: border-color ease-in-out .15s, box-shadow ease-in-out .15s;
  -o-transition: border-color ease-in-out .15s, box-shadow ease-in-out .15s;
  transition: border-color ease-in-out .15s, box-shadow ease-in-out .15s;
  height: 30px;
  padding: 5px 10px;
  font-size: 12px;
  line-height: 1.5;
  border-radius: 1px;
  width: inherit;
  font-size: inherit;
  height: 22px;
  padding: 0px;
  display: inline-block;
}
.celltoolbar select:focus {
  border-color: #66afe9;
  outline: 0;
  -webkit-box-shadow: inset 0 1px 1px rgba(0,0,0,.075), 0 0 8px rgba(102, 175, 233, 0.6);
  box-shadow: inset 0 1px 1px rgba(0,0,0,.075), 0 0 8px rgba(102, 175, 233, 0.6);
}
.celltoolbar select::-moz-placeholder {
  color: #999;
  opacity: 1;
}
.celltoolbar select:-ms-input-placeholder {
  color: #999;
}
.celltoolbar select::-webkit-input-placeholder {
  color: #999;
}
.celltoolbar select::-ms-expand {
  border: 0;
  background-color: transparent;
}
.celltoolbar select[disabled],
.celltoolbar select[readonly],
fieldset[disabled] .celltoolbar select {
  background-color: #eeeeee;
  opacity: 1;
}
.celltoolbar select[disabled],
fieldset[disabled] .celltoolbar select {
  cursor: not-allowed;
}
textarea.celltoolbar select {
  height: auto;
}
select.celltoolbar select {
  height: 30px;
  line-height: 30px;
}
textarea.celltoolbar select,
select[multiple].celltoolbar select {
  height: auto;
}
.celltoolbar label {
  margin-left: 5px;
  margin-right: 5px;
}
.completions {
  position: absolute;
  z-index: 110;
  overflow: hidden;
  border: 1px solid #ababab;
  border-radius: 2px;
  -webkit-box-shadow: 0px 6px 10px -1px #adadad;
  box-shadow: 0px 6px 10px -1px #adadad;
  line-height: 1;
}
.completions select {
  background: white;
  outline: none;
  border: none;
  padding: 0px;
  margin: 0px;
  overflow: auto;
  font-family: monospace;
  font-size: 110%;
  color: #000;
  width: auto;
}
.completions select option.context {
  color: #286090;
}
#kernel_logo_widget {
  float: right !important;
  float: right;
}
#kernel_logo_widget .current_kernel_logo {
  display: none;
  margin-top: -1px;
  margin-bottom: -1px;
  width: 32px;
  height: 32px;
}
#menubar {
  box-sizing: border-box;
  -moz-box-sizing: border-box;
  -webkit-box-sizing: border-box;
  margin-top: 1px;
}
#menubar .navbar {
  border-top: 1px;
  border-radius: 0px 0px 2px 2px;
  margin-bottom: 0px;
}
#menubar .navbar-toggle {
  float: left;
  padding-top: 7px;
  padding-bottom: 7px;
  border: none;
}
#menubar .navbar-collapse {
  clear: left;
}
.nav-wrapper {
  border-bottom: 1px solid #e7e7e7;
}
i.menu-icon {
  padding-top: 4px;
}
ul#help_menu li a {
  overflow: hidden;
  padding-right: 2.2em;
}
ul#help_menu li a i {
  margin-right: -1.2em;
}
.dropdown-submenu {
  position: relative;
}
.dropdown-submenu > .dropdown-menu {
  top: 0;
  left: 100%;
  margin-top: -6px;
  margin-left: -1px;
}
.dropdown-submenu:hover > .dropdown-menu {
  display: block;
}
.dropdown-submenu > a:after {
  display: inline-block;
  font: normal normal normal 14px/1 FontAwesome;
  font-size: inherit;
  text-rendering: auto;
  -webkit-font-smoothing: antialiased;
  -moz-osx-font-smoothing: grayscale;
  display: block;
  content: "\f0da";
  float: right;
  color: #333333;
  margin-top: 2px;
  margin-right: -10px;
}
.dropdown-submenu > a:after.pull-left {
  margin-right: .3em;
}
.dropdown-submenu > a:after.pull-right {
  margin-left: .3em;
}
.dropdown-submenu:hover > a:after {
  color: #262626;
}
.dropdown-submenu.pull-left {
  float: none;
}
.dropdown-submenu.pull-left > .dropdown-menu {
  left: -100%;
  margin-left: 10px;
}
#notification_area {
  float: right !important;
  float: right;
  z-index: 10;
}
.indicator_area {
  float: right !important;
  float: right;
  color: #777;
  margin-left: 5px;
  margin-right: 5px;
  width: 11px;
  z-index: 10;
  text-align: center;
  width: auto;
}
#kernel_indicator {
  float: right !important;
  float: right;
  color: #777;
  margin-left: 5px;
  margin-right: 5px;
  width: 11px;
  z-index: 10;
  text-align: center;
  width: auto;
  border-left: 1px solid;
}
#kernel_indicator .kernel_indicator_name {
  padding-left: 5px;
  padding-right: 5px;
}
#modal_indicator {
  float: right !important;
  float: right;
  color: #777;
  margin-left: 5px;
  margin-right: 5px;
  width: 11px;
  z-index: 10;
  text-align: center;
  width: auto;
}
#readonly-indicator {
  float: right !important;
  float: right;
  color: #777;
  margin-left: 5px;
  margin-right: 5px;
  width: 11px;
  z-index: 10;
  text-align: center;
  width: auto;
  margin-top: 2px;
  margin-bottom: 0px;
  margin-left: 0px;
  margin-right: 0px;
  display: none;
}
.modal_indicator:before {
  width: 1.28571429em;
  text-align: center;
}
.edit_mode .modal_indicator:before {
  display: inline-block;
  font: normal normal normal 14px/1 FontAwesome;
  font-size: inherit;
  text-rendering: auto;
  -webkit-font-smoothing: antialiased;
  -moz-osx-font-smoothing: grayscale;
  content: "\f040";
}
.edit_mode .modal_indicator:before.pull-left {
  margin-right: .3em;
}
.edit_mode .modal_indicator:before.pull-right {
  margin-left: .3em;
}
.command_mode .modal_indicator:before {
  display: inline-block;
  font: normal normal normal 14px/1 FontAwesome;
  font-size: inherit;
  text-rendering: auto;
  -webkit-font-smoothing: antialiased;
  -moz-osx-font-smoothing: grayscale;
  content: ' ';
}
.command_mode .modal_indicator:before.pull-left {
  margin-right: .3em;
}
.command_mode .modal_indicator:before.pull-right {
  margin-left: .3em;
}
.kernel_idle_icon:before {
  display: inline-block;
  font: normal normal normal 14px/1 FontAwesome;
  font-size: inherit;
  text-rendering: auto;
  -webkit-font-smoothing: antialiased;
  -moz-osx-font-smoothing: grayscale;
  content: "\f10c";
}
.kernel_idle_icon:before.pull-left {
  margin-right: .3em;
}
.kernel_idle_icon:before.pull-right {
  margin-left: .3em;
}
.kernel_busy_icon:before {
  display: inline-block;
  font: normal normal normal 14px/1 FontAwesome;
  font-size: inherit;
  text-rendering: auto;
  -webkit-font-smoothing: antialiased;
  -moz-osx-font-smoothing: grayscale;
  content: "\f111";
}
.kernel_busy_icon:before.pull-left {
  margin-right: .3em;
}
.kernel_busy_icon:before.pull-right {
  margin-left: .3em;
}
.kernel_dead_icon:before {
  display: inline-block;
  font: normal normal normal 14px/1 FontAwesome;
  font-size: inherit;
  text-rendering: auto;
  -webkit-font-smoothing: antialiased;
  -moz-osx-font-smoothing: grayscale;
  content: "\f1e2";
}
.kernel_dead_icon:before.pull-left {
  margin-right: .3em;
}
.kernel_dead_icon:before.pull-right {
  margin-left: .3em;
}
.kernel_disconnected_icon:before {
  display: inline-block;
  font: normal normal normal 14px/1 FontAwesome;
  font-size: inherit;
  text-rendering: auto;
  -webkit-font-smoothing: antialiased;
  -moz-osx-font-smoothing: grayscale;
  content: "\f127";
}
.kernel_disconnected_icon:before.pull-left {
  margin-right: .3em;
}
.kernel_disconnected_icon:before.pull-right {
  margin-left: .3em;
}
.notification_widget {
  color: #777;
  z-index: 10;
  background: rgba(240, 240, 240, 0.5);
  margin-right: 4px;
  color: #333;
  background-color: #fff;
  border-color: #ccc;
}
.notification_widget:focus,
.notification_widget.focus {
  color: #333;
  background-color: #e6e6e6;
  border-color: #8c8c8c;
}
.notification_widget:hover {
  color: #333;
  background-color: #e6e6e6;
  border-color: #adadad;
}
.notification_widget:active,
.notification_widget.active,
.open > .dropdown-toggle.notification_widget {
  color: #333;
  background-color: #e6e6e6;
  border-color: #adadad;
}
.notification_widget:active:hover,
.notification_widget.active:hover,
.open > .dropdown-toggle.notification_widget:hover,
.notification_widget:active:focus,
.notification_widget.active:focus,
.open > .dropdown-toggle.notification_widget:focus,
.notification_widget:active.focus,
.notification_widget.active.focus,
.open > .dropdown-toggle.notification_widget.focus {
  color: #333;
  background-color: #d4d4d4;
  border-color: #8c8c8c;
}
.notification_widget:active,
.notification_widget.active,
.open > .dropdown-toggle.notification_widget {
  background-image: none;
}
.notification_widget.disabled:hover,
.notification_widget[disabled]:hover,
fieldset[disabled] .notification_widget:hover,
.notification_widget.disabled:focus,
.notification_widget[disabled]:focus,
fieldset[disabled] .notification_widget:focus,
.notification_widget.disabled.focus,
.notification_widget[disabled].focus,
fieldset[disabled] .notification_widget.focus {
  background-color: #fff;
  border-color: #ccc;
}
.notification_widget .badge {
  color: #fff;
  background-color: #333;
}
.notification_widget.warning {
  color: #fff;
  background-color: #f0ad4e;
  border-color: #eea236;
}
.notification_widget.warning:focus,
.notification_widget.warning.focus {
  color: #fff;
  background-color: #ec971f;
  border-color: #985f0d;
}
.notification_widget.warning:hover {
  color: #fff;
  background-color: #ec971f;
  border-color: #d58512;
}
.notification_widget.warning:active,
.notification_widget.warning.active,
.open > .dropdown-toggle.notification_widget.warning {
  color: #fff;
  background-color: #ec971f;
  border-color: #d58512;
}
.notification_widget.warning:active:hover,
.notification_widget.warning.active:hover,
.open > .dropdown-toggle.notification_widget.warning:hover,
.notification_widget.warning:active:focus,
.notification_widget.warning.active:focus,
.open > .dropdown-toggle.notification_widget.warning:focus,
.notification_widget.warning:active.focus,
.notification_widget.warning.active.focus,
.open > .dropdown-toggle.notification_widget.warning.focus {
  color: #fff;
  background-color: #d58512;
  border-color: #985f0d;
}
.notification_widget.warning:active,
.notification_widget.warning.active,
.open > .dropdown-toggle.notification_widget.warning {
  background-image: none;
}
.notification_widget.warning.disabled:hover,
.notification_widget.warning[disabled]:hover,
fieldset[disabled] .notification_widget.warning:hover,
.notification_widget.warning.disabled:focus,
.notification_widget.warning[disabled]:focus,
fieldset[disabled] .notification_widget.warning:focus,
.notification_widget.warning.disabled.focus,
.notification_widget.warning[disabled].focus,
fieldset[disabled] .notification_widget.warning.focus {
  background-color: #f0ad4e;
  border-color: #eea236;
}
.notification_widget.warning .badge {
  color: #f0ad4e;
  background-color: #fff;
}
.notification_widget.success {
  color: #fff;
  background-color: #5cb85c;
  border-color: #4cae4c;
}
.notification_widget.success:focus,
.notification_widget.success.focus {
  color: #fff;
  background-color: #449d44;
  border-color: #255625;
}
.notification_widget.success:hover {
  color: #fff;
  background-color: #449d44;
  border-color: #398439;
}
.notification_widget.success:active,
.notification_widget.success.active,
.open > .dropdown-toggle.notification_widget.success {
  color: #fff;
  background-color: #449d44;
  border-color: #398439;
}
.notification_widget.success:active:hover,
.notification_widget.success.active:hover,
.open > .dropdown-toggle.notification_widget.success:hover,
.notification_widget.success:active:focus,
.notification_widget.success.active:focus,
.open > .dropdown-toggle.notification_widget.success:focus,
.notification_widget.success:active.focus,
.notification_widget.success.active.focus,
.open > .dropdown-toggle.notification_widget.success.focus {
  color: #fff;
  background-color: #398439;
  border-color: #255625;
}
.notification_widget.success:active,
.notification_widget.success.active,
.open > .dropdown-toggle.notification_widget.success {
  background-image: none;
}
.notification_widget.success.disabled:hover,
.notification_widget.success[disabled]:hover,
fieldset[disabled] .notification_widget.success:hover,
.notification_widget.success.disabled:focus,
.notification_widget.success[disabled]:focus,
fieldset[disabled] .notification_widget.success:focus,
.notification_widget.success.disabled.focus,
.notification_widget.success[disabled].focus,
fieldset[disabled] .notification_widget.success.focus {
  background-color: #5cb85c;
  border-color: #4cae4c;
}
.notification_widget.success .badge {
  color: #5cb85c;
  background-color: #fff;
}
.notification_widget.info {
  color: #fff;
  background-color: #5bc0de;
  border-color: #46b8da;
}
.notification_widget.info:focus,
.notification_widget.info.focus {
  color: #fff;
  background-color: #31b0d5;
  border-color: #1b6d85;
}
.notification_widget.info:hover {
  color: #fff;
  background-color: #31b0d5;
  border-color: #269abc;
}
.notification_widget.info:active,
.notification_widget.info.active,
.open > .dropdown-toggle.notification_widget.info {
  color: #fff;
  background-color: #31b0d5;
  border-color: #269abc;
}
.notification_widget.info:active:hover,
.notification_widget.info.active:hover,
.open > .dropdown-toggle.notification_widget.info:hover,
.notification_widget.info:active:focus,
.notification_widget.info.active:focus,
.open > .dropdown-toggle.notification_widget.info:focus,
.notification_widget.info:active.focus,
.notification_widget.info.active.focus,
.open > .dropdown-toggle.notification_widget.info.focus {
  color: #fff;
  background-color: #269abc;
  border-color: #1b6d85;
}
.notification_widget.info:active,
.notification_widget.info.active,
.open > .dropdown-toggle.notification_widget.info {
  background-image: none;
}
.notification_widget.info.disabled:hover,
.notification_widget.info[disabled]:hover,
fieldset[disabled] .notification_widget.info:hover,
.notification_widget.info.disabled:focus,
.notification_widget.info[disabled]:focus,
fieldset[disabled] .notification_widget.info:focus,
.notification_widget.info.disabled.focus,
.notification_widget.info[disabled].focus,
fieldset[disabled] .notification_widget.info.focus {
  background-color: #5bc0de;
  border-color: #46b8da;
}
.notification_widget.info .badge {
  color: #5bc0de;
  background-color: #fff;
}
.notification_widget.danger {
  color: #fff;
  background-color: #d9534f;
  border-color: #d43f3a;
}
.notification_widget.danger:focus,
.notification_widget.danger.focus {
  color: #fff;
  background-color: #c9302c;
  border-color: #761c19;
}
.notification_widget.danger:hover {
  color: #fff;
  background-color: #c9302c;
  border-color: #ac2925;
}
.notification_widget.danger:active,
.notification_widget.danger.active,
.open > .dropdown-toggle.notification_widget.danger {
  color: #fff;
  background-color: #c9302c;
  border-color: #ac2925;
}
.notification_widget.danger:active:hover,
.notification_widget.danger.active:hover,
.open > .dropdown-toggle.notification_widget.danger:hover,
.notification_widget.danger:active:focus,
.notification_widget.danger.active:focus,
.open > .dropdown-toggle.notification_widget.danger:focus,
.notification_widget.danger:active.focus,
.notification_widget.danger.active.focus,
.open > .dropdown-toggle.notification_widget.danger.focus {
  color: #fff;
  background-color: #ac2925;
  border-color: #761c19;
}
.notification_widget.danger:active,
.notification_widget.danger.active,
.open > .dropdown-toggle.notification_widget.danger {
  background-image: none;
}
.notification_widget.danger.disabled:hover,
.notification_widget.danger[disabled]:hover,
fieldset[disabled] .notification_widget.danger:hover,
.notification_widget.danger.disabled:focus,
.notification_widget.danger[disabled]:focus,
fieldset[disabled] .notification_widget.danger:focus,
.notification_widget.danger.disabled.focus,
.notification_widget.danger[disabled].focus,
fieldset[disabled] .notification_widget.danger.focus {
  background-color: #d9534f;
  border-color: #d43f3a;
}
.notification_widget.danger .badge {
  color: #d9534f;
  background-color: #fff;
}
div#pager {
  background-color: #fff;
  font-size: 14px;
  line-height: 20px;
  overflow: hidden;
  display: none;
  position: fixed;
  bottom: 0px;
  width: 100%;
  max-height: 50%;
  padding-top: 8px;
  -webkit-box-shadow: 0px 0px 12px 1px rgba(87, 87, 87, 0.2);
  box-shadow: 0px 0px 12px 1px rgba(87, 87, 87, 0.2);
  /* Display over codemirror */
  z-index: 100;
  /* Hack which prevents jquery ui resizable from changing top. */
  top: auto !important;
}
div#pager pre {
  line-height: 1.21429em;
  color: #000;
  background-color: #f7f7f7;
  padding: 0.4em;
}
div#pager #pager-button-area {
  position: absolute;
  top: 8px;
  right: 20px;
}
div#pager #pager-contents {
  position: relative;
  overflow: auto;
  width: 100%;
  height: 100%;
}
div#pager #pager-contents #pager-container {
  position: relative;
  padding: 15px 0px;
  box-sizing: border-box;
  -moz-box-sizing: border-box;
  -webkit-box-sizing: border-box;
}
div#pager .ui-resizable-handle {
  top: 0px;
  height: 8px;
  background: #f7f7f7;
  border-top: 1px solid #cfcfcf;
  border-bottom: 1px solid #cfcfcf;
  /* This injects handle bars (a short, wide = symbol) for 
        the resize handle. */
}
div#pager .ui-resizable-handle::after {
  content: '';
  top: 2px;
  left: 50%;
  height: 3px;
  width: 30px;
  margin-left: -15px;
  position: absolute;
  border-top: 1px solid #cfcfcf;
}
.quickhelp {
  /* Old browsers */
  display: -webkit-box;
  -webkit-box-orient: horizontal;
  -webkit-box-align: stretch;
  display: -moz-box;
  -moz-box-orient: horizontal;
  -moz-box-align: stretch;
  display: box;
  box-orient: horizontal;
  box-align: stretch;
  /* Modern browsers */
  display: flex;
  flex-direction: row;
  align-items: stretch;
  line-height: 1.8em;
}
.shortcut_key {
  display: inline-block;
  width: 21ex;
  text-align: right;
  font-family: monospace;
}
.shortcut_descr {
  display: inline-block;
  /* Old browsers */
  -webkit-box-flex: 1;
  -moz-box-flex: 1;
  box-flex: 1;
  /* Modern browsers */
  flex: 1;
}
span.save_widget {
  margin-top: 6px;
}
span.save_widget span.filename {
  height: 1em;
  line-height: 1em;
  padding: 3px;
  margin-left: 16px;
  border: none;
  font-size: 146.5%;
  border-radius: 2px;
}
span.save_widget span.filename:hover {
  background-color: #e6e6e6;
}
span.checkpoint_status,
span.autosave_status {
  font-size: small;
}
@media (max-width: 767px) {
  span.save_widget {
    font-size: small;
  }
  span.checkpoint_status,
  span.autosave_status {
    display: none;
  }
}
@media (min-width: 768px) and (max-width: 991px) {
  span.checkpoint_status {
    display: none;
  }
  span.autosave_status {
    font-size: x-small;
  }
}
.toolbar {
  padding: 0px;
  margin-left: -5px;
  margin-top: 2px;
  margin-bottom: 5px;
  box-sizing: border-box;
  -moz-box-sizing: border-box;
  -webkit-box-sizing: border-box;
}
.toolbar select,
.toolbar label {
  width: auto;
  vertical-align: middle;
  margin-right: 2px;
  margin-bottom: 0px;
  display: inline;
  font-size: 92%;
  margin-left: 0.3em;
  margin-right: 0.3em;
  padding: 0px;
  padding-top: 3px;
}
.toolbar .btn {
  padding: 2px 8px;
}
.toolbar .btn-group {
  margin-top: 0px;
  margin-left: 5px;
}
#maintoolbar {
  margin-bottom: -3px;
  margin-top: -8px;
  border: 0px;
  min-height: 27px;
  margin-left: 0px;
  padding-top: 11px;
  padding-bottom: 3px;
}
#maintoolbar .navbar-text {
  float: none;
  vertical-align: middle;
  text-align: right;
  margin-left: 5px;
  margin-right: 0px;
  margin-top: 0px;
}
.select-xs {
  height: 24px;
}
.pulse,
.dropdown-menu > li > a.pulse,
li.pulse > a.dropdown-toggle,
li.pulse.open > a.dropdown-toggle {
  background-color: #F37626;
  color: white;
}
/**
 * Primary styles
 *
 * Author: Jupyter Development Team
 */
/** WARNING IF YOU ARE EDITTING THIS FILE, if this is a .css file, It has a lot
 * of chance of beeing generated from the ../less/[samename].less file, you can
 * try to get back the less file by reverting somme commit in history
 **/
/*
 * We'll try to get something pretty, so we
 * have some strange css to have the scroll bar on
 * the left with fix button on the top right of the tooltip
 */
@-moz-keyframes fadeOut {
  from {
    opacity: 1;
  }
  to {
    opacity: 0;
  }
}
@-webkit-keyframes fadeOut {
  from {
    opacity: 1;
  }
  to {
    opacity: 0;
  }
}
@-moz-keyframes fadeIn {
  from {
    opacity: 0;
  }
  to {
    opacity: 1;
  }
}
@-webkit-keyframes fadeIn {
  from {
    opacity: 0;
  }
  to {
    opacity: 1;
  }
}
/*properties of tooltip after "expand"*/
.bigtooltip {
  overflow: auto;
  height: 200px;
  -webkit-transition-property: height;
  -webkit-transition-duration: 500ms;
  -moz-transition-property: height;
  -moz-transition-duration: 500ms;
  transition-property: height;
  transition-duration: 500ms;
}
/*properties of tooltip before "expand"*/
.smalltooltip {
  -webkit-transition-property: height;
  -webkit-transition-duration: 500ms;
  -moz-transition-property: height;
  -moz-transition-duration: 500ms;
  transition-property: height;
  transition-duration: 500ms;
  text-overflow: ellipsis;
  overflow: hidden;
  height: 80px;
}
.tooltipbuttons {
  position: absolute;
  padding-right: 15px;
  top: 0px;
  right: 0px;
}
.tooltiptext {
  /*avoid the button to overlap on some docstring*/
  padding-right: 30px;
}
.ipython_tooltip {
  max-width: 700px;
  /*fade-in animation when inserted*/
  -webkit-animation: fadeOut 400ms;
  -moz-animation: fadeOut 400ms;
  animation: fadeOut 400ms;
  -webkit-animation: fadeIn 400ms;
  -moz-animation: fadeIn 400ms;
  animation: fadeIn 400ms;
  vertical-align: middle;
  background-color: #f7f7f7;
  overflow: visible;
  border: #ababab 1px solid;
  outline: none;
  padding: 3px;
  margin: 0px;
  padding-left: 7px;
  font-family: monospace;
  min-height: 50px;
  -moz-box-shadow: 0px 6px 10px -1px #adadad;
  -webkit-box-shadow: 0px 6px 10px -1px #adadad;
  box-shadow: 0px 6px 10px -1px #adadad;
  border-radius: 2px;
  position: absolute;
  z-index: 1000;
}
.ipython_tooltip a {
  float: right;
}
.ipython_tooltip .tooltiptext pre {
  border: 0;
  border-radius: 0;
  font-size: 100%;
  background-color: #f7f7f7;
}
.pretooltiparrow {
  left: 0px;
  margin: 0px;
  top: -16px;
  width: 40px;
  height: 16px;
  overflow: hidden;
  position: absolute;
}
.pretooltiparrow:before {
  background-color: #f7f7f7;
  border: 1px #ababab solid;
  z-index: 11;
  content: "";
  position: absolute;
  left: 15px;
  top: 10px;
  width: 25px;
  height: 25px;
  -webkit-transform: rotate(45deg);
  -moz-transform: rotate(45deg);
  -ms-transform: rotate(45deg);
  -o-transform: rotate(45deg);
}
ul.typeahead-list i {
  margin-left: -10px;
  width: 18px;
}
ul.typeahead-list {
  max-height: 80vh;
  overflow: auto;
}
ul.typeahead-list > li > a {
  /** Firefox bug **/
  /* see https://github.com/jupyter/notebook/issues/559 */
  white-space: normal;
}
.cmd-palette .modal-body {
  padding: 7px;
}
.cmd-palette form {
  background: white;
}
.cmd-palette input {
  outline: none;
}
.no-shortcut {
  display: none;
}
.command-shortcut:before {
  content: "(command)";
  padding-right: 3px;
  color: #777777;
}
.edit-shortcut:before {
  content: "(edit)";
  padding-right: 3px;
  color: #777777;
}
#find-and-replace #replace-preview .match,
#find-and-replace #replace-preview .insert {
  background-color: #BBDEFB;
  border-color: #90CAF9;
  border-style: solid;
  border-width: 1px;
  border-radius: 0px;
}
#find-and-replace #replace-preview .replace .match {
  background-color: #FFCDD2;
  border-color: #EF9A9A;
  border-radius: 0px;
}
#find-and-replace #replace-preview .replace .insert {
  background-color: #C8E6C9;
  border-color: #A5D6A7;
  border-radius: 0px;
}
#find-and-replace #replace-preview {
  max-height: 60vh;
  overflow: auto;
}
#find-and-replace #replace-preview pre {
  padding: 5px 10px;
}
.terminal-app {
  background: #EEE;
}
.terminal-app #header {
  background: #fff;
  -webkit-box-shadow: 0px 0px 12px 1px rgba(87, 87, 87, 0.2);
  box-shadow: 0px 0px 12px 1px rgba(87, 87, 87, 0.2);
}
.terminal-app .terminal {
  width: 100%;
  float: left;
  font-family: monospace;
  color: white;
  background: black;
  padding: 0.4em;
  border-radius: 2px;
  -webkit-box-shadow: 0px 0px 12px 1px rgba(87, 87, 87, 0.4);
  box-shadow: 0px 0px 12px 1px rgba(87, 87, 87, 0.4);
}
.terminal-app .terminal,
.terminal-app .terminal dummy-screen {
  line-height: 1em;
  font-size: 14px;
}
.terminal-app .terminal .xterm-rows {
  padding: 10px;
}
.terminal-app .terminal-cursor {
  color: black;
  background: white;
}
.terminal-app #terminado-container {
  margin-top: 20px;
}
/*# sourceMappingURL=style.min.css.map */
    </style>
<style type="text/css">
    .highlight .hll { background-color: #ffffcc }
.highlight  { background: #f8f8f8; }
.highlight .c { color: #408080; font-style: italic } /* Comment */
.highlight .err { border: 1px solid #FF0000 } /* Error */
.highlight .k { color: #008000; font-weight: bold } /* Keyword */
.highlight .o { color: #666666 } /* Operator */
.highlight .ch { color: #408080; font-style: italic } /* Comment.Hashbang */
.highlight .cm { color: #408080; font-style: italic } /* Comment.Multiline */
.highlight .cp { color: #BC7A00 } /* Comment.Preproc */
.highlight .cpf { color: #408080; font-style: italic } /* Comment.PreprocFile */
.highlight .c1 { color: #408080; font-style: italic } /* Comment.Single */
.highlight .cs { color: #408080; font-style: italic } /* Comment.Special */
.highlight .gd { color: #A00000 } /* Generic.Deleted */
.highlight .ge { font-style: italic } /* Generic.Emph */
.highlight .gr { color: #FF0000 } /* Generic.Error */
.highlight .gh { color: #000080; font-weight: bold } /* Generic.Heading */
.highlight .gi { color: #00A000 } /* Generic.Inserted */
.highlight .go { color: #888888 } /* Generic.Output */
.highlight .gp { color: #000080; font-weight: bold } /* Generic.Prompt */
.highlight .gs { font-weight: bold } /* Generic.Strong */
.highlight .gu { color: #800080; font-weight: bold } /* Generic.Subheading */
.highlight .gt { color: #0044DD } /* Generic.Traceback */
.highlight .kc { color: #008000; font-weight: bold } /* Keyword.Constant */
.highlight .kd { color: #008000; font-weight: bold } /* Keyword.Declaration */
.highlight .kn { color: #008000; font-weight: bold } /* Keyword.Namespace */
.highlight .kp { color: #008000 } /* Keyword.Pseudo */
.highlight .kr { color: #008000; font-weight: bold } /* Keyword.Reserved */
.highlight .kt { color: #B00040 } /* Keyword.Type */
.highlight .m { color: #666666 } /* Literal.Number */
.highlight .s { color: #BA2121 } /* Literal.String */
.highlight .na { color: #7D9029 } /* Name.Attribute */
.highlight .nb { color: #008000 } /* Name.Builtin */
.highlight .nc { color: #0000FF; font-weight: bold } /* Name.Class */
.highlight .no { color: #880000 } /* Name.Constant */
.highlight .nd { color: #AA22FF } /* Name.Decorator */
.highlight .ni { color: #999999; font-weight: bold } /* Name.Entity */
.highlight .ne { color: #D2413A; font-weight: bold } /* Name.Exception */
.highlight .nf { color: #0000FF } /* Name.Function */
.highlight .nl { color: #A0A000 } /* Name.Label */
.highlight .nn { color: #0000FF; font-weight: bold } /* Name.Namespace */
.highlight .nt { color: #008000; font-weight: bold } /* Name.Tag */
.highlight .nv { color: #19177C } /* Name.Variable */
.highlight .ow { color: #AA22FF; font-weight: bold } /* Operator.Word */
.highlight .w { color: #bbbbbb } /* Text.Whitespace */
.highlight .mb { color: #666666 } /* Literal.Number.Bin */
.highlight .mf { color: #666666 } /* Literal.Number.Float */
.highlight .mh { color: #666666 } /* Literal.Number.Hex */
.highlight .mi { color: #666666 } /* Literal.Number.Integer */
.highlight .mo { color: #666666 } /* Literal.Number.Oct */
.highlight .sa { color: #BA2121 } /* Literal.String.Affix */
.highlight .sb { color: #BA2121 } /* Literal.String.Backtick */
.highlight .sc { color: #BA2121 } /* Literal.String.Char */
.highlight .dl { color: #BA2121 } /* Literal.String.Delimiter */
.highlight .sd { color: #BA2121; font-style: italic } /* Literal.String.Doc */
.highlight .s2 { color: #BA2121 } /* Literal.String.Double */
.highlight .se { color: #BB6622; font-weight: bold } /* Literal.String.Escape */
.highlight .sh { color: #BA2121 } /* Literal.String.Heredoc */
.highlight .si { color: #BB6688; font-weight: bold } /* Literal.String.Interpol */
.highlight .sx { color: #008000 } /* Literal.String.Other */
.highlight .sr { color: #BB6688 } /* Literal.String.Regex */
.highlight .s1 { color: #BA2121 } /* Literal.String.Single */
.highlight .ss { color: #19177C } /* Literal.String.Symbol */
.highlight .bp { color: #008000 } /* Name.Builtin.Pseudo */
.highlight .fm { color: #0000FF } /* Name.Function.Magic */
.highlight .vc { color: #19177C } /* Name.Variable.Class */
.highlight .vg { color: #19177C } /* Name.Variable.Global */
.highlight .vi { color: #19177C } /* Name.Variable.Instance */
.highlight .vm { color: #19177C } /* Name.Variable.Magic */
.highlight .il { color: #666666 } /* Literal.Number.Integer.Long */
    </style>
<style type="text/css">
    
/* Temporary definitions which will become obsolete with Notebook release 5.0 */
.ansi-black-fg { color: #3E424D; }
.ansi-black-bg { background-color: #3E424D; }
.ansi-black-intense-fg { color: #282C36; }
.ansi-black-intense-bg { background-color: #282C36; }
.ansi-red-fg { color: #E75C58; }
.ansi-red-bg { background-color: #E75C58; }
.ansi-red-intense-fg { color: #B22B31; }
.ansi-red-intense-bg { background-color: #B22B31; }
.ansi-green-fg { color: #00A250; }
.ansi-green-bg { background-color: #00A250; }
.ansi-green-intense-fg { color: #007427; }
.ansi-green-intense-bg { background-color: #007427; }
.ansi-yellow-fg { color: #DDB62B; }
.ansi-yellow-bg { background-color: #DDB62B; }
.ansi-yellow-intense-fg { color: #B27D12; }
.ansi-yellow-intense-bg { background-color: #B27D12; }
.ansi-blue-fg { color: #208FFB; }
.ansi-blue-bg { background-color: #208FFB; }
.ansi-blue-intense-fg { color: #0065CA; }
.ansi-blue-intense-bg { background-color: #0065CA; }
.ansi-magenta-fg { color: #D160C4; }
.ansi-magenta-bg { background-color: #D160C4; }
.ansi-magenta-intense-fg { color: #A03196; }
.ansi-magenta-intense-bg { background-color: #A03196; }
.ansi-cyan-fg { color: #60C6C8; }
.ansi-cyan-bg { background-color: #60C6C8; }
.ansi-cyan-intense-fg { color: #258F8F; }
.ansi-cyan-intense-bg { background-color: #258F8F; }
.ansi-white-fg { color: #C5C1B4; }
.ansi-white-bg { background-color: #C5C1B4; }
.ansi-white-intense-fg { color: #A1A6B2; }
.ansi-white-intense-bg { background-color: #A1A6B2; }

.ansi-bold { font-weight: bold; }

    </style>


<style type="text/css">
/* Overrides of notebook CSS for static HTML export */
body {
  overflow: visible;
  padding: 8px;
}

div#notebook {
  overflow: visible;
  border-top: none;
}@media print {
  div.cell {
    display: block;
    page-break-inside: avoid;
  } 
  div.output_wrapper { 
    display: block;
    page-break-inside: avoid; 
  }
  div.output { 
    display: block;
    page-break-inside: avoid; 
  }
}
</style>

<!-- Custom stylesheet, it must be in the same directory as the html file -->
<link rel="stylesheet" href="custom.css">

<!-- Loading mathjax macro -->
<!-- Load mathjax -->
    <script src="https://cdnjs.cloudflare.com/ajax/libs/mathjax/2.7.1/MathJax.js?config=TeX-AMS_HTML"></script>
    <!-- MathJax configuration -->
    <script type="text/x-mathjax-config">
    MathJax.Hub.Config({
        tex2jax: {
            inlineMath: [ ['$','$'], ["\\(","\\)"] ],
            displayMath: [ ['$$','$$'], ["\\[","\\]"] ],
            processEscapes: true,
            processEnvironments: true
        },
        // Center justify equations in code and markdown cells. Elsewhere
        // we use CSS to left justify single line equations in code cells.
        displayAlign: 'center',
        "HTML-CSS": {
            styles: {'.MathJax_Display': {"margin": 0}},
            linebreaks: { automatic: true }
        }
    });
    </script>
    <!-- End of mathjax configuration --></head>
<body>
  <div tabindex="-1" id="notebook" class="border-box-sizing">
    <div class="container" id="notebook-container">

<div class="cell border-box-sizing text_cell rendered"><div class="prompt input_prompt">
</div>
<div class="inner_cell">
<div class="text_cell_render border-box-sizing rendered_html">
<h2 id="1.-Loading-the-NIPS-papers">1. Loading the NIPS papers<a class="anchor-link" href="#1.-Loading-the-NIPS-papers">&#182;</a></h2><p>The NIPS conference (Neural Information Processing Systems) is one of the most prestigious yearly events in the machine learning community. At each NIPS conference, a large number of research papers are published. Over 50,000 PDF files were automatically downloaded and processed to obtain a dataset on various machine learning techniques. These NIPS papers are stored in <code>datasets/papers.csv</code>. The CSV file contains information on the different NIPS papers that were published from 1987 until 2017 (30 years!). These papers discuss a wide variety of topics in machine learning, from neural networks to optimization methods and many more.
<img src="https://s3.amazonaws.com/assets.datacamp.com/production/project_158/img/nips_logo.png" alt="The logo of NIPS (Neural Information Processing Systems)"></p>
<p>First, we will explore the CSV file to determine what type of data we can use for the analysis and how it is structured. A research paper typically consists of a title, an abstract and the main text. Other data such as figures and tables were not extracted from the PDF files. Each paper discusses a novel technique or improvement. In this analysis, we will focus on analyzing these papers with natural language processing methods.</p>
</div>
</div>
</div>
<div class="cell border-box-sizing code_cell rendered">
<div class="input">
<div class="prompt input_prompt">In&nbsp;[38]:</div>
<div class="inner_cell">
    <div class="input_area">
<div class=" highlight hl-ipython3"><pre><span></span><span class="c1"># Importing modules</span>
<span class="kn">import</span> <span class="nn">pandas</span> <span class="k">as</span> <span class="nn">pd</span>
<span class="c1"># Read datasets/papers.csv into papers</span>
<span class="n">papers</span> <span class="o">=</span> <span class="n">pd</span><span class="o">.</span><span class="n">read_csv</span><span class="p">(</span><span class="s1">&#39;datasets/papers.csv&#39;</span><span class="p">)</span>

<span class="c1"># Print out the first rows of papers</span>
<span class="nb">print</span><span class="p">(</span><span class="n">papers</span><span class="o">.</span><span class="n">head</span><span class="p">())</span>
</pre></div>

</div>
</div>
</div>

<div class="output_wrapper">
<div class="output">


<div class="output_area">

<div class="prompt"></div>


<div class="output_subarea output_stream output_stdout output_text">
<pre>     id  year                                              title event_type  \
0     1  1987  Self-Organization of Associative Database and ...        NaN   
1    10  1987  A Mean Field Theory of Layer IV of Visual Cort...        NaN   
2   100  1988  Storing Covariance by the Associative Long-Ter...        NaN   
3  1000  1994  Bayesian Query Construction for Neural Network...        NaN   
4  1001  1994  Neural Network Ensembles, Cross Validation, an...        NaN   

                                            pdf_name          abstract  \
0  1-self-organization-of-associative-database-an...  Abstract Missing   
1  10-a-mean-field-theory-of-layer-iv-of-visual-c...  Abstract Missing   
2  100-storing-covariance-by-the-associative-long...  Abstract Missing   
3  1000-bayesian-query-construction-for-neural-ne...  Abstract Missing   
4  1001-neural-network-ensembles-cross-validation...  Abstract Missing   

                                          paper_text  
0  767\n\nSELF-ORGANIZATION OF ASSOCIATIVE DATABA...  
1  683\n\nA MEAN FIELD THEORY OF LAYER IV OF VISU...  
2  394\n\nSTORING COVARIANCE BY THE ASSOCIATIVE\n...  
3  Bayesian Query Construction for Neural\nNetwor...  
4  Neural Network Ensembles, Cross\nValidation, a...  
</pre>
</div>
</div>

</div>
</div>

</div>
<div class="cell border-box-sizing code_cell rendered">
<div class="input">
<div class="prompt input_prompt">In&nbsp;[39]:</div>
<div class="inner_cell">
    <div class="input_area">
<div class=" highlight hl-ipython3"><pre><span></span><span class="o">%%</span><span class="k">nose</span>

import pandas as pd

def test_papers_exists():
    assert &quot;papers&quot; in globals(), \
        &quot;The variable papers should be defined.&quot;
        
def test_papers_correctly_loaded():
    correct_papers = pd.read_csv(&quot;datasets/papers.csv&quot;)
    assert correct_papers.equals(papers), &quot;The variable papers should contain the data in papers.csv&quot;
</pre></div>

</div>
</div>
</div>

<div class="output_wrapper">
<div class="output">


<div class="output_area">

<div class="prompt"></div>





</div>

<div class="output_area">

<div class="prompt output_prompt">Out[39]:</div>




<div class="output_text output_subarea output_execute_result">
<pre>2/2 tests passed
</pre>
</div>

</div>

</div>
</div>

</div>
<div class="cell border-box-sizing text_cell rendered"><div class="prompt input_prompt">
</div>
<div class="inner_cell">
<div class="text_cell_render border-box-sizing rendered_html">
<h2 id="2.-Preparing-the-data-for-analysis">2. Preparing the data for analysis<a class="anchor-link" href="#2.-Preparing-the-data-for-analysis">&#182;</a></h2><p>For the analysis of the papers, we are only interested in the text data associated with the paper as well as the year the paper was published in.</p>
<p>We will analyze this text data using natural language processing.  Since the file contains some metadata such as id's and filenames, it is necessary to remove all the columns that do not contain useful text information.</p>
</div>
</div>
</div>
<div class="cell border-box-sizing code_cell rendered">
<div class="input">
<div class="prompt input_prompt">In&nbsp;[40]:</div>
<div class="inner_cell">
    <div class="input_area">
<div class=" highlight hl-ipython3"><pre><span></span><span class="c1"># Remove the columns</span>
<span class="n">papers</span><span class="o">.</span><span class="n">drop</span><span class="p">([</span><span class="s1">&#39;id&#39;</span><span class="p">,</span> <span class="s1">&#39;event_type&#39;</span><span class="p">,</span> <span class="s1">&#39;pdf_name&#39;</span><span class="p">],</span> <span class="n">axis</span><span class="o">=</span><span class="mi">1</span><span class="p">,</span> <span class="n">inplace</span><span class="o">=</span><span class="kc">True</span><span class="p">)</span>

<span class="c1"># Print out the first rows of papers</span>
<span class="nb">print</span><span class="p">(</span><span class="n">papers</span><span class="o">.</span><span class="n">head</span><span class="p">())</span>
</pre></div>

</div>
</div>
</div>

<div class="output_wrapper">
<div class="output">


<div class="output_area">

<div class="prompt"></div>


<div class="output_subarea output_stream output_stdout output_text">
<pre>   year                                              title          abstract  \
0  1987  Self-Organization of Associative Database and ...  Abstract Missing   
1  1987  A Mean Field Theory of Layer IV of Visual Cort...  Abstract Missing   
2  1988  Storing Covariance by the Associative Long-Ter...  Abstract Missing   
3  1994  Bayesian Query Construction for Neural Network...  Abstract Missing   
4  1994  Neural Network Ensembles, Cross Validation, an...  Abstract Missing   

                                          paper_text  
0  767\n\nSELF-ORGANIZATION OF ASSOCIATIVE DATABA...  
1  683\n\nA MEAN FIELD THEORY OF LAYER IV OF VISU...  
2  394\n\nSTORING COVARIANCE BY THE ASSOCIATIVE\n...  
3  Bayesian Query Construction for Neural\nNetwor...  
4  Neural Network Ensembles, Cross\nValidation, a...  
</pre>
</div>
</div>

</div>
</div>

</div>
<div class="cell border-box-sizing code_cell rendered">
<div class="input">
<div class="prompt input_prompt">In&nbsp;[41]:</div>
<div class="inner_cell">
    <div class="input_area">
<div class=" highlight hl-ipython3"><pre><span></span><span class="o">%%</span><span class="k">nose</span>

import pandas as pd

def test_papers_exists():
    assert &quot;papers&quot; in globals(), \
        &quot;The variable `papers` should be defined.&quot;
        
def test_papers_columns():
    assert papers.columns.size==4, \
        &quot;The variable `papers` does not contain the right amount of columns.&quot;
</pre></div>

</div>
</div>
</div>

<div class="output_wrapper">
<div class="output">


<div class="output_area">

<div class="prompt"></div>





</div>

<div class="output_area">

<div class="prompt output_prompt">Out[41]:</div>




<div class="output_text output_subarea output_execute_result">
<pre>2/2 tests passed
</pre>
</div>

</div>

</div>
</div>

</div>
<div class="cell border-box-sizing text_cell rendered"><div class="prompt input_prompt">
</div>
<div class="inner_cell">
<div class="text_cell_render border-box-sizing rendered_html">
<h2 id="3.-Plotting-how-machine-learning-has-evolved-over-time">3. Plotting how machine learning has evolved over time<a class="anchor-link" href="#3.-Plotting-how-machine-learning-has-evolved-over-time">&#182;</a></h2><p>In order to understand how the machine learning field has recently exploded in popularity, we will begin by visualizing the number of publications per year. </p>
<p>By looking at the number of published papers per year,  we can understand the extent of the machine learning 'revolution'! Typically, this significant increase in popularity is attributed to the large amounts of compute power, data and improvements in algorithms.</p>
</div>
</div>
</div>
<div class="cell border-box-sizing code_cell rendered">
<div class="input">
<div class="prompt input_prompt">In&nbsp;[42]:</div>
<div class="inner_cell">
    <div class="input_area">
<div class=" highlight hl-ipython3"><pre><span></span><span class="c1"># Group the papers by year</span>
<span class="n">groups</span> <span class="o">=</span> <span class="n">papers</span><span class="o">.</span><span class="n">groupby</span><span class="p">(</span><span class="n">by</span><span class="o">=</span><span class="s1">&#39;year&#39;</span><span class="p">)</span>

<span class="c1"># Determine the size of each group</span>
<span class="n">counts</span> <span class="o">=</span> <span class="n">groups</span><span class="p">[</span><span class="s1">&#39;year&#39;</span><span class="p">]</span><span class="o">.</span><span class="n">count</span><span class="p">()</span>

<span class="c1"># Visualise the counts as a bar plot</span>
<span class="kn">import</span> <span class="nn">matplotlib.pyplot</span> <span class="k">as</span> <span class="nn">plt</span>
<span class="o">%</span><span class="k">matplotlib</span> inline
<span class="n">counts</span><span class="o">.</span><span class="n">plot</span><span class="p">(</span><span class="n">kind</span><span class="o">=</span><span class="s1">&#39;bar&#39;</span><span class="p">)</span>
<span class="n">plt</span><span class="o">.</span><span class="n">show</span><span class="p">()</span>
</pre></div>

</div>
</div>
</div>

<div class="output_wrapper">
<div class="output">


<div class="output_area">

<div class="prompt"></div>




<div class="output_png output_subarea ">
<img src="data:image/png;base64,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
"
>
</div>

</div>

</div>
</div>

</div>
<div class="cell border-box-sizing code_cell rendered">
<div class="input">
<div class="prompt input_prompt">In&nbsp;[43]:</div>
<div class="inner_cell">
    <div class="input_area">
<div class=" highlight hl-ipython3"><pre><span></span><span class="o">%%</span><span class="k">nose</span>

# one or more tests of the students code. 
# The @solution should pass the tests.
# The purpose of the tests is to try to catch common errors and to 
# give the student a hint on how to resolve these errors.

def test_vars_exists():
    assert &quot;groups&quot; in globals(), \
        &quot;The variable groups should be defined.&quot;
    assert &quot;counts&quot; in globals(), \
        &quot;The variable counts should be defined.&quot;
        
def test_vars_columns():
    correct_groups = papers.groupby(&#39;year&#39;)
    correct_counts = correct_groups.size()
    assert correct_counts.equals(counts), &quot;The variable counts is not correctly defined.&quot;
</pre></div>

</div>
</div>
</div>

<div class="output_wrapper">
<div class="output">


<div class="output_area">

<div class="prompt"></div>





</div>

<div class="output_area">

<div class="prompt output_prompt">Out[43]:</div>




<div class="output_text output_subarea output_execute_result">
<pre>2/2 tests passed
</pre>
</div>

</div>

</div>
</div>

</div>
<div class="cell border-box-sizing text_cell rendered"><div class="prompt input_prompt">
</div>
<div class="inner_cell">
<div class="text_cell_render border-box-sizing rendered_html">
<h2 id="4.-Preprocessing-the-text-data">4. Preprocessing the text data<a class="anchor-link" href="#4.-Preprocessing-the-text-data">&#182;</a></h2><p>Let's now analyze the titles of the different papers to identify machine learning trends. First, we will perform some simple preprocessing on the titles in order to make them more amenable for analysis. We will use a regular expression to remove any punctuation in the title. Then we will perform lowercasing. We'll then print the titles of the first rows before and after applying the modification.</p>
</div>
</div>
</div>
<div class="cell border-box-sizing code_cell rendered">
<div class="input">
<div class="prompt input_prompt">In&nbsp;[44]:</div>
<div class="inner_cell">
    <div class="input_area">
<div class=" highlight hl-ipython3"><pre><span></span><span class="c1"># Load the regular expression library</span>
<span class="kn">import</span> <span class="nn">re</span>

<span class="c1"># Print the titles of the first rows </span>
<span class="nb">print</span><span class="p">(</span><span class="n">papers</span><span class="p">[</span><span class="s1">&#39;title&#39;</span><span class="p">]</span><span class="o">.</span><span class="n">head</span><span class="p">())</span>

<span class="c1"># Remove punctuation</span>
<span class="n">papers</span><span class="p">[</span><span class="s1">&#39;title_processed&#39;</span><span class="p">]</span> <span class="o">=</span> <span class="n">papers</span><span class="p">[</span><span class="s1">&#39;title&#39;</span><span class="p">]</span><span class="o">.</span><span class="n">map</span><span class="p">(</span><span class="k">lambda</span> <span class="n">x</span><span class="p">:</span> <span class="n">re</span><span class="o">.</span><span class="n">sub</span><span class="p">(</span><span class="s1">&#39;[,\.!?]&#39;</span><span class="p">,</span> <span class="s1">&#39;&#39;</span><span class="p">,</span> <span class="n">x</span><span class="p">))</span>

<span class="c1"># Convert the titles to lowercase</span>
<span class="n">papers</span><span class="p">[</span><span class="s1">&#39;title_processed&#39;</span><span class="p">]</span> <span class="o">=</span> <span class="n">papers</span><span class="p">[</span><span class="s1">&#39;title_processed&#39;</span><span class="p">]</span><span class="o">.</span><span class="n">str</span><span class="o">.</span><span class="n">lower</span><span class="p">()</span>

<span class="c1"># Print the processed titles of the first rows </span>
<span class="nb">print</span><span class="p">(</span><span class="n">papers</span><span class="p">[</span><span class="s1">&#39;title_processed&#39;</span><span class="p">]</span><span class="o">.</span><span class="n">head</span><span class="p">())</span>
</pre></div>

</div>
</div>
</div>

<div class="output_wrapper">
<div class="output">


<div class="output_area">

<div class="prompt"></div>


<div class="output_subarea output_stream output_stdout output_text">
<pre>0    Self-Organization of Associative Database and ...
1    A Mean Field Theory of Layer IV of Visual Cort...
2    Storing Covariance by the Associative Long-Ter...
3    Bayesian Query Construction for Neural Network...
4    Neural Network Ensembles, Cross Validation, an...
Name: title, dtype: object
0    self-organization of associative database and ...
1    a mean field theory of layer iv of visual cort...
2    storing covariance by the associative long-ter...
3    bayesian query construction for neural network...
4    neural network ensembles cross validation and ...
Name: title_processed, dtype: object
</pre>
</div>
</div>

</div>
</div>

</div>
<div class="cell border-box-sizing code_cell rendered">
<div class="input">
<div class="prompt input_prompt">In&nbsp;[45]:</div>
<div class="inner_cell">
    <div class="input_area">
<div class=" highlight hl-ipython3"><pre><span></span><span class="o">%%</span><span class="k">nose</span>

# one or more tests of the students code. 
# The @solution should pass the tests.
# The purpose of the tests is to try to catch common errors and to 
# give the student a hint on how to resolve these errors.

def test_processed_title_column():
    tmp = papers[&#39;title&#39;].map(lambda x: re.sub(&#39;[,\.!?]&#39;, &#39;&#39;, x))
    # Convert the titles to lowercase
    tmp = tmp.map(lambda x: x.lower())
    tmp.name = &#39;title_processed&#39;
    assert tmp.equals(papers[&#39;title_processed&#39;]), &quot;The column of processed titles is not correctly defined.&quot;
</pre></div>

</div>
</div>
</div>

<div class="output_wrapper">
<div class="output">


<div class="output_area">

<div class="prompt"></div>





</div>

<div class="output_area">

<div class="prompt output_prompt">Out[45]:</div>




<div class="output_text output_subarea output_execute_result">
<pre>1/1 tests passed
</pre>
</div>

</div>

</div>
</div>

</div>
<div class="cell border-box-sizing text_cell rendered"><div class="prompt input_prompt">
</div>
<div class="inner_cell">
<div class="text_cell_render border-box-sizing rendered_html">
<h2 id="5.--A-word-cloud-to-visualize-the-preprocessed-text-data">5.  A word cloud to visualize the preprocessed text data<a class="anchor-link" href="#5.--A-word-cloud-to-visualize-the-preprocessed-text-data">&#182;</a></h2><p>In order to verify whether the preprocessing happened correctly, we can make a word cloud of the titles of the research papers. This will give us a visual representation of the most common words. Visualisation is key to understanding whether we are still on the right track! In addition, it allows us to verify whether we need additional preprocessing before further analyzing the text data.</p>
<p>Python has a massive number of open libraries! Instead of trying to develop a method to create word clouds ourselves, we'll use Andreas Mueller's <a href="http://amueller.github.io/word_cloud/">wordcloud library</a>.</p>
</div>
</div>
</div>
<div class="cell border-box-sizing code_cell rendered">
<div class="input">
<div class="prompt input_prompt">In&nbsp;[46]:</div>
<div class="inner_cell">
    <div class="input_area">
<div class=" highlight hl-ipython3"><pre><span></span><span class="kn">from</span> <span class="nn">wordcloud</span> <span class="k">import</span> <span class="n">WordCloud</span>

<span class="c1"># Join the different processed titles together.</span>
<span class="n">s</span><span class="o">=</span><span class="s1">&#39; &#39;</span>
<span class="n">long_string</span> <span class="o">=</span> <span class="n">s</span><span class="o">.</span><span class="n">join</span><span class="p">(</span><span class="n">papers</span><span class="p">[</span><span class="s1">&#39;title_processed&#39;</span><span class="p">])</span>

<span class="c1"># Create a WordCloud object</span>
<span class="n">wordcloud</span> <span class="o">=</span> <span class="n">WordCloud</span><span class="p">()</span>

<span class="c1"># Generate a word cloud</span>
<span class="n">wordcloud</span><span class="o">.</span><span class="n">generate</span><span class="p">(</span><span class="n">long_string</span><span class="p">)</span>

<span class="c1"># Visualize the word cloud</span>
<span class="n">wordcloud</span><span class="o">.</span><span class="n">to_image</span><span class="p">()</span>
</pre></div>

</div>
</div>
</div>

<div class="output_wrapper">
<div class="output">


<div class="output_area">

<div class="prompt output_prompt">Out[46]:</div>




<div class="output_png output_subarea output_execute_result">
<img src="data:image/png;base64,iVBORw0KGgoAAAANSUhEUgAAAZAAAADICAIAAABJdyC1AAEAAElEQVR4nOz9d3gc13U3jp/pM9v7LnolQQDsvYpNvVi9u8rdSey8rsmb5HUSx04cl9hxYsXdVu+S1SiJIilS7BUkCJBE78D2OrPT5/fHQIvFFmABUpby+/rz8OFzcebeO3dmZ87ce+45nwPwZ/wZf8af8Wf8GR9yICRhXLUMs5gJrwfBcdxhBxTFXU6EJHC7DWUYwuvBzGbMbNbLKE1jVgtCEpjNSpR5qfra9+QUgmEIjmM262UOCTUydGNlyReAGFc12W7aOO/TIQhKmZ0oRhCMhWDMBGPGCJo0WFGCQjGCsXlNnjoUJ0mjVS9jJENbPXp9jKAJg2Xep/7/S5g3tgKKzlwHMzH0gorS5TnA5zAcBDEsb8K9zsQbhwAANTKEzyn0jsyhhw8THNXLosPtmqbOIMdJhja7U+GhEvs0rlyB0pQ0PqGwHLOgURgdBUWxbNkc3/cOguN6ATCMrq0VR8cAQwmnU/T7CYcDoSlp3M/391/hi5x5tGtWIiQJAGR1BVlZrskyvWihODTMNK8Wh0fUdJqsrkBpGnc72RNnCJ8Hdy5RWU7oHzRtXs+1nQdNA00lqysQrFpN80SZD3c5oi+9pqbY0sdgvX5dcn+bmhbst2+NvXLQduMGaTzE94ygBtp5705VlFKHzxNlTqFnRApE7bddldh3ynbzJszExHYdFYf8cjhB+JzzvgPOBWu40Ih1YbMqCQhO0GanlE4pEq/KopROAgBoGm1xuxeujw6169drcFZayheqkkAYrLLARfpOKZIw7wF8gCBojLZRXIRnbBQb4q0VxlQgTZkJPi5ayo1siCcNuMTLRheNIAhtIUO9caOLToxxlJmQ0gppwFPBdHaHdEO5/SMbiTJnunNAHA7abliLGuj0peH0hUH7LRsxExPbdUwcDdluWi+OhfnuUfOmxYTXTrisycMd6YtDBeXCoN9x5xaUJoXhYOy1o1BQYWFmo+XmqxBAku8cJ2vKcbcDd1nZY+18Z58cieNeJwAgOGa5bqM0ERJ6R4zrl2bqiP2j1lu2IhieOnRGHBqf993ESYN34SaMoFOhwfhEV3nLDgTFQgOnGIuHNNopgy3Qc1Tk4gXrCKlI5bLrNVkKD7XxyXB2W8rkoAz28NBZReLLmrfSZlcy0Mcng75FW3HS4O86iKBYRp4KD/matqSTwVR4CKeM5S3bAZBA71GjvSLTT8LfM23Ydlt8zz7rzh18d7ecSND19Yl39gujY+L4BIKiesFxy03i+ARZXamyHN/bJ4VCzMKFsbd2W7Ze9SdWWKCqKEOjDE34PNyZdmZJixyO4k6HKgjCwDDhdRM+jzg0CgAIjhM+j+QPKokk1VinCaIcDNFNC5RYjPB50ucvkjWVSiwmjY2rLDenIYhDftOGxUL/uMaLmqykDrcb1zQDAGZiUAMdfemAHE0yi+vF4QAAkBUuJc7G3zzGNNea1jRHhvyXeQM0RaZMDk1VMMogJMOgAU4bMYTRFNnsrQ91HzeXL6BtXkUWhUTIXL5A5OKM1SNycYwyiGxUSidRnPxfqrBabqn1X4i23lJrrTSOnQ37OyJLbq8TORk0oK0kTmN8XLzw+qB3kZ2LCpoGmqp5F9lr1nlFTjZ5GP2oyMqZDvneMWEoEH3poKaouM1ElLsmfvq8fij2xnFDS41xzSJhcH/yYLtpbTMA4C4r3zMaffWo97M3cef7C8qTxy7wl4ZVQUIZSu+qgMIyX7MhueeYEo45P3WbNBYU+0YSbx5yfuIjfGdfpo4mK+zRc4ZVLQCAO6yZOmKVT44k5EDE+pFtwf96Mrtb97qrlTSHMUbS6hTC45qihNsOFrubCIrRFnfv4ScAwNe0RUzHhWS4vHUnGx5OBfv9kZHa1XcMn91VsM5w22s4QQ937BXTiZy2bHh44uK7tWvu6Dv6dDo2Md65T59J+bsPWdz19srW0fNvZ8vDg232ysUA4Gva7O8+IrLRurV3pROBTD85CgulafO6tWoqRdfXKVwaVFVTVdxiJrweyR/QC+LoGGowCP0DhMejigIAqMJMT/zCxVTXeWHNFgMgcOLA3NTBzEgdOQEIApoWe+VNABBHx0HTAEVBVQFA8gd1uQ6hf1Av8Jd6QNMAIHXkeKbt5FEE0Q+VjvSFQfPWFYTPEXvlULZcCkTDT71tu3ULd6YLNA3BUARDAcPMW5ZhNrM0Fpx16VEKwr2nEATVNDUzckf9ikh/G2iaLhG6j4MGABoACN3HQdNGz7wxvyv9sEHk5InzEWedJdQdJ024tcKoyBptJfmYqEgqFxW4EG9yM456y9hL/dXrvCk/56i3JP1p2komxjkuxBMMnq2wACD7nsjhhF6wXLUMs5vE0SCB5f5kSiyliRKgSDF5+ny/7yt38l0jsV3H9EMFFBZKkVpa0BQVcAwAlHhSEyVAcjuddoL36qAMLYeimiTHX3knp46UiMpsEpclITROeyqUdIF375o1/wQA0eTA2YHnRC6uCzGCFtioqkpjHXusvoWqIqmKgqAYABSsI6Qiw2ffKGvZHhu7kNNW5JOqIiGAAIAGkzfXVbuKYMzpRIBG0Gz5tHuCkaokaJo6ed6sfqbdh1QqefzE5M/23jMdefX17ILkD+hKQRga1lsl9h/I/K9j9aJP2c21ALD7xLe332yOBJV1240EgZw+lFaUK/qeZL91elnNXSMXbZL/xs7jHdY0aSKC20xKkiN8DsuOlWSVVxzyS8GYaX0LgmMAwHcN2e/cKo4ENUHUFJXwOVCaAFUly13mrcsJn1McCXBne2Y9lQ6cZJbe+HWcNKIYfvTJr0/aBN4beaTvzLRryb8/pV2pyVG1YNPH2l77vqYq2XJ7RUvNyltJxsJGRjre/u9Z688d+jOZO7z8/i+8NggAHa8MICiiqVrm/+abakCDgYPj6bgIAIf++zwAnH+pX1M1vazXLHhuvm/c9bFrU0c6JH80I9QUhfQ5UIoAVSV8DuvOlWS11zh9dlxMjtIkZjHgdhOzqJpt64GCCiu5/6Tt7ms0QeKOtRNl7qlOy1ymzStxr1MaDciBiGnrarLSKw5PZLdNHTxtu32nHI6J/aPi4LQlYezCqfduKZLoPV/wggsi1H+yYsm1IhtNRUYAwN2wzt0AkeH2YnU0TXVULUVQDADJaZsNNjJSveLmyNA5TVNosxPFSU3TsuWSkHI3rGVsPltsPNh7vHLZ9aosRobO0hZPsaGyp84UeJ/zC7MqhSxQNPLZbzp/88PwjfdYUBSUy3yePwgQOKKBJsuFj0Zf3K8XpIlI6NGpOV10PASapikqAPh/8qymqvoNZI93avLkXQj9YddcByOL6dMvfcfiaWjZ+cW5tp0TEBRFEFSDaT9Y7arbQgOnxy/uxwimlPpzRf3au0MDpxKB3hLHAwC69sn83/nKQH7bbA1VTFsBQPzNEwiBa5IMAKHHduvC5KHzqWMXMj9Z8JG39AJ7qksvTPzsxWJy96euH/u3J5VU2vcXt+oKqwgQ5HKm3AgxF1t+Fq5Z80/XrPmn1Ys+lX8IxXAAKGveRlvcCFJ4bHodAEBQLLtORp5bH52qX1A+HUix815xrF70Kf1WAIDRjJZVEQBQt5CctaFhSat1xzbC7ZqhjnH5ssv5cR3LNrZ+/cetX//xooXE+jUURSLlPszjxjxuzGxGy30YQyM+D8YwSEU5xjBIeRlW7sPuvt0w7zOWDgRBIW/aWxAWT8P6+3/4fo8nFwiy/v4fWLyN798JVtz69xZPw/vRtdVFWF0ExaBOH0ExqLOM3HSznWJQkkbtHoIxYhiOECSSqanLKQbdeJPd5iYcXsLhJTZ/xDGnk1J1Za4Hdjrv3U7VlemSIppF0y5nia6r2CsLVZEBgE8GVVnM39rLrgMAOfPqjDy3vlqkvlqwvqZ9EGaLihoiY8Pq7xJnqElWlJvWrFJTLG63qzxv3bYVNRoSBw7K0aj9xus1SUqdbkMQxLpjK+F28b19fN9l2fjLfJiqwpe/aK6twU+3iXW1eCikxBMaQQDLahSFnG0XHXb0Ux81ffVvo7POKVGCAk1FUAwlSJnnCINZ5rlJCUnJaRZnjAqfxhiDIqQ1WUYJEjeYxUSEMJglLqkftdS3pEZ6ZS6p9+muW13evI02uxVZjE90dR96dIYBGGxl1ctuNDmrEQznouP9J1/gYmOT8uU3mZzVKE5K6WRsrLP/5IszyHHKuPSGr2aWnJn+V9zyfwnGAoC0bP+8bnY49tQ3Z6hfbPzFxrn42i8zFg9G0C07vlBa/0j1shs9jesAYKLr4Ej75ARn/f0/vHTgd9XLbqBMTi423nvs6XTcDwDrrrN5q8mDL0d33uMcvJTu70hTDLrxZjtFozynahpwSeXcwQSAptcMjog8p2I4QjHoznucnirqse+PzjA7Kwihf1zon7ZQm+dU6INCdKTjgx7Cnxql27DE0bH0hUuSP6BrosTBQ3RDvWFJa+rkaZShI2/vVeIJABDHJ+J79mlzWZYWRN+AvG0zNTqmdF6UdHud04HabEgsptptaDCsnGoTP/+QieW0hY1EcxOB41BsVQgA1obFEpc0+KqVNKcIaVWRMYKUuCTjrlTFNMaYKKuTmxhKB0dMlQsUkU8NdzGeSsZdoSqyzemjrE52fADFpyah9oqWujV39p98QTdlUkb7zJcjC1xk5Hz/iedVVa5ZeWv92rvOv/WfALBw8yfCw+d6jjwJALpG0OsXk8sCW3DJeeaV7wHA+vt/2Ln3f7KXbMXqFxt/sXHq/5fev6dhrbN2RefbPwcEXbT1IT4ZCg2c1g/Vrrqt5/BjfCrSsO6eutV3dO55GACiAUnTtEWrjEJa5Vm15yxbUU9pGii4ZrJil06zjUsNQlrN1AQNTFaMTShGCxYYEYcupS0OvHIBg2Gxy7HD/i9TWP8fxPxsWKbVqzCLWfIHEBSVw5Hoq2/Ydm7nOi+kL3Zdqe2twSH50adkVc3sK8JdtxleeJnLlvzydyn9bP/y7/GCneAGc/2DX/Ef3AUIaqpoEKIBiUsqadZS1yqmoqaKBlWRMcogJWN8aBwjKW5iCAAxeKsJo5V2eOM95yx1rWIyyofGMdqAUVOGofLmHf6eo8G+EwAg8Sk+GZr5csR0PNA7uRUV6D22aNtn9DKGk6CpipjWNDUZnJqTFpNfKRQbf7FxzhXexg3+7kNcfAIAJroP+xZuziisia6DydAgAPh7jjRufFAXntgdg+m7o/tfjOgFBAVNhe42NrtmRp79/9P/MTa/0WZwWQpr4fJ7u9qexgmGMbqSseGco67ypeHx85MemEXqFMQHsvL60OI3PwpbbFhgXN6/KyVJpd4ZTVEIlxMhSU3VyDKfYdlSwDDdviMMj9hvvZlrO8f3D1zm2HStlJmrPfcSly2HErYNjTULCasDI6nI2cPZb0M6NKb7FtgWroh1ncn4GQAANzHITQwCwMSRXdk1s+sAAGP1THQV9ZvJB04yFa1XW8uacIIGBM3YMXuOPlW/7h5P/drQ4JlA79F0Ijiz/Eqh2PiLjXOuoM0u/r0x88kgbZ7aXtPXgACgSAKGU9mtCv6gRSw0k/Ls/y8fuVfrLl9GGewUbZsYOiqkE+V1GzGcTkYHo8HuqsbtCIoFRk6JfLy66VqRTwBoCIpV1G9Op0LJ2DAgSG3TtShGxEJ9Ip+orL+KMbri4b5kbDhThyCNlY3bAJCJoWMmSzltdFCMPTR2NhaamsRqmgIADGWv9q5zWhfQpAUAeDERjvcM+Y+mhSgUAUWYPfZmh6XebPCShAlFcFkReDEWT42Mhk4n2Jm0u8ngLXcut5lrDJQdxygNQFGEtBBLpf3R5EAwdkmS0wUbIoB4nUu89laLsZwkDKoqp4VYON4zHDjGi4kZzkiTthrfeqelkaasAMAL8VC8e8h/lBfj2UY0XyXx0b9wPP7ziNuHz2zDAoDkkclvL3umjTvXrr03H5MCQdA0fRmYPHQEwfGim3Z/WphqFk79ke83oGmxS6cLHM1Gtv/BtDpI/u7+DGhYfx+GU5fe+bXAxSzexpYdX9Dl8Ymutpe/ZytvdtevWXrD1wfPvKLrkWLyK4fC4y82znmdIbNBMW2nQlWk+fc5F5BOs3lpdfRwF26mMQOFmWi2e5ywGJS0iDIEbqQxE53qnLa/n6uwKMaWiAykYiMNS24bvPgmY3JfOv0kAFTUbxb5eJoLVy3YkYwO+YdP8myocckdmqoER886fa0A4PAsSrMh//Ck+wKbnBjpeUefYWXqlNdtGh84IqRjjUvvSKeCydjIaN/BxiW3ZyssRZW8jsWtdbdhKJERGmmXkXZVelZfGHh1LHQG8tBYubPWtzlnI4/AGQJnzIaySs/q/rF3e0b35DdEELSp+oYqz5rsnw0BQHEDgRssxvJy14okN36043/y29KkbfmC+8yGsowExXCzwWc2+Kq96y8OvjYaOp3fCgDKnEtbaj+CZl8g4zYy7krP6s7+lyV5yknt2tvNu56Nmyxo01L61CFOFEp9Cc24u6X8mgDbHU2PpMRQtW0lgVJRfjTMDdRb16MINprsSEuxevtkOSkESum2oJ/a/IBgmLFmwZXqLQfpRMDkrA4PnS2xvsXb2Hv0aYGLAQCTNd0AAE1To6Md0dEOd/2a2pW3ZhRTMfn7Ov4ZxqkPaWaXyez+M7Mqxuzik5c1Q6SArkDq7eAxgJEAEgVs1iZva8+J4aSmanSFw33j8ujhLlC1srvWUz6bMB6Vk2l+PAZ5RvoC80lVkVRV0aeaYvo9z0yc5rmoqsjD3fuc3mZFFhRZzHl2MZySxFlcsVGMVGRB01S9f4lPqoqUo+DNBq/btlADbTR4OpYakmSOwA0u20KvvRlF8Na6WyU5HYxdzOk5wY4jCKqqcjQ5EEsNcXxY1WSatLltixyWOgCkrvyqODua37DWt7nKsxYAeDE+ET6XSgdlJY2iBEPazMYyu7mWIszDgeP510IR5rUtn6EIMwCE4z3B2CVejKMoYTWWl7tWEjjTUnerqinj4dxnzmVd0Fp/BwIIgOaPXgjFuiSZI3Gjw1LndSxeXH9H9ixSlrSKGpJLqd5yvHRtBQAJYSIlBvujxzVNpTCjkXScm3gVAGpsq3glxYnRBsf6aHo0U24bfzmnB9LqdG+41li7EGeMMptM9nUGD7+pyYU/vyhOWJqWWxYsob2VuNGsKYqUjLFD3aHje6XEtEmxZ8uNtNNLOX2Ezal/YMquuavsmruy63T88Kvz7l/H+IV9jRsf5GLjsbGLCIZZ3PWhwQLfuQxENmrxNERHOwy28rJFWzPyskXb4hOXRC6GYqTZWZN5sYvJrxSKjb/YOHXwyZCjopWNjGAElXGrLgh/9+GqpdfHxi4AgHfBxuH2N2eoPDPMYFuJXEXA7G43OaCrnEyNi7AaVF4SxqKW5TViMMENBDCGkqIpYTxmWV6T06SAwvJVrwWA0Pg0z0z/8KmapmuEdDQZGwmNt1cvvDqdCqqKyBid3uo1RrOPTU5EAxcbltxutlUlYyMRf2cqNlLXclNo/JwkpDJ1/EPHaxddryhicOycwZT7fdDBUA5RZk9e/B2bnnoIxkJnPPbmpY33IoC01N7y7rmeHOeDQPTC+f4Xg9ELsjIt0mXIf7Sxcmdd2VUAUOVZk6+wKj2rAUCUUkc7Hi607kOsxookN5Enh9b62ynCDKCd73thPHxu6l5Fzg9OHFnT/GmGsjfX3hyO94jyVDwwiuAttR9BANFAa+95xh/tzBwaDZ0eChxf1fRxAz0V0PvEw9Eb7rZ4K/Df/zRc8HbNhCz9xsuTm/04SvFyXNWUvshRt7ExU85paiivrbnr8yg5acIgLHbH8k2WBUtDxwvMUgGg9t4vMWVTjxeCYpTDQzk81uaV/Y//VIhMTd9srWv0gswmCZMVABQhrUqzrHZL719HZOT8wMkXy5u316+9W5FFNjKiv/BVy2701K/BSAYA1t79PVniB8+8HB5s6zvxfP3au9be/T0uPtF77OnMnprZXVvevBUnDYrEJ4L9XYcem1lerP9i11WsfrHxFxunjv6TL9SvudPTuF7kYm2vfn+G/oP9p2izq2XnlwDA330o2Hdy5vs/AxYiy7K1lQqqWpr7Kz8cHn3kQGbtG3wznmOIDL6Zq3NzZ4+VDVvD/k6eDRf0dUJRXFcTCIJqmlZwjY2gWMatKVM/pwqCIAX7110lAeDC4KsjgRP5FVpqb61wrwSA8/0vjofa8isUBIpgW1d8C8coUWb3n/n3nKM7Vv0dhpKx1NCJC78psUMAsJqq1jZ/BgBGgicvDLySX8FtW7R8wf0A0Du6t29sf0bucy5dUn8nAIyFznT0v5TfsK5sS2Pl1Xp594lvb9xpPLyHBYBMoXRUWZcbScdE8lJaitXYV3eF9gMAg1sanZvSciLOT6SEYKYcZKdW5ShBNT70LcJsk1OJsd3PpgYvIYAYKht8O24jbU7dzzZnEuRas91U3xw7f4Id7pGTcdxoti/f5F5/NQDEL54ZebWwD1Tr138MAOO7n4ucPTzztcyv/4JwkBUVTJP+8LfHC+vfP6N0bEduxwATgb+gnY5CUIb30QSWO8NKsyFlBs/MjKdlcaN/thPmfD0wNX+kcOzOaOiUrrBc1gWlKyxVU1g+ZDVWEFhuPAQApLiA1VRpNVaWOZdmT5RmRplzqV4YCRT+NIXjPaqmoAjmtDZmKyy3bdLMPBosbN4aC7VlFBYALF/P6Hpq0TL6+H5OluewKhyOt6EIpmoKAOjaCgDScqLdvwtFcFWTASC7nIGtdTVhtgHA8Mu/58YGAEADSA1cHHzuFwse+lso5CcfOvFO6MS+zJ9SKh44+DrtKTfXtxirroBv9xXsv4xu7EwcULR5bjuYGt2Vd64aef4UbqSYchs7GJaTvG1FdaonYKxx4hZaDKXYwYi1tTzVG8Bogi6zpkdjCi8Za126RG9lWVQW3N/FVNljbSXtnn9oIYOIATMCfUG4XK+FWZH76IUnOkR+pqXvnwC8mCi2JZdkx/U9REuWnbsUyHIaJkM3ctE7tk8/tLj+znWtX6h0rybwAnotBzZTNQCompwqtFrUD4lSEgCM9LRAGd1Cr2lqgh0t2FCQkoKUnPqT166/07J+h7G8msjRViZ7pad6FWNyk4y1rH4jAJgdNb66De6qFe6qFb669RZnLWVy+Oo3mB01AFCxYMrkka2h1LxX19zQCgC8f0TXVhlIiWhq8FLBYRecbnPDvQCAGYxFmswJV6z/tJK0ET4T7jDhc4sU0ZHqCaZ6AqmeIOU2x86NJDrHMQMlhlPWJRUoiSmsiNKEZ3uTzArmhT66zGpu8tFlVmtL+fjr7fbl1ZlWAFr1A2v/t2srABjV+gHADLY/wbk+GMdRpr7Rsny1vp3hf/7JnKOilCrWUNUUUWIp0kIShZ9RI+N2WxeaDD4D5SBwBscoFMVRFEeRolcajvec632mqfoGijBbDGWW2lsW1dwYjveOhc8Goxf06Uk+aNIKACiCX73mH2e+WByjs/+kCJN+jcV6BgBBSum2fAD43X+E124zGk3of/xD3i6epuGkQZEFkU/oyzTG7FZkXhY5k71q+OLb5Y1bEuEBMZ2wuOqSkcGZxznt6tzlAMBNFGAu5AOjujorBXI6BUW+E1cE8+s/rSQsxORXJCVHLmcASloCAOuSCjnJg6JpqqZHn6R6g4SZineMOdfXTbzRYV9ZzY1Evde0CKEUIJOtAEHGXj7rvbrZ//aFyxnDB45+uIADUQWNy5CNo1p/EqIiCFdwNzkbH4zCMi9eHnjleU0qvNZVCi8k3zuqyQCAoblbEgba2Vxzi8NSly3UQFNVSVFEwBAUKbrV6o90hGJd5a4VlZ7VJsaLIJjLttBlWyhIyYHxQ8OB41qecsExqmBX+ch5nfSRK+pM63xFmbJAV9SSW641ESSSZtVcGxaCylLa6m5IxUaN1nKTrUKReNrkYuNjjHmSUsLirJMlTtNUg8VrsJYZreVsfPZ5O8YYAEDhCnw5lHRRO5qxZqFlwRLaU0EYLSjFIDiO4lfyAbtS/SfkkJOqQgGd4AuwGpSCkedPA0BG0Yw8dwpBkBxDh07Dkrw0AQDx86MAkFNH74QdnPteyocMGmjd2jkJxAak1Y2U6xIVlJl11jvaH+dxrg9GYcnxKFNdJ6eSACD6c4lJs92v8qEfVdRpm0oM5Vjb/Fl9KRdJ9E9E2hPsGC/GJJnXlxIZhqliUFRpOHB8OHDcbPD5nEvLHEso0kIR5qbq672O1jNdj+ZsPiqqiGO0KLHn+18o/cL1E+EYhc54jWiWjrv5PsuP/y6gKNpf/L376Dtsdph2KjrMxsd0o2H3qacBwO5rjkxccJS1jFzaBwBjPe8CTMVTdJ98quRhIgCFfTULBiGiJF196yeNNQsBQJNlIRoQ42FVFHCTlfFVlXzSoriy/VcxLR3x/Rqoi8ybgsJgznv10aOf3v2l1/2n58aXm2+WzQ/0ndl0S5rJm5+4k7JSGIk9tv43AIBRDG1xs8Hcea6tejFldcUGzwuJWeKN5gfT5lXpjm6VTWMmg5LiUJNB40XMalJiCYSilFiuOzQOxDJkkx2mTB8IINj7o1vm36mhaVHZQ58rvf7EI79jOyZdJaRImCqr0Kco+QqLIs3FOkERnMSNACBMXzYuqNypa6ue0T39YwfyGyLFp1c5SHITSW6iZ+Rtt61pQeU1BtppM1U1Vl59cfC17GqCmMQZGsPISLx3TrNfUWZxjKIII4Jg+RM3HTkLXm8FzqVU2oDkb3Xk8EyM9bxLGRyjXfunV5rz5FzhOdxoxgym/EMYXcDA59t2i7FmoaapE3tejLYf096jx3As23hFFNb8+setNudNH6Fr61CalgL+6J7d7IUOANAAGMwkaxKGEO/TymUeEJPiC7c86V1Zds3PbwQABMW8LVfxiSAbHLLXLacsTtJoi/afVYS0o3GVzKdIk11Op3xLdyAYFu45JbExd/MmjKTZwGBitCsjp62eTNvkRG/5yutRjEhO9KbGezN10pFpk27UajIsbwYExIEx1GQ0bV8be3oXWVuBu5eoKZY93Kby0z7e9UhLtrZ6X/HBzLCE8TFDYxOCYcnzBRyRKcJMEqaCliyLsVxfYSWnx9k4LPUAICvCwHhhb2OGss1phJqmBqIXYsmhjUv+ksANXntrjsKKJgeMjBtDCYuxIs7OIRNHkh0zUA4EwSwGX7yQ3R3HKJqaohZ44uHoHZ+00Qzy3G9juubBbUYA0CQFt5ukSBIUlfDYMBPN9/s1VeGFEO40yXEWtxikcDK//1IghMZxo5nxFtAFlKs8X2hZsBQAEhfPRNqmMR3jxqLfnmmYzTl7Hv0jGFb+uS8SrklfP6qq2vfJT48+/DN+oL+fPV1tWIoj+CBXqh/8nx6aqkT6zthqFgMAabJxweHA+QPVG+8YePfpxMhFPh5I+fs9rVtELi4kw2XLdg4ffYm2evr3Pw4A2XI2NJxpi+KEkAiFu0/k1OnbN80pBEFQxMjIkbjQN2y+ZqMmiJjdQpR7pPGgEk8iFAnTFZYHJrPdjEDvuDbIQvL982z4YBSWZfX6wB+f1VTVfeOtbNeFfAbOcueygYlD+Q0r3Kv0QjDWlS3HMN0wVNghw2Gpz9iw5wRRZpPchMNSj2O5JrPx8LlKzxoAqC3bcrYnd99gBoTi3V7HYgCocK8qqLC8jsXZ5MvL1jO/+49pZg7rhkVkmSO2/zxV6cTtJqbBxw8EQNMs65vkaIosd/C94/ady0ivbeL3e+TEfGjgk72dxpqFTFkV46tOZ5necYPJ3NCcXx8laQCQUtMWCwiGWxatmPlEqsijJE3aZ/k+z6N/Q9OijLbKwLrpKn6gX1T5ntRxAHBTNSm5aGgqANgXOrf/8JrOx9ovPtMBAEseWtF0TwuCIEP7+k/95JjMT070Pnr00y/f+9zab2x0L/NGLobf/OwruvCdb+xe/sXV5gpLtCdy5F8OxPtjev1i/cwAKZ3IjwnBCFpMRTVFmji7FwBENpYvN1csyLTFCFrmUwXbZiP+6r6MGSH59hG9EHv+rWJjI4ACgHEYvKjNFEswD1jtWCKuZL/TfyIKzTxouM2OGU0IQRZcsNSVb7Uac5OUeewtZa5lACCIiUB02sZKmo8CAEWYTYw3p5WRdrXW3TbDUMqcy/JN+DoMtNNqqgSAZDp3hy6WGtKVpse+qKn6hoK7kCiKex2tOZ1PRDr0yWO5e6XHvih/tI0VO7MlrSvonDpSNCWMRxAcpSpduJlReVEcj5BeG4KhxsU1alrkusakYCJxrEtOFvYOmRWxjuMymwRAqm77lLm+BcFwBMONVQ01d30eCm3J8aFxALA1r6JcPgBAEJQpq66954uE2TrzibjRAQCwL91gblyCEiSCoBhjpD25P/08+s/XVgBAuFxWwlNGL6g3rqw3rqwxLCncWNMAoGxN+Y4fX3vs3w/r2qr2uoa66xve/ovXX/vYi9Za27LPr8puse6bm9p/2/bCzU+e/s+pKK41X9tw7F8Pvnj700KcX/uNyfyJM/eTAWVxuRauM/sarFUFvhA6wj0nzWUNZl8jYbSWIo+PXHDUryxfeb21urVYnew7MK1QHCmIAwCrzXM6XwwuH/6Zv/Vs2GnKfuLmP8PihwbHf/tLzGDETCbUYMSM+j8T+l5hhrbRA3ttG7YgBBk7fCD/jqTSASPtWtP8mYnI+UiiT5I5Amdc1oVeRwsAooHWOfByjuvQeOSc/p6vXPjR/omDSXZc1WSatDgtjeWu5QBIPDWiq558LK6/Q1XlWGoonhphhbAspwE0EjdZTBVlzqW6uhkYfze/YUf/C2uaP2OkXdXe9T7H4mDsEsuHVVXCMJImrSbGYzVWoii+v+0H2VsEqipdGHxlWeN9CCDLGu/zRzpC8W5J5nDcYDNVlTuXAYKkOL/JMKl52aT6d//hC07IAPDL74cAIHF00hOKuzQ1QYvsbssOa4juPXs5mV0UgR959dHqOz5DmKzVd0wxLkmp+Mgrj1Tf/umc+sHDb1bf/hBusjR+8psKn0YJEsEwKRkbePrh+o/+9QwnChx+w1jViBJk9W3TeLFz3Ojn3X8OEAznlLibqhnnewCAQHM/BpOXL6m11zUs/8LqfV99K9I1Ob1tuqvl4lMdsd4oAHQ9f2HlX6499dNjmSbD7w7qdvpg+1QahYvPdAbbAwDQ9cLFLd/ZVko/GQiJ0MiJyQiK+PDk53ng3acAINQ1WV9MRQfefRrFcJ1Td/Tka/ny+HBndtv+/Y9nYlGy214OerXzK5DNbqRsULt0BW2C8YgyPiQaLVj2DGv+CktNp7lLuXF5GTR8/8cztFU4NrznDQAwNrWIwdzscv1jBxAEaan9SJlzacahfPKkqtQ58HIo3p3TZHD8sN1c67Q0UKRlUfWN2YckOd3e+yyBG5aY7oIiQFHcYanXDWE5UFW5a/jNnAldpufjnb9qrbvdY19EEqbMcjUbGhQgmw5EL3b2v7yo9iYUwb2OxfoKUYesCOd7XzAyrgWGa3TJS4/G8Zl2FDNnyuNXuTxaMXa4p/eRH7k3XGOqWYjRRplNJHs7AoffVCVhUjNmIdnb0f/Ez9wbrqU95RhtkFPxZF9n4PCbSpoV42HSWjTXaXp8qO/xn7jWX22srMcYk6ZIMpvkA7mOF/PoXwoWiEYWJ8YlVehjT6maCgDDXGEC2+pttc33t7728Zd0taLDWmtd+82Na7/5XqLp6Xc3s9ybLpxsLnMSzhCl9DMPqIr80OeN+94W+nvlmeUWK1pbh51rk1AUrtpO1dTif/gNmy3P6fn6m+jdb/A6R1GxOgAQgcAZ7eAiZOUKZMuI1puEmABpFS6XAcvtw4/tZX1VBIpBZm/pA7Bh0ZXVhNOFW+0AYKhrYC915lSIpYZ4MR5LDVV710/nw+oenDjKi7H8PlVNPnPp0XL3ijLnMhPjxTFKZ8IKx3sG/UdEiZ3B6H74/H/5HIutpioD5SAJI4rgGmiynGb5UCTRPxY6w4tFXf9lhT/b86TVWFHmWm4319KkBUNJRZVEKZVKB6LJAX+0MzvyOYPR0OlIsr/Gu8FhbaBJK4D2Hh/WEV5MADRlarq8+J2fshEkcuCN1MG3irrUlgj75u1s98XMzizKMKTTzY8UTm0tRoOjrz+RL+/40dfy++TGBgaf/2V+n92/+m5uewQxLmwmnK7Y4QMAwAfHRl55pOAAfH91u55SBQAy/eegQP96/UsXpGCAcE+lONIUJXZgHwBYCW9UHAcAEmU4pcCP617mHdzTv/abm/Z8eZciKO+NGjn47XeG9w0UPJ0qFXg/M22zMXM/+bjxFqa8EisrQ59+gvNPqA9+wmA2o2dOiyeOip/9oglB4JknOQC48x6GYZCnn+DCQfWTnzNarehjv2ez5f29yscfMg70y+faJFUF/4RaUwsAQBBIRm42I1/5upnntddf4REEPvU5U00dfvKYeK5NytRBUfjy18wUjRw/Iu57mweACqg3I1YVFAd4HMjkDVdBmVlnZfywiHKv46O3UXWVCDXNeDL82W9dd5dREqfthM9ZYX3kk85YSD6xN9m82rD1ZuvLfwj3dvBz6kEMB40Lm5PtZwAAMxgAoMzaiqFkSggea/+5zVBJ42Yz5QkmuyPR3mCokyHtrBCSFN5hrKExIw+xWue6gfAxb80anDSKfJxnIwaLj42PxqWAwch1dv9eltLOstbxvsNmR429YjEbH2WM7vbgLi5ZIIyGTQd7R/fly0tHnB0taD7PBooR9vLWRLAXJxiBjRC0mU/HByLHukZ345RR5lM4ZcQImrA4xAgXFyZ2n/i23vCWByw//XZAErW//mfPkT3s5ecltKxYg5Jk8nwbP9hv33CVGA7yI0MoRduv2olgWLLtpByPWddvRimaHx5ID/TZN21DDYb4kXflRDwjT3W2O3fegBBEur+nWJ+AIJk6/PBgph/BPy4n4oSzqKEdMxuc926Xo0nQNJShHHdsQXAssf+s5I9mymSFi3DbcJclvvuUMFggBbSmqmO/+h/nTR+h6+pRkhSGh8K7XhVGRxBA7ER5TPQDgI9uSMjB/JCDtodPBtomrvq3nVu+u2P/t/boqcbig3FbnX3gzXn6mmYw13585ejpE2JHu/QP37H85AfJunr8G1+JAcBffdX85KPs2JjyT9+z9vXK+/cK59qkf/iO5e+/GX/iEW71WnLntbQgaNny119OX31dnklU0jJyqw01WdBf/jwZ8CsA0H1J+vX/pPQlY6bOVduogX75peemzKPNyMr8YaOAlcKKBQDOh+5SU1zwf57QpmcUtrtwDAf/yLRp45wVVs0CamxAuPnjDocH/8m3Rh/4smeuCktNpyP739bJMOMnjgCAgbD1hg7VONZSuDElBK10mb4bYiDtksxFuSFOjFqZMkFO2Q1VsfSkakAxQpF5FCPNjpqxngMVC7aN9Rxg42NcYgLey9yVOYSi+PClyVCVuV4yAFx3t81sx8ITUvd5fvkGY08nn4wqq7eaLpzm1u4wRQLyYJcwMSptuNr86mPRbbdYDCZ0sEvgea1lJdPXyXecSrtrVqIYCQBGe4XRXq4qstW3kI0Mu2tXs9FRT+1qyugMDZ0B0MoXbaOMzsFzr8oCCwCBMXnhElrkVQAoryHSnBqauCyjA9d9MT3U77nlznRfT7L9jLF5CQBYVq5VEnExEnJsvTrw2oukyz3x7ON6/djxQ0xNvbF5cfzk0Yzc2NQihYOJMycAgNzsKdincWFzpk52P0Ke510OLNuWJfadEccj3s/fbN2xQo4kpImI484t/MXhqXLPWPriEN875vnsTf6fF/aZluMx/xO5czcvXe+haw24BUCLSwW0lQ5N1Q7+w76rf3bD+v+7+ci/HAANLjx5ft23NvrPjIc7Q+YqC2Whxo7OwZ0lg3n0w/OaKGp6Eq2JickBGwwIy2qKDLqcZSfrfOQOxuVG+3pkDMMBtIy8lLGNDCs//UHyM1807t8rHDogFDQqGM1oLHKFCI8BAICsLBv95r8pidzVA2pCLTYs7Z52rjkrrDSn0gzatNxgdWImG4aVYl7JA11ZnR7sBwDMaJLCIfm9OJWkECBQOpYeMZKuctsSAqUk4HSLtc1QJSu8BpqJcptpr5n2atok64PEJz3Vq0Q+oWkqQZn1qBQ9VCVziKAuK/6WoBAupdIG1GDCwgF58RoDgsCzvwgDwKqtptefjN3+kKPjVFp/LMpqyCf/K3T7Qw67Cx/oEhYsZTpOpTVNxUgGJ2jG4o2MnLOXtwpshDI6VFlMRYYYi4eLj/OpkNW7QOBiXHxcfo8K0T8q6xuFY0PSxp3GkQHxMhWWnEpqUm4qb5Sm5VhEk+XIgT0AIMcnF0rm5atwk0UM+hEUzZajFK1w7Cx9ZtXJ6WdmIBSppkWVFzVVQw2UFIxrohx54V3T6qZM2bC0QRUlTVb07NClY4Lv5ZREQpqdb08RlH1f233dL29e+ZdrT//s+ODbfQa3YcPfbaHsNDuWPPureW7hF+tn+RdXN96ykDCTAHDfvk9IrHjqp8cGdvcBwN33GwBg965pM4PnnuL++htmjtPeeJWva8BuuZ25+37D7l08SSI1tbjBgKiqBgAZeXUtftd9hgVNeNdFanBQue0upqYW7+2RhwaVjHx0VLnuRpogEP2X7GiXvvF/LW++xofDaqbOgb38t79rXbqCbD8r6UvCt7Xn5ncrdMjBCO525issgwktqyEHugQ9gYWOkvRuNsx2rGWl4dwRljaid3/etefFWMEZVr7RfcrTHUUdW3ZE390LAK7rbwm99Vo2v7jObJddyD9UAJkdsfytscvYLMvgpgftiqwBgMGIJhOK2YqND0ll1UTHyXTLKubF30Zuf8hxcn/qni+4/viHyJK1Bl0SDcomK9Z1ju86l84dCYKApiEIOuU4lp1G4UqMuSAyNizvnfdH3tltXbOB8pbFjh4U/OPOHdfJsSg/OsyPDts3bg299SoAmJcsZ+oXyMkEaFr8xJGMHKVpzy13SZEQPzpMujwF+0wP9mXqoASR6SfV3mZdu5FwumJHD3LdBfZtyEq3486rpLEQ7rRGnj/gvGebFIrzvaPiYCBTJivchNcOAFxbT+p40c2fgjDjTg9dpz9Ovan5E9f9aaAbzocG5fzdPD3fcSaREoaDXocgkOx8JRl5KSAIRNUyoQRAkogoFngUZ07aNicwy1scD34k+fZhacyfHV+s9PXf/TlHcFze/fyUnXHOCmvpBuOO220oAgDw428UNdzMoLBMi5fZN28T/ROapgljI/HjszC3fdiQ0ffZmxfFUEqdDw8KJqdAMEwrklxshkP5dUqpPAUUzc7mm0mAninbb93Enrgk+SO6gWlOaLVsi0pjkipaCXdPKpcn0kvW+cX+ufb5/mHntfT5c5J/4n/PYzRH1Pz2+wXl3N/9vcODXTo7bT405yXhlhstP/9/47pJZX5InT8rRcLC2HzW/x8GZKZEpWii/0XaCgAKptKZQcuUooAydeagrQBygh+yc4nrZWk8rPLiPLQVAEiaEBHHyuhGCjWgCKpOj46w4Z4PlcLa89bcbMT/6zD40LcKyikGXbfDWFlH7nlpKsJhzgorOCa1rGKiQRkABruEWesXhqI4tl2DoKimaZF9RV3+/4w/oxjmugzMxgDbJqppQeV4JaXmxXLJmrTUtJ1XWQDo4gokH/kzCsIApkqkwQ5uBow4zG7bntXyZbaiTcuYI7uT2TasOSusiWGpvmUyXn/eCsu6YUu6v1fl01TFtPDaO7/o5Tn1wB+jydgHmTXPe8f9AIDgOKiqKkmBPz7zAQ5mxQbm2tstenTCv329wP79nzFXVBsWYwihW0N0l/dsDPEdM1Cn/RkFUQY1zcgqdL6hfsb1K8xXbyR8bgCQ/KHU3qOpw6dSCfUKeLofeHXSALZm+3zCiXWoHJce7DMvXo6bLdmmjecf9te3Mrd+xm124Idfj509OOfoJMLtMTQtomvqSLcbt9oQigIATRTlZEIKhfjBgXTXRWFsFp8p/wtPOrZeHTt2UBVFx1VXl2gCJ71eqqKKLK+gysoxswUzMCjNIBimKbLKCwqbkiIRKTDBDw2le7tVvtR5/vabzD/5fwGBn78NHsFxpqHRsHARWVZGON0ow6AEocqyJvBSNCqFgsLIMD/QL4yNXkFLP+n1GRa10LV1pNuNmcwIRWmSpHKckubE8bF0f1+6p0uOzhR4/P5B1kRRTRfjdKdRo4es0dOs9KYL8+6Xgnnfge3/uFHTNIzCNEWTeeXAd3MTGs0EBKGrqumaWqqmlnS5UYZBDQYExZRUSkklhbFRtqM93dN9ZdPomsDagqzOjthXQC49Rsd26zXGLatTe48k/CEAhPC5rLdfg3ud9yw6039JiIUuww9r4TKmvIZ0lxMAsGSd8cS+eYY7Rg+9o7ApOZWQ49Fs04bBjC1cbjTZ8UunWbubuP3znhd/UVJ2T0AQ09Jltqu2U5UFGFEQhiEZhvR4jS2tcMNNUjAQ278veepEQS46HZjZQjrdqiCQLvdMCgtBmLoGY+tiQ8tiwlGYIBxBSYwgMbOZ9JVBSysAaIrCXeiMHdzP9/fNemX+MXnxKiYSlAEgJ/Nzzs7G8E9+KI5PJzYiKeuWq6ybr8pnPUdJEkgSM1vo6hrzytUAoCSTqXNtoZdfnHVIOecd+emPsr8BTEOj49ob6Nq6nFYIRaEUhdvtVHmFedUa0LTU+XOxvW/P+v2YAcbWJb6Pf2r2eu9B3/lhMPNo+lIxD6xqujUij8uaaMGKura+r3dg3z8eXvHQ4o5nLkmcvOKhxSVmsEYI0rJ6jXXTlmzn/gxwmw232ajKKsva9bP3BQAAsXf2hne9WkrNamSBrq2SEOvR2qMQKjHNlw7z1Rv9//5LcXjKO487e8H3rS+88N09tAHlkpfhhzU2IK7ZZt7/ahwALPb5T5ut6zahJKnvUSbb2zLyqz5i7z7HvfH4JI/ixhtspfRG+so899xPVRSObc4H4fa477rXuvmqwLNPC0WiUiJ73zQvX42SZGT/2/nsNwCA0rRlzTrLhs2Es2igXDEgGGZcvMS4eEnqXFvwhWfV9EycCuNDUmMLBUBBnsLKAW61ZSssurbOc++DxdRoPjCzuSDDwawgKyr1Vw7Bcdetd5T6SiCIacky0+Klkbd2Rfe+PY/zzhusHK9iWvSX6kIil0BN0oSoNOGj6inUgAJaSkzcFb8DRhdjrbZIrGSrseSTL+eDqqzyPvCxGYIH3lfYwQ0AAqRPafvnx4SVz84KAJoGyzcYxgYk/WutY24KKxVXnv55UJY0ANj1xPzn8yrPK2xKy8udGQvLve1T/E2Hd8Vm7cq8arX7znsRbM7ak/SVVXzpr0IvPpc4USBWHrdYmaqayIE9hMOZH56N22xVX/tWJsnovGFaupz0eEcf/tkMK8SBbrGilsBwRJ0tKAe32aZ6Xr7Sc8/9c70t3IXCwcAzg6qoSJ4AhCDKHvocU98wt8YI4rjuRsLtCTxdIGjxfcIQN8l866ZyEwsDwADfLqppUTfJlxbBe8XvwMlfnFt4Uz3O4Gd+e77gy5wN86o17jvvmccrcKVAAQ0AfhiZn7ZK7T/u+etPJfcdkSdCgADhdZl2bEjuPSyy6uV6un/1BxWaBiSFKCoIafVn/3eeacgIuz1x5mT+PnfTCsPRN2Kl92PbstV5863zGwMAIBjmvutehCTjh3LZY8zLV8dPH0dphq6o4nq7ctb8ciwmjo7SdQXYHeYK0lfm+/inxn79i4LzOAC445PWs8fSqYTatGQW/YhbbXrBtHyl974HZ6XxzAd7ITcQvRRQ5ZUA4L3vo3N+V9+DeeVqYWQ4/1d4P2AlPAbMymBmAHCQ5UEhN5kQhRqajRv70m00Wmp0xBW/A0avwbPEdeZ35y2Vpmj/TGn3mAUL3XfdWzB+QAoGhLExPdgAMxip8vKCq8Vi0ORStY8KKgqYoM3T/SL6/BtSIGzeth73OgFAmgjGXniLPXK6qp6YGJaqG6c99nNTWD/+xui9X3K/+mgkzan3fsk1b39sKRyyrtmg35Hgay9l5FxS/cqPasITEgA89oNZtKF55eqC2kpTFH6wP93bI4XDKsdqqooZTbjNbmhcQNfVI3l5Vly33CZHo2zn+ZxOSIdLFXjcai9ooYzu31uWr7BUVQwGhLFRcWxUTibVNKdJEsowuNVGV9cYmppRpgAhOtOwwLxiVfJUgUzXAJCIqeeOp7fdZHZ48BwP5hzgdjsA0HX1nrvvy9FWmiwLI8NyPKZwrCaIKE1jZjPpKyccjkxNcXxMjs1n1kyWlduu2m5cPI0MTxXFdNeldH+vkkwoKRYlScxspuvqjYtaUIMhvxPnjbdwly5KodkjZrLB9/eN//7XmNGIGUyY0YgaDDoX23vlAqRss/JhlZONo3wXgZBW3B2WRmfIxpbBFb8DC2+sv/RKL2Um3c3OkWMTilh4DJjR5PvoJ3O1laYljh+NvbNHiuRmMMPtdvu2nZZ1G/IfD35wQAqH9H9yOCyFQ6pQqg9AGlgz2CiEnidVjqalDhxPHcj1IIkGlSN7Ul3nL89x1OHFy2vJNKtW1FMIimjzIg+Qk4nY0QLk67seC+JESTujZFm5+467c6WaFj96KLZvrxyP5TeJvbMHt1rtO6+1rNsw7QCCeO65f/jH35cTU/5p0QN7LCvX4jZHeN+bBQfAXbwg+v2k1wsAmiRyFy+yFzq4C53ZEXbZiB96FyUp6+Yt9muuz/8e2ndemzpzquAmwLO/jkbDSiQoB8flGbQVAOBWG2Yweh/4+JRS1jT2Qmf88Lt8f19BtYsZTczCJmPrYmPLYrZzPutBAEBJ0nnTLZk/NVmO7ns7tn9ffhq3xPGjKEXZd1xt27oj551BcNy6+arQS8/P6dQKx3LFZ4UFSdlm5cNSQTVgZlmTaNRUiraC9+EOKJJiqTRLrGTyGYtpKwCwbd+J0tN1rqr6n3g01V6Yq16ORoMvPsd1XfJ+9BPTHkIUDb/2sjA6T1/uoDZmRmxuKO+Gdu2yabB0GNctSx07CwAjfdMMR3P2m3jsJ4HWNYbNN1qe/u/grFaVYqCragvKLQ78ga/6Pv6tssYlM+ZeRlHP3fchxDTnNJXnx3//69BLLxTUVjrkeDz4wrOBZ57IUQ0owzg/cnu2hPKVxY4ciLzzFm4pQsKrabED+0T/ROjlFwe++08Tj/0+eepEMW01OUJRiO59e/zXv8hfCxNOJ12Tu6mkIxpWAGD3S0mOm+VRIJwuz7334xaL/qcY8I/8548n/vCbdHfukjYDhU2lzpzyP/aHgX/5dvxw4fwdc4KSTI789EfRt98qlnRSFYTwrtcCzxdwbTOvWo3SNEGZCMqEYgRJWzCcJmmLwey1OGpRFCfpyd8CQVDa6EQxgmKsKEZQjI2kre7KFXqrWQdZTjdhCI4A4qMLrOD602cRQBnU3MudmsulT+Ly7wAAtP2+A8UQU5nx1K/OFTsRZjBaN2zKEUb27C6mrTJgO9qju9/IliAo6r6jKL3lrBiC7jSwDBibkOXI3KP9CsJ+7816AcOmdTh/G9ZtDznnbcNSBd5394N66L8eTKvjmnudv/j7EUXRPvl3Faf3J4spRMuadbl7gprmf/wRrqsk7+fkqZO41ea4bhoxqWnJslhF5eRHBkWZ2gZ+eBAAzK3LhLGRgi988tSJ5Mk5e0Kne7sjb+1y3nBzjpxuaEj353IkNS+jK2oJTzkOAMvXGY7unUkh4lYrbp18pblLF/1PPDKzt5eeckYVBZQxqAKPYDhKM7jJrIqiff1V4X1voBQNCGKobUhdPG9c2JIe7NVTSRaDyvNjv/4fMTC7d2vyxDFD4wLT8mk8SihJMfWNlrSZNjh5LqIqIklbJZHl2TCAVtG4lTY6Bzpek0TWW706GRthTG5fzTo2Mc7GR5PRYdA0b/UaVREj/guSMNONiohjrZatGsAwdz7/qAV3mXEnAtBoWNWe2p9f4f2+A2zn+cp1Ze1PzvIwMwsW5tg31HQ6tr8kZrfYu/utW7ZmO7tQldV0TS0/OFBK8xzIIJ3RDi5DNlRCvRVxjmg9UQimgZ3ZFQvBMUBRTSys1lGG3vERi6pB7QLq9z+eMhR8MDas+NGDUGhTQ9PAVU6kWZVm0GKbIwiK2rdfnSOMHXinRG2lI/rOXtPyVfqCLgPrpi2BZ54EAFPLEuOiVsLu1EATRgtrq8nhzgvxQwdtW7fn+EYxtfX5BqSRAXHdduPeV5IAYC3Zj0QM+P2P/V4VZ/KBAABT8xLC4Uq2n7auXC8nYkqaS5w7RZdV8mMjon/cumKtKgqprguappmXrESJwnk6shHZ/YY4UWr+0eie3TmvKwDQNTVi24C+i48TBiEdFfkkz4Zt7kYhHeMSE5LEAYCqyrTBQTFWVRFVRUxGhxmTx2DxCuk4Thi02QI4DbhV1iRZE0y4IyblKhcfWX+BPVTMrXRmXJE7wHae9y519+0t7HCTAbNgYY4k1X42f+e9IDRJYtvP5dhGjEuWzaqwtiGFrMagZfYHzWBtRia5wmd2H+3+3iJA0dGv/2ux4Odzx7nQhFzVMO3B+2BsWJjRZN+yXc9LyF6csiO89IvAjR93UQb01d8Fi2kDY+sS3bqcgSoKsXdyUxXNAlVNHD3kuvWObJlp6bLgi89pkvR+h2drkshduGBetTpbiFkLrD2TcfXx/47opquXH59pt2iqc1X1P/aHWbUVAOjTJaaqThUFKR6VU0ncbCVdXrb3kswmCRxHGQNmMFBunxQNo4Xyp2ZDCgUTc1lUigG/MDqSM1OmqqrHdr2X/zHrezgxdCKbdScwfFr3RM+4VKZTgcELb+a0KgZFkzoTBwDAQ9XmH+XVlA33CioHACllDrsQOXcARXFNUzVNIwhG17M5KHYHAEBIiTu+s4kNcABw7GeFibeo8rzcQkO5O54zgB8cyFFYtE6ZPCOKBQkSUOB7NnPy5+DDkwyRmiQH/uM3OUc9X/00APzVd3w8p/7qX6e8x+essB77SWDn7TbagF6ODatYXkKHj6hooF942O+rIUd6Cy9nTCtX50hSp0/NbDwqiFTbmRyFhRAk09DIXbwAAIbGJtv6LQiGqaL4fsQS8kMDuQqr0M4RANQ1kV3nhTVbDIDA6ODsO83suTbRX4AJOh+pi7o70jRP6tC+XQDA9lwEmHz5dcmsimDmyIGC4IcGc17XaRbD/IQaWZKCCShzWxWBqKYXW7ejgE7wBXiKOSVhxp1mcAJAKj0HhZVzB2ja5nQ0aZqiAYyOFg6vKXYHOp65hBGzTKgxY67XhRwJF6xZEPk7woS9VB/jKwKxf3JCoKZY/mJuyIfK8cm4+vqTsSVrmOxHb84Ky+UjFq1gnnk4VFZNDvfMl60BNNxmVwUhJy/h1tvse5+LGCxYw2LD2UMpSch9KBEcNyxsyhHOz3tI4VgpEiYc0/zU6Zo6XWFFD+wBAARFHduvfT/o9JSsHUkdKFNYYW2/2RwJKuu2GwkCOX0oPSune+zdA3McS/EO55KDJ3W2bY7nBSmYG3c16zzuiqCKaemI79dAXWTeFBQGc5YtE+Lky+Mmq+fUbc4d4PmoLKdBz5xUBMXuQPMdC+y1VhRHpbRcLJYwX2HNHDIxa+WCPjcZkAgNAO/AyxTCCBqHAaGATCGMpAkAoIJKIYyo8QRCCmqaQEgcIXCESqkxCmHSaopASAVkDAhBy51sjn37p/mnS717wmRBm1fQQz1i9qM3Z4W143bb7udiRgu2YAnTdiglCvN5k4vlJZQlzVdNplnVVU7maysAoGvrch2pVDXdmxtwXyLEsbEchZWZZhN2B0JSCIqSbh+ConPjcioB+Y9LMU9likY++03nb34YvvEeSza9ZEEoqVSxYKP3FXIsKoVDc20113fmSkEDYDCTrEkYQuRoEyvuNmBWGjUBgIPwBcVSb2b+HSAII4oS6XQ4Ei36fBa7A22/7wAAFENWfXZp0VjC/Iy2c3F2z9lkhyJsaBl48RoGMU/IfUbUyiDVkiaMK/0W1IEjZEYeUsbcWFUEJirxBQFlSJ8VW1CHEyuTNYlGDHorWZu2UFBTBZZHseffMMzK6e4gKyqYJj3Erz2+p+C4ZUkrqybTrOquIOanrQinm7DZ9LyEOXjhfwI77nK4K8hnflZ4UUNX5X70pFisRENjPvIXkvh7s2K6shq32kFTo4feueLaCmZY0eThNz8KW2xYYFzevys1sx8WAPCDHwzznDhR0iI0B/muiQiOG901jN2XjoxZK5uldDIdHZe4hL1uefDiIcrsMnlquciYzCctFYvY4KCmaZ7mzf6Od9LROQygnz1dbViKI/ggl+sBwCkJN1k9LvQCAInMIfQq/w4oikAQBkWZaRVS8A4AgLncRDA4giG2eiuKoapc4GlR02nMPI0xJT/EfQbkV1Zm3AIWVA4QDQHMiFpZNSFqaQphjKg1oYQzcgRQXmPtmEcBmVOTDqxMQFgjauVVjkCotMaKWhoDvMQIHtqAhvyyzYkX5cMqoxs7Ewdm3h959uHgNXfbPRXEEz8tjUchD6bmxYTDmVHn6ax3rGExU7uIQVG47yu+n32zwMeN9JXlSOS5f9gzyN/1x997AsSA39DQhGBYvrvwnxgVNUTGhjVz8DMACGPzdDS5TIizJcIpHSZPrb9jv2/xdlWRg5eO+JbsmGjfK3FxBMMddcvTsQmjqxJB8Ynz+wAAQdF0ZGxO2goA7GRFT6qwP4qkCX3cGT2EcFgokD23GPLvAEla0nzEaJhDNEwGnsVOk9eoqdq5xy4U1FYAIAb9zHSFRVVUcJdKHTOZRxYgx2Iz1A8ow3ohLk45GfSIbZlytlzHmNyjgabXmSEhQ82v/3XwM3+bLcHsVu83Phf+5x8yBpRPq0X5sNJK0kb4JvdH5MIvqqeCrG2icAJpaKUDo/OJdRTDQbqqhnRPuhRkK6yNN9p+9Y8jM/Av445cagRmwcKZs0zPCQg5udlhWbMh8OrzmqJ4br6TvdRRujkZM1tIn490uTGrDTdbUJpGaRohCIQgUIJAJv+RaN6EvBjmZMNS5775cEUg55nk5g0pnXA2rJK4OGVxuRaslfmpZCpcdAwnDanAAGGwelu3pvz9bGiIYMy01cPH5/D5tBNefyFzu45MwLMBtXBKqdeVfwdEMRkKXUxS8yHPYQPp3rcGAcC7tCh/Bj8wwNQ3ZksMTc2l814YFzXnSLjuS3Mc5izI1lBzSmGv8QLusHoqiGRMmSmWMK0kLMQkQ0UxhXX9/faHvz0uidoX/7ns+J7UPPJ6shfOy7GoMJ77Q1YvpIW0umiVMRaUAGCoq8AuYcaN+32CPiEnXR5NFOnKGlUUVEmaVVshBGFsbjU0tzANjZkI5CuFudmwSjC7GlYs4862g6padm5LX7gojRWdnjg/dl/40adKGaRWghdFiYj0ncnJgURbXLTFHR04F+k7816eoeFMwqGR06/PdUtE0sSl1qsnSZCTR7IP1dCLM2UnURGSSnVtyb8DmqZ4PEs1VeW4uS0CEBQpW+kJtAcBoP7q6tDFSMHonNS5NvuOaQ6JdG0dXVdfCska09BI5VlXZghyel+AIHRT3WRhUX223LC8RY7EE7PGEibkkJOqKrbdCwCV9ZSQVhcuY9KcKvLavLMQowzjvWMyQNf//JO6cMVVllhQrmtmoJmBIgrrT7OLZFzUqnAsXVkNAEpqpm8sZrbYtm63rFmXG9J15TAnG1bmtTFv3US4XXIkitB0cu8By7U7EAxjj58CDLXs3Ep4XHxPHwCY1q1BKJI7fVYcG7desx0ASR0+qqRY203XKfFE6YpAFa5oooTMeTUNABRZ9HceUBUJsmx/U0bAuW/gDnHtxZISc2pCV2QAoDM6lIicO4AgqMvZjACizT1SpW5Hde1VlZYKE2gQvFBYWwGAOD6W7uvJmWR57/vo6H//ZOYJL26xeO55IEfIXews0RsmH1cjdwFAm3YoBLNbBpYhm9xQNgy9l6DNuGEl3bIAEMT7zc9P1VBVyR+OPPJCwwKSpFBfFTE6IBa2Yc283QsAa3ea4xFl4TIDAEQC82dZNS9eHnjl+Zxgqz/+OtC82njhJAsATSsLmw/ztzbeD0QPTsU3GJtailWzbtriuP7Gy2fFmhm3ftRa3UDiOMKn1R/+bakLH6LMlzp0lKqrwSjSuH6NEovLobD1up3B3z4qjU/Ed+8DVaVqa9KdF4W+Ace9d9DRWPLdI3Ik6rz/Lml8InX0pBwMOu4rNb5Mk9/H7EASN/X6oTiqaZCfLKeYvCBo1FRjXIoC6hf6/Py0bYqQOJx57Ie1Ocw4cu6Apqmx+IDL2SzysdI70dH39mByNBm8MLvxNLLrtYovfTk7iBq32Sq//LXgS8+xHecLqHIEMTa3uu+4CzNPW6loqhp+7ZW5jnN+EIADADNYQdPCv3sOEKTqv/5x+C++nV8ztYByetEzh9miNqwZtnt1vPCr0ANfcTMGdB5cS9mQ41Gmuk73tM5YK1EMaVlj6jrDAcCGG2x95zkpL4NjKXmDLx90ZTXhcOE2OwAYahvYS7kPLoJhnvseNC1dPnM/cjwmx+Mqyyosq/JpVRRVQdAkURVF0uO1XbWtlME88XAUADAM+cRXHHNwCJNlTVE0UQJAUIaWI1FNkuJv7QGYNiVRkpMZmxGS1HgBVBXBMIQkNYFXBbEYRVcxfPELxo4O+fgJ8V+/axkbU595lhsdU77/r9aeXjkj/z9fK8lfPxuUgwEAJS1rqkZaKNeK8nhXiLBQib4o7WT4EIcbCABwrSgf3ddH2eh0cBZDXpWhpTNxQNWUFstVAX4wm2BAA81BlJdTC/Tne66xhNkoZZewGAxuA1yIAEDNVZWDB4ouS/mhweg7e+3bd2YLMbPZ97FPSZFIurdbHB9T02lN0zCGIX1lTOOCgqykoReeLSX+8YpABAEAGHhvRqJp0kRhTiE2qXzk4/aZPN1n2O7NgEuq8bAiXEZeQgCQImGqrEKfmWQU1vprrWuutnqrSU2DvvPpfG0FAJosIdOD2lJtp+NHDl3OYPIhhoPGhc3J9jMAgBXy5/Tc+0AxbSUMD7EXOtI93aJ/YobYY2PrEihNYZVVETSDYDhS20hiGCLLczcaHjtpvfFaJRIVhkZgZEwcGrHfdjPXNo0GIHXkuO2W61VBZM+clYNh6/XXSIFgscDUGRAIKDyvoShiMCApVpNlIEkkWz7XDgGgYmu9scIa7w7xES7RF9FUjXYbQQNNVW1NbmazSWKF4Te6NVVb+OByY7ml/b+PiPGZlqhpJWUlPPpuuAG3KJrEK1M67nJiCbOBYTRFWXCcBn/bXNuWr/LqesrT4hw+PFZsoxAAIm++TthsphWrcuSEw0E41s1+Jk0L73qtIOnu+wRFkwGZFsoz8Z3/Klhzdk93UeX17V43VZOSCwcleCqIPS/G5ELapHRkeNyzF1yHd8X8w2Lv+QJRVxmooohNV1iaJPEDV9j5SE2nI/vf1t2v4ieO5By1rF1vWrYiv1W6uyu869V5kwoVQ/My2l2Gaxo8/eto6doq8twfASBjUA8/9nQmeXLy4BE9w7PQNzB59NGnACD81POAIPqsKvToU9mJl+eBJ57i/uabZo7TXnmVb2i4LPZePsxpGiAY6lpeng6kLHWOwVcvuldXpAMpc41dlRTSTDFeo6XOwY7E470RKTnLpIZXkjbCCwBpJeGhalk5zitTj9C8YwlzIMvc6Nhxm7UWSkwjkd1WUBbeXM/HBEuleQZtBQCgaf6nnxBDQcfOa2GO6w8lmQw88wTXdYU3B2cGjuhWndk/XZ5yvKaRtDnxwp7us1LH6hgfFG+4zyEKKgD88jvzsdLRldWE04Vb7QBgqJu24JpZWwGAkkjk0EiihVglLx/GRa2pjnMAIEWmbfEgOJ7DS6Mjtn9veNdrVzyCB7I43VdtMnScLsm2jWA4ZjAqHIubzChBorRBDE1gRrPKpwFAFQWMMaAklZHLqQRKkgrHElaHFI9qijzXxaCOh/9ncp7ylf8TA4Bv/k18cltzN2TL54qxA5PaBEERTdU6f3UcALjXknq56poFI3t6MnK9zswdpuSovrmUb8OCy4glzAGBG1AUGxnN/eCVgpP/c7ZqYzlpJN79txLmPpoWffst9txZz733U5UlhRPJ8Xji6KH40cMqN8sbd8VhBw8ASDD1USGryhyfvJOsKpsWxKKq4a/+/Uy7hLNSx+o4f4JrXWN45uGIyzdP+/e0BVeRiN9ikGJRsqw8W4IXIjnIB4Ej2iyxB9NAV9XqCisHpiXLMFOuimQvdIRfLykhUgYoOTtbi47SOd0zcG7YTticbN8lTZFVUQBN01SV9lViNE3aXfHzp23L1ycvncvISZtDSXOqLGGMIXriihGra9osThhz7jBLE2XKw7u7i9UphhlsWACQVMJOshIFNBNUOD9IMud0LjIwrom5LwmXfbxFjyUsX+0rJS8hgmHmteuz0xJriiJHI5jFguKEpqpqOq3yaSkS5gcH+YF+vr93rpHqlw8S6DpkkQ2cAJCAqS+B46O3yf5w7Lldrs/eF/rVU4TXZbl+a+i3z1qMqMODXTpbRGHNSh2r4/JjCWdecM0McXzc2NyaLSF9ZfoCR/8Tw6C6Ep/wK1YLqj+6aV4zGxEA2LSBevm1tNOBJllNljWSQLweDEXBZkXPXxAFHlAUhPeWuirP++56UE7kUgwamgtsGoZfeWlOVwEAaF7kajGUzumegZSICYFxKR41LWiNnz9prF0oJeOUy8tPjIAGhqo6VRLEaCgjF8MBmU3iZqumKKW88P/bMbMNq5Ja1Jk6qIG6yLg+e9NwrlAUaXRsnrahkmIJ3wNKUb5PfiY7/wU/NBh89ql8OzpBIg43ngrKTg8GgC5bxxzYlbI6sEhQ9lUSBImYrdhAl+Bw4/5RyWTB0pzKGNGwP/c7vxTZ4IBcD/4lyLoZ7hUCKJblSjKqTU1syery4H8/qiRSmqryF3r5C73CwKjzE3dE/v2/1u0wVtaRe16a2iaeZsOyEt6oOA4AJMpwSuHdnMuPJQSATHTeXCNmhdHhHAmCYVRlVcaM9dF7jafPih/bYWRZjaaRulo8FFLiCe3pF1hVhS9/0Vxbgz/1HLt8Cfm7x1PLlhChsKqq8JEbDPGEuvfAlC6PHytMMZhPQiSMjkjhOdB66Cjdv7R0TvcM4udO6C6XfGAMNC129hhoWnD/rveOT74BOXLrktWgaRhjUNIfjLt8MVz7EaPRhPReknACqazG+7ol/7i89VrDc48kF6+gGpqIrk6RMaD6ofNnZt+Vm9mGBQA0ZlQ0CYPCe+V/ApQSS5iB94GPZ2urdHfX+B9+U5CgefN1JlHQ6haay6rJX/5rUFXh3s/Zy6rJjlPprnbe6sA0DVQFFiymVm4ypDnV5cMTUWXPS0mOnTYACcR8YqyZ2a+yMQp92R5bmiQhBA4AWprHnTY5HJNGxokKn9mK1i2ieU7NVlhTVjoEEDtRjgCKAOqjG1CksKH02YeDGI5cTizh5SDd050/lTW2TmUrEUSorcYlCew21B9Q+vplgkBsNrSyHG9uIkbHlNffTNvtaIrVyrxY0wKib0CurcbOnBPra/F0eurpJD1eJZVUUskcOod8mj1xfD5hdKXng9pxi3nHzeaDb7HJhPI3P/AuaC1tYZhNIJVrWZvmlplBvP1k9NShD5u2AgBvOfbiE6nlaylvGXbmOH/+jBCcUAgCAYClq6k/PpVavZHOHCqlw5QcRREcQwgUwfvZtoAwTVv1p89WUAvr6GUDfPv7cj0lwLPYWbWxvGKNb4ZYQh2mZSsMWUE2qiD4n3q8GJ38cK9Y30QFxuXDu1NWB1a7cLIsiZqvihgdlHyVhNOLVzdSsqyZbZh/RB4dkGhDri3/gnbqgPbKee34OAwKUCqnjQRiBALt2rEL2ulsudA3TC9eCADp813OT99jWLXEfu/NcjCs7xIGx6RsH6oppeil6z10rQG3AGhxKVgsXwiXUv/4uzlPKK4UVJ7ne3tyyGEtq9dG3nxdXxU+9RyLYaAogKKThuO7bjO88DKnqvAv/x4HmJIDTEoefUreupneuz9rqVyc0x3Fcz8sCjtTjHtBYEZT/kytGGoXkiMD7O2fsDo9+Pe/6f/EV5zdHfOmIftfCZMJveUeUzSsAgDHagBQ20AsbCEWLSbDAeXGO4zBCQVBJg+VgmrDkqg0JqmilSgQqWfCHTRqQgDqmWWX44d1OdBk7eyjJbmtWtZPYw3lui7OQLrQ0yn0XhQ0FXT+g9/9KAQwWUYxUBXY9Ww8R14MIggTMDShDaGAbkduQwAt0dM9H9HndqlsGgDir+51ffoe12fukUPR8O+fVyTNW0nA9A/rlMKa4Hs5JZGQ5pYY7k+PxImjOQoLNRisGzbF3p18tvTlZkYrPffStH2QfFOjqsK+A9MMezNwuqs8n5NUDimB7DwHtqu2lr4DnWZVmkFaltM2B2a2YXlpFYvCec82JZYSBv2gaWS1V+gfRzBULwAAWeXhu4ZRhrLdsDb68mElxZvWLoq9cdyyeQnKUMJwADSNqvWpLJ84+IFNNHREI8prz6Wyf7iBXumfvhYGgIvnxewvUImQNCEijpXRjRRqQBFUnf5eXik/rMtBKZzuOqjKquw/VXaWCbJ+rdlXrJd1Hvx8+axQQU1Bwgy2kmoXgjQy6WygsunAf/4hI2eMqNGMXjpXPJZQ09QG02qdCKI3dXLeI3hfwZ5vl6PRHFp3x3U3cpcuXilv3Rk43RWOzVFYRB6BxMzAbTbLxs2l13/s59HFK+nv/h8/Y0Q+/peON18olT9Ak+TYWycdt2/WZDX6ymHHbZs1ZbLAnevFjLTKi5I/Kgz4haEA6FlMAAifI/zcfvvNG9RUWuUEhZ0DieX7hDf/yM2gkuax2TXAtolqWtCT0ee9l1fKD+tyUAqne0EYW5dEdr85M7PVFUcSopejsIohzaq7n8+1pE/7zlcblqSVRFwKXqnkYu8HNEWJ7N6VI0QIwveJh/DLIKUuSPhpaGwyNC7KluTrRLquvvRwQoQgfZ/49JzCDxNR5fAeNs2pkaDyX98Jlr4eRAjcumOFEmeVaNKydZkcSWQKgKEqyxtaajVFxW0mssJFVrioOh9dX6byk+HTCsfjToscumK8MfOGnpnxCkJU0wAwlu7SnXhyoPthucgqF1mVf/RPg45nLh39yen2Jy62PzFLLih5+oYPZjZX/Z+v23dcTVfXYEZjMRrbK4uEFruc5u4vPki3LMiWGNcv9379MwUrT5thzTxV/vAgefqUedUapmHaRRIud+VffMX/5KNzZUyma2rNq9cyjQuGvv/djNC8eLmSTBgXNiMYnu7rylj60z3dxpbF2c1RirJt3RbZXThBdDYwk9n74MdLt15dJsLPvJPD05JdEPom9L3a4ONv65KJn70IAHzfOABEXz3ivHtr6mSXcXWTMPwB7K58gLhM96srAnu9baItAADepW4uPNMkN9l2xjndMxEzmR3X3QjXFW+jaaogqDyvsClhdEQPJlOShSdlNeWbk+x4LDm0qO7mFDehaSrHR8o9KxOp0XCsO8X5Wxvv6B58y1YLoe5xAKiv2jEePMML8eb6j7DpUKZtZ++LxYZDtyyIPj+Nf5i/1O/46G0FK09TWDNPlT9E0LTAM09W/tVXc3w4MbO5/HNf4rouxd/dn+7vLbZXAghC2O10TR2zYCHTuED3MMihS0YIwnntzeG3X7esXJcd6c12djhvvjUnBtu+81o5FpshIAtBUdOyFY4bb3m/+bxyoeVtCL5XmOJ9LuKdH331KOGxRV++wnGaf8asKJEPS0fiyEHz8hU53tSznQDReSVxm42qqIS1612Kwnaej+5+syDDjCilVFVCEATDKF6Iqao8MHrAbqlHEBRBUATBAIAXJmfiGEoqiqhpqi7PtJ1pOBSp8dPXDbKMUIVNw9MUlpOsDAqDY+kuJ5lLn5oNZsFCzGBEaRqlGf3K3ytTGUl+K899D6ocpwq8yr/3T8gupFVeEMfHSvTMkmOxiT/8pvxzX8y3eRsWNhkWNmmyLAwPyfGYwnGaKCAkhZIUytCE00W43LmZLPIQ3rMLYwxyPJbqPJfN6S5HI6nTJ82r106rjSDuu+41rViVOH6UHxyQ4zFQVQTHMYOB9JUzDY3GpcsJx7TlavzQu0xDYz7j84cHaloQBv9EEfzzwIfhIXyfUCIflg5VEMZ+8wvPPfcbFi6aodrMQDDMtGSZsbk18ubrsQPvFKs2Hmyrr9zOi/FEajSeGqqr2Mqmg4oyjblwLHCqoepqRRUD4Q4DU4AZIh+yP8QsXZQ6OGU0Z5Yukv2Ff4Jp762FcNlJ3xB33kp4wmLRIF7vAx+bE929DpQkZ41Hie59O/Lm6yV2yA8Njv36F2Wf+mzBRxPBcbquPl9eIvSHGAAImz2Hrjuy+w1Dc2t+kiWmoZFpmGRT02R5Bp2YajsdeuUl5w03vR8KC8VJnGIUUUAJSpUElKAUMY1TBplnMYpRJVHTVATFCINZEdIAoEgCTjEoQeOUgQ0N45RR4ubMAPOnx4fkIXw/UDoflg7MZBaGhujausukZkNw3HnTR1CKyrZvDI5Npobt6HkBADp7X0RRXFVlAGhPPatpqu7W1zP0ll6NTQcv9L2MIIimqZnwG71tMSTe2O/42O1EVZnYO6RpGlVfZd6+IfL4HwtWnm7DUoUu9midcaWTquhjTxds8KECP9A/8l8/8X30E1f2zZ+ZD0uOxSYe+W35Z784g0qa4VDixLHgC8+CpnHdXbatO67gsHXQVrerab2Yiigij5G0IvIACBcesdUsViRBTEUNrsrQxSMGZyVG0pTZGek942paFxts1zTNt2Q7ZXaMnHhV5j907qP/n4K+TK9cX4YgyPCRoolFmLoG+7XX5ZCOXibsV18njI+z5wsE0urQtRUAaEVcNQE0bS4sAKlDp5QUZ71xm2njSkAQaTwQ+uWT3OnC0YHT3qtxvlsDrY89FZOuWBKU9xtSMDDys/+wbdth37Zz3nykKsclT0ylUZmVD4sf6B/75c+9D3wct9lKP4smy+FXX44fmfxk8f19xSZili2LNVFWBRFUTUmm7detShy9AKrGLKoivXb/H3YriaJB9iZvnSqLCIpjFIMgGEYxIhtng0MGZwVOGVRJUCWBMFhpm4cLjYAGJm+tKotCImQuXyCysXR0XBb+1BH8f0YOGq6tSYfT1ZsqMAIdPT5eIMU6irpuvtW6cXMOlaYqCsLIiBQKqny6IA0sguMIgWNGM261UuXlBb0InTfewl3oeD+y2+loRlYigHRqpzKS9NkL6bMl5fvJzZqjFzDkT8FEfKWgyXL07bcSRw9bN2w2r15buhJR0+l0b0+q/Sx7/tw079ASwrP5wYHhn/7QvuMay9r1KDXLVFxTlNS5tuhbu7KThmmyzPf35TjB6hBHQuY1C2P7zxmX1lNVbpUXxfGIcWm9HIoLg34lOdO2UaDzEIDmaFgR6Wtz1C+P9LXp3+vgxSPZKazHTmX2ZSZDC4Wu46Bp70ea6z9jrsApfO1frjjx87amWxsBRSBHYSGI74GPG5cszZbJsWjkjddT7WdL5yRBUJRpXOC47oYcUhrC6TQ0t84wybocoIBWQD0AdMKpGaoZ1y1jjxWgEZ1Szzl8WCejc+NL+bAAQajKKqa+gaqsJlwu3GpFKRrBMFUSNUFUBV6ORsVgQAoG+OEhYWS44MvpveN+0Jd1qqpKUuCPz8xwQpSmjc2tdF09VVWNGU2YwYBgmCpLKpeWY1HRP8EP9LMXO+dMPKQrDgSZypCUkfwvVyiUEScZLBl6vwKMyoh6SRN4lXXjVQNiRw57zFyBkARmMiqJFGo2KvEk7rIr8aT+E2Amo5JiM0c1XkAoEjUwqJERugcAAGVohCLVFIeajSqXzm6FGg0AQDfVsUfb8k9KmgjKQiXHUo4GW6Q3lnPUtm2n84absiX84MD4b385A8PtTBdIEJV/+dc5RpXE8aPB52d67OcNEqirkFsA4G3tuRmqVf7470a++t18+Zz5sGZFHbMsKA6nlCuWfxTDKFWVEQQhCIMopmjahiI4gTOJ1BiB07LME4SBFxIAGkmaAEAeHU8H4nFxP03bbJbaSLRHUUWKNAtCAsMoSeYIwiAIM/lD+l940rH16tixg6ooOq66emYdofJ88syp5JmZPhfzQX7ccuFI5g8v/vncjdmcyH+/+DUAsHio1u2e0BD3/iksHAhAwIzbw/KoCbUm1Wne6q3Xlt3/45Uz96Cq2v9bOml3N21cJQ6OGjetwt0OoWdQHBihGqqVeIrwOMXBUWbposxRORBWU5wUDGd+I/POjbq2wt0O/kJPphVqMpi2ros8+mKxX1NMSWJKAoB8bYUZjY6rr502Wp6f+MNv56etAECTpOi+Pd77P5otpKtr5tfbrMjQPCA4BihajIYbZQqroNn5sAiEbjCswBAipUTG+O5qppVAqKjsj0rjtcxSAqGG+PMmzE6jZgYzDvMXAKCSbsIQfFzojUhXIBGxx9Uqy7zJ6GVoeywxlEyNEoQRNK3ct0pRRBTFk6kxXojrNRnaMRE4W+5bnUyNJVOjFGVxORdNBM6aTeVuV6skcSRhZGh7d/8bkjTTlAczW0inWxUE0uWe96QGwXDCYBaT+eEdiLm6SZV4dnxgHt3ODwiGW2qa0+ExMT6f2PXi1zI3iJxisBFmbs4BmKUjqUYMqJVVE268alC63Fx7qiAI/cNEuUcaGUcYGnc5EBSjm+qkiaDQP4z7XFNHaUqJp+RAmG6ZtILL4agST+GSJI2MowZDppX56k2aIBJlbqLcC3MMhjSvXptjq40fPqiwqWL1S0G+r3U+S+WVQkZhlX/v64Cio1//15rffn8uzbNQb1yFIYT+TbyYPKwL7YQ3JvsVTcIREkUwI2Y7l9yrHxpKdziIMg9Zq2pKTJ4Y5IMtxs2sEguKQzHZ32LcHFMCOGlEECiv3zLW9255/Zahi29hBCMJScpgR1EcJ5hEZGDmIXLpoMVcyQvxFDuB4TRN21OpcbutQdNUgmBEkU0kJz0wBCGpaZrNWqOqoqopNG3n+ZgoJSnSbDC4OS4kSklVlVPshCzNEiIX2fumeflqlCQj+9+eH18wAKA4gRd6ya11raTNneg/P79uZ4WtcVm8t12b7vqrqYqmKtba1uDZA/Pos9i1zBUkg8UDvMlJ5nMZ+4wL/Wy3vgAmUNpA2OLC/DLlIQRCEgjZKxbNpVI62CNnACB16NTkd0vXL+99w3KPAgBA6t0T2W0BcpfzyT2H9ULsxbfmOh6mcUGOhLvYWeVYmeAnXKZ6hrTFuJE4N26m3YLMGkh7gp+w0L7MUU6MSnKaE6MAWjg1oPegpJLv2R8mgRbaa9JBg0EDrXRWmRxkFFbw4cf1gibJgf/4TU41z1c/XaR5FmRNFNV0Tpx6WBpbat4Rl/yDfAeOEJk0k+XUAgo1pJSYAVAARdFkVVNQBAUAQe8EQSobt9IG53DPPi4xjmIklxivaNhCG5yJ6EAyNkKSxoLbnw7Uu5rY+ZbwhP5nPDEcTwwDgB6Vraf85SdOaaDpkkzDYFj/nE5akTPJgQGgb2AqhXdOKwCwIs6lxKZD4quZNOUKx8YOl0QtgtEG15LNGEmzEwOp4S7Pqp0IikUvneSjfveyq4RYkPMP2RYsJy1O0myP9bQpfNq+aLWcThEmm8JznlU7AJBw51E5ncr0E+9r9627AcWJ1GgPO9qb6dNYXk9ZXWIyipJ0qG1/Rk7ZPVP9i7x7xTbS5mZHe9nxLKYnTZNSccrqAgCMpDNtJTbhXrENowyhc+9KbDwzBgRFM32y4/0Fr4UPjXtWX40SJB+ZCJ0tiVs5nZQoAy5yudSmFspba11tIOxRfiQuTNRYV7JSNC5MVFtWGAlbWk7gCDmQOFVvXYsi2GiqMykWpRUxobZBsejEavhs9KV/bDfaSaOdNNhJg4002gmDnbRXzMbWrT+r+tcr/7nNX7znH80PPJg7SF+uU7von1BoU5wbM1KuJB/AUcpA2hAEtRurOSEc58aMpCPrKCnILCdGnabaTA8IjufsNhbbImxF1pRBDQAMQXeXNvk92IbcWvr4M3HKYv/kPENNsfzF3HAolSu8wp2msBjMPJq+lMOEhSMEidAUarQTvqQ8tZrQQDVgFgzBdaNmJd0MAH6h34BNUdwJ6RibmJBFThRS+v8AwCYmMJyiDQ42PmZzN0LJTsW6ltF10GS5MCHke9EnRaKLCrZCAC0lk0eBhihG2dxDux8HANeyq6RUXIiHPKuvHnzjkWj3GWv9EgAgTPZ0YDh09kDF1juH9zyVGLwoRP3seL9v3fWh9sNSKlq57e7xo69n+rHUtoixYOTiiZw+FT4d7jhi9NVgBGlvXpuRc/7h7P758ETw9N4ZSLuz2w6+8Ui4/ZCxvN5avzjccTQzBveK7Zk+UyM9Ba8lTrSzEwOqJGIluyzayxkuLnnqc30+E4I/JYb64yf0X208ddFrbAQAM+kaTpyz0WUYRlaYFvNKipNiDbZ1bYGim0IKyA3kMhmkgmor4edPPleAueVfzt+UL/wQIjcNgqqqPD/GnweAsei59z7qiKZNfc7HYtOO6u1GI1PTz3z+W7XIGtMDk5GwFVDXBZM95LOPzglj3/5pvjAzS83BNIXFyvEqpkUFBQAuJCbdheqY5acTb0oav8S0LSQOd7GTEXPjQq9f6NenJHXMssF0O6cksndk2pP7IDk5GY4GLgGA/r8u0ac/E0OFh/UnRlwLHxBfmndziZ10DcdIWkxGNEUOnNyTW4dLqrKU8x1DcVKVBE1V9aj6TD8oSWdcN7P7dDSv0VRFlUUAJFtuqlo4vf9ZPuDZbe1Nq3CDRYj6EQTNHkOxMWfLUyM91dc8wPmHQucOlnivkkGhc19wpKNUEghVk1VQFFVCAHCU5OWEqil9seMzNBmX+gDAgs2N9icfZFmZ4+abqZpqhCSVZJLr6Ay/8AIA1P3wB/7f/8F5262Y2cy2tYWeeVafj5BlZfabbqJqqhEcF8fGws+/II5N2nDrfvyjkX/7vvPOO+m6WnFkZOw/fzZD/wBgu/Yay+bNCIKw59rDf/yjJk6Fv2iqgmS/tiiKkqT6XoX3PuqFP+fZkuyyMS9TgRgsHPEeBr+us8JwxcK21FQBL+XY9HDoDKYprCFukqrNTU3tEYwJXXXMUhXUQT7X5pJZQLFKXNGkwvvHRabHk9Of946igLYS671oFa9xI8qUCXAzecugcnFY6QaAamxhFbbwkPgqAFxLPXBGOrAAX2ZATEk11iEfTWlxADAhtgX4chviRBEsqUYvyCeTWvRa6oGL8slGfFmXfMaCOHxYTZd8Rj8LgVAbiRsIhEIByyxCdZRj9bVYswExKyCH1Ylz0uzvZPTiCe/a66RklAsMq5LgbFlHO8v4cFEv3EjnMd/6G1RJjPVMs7YkBzortt1l8FZzgeHsPoudK6dbLjBStvGWeO/ZbKM+ZffYm9dQVhcfDWS31VSFsrpQgpzBO5myugpeC0qQOGMiDBZjWV1yaBYiFB3eBSaCRB2VTGiQy1kVxgV/k/2qCa5LVLhK8xIz6Uoapk2/x1KdjbYNaSUZFyZALMohUU0sQhDUgjralVLVaEF4PvlJ9tzZ4BNPAADh8UztW6Go/bprJ375KwRFvZ/9jOWqLfF97wCAwnHc+fPh55/XJMlx262ue+4e+8nU3MF1153Rt94SxydIt3vm/k0rV5pWrZp4+GE1nXZ/9KP2G66P/PHlTD9KIoG6phGlkr4yfqhwUr5SgOC4Zf3GHCHfX5iy4px2xAw2AC0JufFbp7UDEZid2MMBnpXIVbNWK+aHNXtewoQcSsizLNsC4sCsI5gZNdgiG+I+Kr4BAMuILVM9qyMO1KcrLDvqDahTL+cifFW7fIjTUovx9Yvw1SelPQAggRhURy6oJ1RQmvCVLcTaY+KbAGBALOekQ0uJTV3yGV5ma7FmXWFJmrBffEm3mmWPx41WtOBrLsgnguoYDgSDFA1bk7nk+OHJ5YmYjA7veQrBcE2RAWDs0CuTlQYm1ybDbz8JAJHOycRNfNQ/su+5ycArgEw/isgPvfUYgmKaqgBAps/EQCcAZLTG1Lmm9x8+fzgzhgyEaGDs3Zcyf2aPM97XnrFZZMYQPLMvu8+C11K+5baB134r81zVzvtKVFjpuEx6qe6jkfz0PMPJsyiC6RaJS5FJA2KQ6wOAlDj5BLaH3kQRXJ2RDjQgD/EaZ0RLyv82A1CKBFVV0mlQVaV/Gu974vARKRAAgMShQ6ZVqycVVjyePDr5y6aOHfN+9rPZTdjzHXxPLwDw75GCFuvfsnlTYv8BcXwCABKHDjtuuTlbYUnhMDFdYZlXr70cheW69Y6cDgGAPZ9LM0vXeT33bAo+ewhxWhInuiEP2akGZ4AMJaUTt9978ywKqxQ/rC99wfTWbr6nd87ssT/7ie2v/jo2Q4UyrHZE6dZnScNK1yJ8tS4PqqPLiav0tbcd8fTLU/4Ww0pXTA0BwLDSvZTYpAuFrAnaqNK7ktiul8PqRESdwIHwK0MW1FGPTOWtKIg6rGVY6R5V+gBABJ7T5kDhmKMpZq1ebGqja6uZ+5yrvGCdeQdhRC+ecC/fqqlK6FypO4+aphkdZN1q+5v/WYC2rFgmgel1Zrk0GjV5sVoAYMU4ACAYDpqqqRpOG+YUIxl88inXPXeb161LnTmTPHJU11A65PciFuRQCHdO8nCgDGO75mqmaRHK0AiK5gRdSf7cNVSx/gmv13nXnc677pysN/3xYDvaDU3TiBksa9ezHe3cpZI+GNlAScp91z35aczT3V35RJX27Uuib5/FjDSzoCx5tl8Tc38FEUQoASUqrPn7YeXggfsMDIM88hjnDyhf/gsTIPDY49ziVuJ0mzg0pHz5L01DQ0pNDVZZgf3xZb7jgvStr5sn/MqsuyI0YswohbQ2ZfCLqUHQNDNiV0FVQU5oU/6ounYDAAXkTIohAsg6vNWFluFAIoCg71GqKiDpC1gZJA00FGahVDei1iGpa5ZB/38e6eBoOjg6pyZztWHNAzm7hKTJbq1p0VRF07RQxxzovdKXLo1893tMc7N57dqKb3w98vIriXff2wmdcoid8mZwP3A/SlH+X/9ajkaZBY2+L34xu7f8T0jR/hEk+Njj7LnCkTFs+znXLbdNc8VCEN8nPh154/X44XdLjMtBGcaydoNty1WYOZegTVOU0Gsv5zfRZIX02dW0SLqt+doKACQQV9zboCmapmmBizGTh3HUmACBY7/rWv9Q09HfXtKrZRTWnNyvMphzXsLde/jTZ6R/+651fEL53SPs6Kjyg3+zdffIF7sQAFjQiMsynGmTfvEr9vvfsy6+QDz1DNfXp/zg+7PPzzM6TZ1uGgyqYw7Uq4ISUKcx3uibAzlYTKzHgDgt7ec1Nn+hB0U3FnOBTBvRn3HFQDCY7uke7H+/CCFydgnFZGQynHvuzgSaqnIdHVxHh2nNGuftt2UUFuF06m5IhNslRyZ90+jGxtCTT8nRKADgeYus0vuX/AHC59NOF6ZLUTg28tYbzptuyRYiGOa86Rbrlq3s+XPpnm4x4Jdj0QyBJUIQKEnhdjvhdJIeH9O4gKquQYqkQQm//oo4XsDfO/jcYfvVy0iP1f9k7mz6nHYUQFNBAVXTV/qVK118QlQVjbGSS26rZSNTq8WMwirofpXB7H5Yel7CmOgHAB/dkJALZ/piWU0UNZJADAYkldJkGUgC0VTAMQTHAccRAAgEFZ7XUBT0Oiynzrrm4DXWgJj1co7BKKiOlGMNKshDyuxTHgfqOy8d4TUWADIdzgMpNWFBnRNqSZlL/ozSkfF0N9gILlbS6mCuSKvJcWXKZowzRhQjhEQoOTK3KbN1+7b0pUtyNIaQJF1bKwWnPL8smzalu3sQBDFv3Jg4ODlrk6NRurGB6+ggy8ut27fNu//4/v2uu+/ie3uFoSHC7UINxvTFacu92MH9hkWLcijCAQC3WKwbN1szKU40bZIOZEbCz2xE334zfrDw6l7hhNDLxwHAvLJBDEybzQRgciZx5tmp2647Bq9+sPH8y4PZ9koV1EG4BICoqYX57ldT1Wb1wyoxL+GddzAffcDw6q50b6/8t9+0cGn15VfT4Yj61a+YL3VLHDftI/bq6+mv/rW5t1fOzlFaEOPKYBW2IKSOqqBWYdN+iZA63oSvEiAdU2dPQZbWWDvqDaqjJsRWizXPWr8YBpTOJcTGlBYPqaMoYHbEM64OzK8rg43c/oXG5p0+s5tOx8T+U5F3f9M71jntJ3fVGrd9fkHjBhdjJdiIONQWPf70YN/xucXQkAa8ebunfp2rbJHFVsZQJhwQREhK0bH0WEe8+1Dw0oGAIl0u87Wz2rj0pvL6tU53nYmxEgCQTkihfnbgVOTcrrFAz5SxT5FUlMpNgmB2kRKv0GZ8+Q2+w0/m7m9mw17BLL62rHaN011vMjkpnES5mJgKC8F+tmt/oOvdABstbDQxojZRExRNErQ0AKiSiNMGVZ7z14uurbNu24YaDCrPC319gUcezRxKnjjpfegh3G5jz57LTLvCzz7nuufumn/7V2l8PPTU074vfbFIx7P0z7a14Var6957MZNRjkSib+SlC1DV8d/92vfgJwx57gjTgCClEy6p6XTwhWdT59oKHnXdOkWxa1pWlzzdO2uHupLq3DWcv7vSrbUDAPoPBSz3GRTzw5qmei2Eu5S8hDgO+koZQQBFJ/MAEjgiKwXMxxgGqjr7ZBwFbDGx3oNWpjW2Rz67jNiS7WSwktjGa1ynPOV9cy31wElpT0T1w3TPeBvqbsXXMYgppcUuyadXEzt3C09mKl9LPfCW8ER2/QX4sgq0AUdIFFAFZFmTLsmnJ9RBAKjAGmqwRUbErIAcVyOnpL2z3pmM86Gmav+y8S0hJTsqDQ/9br2tjMmupiraS//YfvrFydd10XbvvT9cQUx/tzUN3vlF957/KmlSYLCR2z7XuPruapKZKUsKFxUP/r7v8KP9sjgftWV2Uzd8o2XJDeUzfLAvHQi89q8dkWEOAL6172qze8qhVA9+xgh0xU0+ANA0OPXHwqGmrlrjtX+9qHmnb4YTyaJ69ImBd37Rwydzp2kOzEejRgAYk3oBgLZ5GHclbfOOn8hNtpSNbMfR7ODnfNT9+EfjP/+5vuX3AQJBUeumLfarryvIuFs6NElKHD8a3fOWUjynoWXNAik8aXa071g29us5RxRdKUx7Isy4s8a4FAXUL/T5+f782stWkQsWES4P9s5b6WWrqEudoijAfZ8wPvKrFI6DLomE1U1b6bOnRdAmDyXi6rZrmWceSS1dQTY2ERc7pZo63GBEeruktpMl7SysJnYOKJ0h9cNOK5j90P/+c8f7j4e++Mxm38ICiSdURfuf+w+NdcbLFlk+/8QmnCxsUHj6a6fb35zlqpu2eu74l2VGe6nhxMH+1NNfOzPRNTezd/Vy+4M/W13KWQRWfvZv2i7u8//Vi1d5F0zNaybZGtzUws1Og5V495Gh/G8vAKy9p+bGb7XgVEmJZtmI+OhfnBhpj2ULbZjbjnk10AbEDgCEMJgAACUZITaTl9D/OoWlAzOarBs3m5avyHdNmBmaovBDA2z7udSZ0zkZWAogK1KSqnAKox9Y7vdpRvcqQ0tn4oCqKS2WqwL8YL4j6Mq11O8eTn7qi+brbjH0XJJal5JPPZK6dIHsuSR95W+suoQgkd//TxIAMBz0QwCgz0yXraYe/VXyk18wEwTyq58lHvy0aVaFRQDpQH0MYgqruXGwRldV/baPn3/h37K3/z88qF5ud9ebCmorAEAx5JovNz3yxeO3//PSYtoKAHb+VdP5t8ZnmJ+uf7D2pr9pLdlGAQDgrjN97vGNT3z5ZM+RUqOiKpfYPvmrdTNP3zKgjPgDP1n1xFdOpcJCtsLSUSyWUMfVX27a9rk5EP4aHeRDv13/5F+f6j40tTIwo05WTRAIiQACCGIqa8ANFoxiJk699b+InKdEKGwqsvuNyO43yLJyuqaW9JWRPh9utqAUjVAUShCaqmqKogmCwnFKIi5FI1IwIIyOCsNDqlgyw4+m0bUey7qFCIaCqvmfKilutEQgOGa+epNxw0rc7QBNk0NR9siZ5NuHCu545jCOpqyERw9+NuAWRZN4ZZrqjYTVW+4yUDTSdUEyW9G2U6Iig8uN1TXgGYnbi33ss+YzJ4TzbaJ+CAAWtZDNi4lQQLn5DkNgQrE7S03UvoW6Vdak8/KRwgGACIogqFZou/ADR9NWj8lJyqK69+ddXQeCjJW44RvN5S1Tu6WNm9xr76vRJSefGzr14rCUVjd8rHbV7VP5O121xsqltuGzsYKnWHZT+c1/25ot0TToPx6+sHfC35NMhUUEAZOLKmuyLNrurV01lbaHZLAH/2v1bz55NGduUhCUCX/wp6tytFVkhGt7eXTwdCQR4HESNTqompX2xdeWuetNAIBiyD3/vjydKGBTt7jp/lNRRyWDYkgO8+/ae2pytBWflM6+NtZ3LBQbS/MpmbEQzhrjws3uxdeXYziSuZb7frzyv+96V1+HAkBEGccRgkHNGmigafHBTvuClarEXylt1f/Vr12Rfi4TJjP62a/ZBV7b82oKEOTr34F3d3e2HT898I5458ctRhI9f1jAMOg8K4wPyx/7ou3xX8Q+81U75UNOx/mQQfn6M853d3Ntx3m3F8vU+eOTiTs/bjGa0fOnhRPvpj/2JStOIG+8kOq5ILpuXpM6P6iyAtN4hTOnOD5xJ72oPrn3iBwIAyCE12neuYGsLgv98qn8ytMUFq8kbYQXANJKwkPVsnKcV6YtDP/4DJth70Ex0Gc2P/v3uKpCf6+ckeQcAoB/+FoEAC6cl7LJfx7/zewkPnuFZ4sdYkPD5579zqw9fFCoaLUCwHN/09b26qSn0h++cPyrr2+nTJP3HEFAVzfv/rb3zR9PbgO9+A/nvI3myiW2TD8N61wFFZa9wvCRf5jm/hrsS7307XODZ6YxwPi7k71HQgd/31e/znnrt5c4qyd3YAkKu+ffV/z3Xe8K7CyeO1f/5UKzZ5qV5PAj/W/+x8Uc+33P4eDen3evvaf6hm+24CRKGnDSUICuPjqWXnN7uSxqOdrKWW284ZvTNklOvzTy+vc7c0xUI+2xs6+O7v15930/Xlm2aHL2Shnxe3+w4hcPHtb7JBDKirliyqTrI0bSmqrglOGKk7VampYluyZpfDCaIe3u9HjxbWUEMdc3kzZX+NR86H3yYbahRjP66MORkF8BgL5L4uO/iCuy5nRj1fXEP/11EAAe+Jy1v1sCgJpGYv02w3C/tOv5yZcuUz+7DkEgmbb3PGQJTiijg9In/sL2D38ZUJJptmPYtrkZd5gQHCtIGD8/GNcsHf/Oz6TRKVdV7uyFsv/3ZYDZFFZCDjmpKhTQCb43IAwU7D2jbjLrsAKSvEP5zS8HOG1s+cjXcMqIYvjJ309+7lZ/8kdDx16sWHnjyMlXDM5KR+3ykZOvBLuOAgBjL6tcdZPRVY1iOBcdGzr6AhcZAwDSaKtad5vRWYlTRhQnVUVig0OX3vg5AJQtu8bbvBkQJDrYPnz8j6pckq0tB4GeZEZbAQAbEc++Prr2nqk4TQRF0glp78+nbZe0vTKarbAyr2UO7vq35RndBwD+7uRvPnWUixUdZ9+x8K8+duTTv1/vrpvkZnNUGW7+u9bn/+9MpFGuWuO6+2uzJUceH3j93wuTt2iqduypwWRQuP8/ViJo4WWq2UXWrLB17Anm8GHd8S9LCXpqEnf40f7Xv1+UIiY8xP7mk0e++MzmjP6tWGxbemN52yujAGBBHZImWFFXQglroCliGiMoVRbnp60wxuhauwNBkOi5o7SnnLA4CLMtevYIgmGu1dsom5sd6U1PDDlXXiVEg+nxIceKzaTdJcWjKEVH2w45V2/DaEPk9Lt8aFxKxklbSan6SsH4sPzLH0Yf/LztyD7u+Lvp7IsLjE++gaoKGAYYjmA4GE1oPDr1+mXqZ9fJbms0oROjsiBoj/w8BgDBl47JcVaOsVIokaOtKqC+DKkJaePjMCDAnIlPlUQSlOl6QQMlEitYedrSrIpp6YjvPxff4yArkHlxrfxpIPPsuWf+uXv3L3PktMXdt//RytW3cOGRifP7fIsn43IUgYsNne985T/OPf89MRWt2Xi3Lq/dfJ/MJduf+96Zx/8uePEwFx7RtZWjfqWzYdWlNx/ufPlHjNVTseL6+Y3z0oFcK2/fsVxr5cV9fomf9vOPdUzzeLAV4mmqX+usWWHP/CkL6mN/eXIGbaUjFRYe+8uT2TOj5bdUumpnyu63+q5qFJt6EsKD7K4i2iqDzj0TZ/5YNKklG5Uiw2nGgmdrq/q1zpqVUyvWsc74Gz+cJYcKn5Jf/s60aPzNn5xMQxlTAibUJoE4yQVosKQm+uV0SqejmCucK7dE2w77D7zqXLOdMNu50f6J/S87Vl2V9o/woYnQib3caL+mKPGLZwiLHQBoV1ms46SmyChBylwq0naIHe41Ny6ex6lnRn0TefO9JoKc9LK62C78xd/al6yaNhc+f5r/5F/ZPvVlG89pR/Zx19xq/MxX7ZuuNmTXz66T3XbX86kV6+mV6xlPGQ4AhqZyAIjua1eF3JW+C/HZwNmILCZgPokRo0++4vrCA+Zt65jWhcySJvOODe4vPZh89wS9qF7/l1152gxLA2Awk6xJGEKU6BH+oUJirCsx1oURVKS/zeiqKl92jS4Xubg+1QKAYPexhVdPRqWa3DXjZ9/Wp/SRwbMLGicDGD3Nm/ydB9LRCQAIXDxcufrm4RMFghVmxcSl3J24bDclHfnLvdj4NC5Hi6fApvXGj9Vl/3nokb7oaElJLsKD7JHHBzLvNoLA5k/Wv/SPuZGuk0dRZNmN0+ji3vllT4GUU3nY+/PuFbdVFdwKMDnIS4fCw+3TlPLae6cxiO99uLuUs/QeCQX7U5kJo6/JUtFqHe2IJ9RIQoiY0UkNKCajjkVrNUUuxo82M1BiGgWQKkuarOjlgrEQqiJpiqLKIoIgtpZVuNEiRPzF3MovB32XxOE+SdVAkTUAeOnxJEEikqgBwMPfn4xgO39a+PZfBZX3/I3+6StBHEfkvPrZdTJtJ0bl730jRFKIKGgAYFxSmzjeDQDMgvLk6V5NnrqZJrACAAepVB6FQylw/8XHAEUdH78jW2i/64ZMefChb2XK0xRWP3u62rAUR/BB7gpwy/7poUiCvmOoSLymKpNzXACMZMqXXW0pX4SRNIKgGXk65rdVNScnegHAVtnMhSeXb4zVW7P+zpr170Wfzld3R0dyaWTzMy8E+nJVGBefNlEi8vbmjA6yaasnW3Li2Tl45B9/ejCjsABg+S2Vu35woaAlq2qpLdt6JYvq+dl8LHTExtNjHbGKxbb8Q2xMat7qdtcaTr8y2ZXBRjbv9E1ViIiX3imVa+nCXr/701Ps47WrnaMd8VpyMQCYUXs7/y4AaJoavnC0xA7zEW0/5tl8gyqJiUtnKYfHvmQ9LIFEVzsA8BMj3q23JC6dlbmUbck62lUmBKfdH01VSJsLIUhN0yiHx9a6hrS5hHAgNVAoUBlFcYddiSdQhtFEEaFIleUwixkhSdTAiCOjmNGosCxmMKiCiFnMSjyhUiTKMLiBEfoGAEDXPjnQ1VPBPzP1c+pkQ9dWAKCJkn3nUiXBUWX2bG0FACTQADA/bQUAg5/529IrT1NYosr3pKacM60LlyW6c6nBs+FatT01cHEGvqf8fjCaIW3u9MT7FPJSmIK2bsv9GEF1v/1rkY2ayxqbrpt0QR44+FTT9V901K9SZZGP+fvfzbiqIn0HHo8NXm5etlQ4Vz1J6VxTZTKQW0eZ7tVJ5Hkk1ax0ZFuIRtpjsbE5EGxHhrmxznhmvxKn0Kpl9p7DBRyGy1unRYAOnAznrF5nQNe7wYIKS+KVI09Pc3CvXm7PbPkBQM/hYOm2pvEL0+awtSvth/4AA+J5ADChBc4+Dwhh/9hbkxRAlMMTOX1AjIV0NtfI2SkaH//+SfqdZF8nAAihyZci0T1F3TOx76UZTmRet0YYGjZsWKsKIma1qhyrcmlNljVR1FTNtHa1ODyKGgzmTeujf3yNrKrAly1VOVYOhQs6iGRQXbUlHOli2cvl25t4bL9ldQPKUKMP5/rfaqACYOLcrVfzwDSFhVG0Z+MNmizFL7UBAq5Vk9TgQiTgXrMDAIm2HxViQe+GGxCcYEd6AMDWugYlyHhXmxCecK7chtOGcNu7UjJasJ/0xJBzxVViNJieGAIEyfST7CtKDnFFYPE19h98SmSjAEBbpvzr6rbcP3p6V7D7WI6C4+MBxuaL9BWOPi0d+fv6+S7mqUiuwtI0UFUtkyALI/IUVpb1CgCGz845McRQWzTbwaJ2laOwwppu7x/tmMMnNH/xm0FOXsKqZbbso+MX5+DRGp+Ypqkd1VP2uJQamzojg5psOBuXVRVMVrx5ren4m1GznYj4S9xLmaQAEqJBVRSyuadnpfEpnbpHk2Xc6dAUFTUYlGhUSSSUFGtY0po6cYpZuEATRGFwyHLVZlUUMauF8HrlQFBJJKRQmFm4YGZVUeZbiaFkINhOEsZEciTNR2uqtyqKwDBOno/hGDU6dqyqajOBMyOjR4wGD804aMoWCLZHY1Oxfky9N3Gix7yi3tBUmROaw0PaBMS8iZLn74eF0QaMZCZO7JFTCQDgQxOhk3s1VfVsuD5y9rCUjJbvvDvR0y7EgrHOEwBArfKkBi5yY/1lO+4cfeupyNlDxop6c8Pi+MVTBfsBgPilM5aGJQBgrm3O9PN+Q2CjZl9DbLjD4Cj3tW7LyNPxQM3Gu3UbvCLxXGhk6PhL6ei4v3N/zYa7khO9bGiItrhwyhgfnTPZEACUMh+RS56zZFDRasv+0989B66ugk2qltoKVvM0TnP7DA/OgV8hNFS4cn5ewpyJWMadqhTwqWnPtMFa+J256jZnfwfXstYcC0rD3WlNg1s+4/NUU49/fyQZnQN5WbLnMhIdIQizbBHhcSbeOggAhjVLuFMd+q45amQIryt14lROSh4AEMfGQdOSR4/rksS7hybT7bw2xSCcPDoTYTQARCJdsfhQ04JbWC6IcgEAMBhcqiqPjZ2wWKow0ixK7OjoMZu1xuVqUVU5mRwZHjnctOCWbIVl29IqR1nz6kYEx1Jn+7Wsfb3/X3tvHSbJdZ2Nn+KuZoZhntmdZeZdraQVsyXbksyyHUMSxxD64thJbOeL49gx2zJbFlrMsIJl5h1mbGYqrt8f1VvT09PT0zM7K9m/z++zzz41t869VV1w6txzz3lPGLx6MBrBUuTYZWDhcVhcPOI//LJj3e7kUFdqpEedYaEEqXxYEAxDSY2YnXoWhXRSEngEQcxLctTgJIrONk4+CsaZFyrX3Ghv3oCTNACsuf8/RY4p7RQfOfJk3Za719z/n9mod+jQ4+qUUO+oDfUeGz/1kiSwCIY7Wrc07Ly/49n/jgydJbSmuq3vJzQ6NhWZPDsj+7Q8zJmyJ1/ymM4LOuu0/JjoxLwLLkXGpykFvb344o7WvPADzZzqAgCKIS1bbAV1CY2OaUe/9/tryz9KAWhz8cwhJiP1n09XNtFLNhrCPq6qmfaPMKO92VR83lSUc8JwzRbCaRPCUYTWCN4AOzguBCOmm3bFX3pHjMQJpw0AyLpK4/U7CLed6RniBseM127lfSF2cKxISZ5yyu3MNYVmuZQk8YAgIEtKrDWKYILESLKotLtdq0jSkMkElYXUKfk8ICTu/shVvofesV67qmDXuDxUjTRrwWAFZzksyQVYeByWxuYxNq9AUFzJMcz6x93bb4n3nYtePObceoPMc/Hec5mJAc/u99GemqxvmidC8S+iBAmSPNs4QiZlWbZRY/MwIW9quFMdZ75TwonTL0+cfpmsqyI8LnZwFKVIqrH2wsEfSpDW79p8Yf/3qZYG2Wm9sP/7uNNOL2tlB0fGhDPicIKf9LP+4VO//4oyDqkzB3uPCmwaAEAU0oFhz/Ldyi5/xz5/R1llvmZDac9CTmZBkUG0cZodUWBllIMCF/tshkl+nBcAcJl5HKiodSmJ8tCpGKXD8iPdNcYFTiVmQklyMmNOE2aPiYG4mMs9OvBcGAD2PR1CUJAleOJ7EwCgbC86iEpX6p3jVFMNRpGY1YxM+AEA90xL9OOGJ/gJX/zlfUr8UfrYOe2a9uLDLSriibH6mqvSmYAoTpsLy5JI01YMJUo4rP0Pv4PpaT6UiB/uKojDykKqWz69FFm3FFl3St6XhfkZIvOKw5oe6R72srEAyHLOp3h+yqc4uXeKenz8lRzdeBJyimb8tUcBINE/5V+cbRzf/hfUw6njzOvnTUGSUS0ts6x223p+wkfWVrEDI2IsQTXXi/Ek0zsoBMLG63clXn0HAOj21tT+Y4ZrtrP9w+oA2ajX1riGifslUaDN7sq1N8bGLrdQsIorFxVS8IbPS4/kukxXWLSpuGFC6aaT/M5n9srNWF5QMDPSnV48haWgIHA0f1f++3gltBUAAC/IoiCzXK46FIoBhiL4jDTMxXs+UBRftvXTelPFSNerEwOFWX6jY7mWru6nAOBi1+OyLKmHV53xwVBnAaOUIq9CTLNimgUAZqSIu3MShkVZWIqs24BcPSr3BWA8DeV6KpQ4rNQ7R4VgFFAEd1gNuzcrcViKQD5tVmHyRIGPMM+nOI16vKiWye87+zjTu1xO3jKGStks1dLAjU2iWpodGKGa66R0VjFtZJYDAN4XNFy7g+0fktgi7tXB/Q/XbLh9xd1fRVCMyyRiI+cnz72x8PN5t1Bgl80r87lon9kMvYKR5/WGy5Kcv3SgYmakO4ovcoxSTAy4ifqkFH3PYwnZ/hHTrbv5Sb/McoTbodu2hnDaeG8ge6GXGx633HNj5sQFMZnS71hPVLnpcV/23EJcpRqdzWitBQBbxYqZCqsA8iw8d+Ww6c+GGmimEA0FNAuMFvSNSHsjtMsgi1DqU/qO/JyysfA4rD8vcENj/OhkTjOiKEgSNzxWkC+WPduR2zU0BgDJvdNuJxMP9M4Il8+HYUt78mjX4uQTLR6YOE84p77YpG7eN5HSTfvgF81SBgA2LeS7sWZGhJUAgiJIMVU6M9KdSfD5Xrnffup4eGTuJNMSoFF9QgwHhFLsgFcOkUdeAAB+PGe5hH76qHyJEC76yFTx1+TbxxAcVxbCoo/PSmVTDph0OBkZ0Ro9gdGTlzPOgtGCrJzZiABS5rrhwuOw/uwwZcepOmWmsVBM3aBajf2DuyWOTx66SLdUJ/aflzKM9a4dsVeOq+0Iglhu3UJ4bNnOYXbYb71zO4JjiX3n6CW1hMcqBGMoTYWfeOeK/bhZkYnz+fGc1EIU1rQnKRsvrrCY1DSFVSa9jAKNHi9q+ukshLWa9vamVAsrE+fyFZbISQtYRsiHXxg1Y4419NUns+8Zz5yKEmENZRaMmBOSJJw78ONFGepPH3/eCmvBwPQ0qqUizxwQIkkEQYw7VmR7xySGy28HAHY0EH32oCxKlps2CZEE74tY79oupZjYGyfplmq0bM68xUUyyOTzTNmqdQNlM1vlutRMy09MzYi/V8BMt7xM7nkwW87mmZppYWWiHOQlGulsl3tVnXgNCujpbGHx7b/gcqDWJSRm1CXcKz95OSOT1R7rR+8iqz3TCqNJUlHLa/FTnP4swAeioUffsty+TbuykRmYpOrchi3tyf3n89sB8gpTaykpy8mcEHn6gMQLIIgSW6SG+7uD0bOx/D9nkuTNiYIAq/GLsaJigYFpUzNbrb6oWFFYq4vkbAOAzkKkIpzBQanB+pPTo9UrllxuAdSAMOoThvWY+TLH+QvykV+XECEX09Cx3n+74A8HvvdrMZbw//eDkd8/LQTCvm8X99WUdWAHVtVKrtMg2oQUPs68Nme7CbWtoHYcyj4nFS1ePwPzlb98UDVO/aalCI4pfpZs7xjdWi0mMwXtzKDX/qE9qSMdiXfO2e7ZxYfizMD8yvBdCYycieT/WbN63gF7BbHyBRRaKrzdiVW3VKp/ViwtTnRTFM5Z1CibFjUGHMOQVTe4zrzkA4Dhk+HN99WpAjWrFhh/ODXCIpWqf3ew+qq/0xk92VTw1Jv/PZvMumv+QaOzpRPeM29/T21ctfNv9OaqfDHv0OGB88+WPpzJ3mivWGG01Wm0VhQjBD6bSfjD3ou+4aOSVGqKOmddwgWDrKkI/vghMZGSJYnpGmC6BtjhCdtH7vT+2w9mCpelsNrI9V5haFjoJIAspx0AEEBgPgQ185UvinZys1ccjIhzp02xowFuMgyynAvYleTk4Y6Z7fHXTiAELvMCAPh+/KyynT7Zq0he5tkuGGNnozwjquxRnjajrVZXfhi6vU7nbp1SPaIgj50trrAKiG4aNtpxEi2zgEVdHl1MPmgjERrOuFv0Z1/J3abhkxFZnrJWa9dYzBX0vLIjC7BYperfHQRGT9Uvu5nWO/Tm6lSsyEKBwVKj0dkAIDA2LVcsHZ9EMZIgdThJl8mc07buPnvlNAc5QepM9gaTvcFRtfrCoZ9J4qyF10rUJbxMyDyPEDgAyFkGt5mFcIwf9xKV7qLCc/9OBBAa0UcknyBz+TWZZ2sHgLgU3p99umih06KYr/xssGHzIG+VBVHRSoYt7bhFnzk3UNCe+5MXim6/h+CyYgHh1Mbp9Cylkc8gCAAXX/POtko4ciaSX0qLpLElu4s/RgUgaax5e/GaCMkQi1No59tB1YeVjnLdb099YxAUyTe4FgAcWQgr05WAs8V067c3OVvNjTtmfTID46eV8EZndWHJeAWOqlUAALIcHD+T39539snTb33n2Kv/duj5clfZYqEBSRJCE+d6Tz9+dt8Pzrz9ve4Tf0jFJwDAYKmubNxRoq/l6hVCNBV89hhVZa/+wi10Q1lPQjlgB8c0y1oAIHux1/aJe7Rrl1vef7MQLF7nYsrCaiBW1OCtCCB+cbSHO6nEUGyn76AQGgDWUtcoYm9k/lCinUCoLZqbCYRCAXs981D+kSrwxjp8qRY1irIQlrzn2f2l5Yuezx7th86wbzcTq7WoISlFO7jDKSkOABs1N+gQE44Qa6lr88+nHCi2lQrnyqviIx25CisIYqpZQpnsgfOL/FW5TBz6/dD6e2pVq2TjvXXHnxgJDc9tZNnrdBvvrctvOfxQkfJICiRRvvDy5KY89XHVZ5ovvu6dM4h/y4fqiRkVCRUInHT25cJ6Igd/M7Bkt0v9c/OH6i+85h0/Hyt9lNlQR7YnpQiF0H3s6fc2FGvpzbUXnhumDIR7qWXkWEBgi3ySeTYVC/RaXG2OylVDF18sjDVHEMUmioX6OWa2tPByf2Ng7FTYe4Fnp56TdMIbC/auuforJGWwVSwb6511pUJT44hPRuw3r8OthrHvv+D64I7sYOF9XBiiT74ipbMAEH/xLfsn7rE/cI8QioZ/+1RR4ZzC8uD1FXj9SfYNQeaWU9ubyJU93CkAOJB9BgD2aD90in0jf6o1Wzsvs/uyT1kx1zpqT/5hHFjVUnJjF3csKE7gQNCovrT8bOcDAG3khgvsgYycXEZuaSM2nmRfB4BjzCtFz6cAlsZVpMFK6M3hziNcOu5Ytg0jNWn/cGpywLV6NwAS6joKALa2DShOhjuPZCNeLh2nTHYAwEiNa/XVCIpFek/qPQ2Uyc4loyip8Z1cYKbh5SA8kj7z7NiaS+UqMBy5/0frf/Hhw+lIKfoBnZW8/0fr87lceg8EJ2bxuCs4+dTYxg/Wqg5yZ6P+ui+2laYDdbcYdzzQWOYPUTByJjpwJNS4OUcfjKLI/T9Y97vPHC9gjykBo1ODEYgSDzHKdyXF6MyaT+8+RF4yV+m4jGDwaItqKwX+sVMWVxtB6c2O5migJ3+X2d5EUgYACIyduvzzkUR+5qRP4Jl4sN9RtZrWlaJvFhke1ZDa1krMpMX09CUKw0KQoKmAOivi0IFR8RTxwKUhGZWDXhhhoEhmOz+eU3xSOhv4we9K/4TclLAabx3hu1JSjJEzY3yPC5vHFKMc1BPtY0LvhDDAyUxGTobFOSi0SpzPmNAdk4KczIwJvSbMNq/TIPSWlG9o8sjzjhU7UAzTmB0TR56PDZ53LN8e6jg8eexF16qrACAx0qXI5Pe1tm7g0/HkeK9rzTUaqyfSc1ISBYx4byIbAODF/+wM5zEi2Ot0n3poS8OGWS9I/Xrbpx7akk+InI5yT391DqZGX2/i5FPTHCvbPtpw3ZeWzCS9UdCyw/nxX20sWn6iNJ78P+fyta3eTn3yd5t3fbqp9FDmCnrtHdUf/umGL+/dXbta9ZohMkgmbNHY0xeMY7/uQXHU6NEe/lmplK+It0PgGQBwVq8p2OWoWg0AosiFJy+DKGIucIxSl6/UVDrwxEGZF0b/57mR/3zK9f7t8UOFHy0EkCZk2TbkxiZkmRVcFNAoYChgFNBWcDYi7VuRG1qRVSjMI5pvJnJPgw4xLSE3LiE3Xs5YJaBDTKNiz9xyefKznY8yBwQAEXhs/nFkssBLooigGABwqdxQKE6KCg0uigGAxLOqjAqM1HDJiCQK/jNv2lrXS5IoCdzlLxQsGFxGeOIrZx74/WZ18mWr1X3815uGT0Y63/L5uhOpCAeyrLdR7lbjkqtd9eum6TJZkp/+l3OzRWDl4/X/7V56jTu/hOr2jzW0X+tWy3yhGKKzkJXtprbdbnX9Me7LchlRqfpVDpIB5ol/OPORn29Qs3lILX7NX7fueKBp5FRk7Hw0FebYtEBoMEqHGxyUo0HvbDRYKumZQ5kxR0IMWTBXQS6hvU7XsNGu0eOUHtcYCI0e1xgISo9rDLhGPy1qDEWRL7++m0nxbEpgUgKbEpgUzyRzG96uxOgsyxQFqF5nP/VwHwA07vQkvLPS5kiSEJo8567daPW0YxipZiajKG7zLAOA8OTFgnTlBQPDSZtnucneqDU4CVKPERSGkSg293ukX14bP9wNABLDzaz8jAK6CtlmBWexrjkggFRDkwmxnpL3l87aKYFLJacAucAd9AtXiAhUWQSchzehxPlIC/2pCmxLNtkAYkPTWMzD3cc862+QBC42cI4yOy0ta21LNsWGLlBmp7VlPWWyM9FApPeEe+11fCqaCb43OR8zMdER/8PnT973/bX5ZkjdOmvduuIrdCokUX7mX8/37CtroTMb5x/9u1MffXBjfsFXa5V292ebZ+vCZcVHvnB6+fWe8hUWAAwcCT32xdP3fHt1/oFIGmve5mjeNo+yxiFhop5clpYSBQ6shg32W79abjEIcwUNUEQbAsCpp8fKVFg16xwD+7wA4Gm3Dh3yS8Kss9TA6Cl37UYMI20Vy9TVQIurDSc0ABAYv1wuSQU2T3vTyvcRVM7KFgWO51IckyAovTLxLAFtW5WisIpiCbJW0VYC8JMwHJZ9aUgKwAMADoQOjDbEVQF1OBBGsLYj68/LRxb2E3IPelqO6xGzF2b1v14mUnLciNp94kiZ8gs7HxnkOU2ewIX9XCJHcTt5LJfbxUT9Y/sv0VGMdAAAgqKKzMThZ9W+o+88hmK4JArxkU4AYCJlEZxfUQwcCf38vsMf+J815auGRIB58h/PDh6fR7Xx4ZOR33/m+Ae/t7YcZoVMlHv4b09NXIxZq4rHjpZA517fg/cfvufbq0vX8ikKVTmRCAUAWnTe8bSLDoEVl91Sm4lx5mpdCW0FAInIMJMOa3Q2R9UaVWEp80GOScSD/Zd/MkZbXdv6DyEIyrHJ0e43Ir4ujsnNMBpX3O6p31K6u5Rha750Ox9KAID3d2/l7zKB1QO1AJCAyFn5EAfTzHYBeAYyYdk3DN0rka0msDqh0gL2KIQAQL99Azc8TjXXSQyHWUxSKi3zvJRlyAo37rClj54iayoTr08teeU+ZSN8VxXeYsMqCIQ0oTY7Nq1WyuVjmO+oJloq8EYS0WgQrQevLy2/sPPJSAknVo0jhAYp/qqw8aBSAaXYTjl/gWYWGZDmosR99+HvS/74fQde/9/uTHSOWQObEvb9ov/7t+6bl7ZSMHgs/KM7D3TuLbUwJMvQ8YbvR+87MHI6AgCl3fmzYbIz/sM79r/8X50F9MezQWClzjd9v//sifMvTyotSql6Xmbf81J1B3/SmYlxlB5/45tn5hRW3OpmRxNB6QEAw0mrqw0AguNnF1bvpwDVLVcjCCpL4oWDP/cNH1W1FQAgyNx+pdBLJyd/vTf4/PHg84UEpxVIPQCIIJyTjxRoq3xwwJ6XDyuTQQ+S80rLgoDbrbIooTqtGI4KgbDgC+IWsxCNZc52oFqtxHL5KTu5LZ84TPHadnIziVBZKTXAL7D+QjOxuhJvwhECAK7WflCQ+R7upE8cDohj3dyJOry9ndwkykJcCnuFoRLyCzufLv74UnJjFd7MyOmD2edmCsSHr6DnEgD+ZdlLiyLzryvml74vcNL+Xw4c/v1Qyw5nyzZHxVKTpVJL6XFZBjbJRyez3q74wJFQ9zsBfva1qjkR92Uf+cIpR4N+5U2VdWut9nqdQqSVjXOhofTQyfD5lyaDQ1MReZHxTDk/diZEXjr80NCRh4fr11ubtzoql5mt1VqdlcQJVOAkNi2kI1xoKBUYTI2cigyfjgjstPd5Wqn6PBx/YuT4E+Xa+IuC6rX2lmsqERSp2+J+5atzsIEHxk7XtF2LIKi9YoV36LDF2YZiBAAExhdhfRAADJYaAEhEhrOpQlcAqZk7h4GwGYwbWxAMBUn2PzaN9cQCDgAIgZeFOb4xLDBBmHRDjRlyc/z0kdMziaHZwVEAKFqpe0p1jQidI0LxtYyCCCkAcN31Qf9Tj061I4iuZQlhs/cd3t/Hn0FpmrQ5mPFpHqgJoX9CKLRs+/gzfXzxj0/R88k/k4joLzixiOgrqqfeWyAoUrfNY67Wn3m4t4RY87XV/W+Olw5xooykpUbvuxgpulfgpM69vs69PhTBaNLM8AkCo3mRAZBkWaYIvcgDTZp4kaVwPcPHCYwWJBZDSZafByt8cDC194flrp/UP/jloU99p/zB8yFL8uCx8MzSsyoQDK38+seEI78qaE9LcQBQ6UbzgSOEKIsoghKohpcYAtWIEk9iNCOmCFSDIwSBUCkhqrTgCCnKAoYQgswSqAZk2UJWeJm+mcPOhtY91Xu/dWZmQANB6ng+U1j6JBOJh4dMtgZH5Urv0GGbpx0A0glfOr44ngcMIwFAFAotIAwjjbY5ZjwAYL95feriiJRm6abCIFhKKfMllxWDkpYTgOS65DCTGFpBMZq24qsD5k3bCJudj0ZRjSZ+9KBlx24AJHHyqJhJW6++TkwkQAaU0lh2XI1gWPLsSdY3KSTihM0OAAiGWTbv4MJBZnzUsHwVYbXhJkvy4lnO57XsvAYlSS7gix2Zg2ZMhX5ze+pYl8rVT3psTP+sVYUXIH+FgKDI5s8swyls/FRgcN9kyp8xV+sBoOW6Gt/FcGIivf5jS87/sX/z55YLjNj7+igArP1Qq6XGMH46EOqNr//4EpRAu18cTvozK+9pJg2E91xoaP/k6ntbYiNJ38VIy3U1pkqdwaPre3002Bvb8ImlhBYPDyTOPtoLAG7LMgLTRFIj1bY1sfQYK6RITCvKglmLi7IQSQ4ZtW6Uwattaxg+wQtZb/SCIC3OIlQhrmTYpixK418t1Fal4dI0CBKXFZNV2qVJPpwQgmkpasQdGOBV2qV+ZhAAZJCMuMNGVomyoEF1nMTEeX+VdmlnYv98f0/Sl6lcZUuHGQAI9efeZ1Jjqmu7LuzrCPs7C97JwNhpk63BaK0jKYNFmQ8uRviVAjYb1+isWqMHQdD8OWbtkusU135piMlsumPMvG0JbtUjOFbAkjwfIHn/zxvFFRbp8sRPHNFU16Ikad68PX78sBCLOm+7m/X7kqdPcOGg89a7jWs2iIk4FwlZd17jffz3al9ZFJMXzuiWLAcA3GRhxseyh/c7b7kr1XmBGR2WeQ6lCsM9UJqy3LEdwbHk/nN8IGb7wG6ZE5KHLwAgllu2kh5btnOE6R+33LSJmwwz/ePm6zcSHisfjKM0FX/9uOXmLaheG3/lKOBYUXnMoLXcvh0QSOw9RdW5CZcVt5uSRy5mL16pRYa6rZ7YaLLzheGCdoNLGx6IA4Cl3kiZSEpPnPh1VzqYBYDwQPzkb7skUV59b0sqkI2PpdZ/Yum+b5+21Ble/T+5OqC9r442XlWpjOPviJx5uPeqf1pLaMe958N8ViDz1uZlWbToqkWJQxDUoqv1x7udxuZAos9pbE4zIR1lJzBalDiGi7NCCkNJRWGt/vR3le49T39vURZDEQx1feZ2qrEi8sd3Usc6AcCwdZnp2vWIhsheGAo9/AYAuP/6Lt8PnwIAzxfv8X73CQCg22pt912DoEjk2YPpE90AYLv3Gk1zFYIiYjLr/c5jAEDVua137tC01agW3MyRa7/3eaZ/gqxxZs70hx97EwDSQsxEODWYXpR5UebjfECHm/W4hUQ1osxnxISNrGSklB63MGKKQKismGSljIX0iDKvw8163IoAWn5Iamw87WwzK9uqwhK4NJMJ44RmpgURmjjfuPw2FCOqWnbjBA2yHBg/W8ZVVl/+Ulog4u+saNim0VqaVt011vsWz6ZpvaOycbujahWTiWi0c6wsB589JsTTQizNhxIF2kohGtUhhnL0uQ4xAMCck8fZUFxhyQIvi6LMcwAIQpASq5bMISWWlTgOZAnVaIRYRBaEyP5SxENCKinzPCBIdrDfdfe9zNho/GhhDr3xqjViJMn5ItY7doQefgPVasLPvCFEkwDAjQWizx1UkvuShy7o1i8BALLGGd97UtNcjVoMYjwde+04vaRWt74t8tS+ovLmGzfFXz8uhOLOT93KTQSZgYnsS0ecD9w8p8JCCYy20ZlAWucxMOEMaaRABuca9/i+EdJIuddX+I5PAoBzjXv0rWGNWZMJ5iI5SR2ejRWxWWRZRjEExRAURxIT6cM/vrDuo23DB70jR3zq00vqiIQ3LXDiiV93AkDKXzx+Jx1mBFZEUGTsROD6b2zyXQiffbxPPQwAeGMXeSELAAggMsiprF/9v9/3TukfDgAIjmMmg5TJIhpKSmdQnVaMJ3G7RYzEUYNOjJZVoxA10MHfvYqQeNW/f1xRWKmjXclDFwFF63/6RUWtsMNewm0FWebGc2Thjk/cOPHvv5M5ofq//0pRWMbtKya+8XtuIqS+nOywz/vdJ+of/LJ6rJkjk5X2iX//nZjI1P/8S4rCivH+GD8tESItxPryigdPZJMyyEqLct0AIMzljPR8yaKwN6yrXHEdTukSvr6ho09EhhItV1ce/VW3wTUVIUHSprC/S6O1Flg6ACAKTNjb4aha5a7bCLl0nOLXuW39/Vq9EyM0OKFRAz499ZvdtRsEgRF5VhQY/+jJycGpd22s902bu53SWlw1610169X24PjZycGDK3d8vvRPE+JpAIi+fcGwpjCNIQYhLegdUEGCpnQ5VQo0DqgAgCgUIYYvB3MHjCVOHbNdc4PMc8mL5/hwyHrVtVwoKPF84swJ2+7riFiUmRiTed64ej1hs3PBAB8JGddupFwezj9t7o2QJKbV4wajprY+0zctoAPVUkIwJvNC5Jn9fCAafvRNy+3b0qf7Muf6i9KNy7wgC6LM8oCAYcdK3KznJkIIhsIs9OQIRUhZThYlpRaAEEvK3KxsVoTOiBG5GNHqXXUiJ7g3VEa6Q4TO1HR724lvH5IlMNSYmm5vS3uTFduqh1/tlyVYev8KfaXhzI+OszEGAIYPeq/657Xu5VZ/RyQ6klx6S725Wh8ZSnjPhTZ+sj08GBeyoq3J1Hx1FUagyncx0BnZ9oWVfXvHu14c3vjp9qQv4++MZEJTt99crW+/o97WZAr1T3uISRqnLZTOoalYZR857AOAyei0NQrlrcv/vxxo17bLvIC77HKWYQfH9Ds3ciMT3PC47oaduMMafeJlKTV36qKUzEoZBjKA6XNvrOnaddqVjWIqq7YkDpw3bl8hy5A8kkvqJDw29xfvAQAhlPulk//1iPXOnZjVEH3+UOZMcS/SzJGFeFr57M225jsT+ddnvnmIpNZUv+keJd7YUr2MTYUbdg7PzCVkM1FXzTpJFIqu/QXGTjqqVqEoDjPoGfKhN1UqFA4FQFCMIHUEqQMAjW6a0cSz6bP7f1jTeq3VvYSkDKLAZpIB/+hx/+hJBMUkSVAOWhT22zZMHXplfUEhVZ88WoHUYYCvRDaflQ/zsywUkqBZiWxRgr0n5QVOboqfYvClZwFA1TiB558EBFEcQ76nHgVZVr7h/qcfU3mpgy8/q3YPvZorjZPuyXnN/U896rjxdu/DvxazGdcdHyhQWIl9Z213X0WEYszApCxJ+o3tCI4przE7OGm/f0/yaKcYTxl3r6VqnNzo9FRBQSTcVoQiFXd1UfnEm6dtH7xaZrjkkYtkxRwZG403fIq2VShzosRIrHJbTdqb1FcYaIdOyArGWrOpwUyZNUJWQFCENFBap97UYE6NJ2IDES6Ru1Vsin/1n4+iOKpE3+z7ztTCwsv/eEQSJeVdiI0kZSlXP+b8kwMYiSp16t/4+nGcxAROBICDP8hpn9hY6sD3cpk0QwdyS/iv/+uxnV9e/fwXDjAJbs/XNygKa1HAe4P0yiUAgGhpqqVeZjllBVqMxPhxr5Quq9wpaqBRHY2SuJjMTQGsH9g99MC3EZIwbM3FcIqxFOAYYTFwY7nVK94X8f/oaSGcUBPWuImQ74dPYQZtzf98djYv/syR5yzYt7jQWqvysyP09hqRH5yZS0hQeiUYqugg0UDvwef+fs5jndz7X/l/Os2tWsoWiHVn2OILMgDgsiwNxLoGzj8zcP6Zgl2yJB5+4Z9LHI6bjPLhSz44h7lgbwQCIfDawWMC2xbkukkYDsv+DCR54BRmdx0YbIhbCRwFAC+MxGHW8yyN8lJbLmkogEKK9PJ5qRNnTpi37gRRjB0pZD4QgjH/T55Rmaei+YxUr08xUoUeyqUZp0/3AgB3iZEqdXyqUFpReQAIPPiConPTkFvh8v/46ZknidMG2ja1CBLtDcf6I7IkIygiy7kv7vmfn1Lj9hVi8vM/P6Vu549WNFYwv1Hkp88I8qimFG1VDrpeHF7zoVZJkM8+Oo8FrDnBjU5yY17dhpXp4+cALr38M1ag5xhkJOD46PVUvSf8yF6lJXXkYuXXP8pPhPMJxbjRgMxP/d7gL190/909Mi8wPWPKVK7q6x+VeRFQJP5qblJmvn4jvaweM2g9X3p/+nRv4u0zRUd+VzH9msiSdOzXPctvryvIJRQFDid1pLBoqxwGrdtjXckJaQ1p4oR0vXsbgmDe8DmWT9W6NhM4PRo4hiJYnWuLlrJFUyMawhDPTGTZWL1723joVLVjPY5p4umxcGJQ7ZvMTjMLEif71V8nsUXWAS7Kx9chu/RgIoCshZZapGW2s41CsEte+ErCexxZ96cGS/Paut33weJ5nf+8sFhO92rT6gTrk2WxyrTKn+oFkM2aSi1p7gm+zYlFvK2ma9dlu0ZUH9a7DPVrhOAoyCCLC4zSJGnjyjv+RTWyJs6/5lo2mAmzgwe8latsbddXn3qkP9Ado2hTdfNuUeSGOuYdpIbhCMggioVfi0r7mjQTiqVGa5wbZVnKstEK+6rzg09qSJNFX0NTlkHv/vbaWztHX5Rlqc61JZToT2UDy+pu75vY21K158LQ0wBQ0LfoCSAIOOy5aPNAcNqFwgBvRVZ6oG62eF0JpFHoHZA7Lofz5/9RTvfZYKya9cvwF5QPUebijNdCV4syn+GjNGFmhIQ/1ceLRTyylV/7KFntvHxthRIY7TbgNIFROK4jNQ4dSmAahw7T4LRTj2tJBEcJPaWvsSiS6l7PribKogUAykJXXNWktmsc+lxfHamx65S+yjZKYLpqM0pMCxDnsomho4+z6ajIM8GB496Ot+2NRjbNr/5AU8M2zytfO9m8qwIAeC7jGznOZmKquUCQiL2SovWYxUUSJGJxkSiGuGqoyia6Za2epFGbhyRp1OomjTZi442llvNwjBIlTpKFId9Bj3WF29IuiOwlPtKcmpBBVgrWK+0Ml5jZd9aLjMKmzdStt9L3f0iLTlceIgid8qnD8qtD0BWFIAeMBJIEIgvZCPj75YsH5Zf75YuXyVD2/2jVnKJAMdxQ+ReFtQiYTHQAwEgsZ/lPxM/LIKuLbgWY+LffLspB3TsaJE7EaIKNZEwtDiHFkWZaW2GMdfnjvUHbmiohzYVOjZtaHMZmu8SJhj02bYUx2uHDqNxbwATTsiw3fnCNtsI49NS52luWJQZC8d5g1fVtXJyZeKPX1OLwVDRycUZkBdKoGXqqMAEjNHgqNDg13+EzAknjnuVWrYWijaRSMhbHKUfVaiYdUjXIuj1WnpXcdZpsUjRYcWcN1Xc6NXghbbQSkixvv90+3JHWm/HdH3D+5mvDpefi3vC5hopdDBdPpCdlWdRSUwXoExlvS+W1/lhnPDXW4N6RZoKixM/WNwnFnaGiCG+8wdx5B51MFV/JyEJ6QO4osmOR8B4rLGUOEhs8P/TGbwFAY/XYWjcYq1sJnQnFSYHJZMMT8eGLkd4TkjAr23QOCGKuW26sXapz1RG0ASVIgcmwiVByvDfcfYxPx4p2sjSu0ljdGouHtropo11dOmy98++Kyp/5+RfV7WUf+jqhNYocc/43hQ7Lljv+VuesBQA2Hux87D8L9rbf+y+kwcpnEhcf+nrBLhQnrM3rDNVtWnslTusBQMimMsGx+EhHtP/MnIWylesZ7T89/OYfAABBUFNdu7VlvcbqIXQmWeD4TCITGIuPdsYG52DCmg2uVbsrNt4EgADIE0eeD5zfN2eX+S5QLgyp0ahrSz0TSNlWVUicRBiobCCZHAxhWjLW5UdQxNTm1Nh1+jqLd9+Aa0t91p9MDoYIo4Yw5MIC9DUWQ701PR5PDoasKyoEhheyfKzLr6s2s5GM0jc1GlO2JV6cc/Hx6C+7K1bZXv4/xwktvvlTSy6+kEsMYtJhhYJKweRAds1usyyDzoSFfdxYb5bWY45qaqQzs2yLkc2IA+fT133YxWbEigZNVTONYUjBrHAilFtPzHLxjuHnUBRXKkoEYt1qSeex4EkUwZQ/40NPqmuUfRN7i/adDSYTunYt8drrrOLPvKLQrmrKnJ2WHvMnYWFpLE4AcK3a7Vl/Q/46C6E1ENo2Y3Wbc8XOgVd+ycZnnTXo3PU1O+7RWFz5jYTWQGgNene9e801/rNve0++MtNVXHfNhxd82pnguKl2KUZqSIOVS06teqAEpbXnuEApkwOnDUJ26ulU5AFgppPI0riqcssdhHYazQBpsJIGq7lhpXvtdaP7Hk9Nzp24T2iNAIDThobrPqZz1U3twHCM0mosbo3VtSCFhVRuvtW5YicAyJI48tbD0YGz8x/kSiHRF0oOhJUVkordzZNv9eVWSyQZAKIdvmiHDwB6fnkMAFTJfJnUaFTZm7/GAgATr+cWapS9AFB1fRsAkAYNlygVdlS93tG7dwIAuIzw1n/nLjiC4qn4eDI6dfdHujKjPZnNN9qOvByWJUBQkCVAMUQS5XeeDCqK5fWH/MrD+8fvzZ25oWqcggL06p8lsqlLaysAiESkkVHRaESukLYy37xZ3dYub5i/wkIQekUb7rQl3zgIAKiWxl12pfL7YoEyORzt2yo23gwAkihkAqMCk8JIWuuoxkiNItB4wwPdT36nqJ1laVpde9W9qqZjE2E2HpAEHtfoaFslRmoQFHOvuYa2ugZf/22BzvKd3pv/p3tNjqI+3H2Mz8yRYZcJjplqlwIAbfXkKyydqw7Jm9/rPQ352oG2Vajd80dzrdqtXAEAAJCzYS+XigIglNGqsbgBgDLamm769Og7j0X65lhkIXQmjKKbb/msosElgefTMVmSSIMFxUkAiI+U4jguCgTFand9wNK8FgBEjhl87dflqM53GYrekSV5Ym9vfksJyaIyc5LWj786KzNUPipW2BSFlQ+eS1tdbbTOkc9yJUtw+MWwug0ASrCLqlje3QiNUqiowLJZOZOZOiEKaBmkEjwN8wLvjQjhXPwdYTcX7C1DYcmyGI3jThsAIDhmuHab4AtyQ2PaDStxuxW3mTMnznMjE8YbdwGGZY6cFuNJw57tqE6bfPOQGE0Ydm9GaA03MJo5dWG2IyAoVrXtTgDZf+ZN3+m90qUVXxQnKzbe5Fi2HQAok8Pasj7Uebigr9ZRU7vrg4q2So73TBx5PptHU4WgmLV1fdXm21CCMtUtr1h/w+TxaUQI3hPT/lQVVqjz8JzLZKoAbfPER6bm7YaKRgBI+0cInYnUm2dXWFOfSlNte8XGm5Tt2OD5iSPPcakpijjKaKvcfLuprh1BsZpdH2ATobS/FOsAoTPVXnWfxuLKBEa9J19NTvSpc0mN1WNpWBkbmh8bB4qT9Xs+aqxuAwA+Het/+Rd/Clxgf/pgU/xN39qQ9GcBYP/3c88/TtCSKBCUvvzokD8pJBLSE09k9+yZSrDbjtzEAnNAfrHMERBAaqDZg9RpQSeBlIaEVx6dgEHFpk2f7lUvS/z1QoqL+U0JZUHMHD9Lr24HANxi4obHk3sPWu+7najyiNE4H4gYb9od+tnDqbeOUC312lXtqQPHcbcj/IvHyhl88vgr/jPT7B1J4MYPPUPbKvSeRgAw1y+fqbBqdt6NYDgAxIcvzDSgZEkMdx3lktGmmz4NAM6VV4U6D3Op2Lx+9WxQFZbGOo2uSznbTHAUTxlI/Sq9pyF/70wL65K+RgAgOnB2eO9DBUm2bCI8+Pqv66/5iLlhBYJi1Tvu6f7jd0ok4qI4aapdGhs6P7z3oQK3FxPxesvQNflTBlyja7zxk1pHDQAwUV//Sw/O5hBcADbc/z/q9ujJ53zdc1cncrftqFl3m/rn8T98qZwDoThp8rSaPM20yU0Z7BhBoTgpi4IkcDyTYpIhJhFIBoaSgUGRLzXLU1Gz7nZ32/YSAqMnnzvz+NGZ5Pciz2A4KYncTG2lXo3I6Pn+/Wo5BsRU0WKtWaGz1VJ6C4qTksAJbDoTnUz6B0KDpwSurCDefCAIaqlZYfK06O21hEaPUdpyKhtefOm7meiE1YouX0bU1U5THRRoMMDE8ir1LUc2OSFXoBcFzAQ2E2JzQdUZ+aAEIsiykigaeXo/bjNxk9NYNy7LhyXGkzLHA4qgNCWEY8DziZff1m1ejRkNvC8IGAoAZSadcclo4NxbRXdFek8qKqBALwCAsbqNtlUCgCTwo/ufnO17lRzvSU70GSqbERSztW30LlKdGyGb5NNxQmeirVOxpihOap01AJAJjGIanaVxFW2twEiNyOVeA9paAQB8Oq46tswNK0i9BQBkURg/+FRxTSTLYwefUows2uox1S7Nt+mKnBuTHnn70Tmd9LNB4nPmPWmwNt30acrkAICUd2Dw1V+L3MJLnL4nwHDK3b7L3bYTIwqz7hGcRHES1+hpsxsAPO0gy1LC1xcaPBkeWgRWYqOL3vTAEiWXcGC/FwAQFKtp25NJeDk2VaIjbcyRo2stFfWb36+zTqvwjBEajNBQepulennlqhu8F9+cvPhW+UwSlurltetuI3ULrLAdCEhv7GXOXyjk/LOA04o4beDSgA4BYCAbAu+I3FuQ5+yCKkVbySBnIS2BqAMjAogFHC3Iym75NAAYdqyMv30G1dGaxorM+YH8eqBzKyzC7dBtWYs7bbw3IATCuu0byEqXWplHQfrwadOt1wiRGDc8LosS7rIjFDmvJYTY4NnZ1lxUXzuuKeQRNdW2KxuJse58x/ZMJMd7DJXNAGCobFkshQWKG0tnokwOBMNlUQAAnatWmZ+mg2OKAw4QROeqT4x1KdsaqxumO7CM1UuUjfhol8DMmqAnZJOJ0W5TXTsAGOdSWJHek6rSWQBElgEA2uppvOnTigs/OnB25O1H5D89wtXSoAy2ll2foE2uuUUBQFlX9bTKkjS3wipjNjezLqEsiZODB1CMLG0WaYwOBEEN7qaWnR9T3I6zAcOpqlU3ai0V/Qf+UI7Oqlh+bdXK6+cUK4AsS1w6KgksAOj1iNOJnT1b6E1ehWzN/1ML+hpo9iC1Z+VDcZgiNfMgdQAgg3RK3h+DkCK5EtmiA2Ml1A9DNwMZWRBJl1XKsrjDXFC9eG6FxfuC0cdeUP+MPZELz82ez/kdw796AgDCv/mjmhOTPX1RzZWJPfnK3NcDIBOade1DdbQXlLEBAJ07RzyWCcxRPkOdBipFBhcLmeCYqW4ZgqIaiysbmgAAfUUjAIgcw8aCCIpKooBiuN7ToCgsyuRQnr98haVYZOX8inRgRFFY+vy1v6KS/stizhF5hrZ6mm75LK7RAUDgwv6Jw8/Nlw0KQTHIsezLytdIaSk/FfkygRFU61Wf1BinFbAQuCybDAlsRpYljNAQtEGjtxVkwgd6D805+Oip5ybOv4ZTOpzSERqdslGz9tZ8mVnqEiI4ocmmSgXKIihmqmht3P4hVVvJopCN+3kmhaAYZbBR0+0ja+0qT3jM2/lO6XO21q7K11YCmw70HU0FhwQui5O03lHnbN6MXypRAQDJwNDkxb1sMsSmIqqXIBqVrr6aamzAn3q6uK0tgiCBpBQlJIBciWw+Ir/OQ84xbQQzAMQgrGgrAMhA6rx8ZBOyBwHEBVUj0Bt95oBx9xrcYQ4/8XbB4POeEjpWX5UYulQYeTpUXSgLorlpZXzgQvlc1Hy63JKZ+SB0OWrXio03qU7r0sDy7sflY8rvbvXkFFbOgTUGIMuSmAmM6j0NuktuLG0xjztB5+IY+Mwc02fVeYRr5+C0nXOJswRkSaSMtqabP6NoK0ngQhcPlHKZkRqMpEQ2i2m0IpNR/wdZ1lU3pscGdNWN8d7zOK0DAF11Y6xrcWrAzAlX67Z8bRUduzB58c10eLzgt6AYrrVWmdwtpso2vb2WTYZjE2UtAoo8I/IMm5oyHwoUVtFcwqKrhDPRvOOjinOWy8THz74cHb2QTxaqNXuq195q8kzFOVcsvzbQe2QmoWj+z6zN8/1lohPdbz4oMFMz09hEl69rf+vVn1JnoDprZToyni8DAGYzunQJkcnIMxXWGAyMyD1KtVQCyCpobECWkKCpgsYhyC1MK4osC9PGTEMyCkErOM2InfncMpBlhMRBkq137Qz8bBqH8KyeNkyjda3bU7H1VlPjClyjq9hyS8XWWymzEwCsSzZU7rhTY/OYm1eRRisAONdcjZGayu13eDbfTDuqaEeVY9Uux5rdOs/c1KsKpAXlgmJk8UJMJYCgi5mNlK+wAADFcCVeNO0bVNrTviEA0DmqldJvqhsu38JCL/lW5rwIqkBusjk7LmvuJstNN39WCVsFABQnG2/4ZIlLbV25xdCwlLQ4HBuvMS9dh+uMyjafisuyrPxvX3+Vc+sNkigU5f+5QrDWrla3YxNdfft+mw6PzdS8kiikgsMTF17vfPUH5575xsChsuZW5WDNBxtlWT77+EB+UUKc0BrMNaLAzkZwpEDRVunI+IUX/zs0eLJAE2Vi3t63fhGbmNKDGKGx1a8uHCUP1rrVBJ37zsmy1H/gDwWaCAAENj1w4CHVzkBx0la7qkAmFpP+8HBmYkIsOH0fjPbIZ9TazjxwQ9A1DD0AYEemnLwIoAAw0z0fk0MAoAOD/0dP895w4Ocv+H74tBCKF1ylWS0sBMUoi2P0jYcBwL3h+tDFw3wqWrXzbiYWSIx0ZfwjVTvuYmIBNOwHAMrixDRajKIDp99UbCUm7AueeetKG/8Sz2EUDQBp//Birf3NCwKT5lJRUm9RIp5oe5XynCUnc4RBKe+ga/XVCIZrHdUp35Ci17hULP9ZEbmsYsuU9lYAAHqJqk114V8JIBhOaA18OhbsOOxeuwfFcMrsrN/z0YGXHyzqxUcwDNNodZUNEs9KHJv1jdpWb5d4lrI6NTY3Y3VqbG42FmJDXpzWaWzuxKUSalcaGsMUY1R0tKxIDjYdZdNl1RwsB0d/2e1aYl7/kRaCxt/8r7NKYwnG0QKIPNP79i89Tm7ZMs2SNvz7P0jlXzZZloaPPbXyjjZ1gc/gagz0HZ1tNJOnVd1OePuYRHFOCyYZSnh7TRVtuV4Vrf6eqdRCHIfrr9NIMtjtaMHpT8pFQm188lg9skQHhSXXZqY9ZCENACRoAACzGkiPTcqyZKW9IPij1JSQVwsjE6RSHUvhJ5J4VhZFBMNAlhAURVAUQTEuEfEefdm5endipCs51nNl2bzVM8wkFIUV6TkR6lpgacbLRCY4RuotlNkFl7xRsiRmArmbl/YPgSwDgmhddSnfkBLTXxDhJWQSisIidObSxyL1plyXkisMl4/gxYOTx16UBI6NB+uv/TAAYqhsrt7+vtF9j88U5mLheM+ZXPoNAACEzxxUtv2HXlH/V5683Pa7DnXe/W6C1OHONovWpomNTX2fcFLHc2lSY5wzDsvb8RafTQYCiIZCXn+DnankuUws6R80upuUPwsWEwugs1Wr28lgKRdnMjisKizaXFhy4shRThLljo4pp7uSKKponAIoBlc5FdqVqquKZOTxtw07V6EaIvLUvoK1u7LmR5HOY+6NN1Rsuy3Wfw4ALC1rq3beFR+8kPGNuNZd61q/RxI4jdVjXbIRwXDFhMsExz1bbtG568oZf8FI+4eVDa2zuqTgFYSifSiDFcVwraMaANKBUXWhQOSYbHgScuHvGGmwAUA2NE1hpS79Cp2rtvSxtM6cQOnA0ctHpPeEMv2MDZ6bOPK80mhr2+hatXumcLz7NMjy9E9U8ciMK3CmpZCJTa1lu1q3LXghf8FYdktdbDT16tdPHv3llFNMFFgM1yAI6qhYWaqzLIcGTwKA1Yru3EFWV2FFnRnpyJQzFC/pnyXy9pb2lubvJaaPKQgQi0mtbcSdd9Dq+QjAAQAJhVEjAKABLQBIlyaAWF6p+QJJpUWxvDCDlqp2kh474S6kpphV8wmZpPfIVGHk8XcuFUYenlYYOfP6Q7IkKQ8oGw+AnFsDCl88rK70XznEhy/Y2jYCgLlh5cTRF0V23hF0BZAlUVmLnNNJpCJnLiEIabTlFJZ3GoFsyjdI2yt1zhrSYFU8aPkedwCID3fYl2wGAGN1W0HiYT5w2qDEmgNAYnTeuTULRuD8PtJgVfINKjbexMZD8w2Uf68QHj6tt+dWYAnauOzGv5u8sDfQf3RhDtMFIDQQb7+1dtntdQCg1iUUBWa8/505+2bjfi4Th7ly9wR2yq4p7dJF88LQpJIBenJeBuLMpXkMA6cDHR4RTCY0GpUAIAVJC1AepDYuF9Zk8yA1AIAB7oTKAEwYwKy0U1B4qkqLYmcZr1kbePB5WZQcH70+fbov38gq3wNdvDCyLIlTPDvitPz1dyFmJz7Spbz8GEnXXX2/4tguAWQuASGbM90V1VMOVO1DWz0akwPyHFgKUt5BACB0Jp0avjB9SpgY7VLSiRAUq9521yy+WKR6213K08PGQ1e6ImwBxg8/GxtSMkuQ2t33ln9x3lsE+o5kolNh/Tilq1l32+o7/7V2/Z2lZ0+LBaUu4StfPTFnFdWZyMRyLNhOJ9rdI1RWFrew8t+y0tHq+RH8eEnVhpN5thhbONFzuTCrDdVqkVtvzX3UQ/IkAFRBQzOynLxUcBAHoh6W1EJuHXM5snE5srEdyRW/MIENhWmq0Iq4ACANua81bjdhRh1CkQWG+dQLPFv1TZZPUYR+tuqbOEbhKMmLDIHRvJjBMQ0npGnCzPAJEtdyQkYdgeVTakuWKyv8vQzIo/seb7nt8yhBGavbWt/3Zf/pN+IjHfk+aQRBSaNV56ozVLUaKptnMrrkI+UdtDStBgDX6mtS3kF1ylkCIpvhkhHSYDXVrwAEkSWpoJeisADAVLccALhkdEZ0qDy2/4nmWz+PoJi5YUXDno+NH342P5uaNFirttymdAdZHjvw5KLULp8HZHnkrT8QN39G56pDcbLh+gd6n/le0VWOlpsbJEFiExwTY3UOranWIGQFWZRlWTZWGSIDMY2JuvBoWUEDi3DWotD79i9brvq41lKpNmIk7Wrd6mrdyiQCoaHToYETXKbID1kUFK1LWCbYS8mkgYA0mw9rXsjGfAbnpfAaa2UJyfy9M33zY2NiLCZB3hR/AoaqoUkD2lporUVaOWARAOLSDFEAvlM+uRzZ5ILcdy4DSS0YliBruuUzSuV6N9Q4wAMAUTkAANFnDphv3IRQROylI7MqrIVV36y2rRVEBgBJZL1OU6socQig8ay33rKFJs3h5KA6QoXFqbYsnsKCbHhi8PXf1F/7UYzUaMzO2t33AchcKi6yGUAQjKAInUk1a+ecCwQu7LM0rgIEwUhNy+1/kw1PcskwAIqRFE4bSL353K//aWavTHCMNFjNdcsAIBMaKwgxF7JJNh6kTA6F2qFoTnXaPzL6zmM1uz6IoKipbpmprj0b8XHJCMhAGiy0zZNjp5Tl8cPPJCdKVZC+QpAEfvDVX7Xc/jeUyUFoDQ3XP9D73A9nBtNzKd5cYwz3xqo3edgkJ4uyLIEkyQAQ7o1SRtJ37l3lQeYysY5Xvu9esrOifXfBjEljdFatvL5qxXVxb6+ve198stxy1uWjaF3CMiFdimNwOlGGlfdcS3V18Zejs+KT3arCslYvHz3xbNGgLYzQWKqX5fUqvCw2G7p5E/na6+wbb+TMAgH4c/LhVcg2pZ5zvjNLAP68fDQC/nPy4RZkBQVaP4wNyp1bkes9UOtCqjKQwgCjQQ8AEoiTMAwAphs2IhQBAMbda0K/n5aXMm2KtIDqmyiC4RjN8ol4ZtJIuwmM5oSMljRn+USSCWS5uDrCtJb4Yj4cyfHe7ie/U739rks5LgipN4PePFOSjc3xtmQCo6MH/qhOvmhbhZqrXKpXcMzcsFKZb6amzwcVpLyDSvoOAGRCRRQWAET6TnHpeM3O91NGGwBCWz35KYoAwKdjYweeKp2Rc0UhMOmBlx9sueNvcY2etlXUX/PhwVd/VWDrWZvMowcmandUnv1tx8yqHDNb3gXIkujteCvQe9jZvNnZurUgRhwQxFTRaqpozUQnRk8+n/AvJmdOoCdWt8mJEmjPG/MuP66u2yyWhRUcOF6xfI/iNsFIum7T3YOHHim4fQiC1m18H3apELTIs8H+YwXjFPWpJSF2VH69GmlyQAUNOhRQBjJB8I7J/cpCYQi8IXlqet4nX2hBVqKA6cGkNvbIZxVhKcOK8bTMFeGSylNYC6q+mWGjvliOVX4sfFrphSCILMszR1Bb5r668wSXjAy8/AuNxW1pXKX3NFAmO0ZpERSXBI7PJNhYMO0fTox3K8HopRHuOpr2DdmXbtF7GkmDFSVIiedENsPEAsp630zkG03qBDAfKe+gsjgAs1hYObHJ/q7H/6+labWpbpnWXo3TegBZyKYzobHEaFek79R7nsrHJsIDr/yy+ZbPojhprFlSueX28UPTig9deKTbUKE7/1AnLIhnqhygODG30AyIPOPtfNvb9Y7J02pvWGepXoZi08bRWirbrv1MoPfwyMlnF5w0XoAVd9a//o3Tkihf9eWVgwd8C/v5yiohw8iXaWHx2aT34puVK69T/rTVrdYY7L6u/anQsMBlcUKjs9e6l+xUlykAYOLcK8IMH5bdju7bx87MJeSBG5Q7B6ETysAo9DFyphZpUTKfExAdlrvDkNMMhMOU2He2oL60gimFtbDqm97YNO9vTl4u7DvbaPmMwyp0RuxHrzYbzDhJIbc2XsgEx4qKzQQT9XlPvlrQ2LyC/qcf1Hzm2l6BL/dxYaL+8UOFtdtKIDnRV/oMI70nIr1luV1lSYz0noz0niz/6Pko80JdTvdMYPTcr/5xtr18ho/0xy7nHOaEGj27EMhyfLI7PtmNEZS1ZqWjaaPeUZe/39myBSM0A4cevsyTvHQ4MHq0XFogaGzBIf6LyPA5eXGv1lqpzvh0turGbffNJuzvOejrPjCzfc5cwjIRgImAXNyA4H0R07XrZE4AgOBvpgXu/UlQJBcgnRA/tqV7+UbdNx9pmFu6DGA4gmIIlK2wFhc4QdNaezL+/1zRsCuERQkBFXk2OHA8OHBcZ62qXLHHXNWu7rLVrwmPnI2NL8LU+9hvetZ8sJGg8VN/6F9wJHWFB31jL1tTjWEYiJdn+cmy1L//d5Ur9riXXlViSV1gUmNnXgoOHC/cgaCE2cIkE48+g4Ms4zqDJPAoSUlMFqW1UjaD0VqJYzG9gY9GcL1BSKcwDS3xHEqSQnIeLrzYK4XzUBV/igprcdF3PvvxbWUtS+GEtqJ2M45rErHRaKivpmEXgmL+idMcE69u3I3hZCbp90+eKSrDZqO1LXskUQh6zzGZsLqdTvkq67Zl08FkfIwgddUNuwDAO3Zcb6zQaK0ajTnoOx8LF3F7zQmLuWH1qgfeeqdUwd65oMRPFL5JRkNVe/sHjx3/bulonUWBLEvqYrxa57k0aJN7EU8gHRnvfefX9ob1DZvfrwaUOJs3L4rCqlhpPfTTTgBo3OkJDy0kvR8AxsbFD9xDsZx8mdpKgSxLycCgvXE9qTUDgMBlUIxAUVzkGZ5Np8NjCW9vePiMJBbxH5lXbWC8Y/qmJRLHIjhBWu1iOiUyWWZy1LxmM+OfZLzjYsivcVdpXJWyIOBGk8SxuMEkZjOJC6ckbhE4lBdTYdW2aj7yFXfLKpqk0KEu5mdfmxjqYgDg+YHl3/j0yIe/7HJXk8PdzPf/YXysny0hPxt+urfl+d+EX3k4DAA3fdh20/22z+7pVcb56D+4W1ZqNVo0GhROvJX4+dcnAcBowb//UpM6tcw/z6LyKIppdY7uc48BQGXdNpaNM5lITePuwOTpRGxEEjkM18wmM9TzCo5rhgZe5diEhraq2wAQnDxrc7UDQEXtlsnRI2w21rzszkwqkIqNT8QONi29fWEK6/LR1nqH3382GividEMQFACF8ggkLwciz+BkjuasdKC2AhQntZbCZJHLR2jwhMHV4GjcoPyZ78e5HNSscwzs8wKAp906dMhftBL4nLDbUEGUbTZ0UarUeNqvql6tlA6Qx8+95u14q3yHnSwKhNkqiyJGa/lohAPAtDqM1tLVDRLHShzLTI6SNidldyW7z+ub24V0EqO1fDwqppIoSf7JKaxUTDy2N/HTf53gWPmBf/F87puVX74z9yp+6l8rvvO3o74x7m/+q+qv/r3y/9w7WFq+KI7vTa7colMU1vKNuiOv5WIj/uknNYdfSXzvS+MAUNVIaQ25L3YiKhSdWs4mDwAskxsTwyk2G5NEfmzw7Ww61LbyA4nY6OTIYQynisow2chw7+vVDTsjwZ5oqDd/Wx0cw0hRYGVZQhAMADguKYk8UjJl/0oCsVqa/P6zM3ckkuOHj/zXu3MSApNSFVY5wZyWqvYCZ/liIRkYVBUWdjlusjwIrLjsltpMjDNX6xamrQAgnpB1OjSTWYSEcUtV+yVtBWNnXvJ2FLJNzXEm50/mSvpcyoI0LluT6JiWRsqFA8F3XgEAxj+pZNHOTMlagqxBAOlcUMH6xVRYYT//2mO5cMc3noh+7dd16q4Xfx/qPpMBgFceDn/l+zVzyhfF8TcT//yzWgQFkKF9g+7Jn+ZiFGgtJkpyKiFKotx5cu51tHLkAxOna5quYZlYMj7OsUmC1JEao9FSl056i8roZMnuWoagOADoDG51m9ba3NUbtHpXOunzjZ+oa7lOErmQ7zytcxQ9rgK9zt3YcJ3RWIWiRCrl7el7PpXyAgCK4m2tdzod7QwTn/SemFP+qp3fuNDxSHPTTRSp9wcu9PQ+o8zy1q35rFbrwHFq1cpPKI/a2/v+BQAIQrdh3V8ThBZF8fzJ5uaNXx4d2z8xeRwAKis31VRtO3LsO8quutrd1VWbAZBg8GLfwEuiyBs9zaTBGuo7Xk7yYDoyoblEB2xwNZK0kcvOOnVCUKxyxZ45x1wYlCmSgvyigZeDgz/prN/qpvT4G988s+BBrFb0zBnuzIxVuQXAsyxXY0WWRF/X3PT5RaCEQVy6s4mLs1N6KTIzngEU0EpoAIBOmFthXdm6hHoTds9nnat36HUGDEWBIKdsh7G+nDXIpCWNFp1Tvii6TmdkWW5YQgu8zDFy/8XcIsX//v3Y579Vtedu674XYq89FpkYnMPynE2eY5NDPbklCSYb7b3wR6WoZOOSWzpO/Y7ns60r3tdzvreoDABk0kGQcwlM+duD3S+ph+67+EwuJfMSn1nP+SdmniEvZIKhzp6+5yRJaG68qa3ljpOnfwIA1VVbzaa6E6d+DIAsb793TnkEQRvqrj53/jcIgq1c/pGqyi2jYwcAQNm7e9e3zp77Vf6UkOfTh478X8U7ln8+kUiv2VyvKCyzqS4S7VPaXa6Vbteq02d/KQhM+9L319dd2z/wMiBIcrKvzFTnpL/fVpdjcUIQtHbDXX37CyuJqHvrN71f1W7loHrNzcH+47PxqOSDoA3Oli3qn+nQ4uSWy5I8eOByywtFo9I1V1MNl70qBwBa8yX3H4KgOPme0PPjMGUg4yQqibIsybSJzMRyQd2l6xIuJpvdF75d1biM/vdPDH98W/d3vzQtUo5jipizJeSLQhLlk+8kV27RL9ukO/r6VKz8mQOpT+3q+fFXJ9w15I9eab7lI7YSg8xLXtFE/olTlfXba5uvmRguwpyrFp6UJVENw8vfng65nKwalk1Mek8wTIzjUpO+k3p97jlzuVZOTB5LpwPptH984uic8gAwMXkskwml0/6JyaNuVymCtxIIR3rNphwXo9lUF4nknqGqys1j44fSaT/LxicmjjqdywHAWr+atlaUZqebGnn4TH6Om6V6WetVDxRQsCMoZqpoW3r939gb1kIufbUseJZeteLWf2i/4W8rV1ynd9QXpRvDSa2zeVP7jV8kL5HbAUCwf8YC2XsHkwmVZajwFM8lnBeESxoKQdC2qz9lrmonNIaZ6c1XFPkKy1xBb7qvbsMHapdfP+WX5L2R7MUh5R/vjczovnhYsUX/v18ZD07yAFBRNwcX3QLkAeD43uQ177OwWenFh6blhYuifHxv4vjexNV3WT75Vc8LvyvMGi/AvORTiclUonjI6BUCjtN1tVfZrM0YrkEAQdHcbaI1lkw2x4SdZSJzygNAlsmlpGWyYZpeIL9KNDZIEDotbZNliST10VjO1ajTOlpbbmttUYl3ZQBgUxGMpMu0sESenbzwRvWaW9QWU0Xb8oo2NhlmU2FZlnBKR5tcqq4RBXbg4MMtuz5e/snrbDU6W03lij0AMpuK8tmEyDOyLGM4SerMlN4K06lOwkOn4t45MjEwnMJIDUZoMJLGCAojaIzQ4NMZPoyeZlmWFBplkWOUDYFnRJ6ZVwBwOi0ZjSiGw2230s88e1k2UXjotKf9KmVbZ6spehmVc+azyUx0Mj7ZFRk5X3TFcMHIV1jRiWw2zgNMW6lezLqEpRGY4JZv1B1/M1HXprnjk6V8NAuTB4DT+5MP/IsnEuA7T04F4N7xSfuZA6ngJK+h0bY12snhORIG5yv/7mNp2/swnDp34XcME7NYGlev/MTUvku3Nt9SKyGfRzyELJiQShS5eGLEbG6QZCGRGBcE1SZCOroeDwanRQBko17a4im/Sqi3c5/WWqVODBVQBhtlKLR8JZHv3/fbhK9fZQGaJxBKb6X0hRRL+QgPnxk8UoSkMB+Opo31m+6Z82DmyqXmyqVFd5189B+ksnVWMin/+CelaoKVj4nzr2otHpWcrygQBMVJLU5qaZPLVre6es2tIyeejoycK9FlXshXWFoLSVBYeCw9cCSv+KAsUzUu3YY2BEVlSY48+c707ouHn/zL5Oe+WfnEhfaRXuYH/zD+jYfnIHSfTf7DX3Zfc7dFZ8QA4IkL7Zmk+Ktv+Q68GAMAJiON9DIhL58/r1qyVnfHAw6DGUsnxY4TmW//9WjpcWaT/9OBxdLY2f0kw8QAQEtPvbcME9Nqc3/SGsuc8gBA07n3U0vbmEvWlgJZWe4pD5FIn9lUJ0q86sACgEwmqNO6/NK0pxnFiPhY53zo+uSBgw9nY17PsqtLLM9lIhODRx7PRCcAgEmGyqnc5e14y9G0sZxoCQBgU+GxMy9HRs6Wfdp/fkAJTcLfr3fUqdmCc4LQ6Ju2f3iYeirQexgAdiG3zdmlNPKp+7iMoDUTXKbwpptu3JTtGJIyLNVYmMlbXGF5/vp27w+fxfQ04bEyfYXh84Yt7cmjXTNjQnq6pS99Ps309Vpv25KajN3RksvayY+BGsbqbm3uKJBX/lTlf/8d3++/M63uYT5IDXrktWkLSd/6q+Iu0tnGmU3+TwcME7WY68PhLp3OXVM9VV7Y5z9XWbExFO6RZbGyYuOc8gBQWbEpGhsEQCorNo5PTGORzmbDdtuSZHIcwzQsOwd/RjjS63GvFSWut/d5tXFs/FBry22x+FAiMa6lbQShDUd6I0MLWBGTJy++Geg9bGtYZ3Q1ai0VOKVDcVISeC4dTYVHIyPn4pNTvNtMPFCOwho789L4uVf1jjqjs5E2uym9ldSaUJxEMQIQRORZkcsyiUA6MhGb6EwFR94dXu/3CIhn6a7KldflB4WIPCvy2fycIQRBUZzASbpgmly77vaEt5dJhvLto8uH0aGJTmQcDYWpC1Iqk+0aMWxZhlv0CI7lJxVOU1iYQWv/wC4hkgQZEByz3LSRmwwzfROoVuO49yqJFZKHLgKCWG/dTHqsmc4RbixouWEDqqOyPeOpEz2qPACYdq9GKSL2ximqypHtn+D9Udud29LnBtW+TN+EKo8ZtbY7tgECsTdOa+rchNtC2E2JQx2Zi9OYp/UmbOVWvauKPHvosizknTcaDryWnOm6zW83mLDKOqL7XGEgazkyKhAUNu7SVdaRT/06Z9oY7eR/HtxSVPi57w6+/mDO1uvpfa619fYd276eTvu7up9S1+zGxg/q9a71az/HMLGBodfVhcLZ5AHA5z+zfNmHNJQpELxYoLB6ep9rbbm9smI9w8SPHv8uADQ27PG41+G4BgB2bv+6IDD9Ay/7A+cBIJXyYRiJ45pEcmp5xB84T1HGJa13EoSOYaJDw2/OdinKgcBl/d0H/MXy1wBBTNVLNEa7v2M/APTt/+2co2EkrTE50sHRpH8Ao2hR5sbPvcwkQmr7nCMYm5aRZkdi4CIXnUbyEew/NpPDAABMLSsTfbnSdpiGJs2OrG9+xvvxP3xJ2fhx9y4AFGBX/lNRFL7u/b7uuQMUatbd5m7LfclEnpm8uDc8fJabpdwGgmK02e1o3OBq3apoLgTFXG3bR07MI8G2HCRDbPc7gYmOwo9l9IXDYjwtxFJCOF6QAj1NYZl2rYy/dZbzRtx/dbMsiImDFw0b2wAAM9CoVhN+eq8QSQIAOxqIPHtIFiXcrCcrbZP/m8vXV+UBIH2qN9s34frkjdxECB0LAABZaQ8/fVDtmy9vuXFj9NUTQiju+vTN3ESI6ZuIvHDU/akbCxTWrw60pZPi9740Jonz+xLqDOjHvmTnGOntF5MIgtz9SUtlPXH+WHZ8iLv7AYvBjD3z2xhBTrV3n2Pu/Jh5fIjrPsfM1jdfBkHhY39npzTI2aOZrrOMOuZQDxvyCZXlrSfkIxYfPnb8f9U/lSApAJAkoaNzysOihkrNJg8AicTYyOi+okeJxgYVPdW0XHvVHZaesxlr/dGDb76+/mqjhkZpPebvZVo2ECv1ttFeRpZlbc2DQ53M0g1aTw051s8IvHzTh+3P/vLkoSO5qiobrzH598KmPabAONe2VjfUmY2HhdU7DD1nMrKsCAdpHVrTohnqZCgtqozTc2YWYmsEqVx9PYoTSe9AbKyDT8c1RjsA4Bq9e9lOjNIGOg9y6WjlmhskgY8MnWWTIXU7G/W62ncw8WA6OKq1Vtoa1wpMitRZ2FRUbccIjXvFbhTFwgOnuHTMsWQrTmhSwZHo8HkA0DgrzUvXCZkUaTDTzsqsb5SLRxwbrubiYdJsIwyWeM/Z9PiAa+sNCE6kx/qFVNy+bhdpcaTHB7K+UduaHVw0mPWNYrTOsWE3ABK9cFTjqJjqO7aYPDalYXQ1qdpKEriu136UiZUKtpAlMROZGIk8g6C4s3mT0phfA/G0vD8CcweLIAg6c03cCs41yA5lm6CxJbtc4bF0aHgaJ4SmuSp9sie5/5xuXWtB92kKC9EQEsNJDFcw3eP90dAjb9lu35o63Zc+Oy0YnQ8XD/OTGE4WRITAQJYRDEUwFMFn9ZKiGkLKcrIoIQQGAEIsJXP8TPfK+1cUT+9C5iobZTBjOgP66E8jYb8AAMM97OM/i4qiDADPPRRbvkG79VrdH34UyW9/+4Xk1j360n1VmY27dOPD3OtP5S6FOuZQT2FEWCYh/O7vu/RWQm8h9BZSbyFWXruYlagXBlmS9SaMyUjuGgoAPLUUhiPPPBi489NOWQZlQxTk534VvONTzkiA7zie9o6wGIYMdTGjvXnEuxTSulqLEci2m80jvUzTchon0WceDACAKnzbJxwF48x2VqaqNiYRCvcXrhMJTCrQddjgrjfXLIsMnsIIjff8m3wmQRms6jYARAbPmGuXAUAmMhGf6GbigZR/KL/d3ryez8TZRNi94uqxY89qjM6h/VMkDUxgIjnUzUb8mYkh+7qrWKWcndUpS1LWNxY+td9z9V0oQbLRYKwjd4ZMyBc6kSttF+8+Y2xaDgC21dsjZw/zyWjFNXezkYDad74K64EvmMMBsb+HS0SltVs0vR1cRTWu1aODvZwsQ1MraXNizz2W3HGt9qmHkm3Lybs/YnzkF4mBHg4AnK1TReQDfUdLa6t8RMcuqAqL0E4RV3Ew7a5hGKlEwGMELYkcSRmymbCGthqtNdFgH07QOEEnIsOKsMLanhtnFh8W3V6fPtkDAJqmysyZ/vwsymkKK3mky373Dm4iLLE86bGar1lD1TjZkQAfjBk2L0VwTLEPmYFJx4evTR7p5H1TJmW+PAAYd6wwX7MmdbRLiKVt79vBjgclhsvvK8bTqnxs7xnHvbsllkse7iQrZo2KwnUGAJA4FqW1KEVhGm12fIQwW7Q1DenBHonncb1BSCZQkhQzacJs5WNRZf3YN8b/+juhD3zacuzt9MkDGdU8u+Z2o9WBjQ5wGE7ALA6M2frmQ6tHE1Gx6JgFEDjp+PPT6MB+3L1rtt/7rgHFkXRCat+gS8WE3XdatQYMw+Dq91njYcFdQyobHCvtusMS8fOAAJMRAUAUZYsDr2qkxgdyj++JvfF//nn9tz49hKKgN+HdpzNWJ3HbJxydJ9N95zKKcCTAF4xTgPU3u+pXG8+/GQr4NAJbZO5va1xL0IZsPEChKJuMTJx+xb18d3y8KzHRk789968mNVwqKom87/xbAMCXIEqWJUBRBEUBxQBASCclgUcQBCU1YjbfNCjydKAEKXFTJfLUvnOeXgFYVn7mkeSHPmM6dZgJ+cVVGzQEifzmh7EPfNxIUMhDP41/6DOmoE8kCAQA+rr4vk5O0VYAYMij0En45kFXK+VRkuY7y9W68wrctZtkWcBxWqOzDXW+pDdVGizVOKFFMdLmWspkwvlusnyFpdET/UdC4xdiBceVOd64a5WYzBAua0HO9zSFxY0HJ3/wLMiyssQT+N3rU7smwyDLylQu9tpJhMCVwvTBh/bmBLyRKflTvQCAYKgiP/ndSVmSlDHz++aP7/v5i4Ag+Zad94fPFvwM/ZLlhMWevHjatHpTqvu8LMumVRsY7xhuNOlbliUunNK4q4glVjGTkQUepbWx4zlvSH0Ltf0GPU4gyoPSe4H51D/Z97+SEgS5so7UaFHFJ6W2x0LCDe831beQQz06/7hQtG++zLG303/7H662VZqec0z+mNUN5J67jJV15Gg/d2J/kaptVxplcjn0ncsMdmRFQQbI5Yrd8lH7W09H8jfUXfl46Dve/BaOlb/+0UEAOPBCDMUQZeaubijC4wPszHHysedTNRUtupif7TvZVbv5Lr29Nh0aYxJBW9M6jdGejfllSaSMdhQnZVmiLW5L7QpUoYfN26aMdnvLRtrizka98bGpCkP57eH+kxWr9nDpWDo0xs+eDwQAGe+Ic9O1TNgn89Ne1NRQp+fq99GemqxvLDnQkfWPu3fcEu89J2RSluUbNXYPE/JGLxxzbrtB5rl47znKMo8w/QJQFHLz3fpoSFy5jkrEJVGUhXROC0RD4k136SkKqW0kmtvJ1mVkz0XO5sBqG4mRAR6mZ5UL84lup/RT5n9+ylSBhYUTFM+JLBNLJ304qaUNTiYdkiWR5aIcm2TSYbO9aeoE8hRWJsa17nDaa3VnX5y2shd+7C3dmmaUpgK/eLHglN6rzNuFQN+2HNcZEAzDTebYiUPa+hZZFCSORQlSSCeFeMy4Yi0XCgjpJGEwISQVO3FI/ejhBCJLIF5yfhEkwnOy0p5P7Ke252O2voViOCIIRcYsDdXCmtO9+m7CZMPjYSF/492BuiihXg0ExWaGtuc3IigGkCsul79dJlAMLyckCkExtZxdqZMpXtoOuZSPVS6KPhUqW8NM2obSLWvu/ndVZw0c/EN4uMxlXGTpdZ/TO3LBRpGRs/0HHnJCFYAcgFmYey8F3zmr1mI4GZo8x3OZ/HYAQAHdjdwJAHvlJ40uza5PNXFZ8dXvFC9bp1vbkj41zST8c+LDSnXnKk0pz0387DGQ5fzvfujtXJafccU6RJYxWqta7AUaRNU4s7XnoxwZAFC01Uz5KwoEQWzWVpq2jY0fAgAcp7VaWyIxbwbxAqhK6t3UVgDQtqUwFr9oIk5+42zbZaLMAM4SI087geKjyQumG82HqoBmKuTSLdm4Xy0/4WrbHhk5N6f2RBC0Zt1tqrYCgPDwWQAIQMlH69LPDIyfKtoOABJII9CjmErZOH/ij6O1a635UcaapirCY8XtJgDQLq37M1ZYlzAV6w0ARWcXifMLpBh+z4Hjmob6a0WRDwTPs2yiumorQWjHx4+YzfU0bWOYKI5rMpmgRmOmKNPk5IlU2sewcZq2AQCKYtVVWzLZUCIx7nKu0GisGo0pELiQSvtqa3bhGJnKBMbHD7/XP7EUZiqsv+DyER4+qyosvb22ZfcDIyeenS0nHCMoc2W7p31Xfm20VGhkURgNFfTJucBM2khsvq+u621/vgnGecO6Nc3JQxcAADNoC/r+OSqs/z+DwGkc04yM7mPZBABMTB4zm+rs9iUUZZr0HjcaazCMpChTLD6STE60NN/a3TNVA0KSRH/gvMO+FAAoypRMjo+NH2ptuTUY7EgkRkWRUwKs/mRBarC/KKwrgWD/UWfzZpX40ORpXXHrP2Sik5noBJdJyKKAYBiKkaTWpDHYaYunoCArzyRn1tdZFGRiXGQ8ozEQ+eU5pHQ28vR+JfyqrFxCZf4cmWS+uvsoAGA4svYm59obnJ5mndFOioKcCLKDZxNHn/b1HY+Vc1o4ga67yblyj72qTW+wkQInxfxs77HYsWd9IxdKEQ+V6d/Z86ma276Y+4B8ru2dEkOFRrNf25ML+dOZiU13uFftsVsrNHorkY4J8QA7cCresT/SdbAwR1yFzkysvNbetslStVRvcpAkjbFpMRZgx7tTZ18LnX8rVCJGDNPpxEymdM5KlokODr1eU70jHOkhCR1JGjKZIIKgkiRIkiiJnGJLSxIvSSJaMp+O5ZKSxAMg0djg0iX3JBJjauDon84tXrrdWrVEX9Wmr1qid9bSCJpzqt72xQb1nuYj//5+68AWk4MEgG/ddnKiZ9p64pa7Pff9Ry6E56UfDr/84+H8vWYX9c19mwEgHuT+eXsRk7NupXH1dY7WTWazi9KaiEycj/rY7kPRky8FCg5UFIv1sJUAiiGf+N+lq67NZeC+/KPhl340PJuwLIm97/yq7epP5ZPzaC0VWksZJewiE337fsPOEmJ6OUAxpP1ad2Q042wqjHTXtNUYd65SApv8P5pWlmlWC8vi0ZAazOwiP/69pdVLp0YkKNDotM467abb3adfDT70j90cU8pxUL/K+KH/bHPVa/NGQGkD7mnS7byv8tizvke/1suz71IdY6MzF8O55nrHfd9o1einfr7JQZocZE27oWWDuegz5Kihb/xc3dqbnBg+baWCNuK0Efc06dbf7BrrTP3ybztCY0UWYnCjybrnhnTnxXRXRwmdpdO5nI5liiaSZYmmbRhGzvSAVHjWgweCwQ6t1u5xr6FpWzoTyGYjFZ51Op0rlZ6WkIRhFEnoKNJgMtVGIlOZgH8Kt/hzv1hRYuTSGOtImnbZAKCiRVegR+pXTHHF1C4vfB8q2/TKxujFQmVqdlEf+HrL8qumxdYYbKTBRta0G659oPrY8/4nv9mfTc7t+bqch600EATu/2arqq1e+clICW2lgEtHO175fsWya1xt20uUn8hHJur1dr4dHj49n7TQeQBBYOhEJBFgHPX6gl2GLcsCv3hxrrqEM4ZrWGO8999bbVW5eUQ2IfCcpLcQKJZ7Y9dc7xAF6bdfLu7hB4DWTZa/+tkyUpMzBERBTkV5gkK1xtxxN97utlfTP/joOYF/N3QWqcFoI75sp+0j314yWyjMxX3FqWaMDnLDbdPy17IJgWNEnZnAyZwJXb1U/9kHl//n7Sdnvp9iJs1Hwig9B+9KOu0fyYbkS+R/wVBHfiWIdNoPADXV28fGD2WzEUWmr3+KILB/ILfsEA7nApG6up9sbrrp/MWHeD67pO2ufIX1p3CLC17XJdtyqdqB4Ux4vBTBPwCMXkwu22UDgMpW3YkXpu2qW1lSYbXmlsxGO6YpLE+T7vO/XGF2T8UxcoyYTQhaI0FoUABAUGTT7e6apYYff/J8zD8HT+TlPGylcc9XmzfenqM8e/VnIy/+YKi0vAKRZ8bOvDh5ca+5aqnR1UibPZTOghIUhpGSJEgCJ/Ism44ycX8m5o1PdrOphZh+5UMU5ESAAYDg0LSPDVnjlBiObqsRYkkA4Ean+dpK6dpP/qBdo8eZlPDKT0aOP+9PhDgA0Oiw9be67vz7RpLGAGD9za59f5gYOlskjMXkIB/4QbvyKPsGMs9+Z6D7cFR5k60Vmqs/Xr3r/koAaFxruv3LDU/+57uUqbB0u/X+b7YiCIxcSB54dGLgdCIZ5jR6zFapadlkWXuD8+K+4vdp4FR8ojvlqKPPvBo8+0Zo8HQ8FeUBAMWQlo3m9/1zk6dJBwCueu2mO90HHp3Gn4WgqG7ZCj4cIl1zV3zJ11BF69ZksmFR5Mr3Kfh8Z6qrtsmyONPj/p7f4h89MK0apuoEOPK0b84gj5FL9lFFy7RPNKXFPE1aAPD2pz1NOoONtHioqHdKv1S2FrGwaAP+mZ8tV7SVJMoHH5888OjkZF9ulbmyTb/z3sot73MjKFLRovv0j5f9zwfPzPmVXfDDVgK3fbFhx705d/hrD46+8L9laSsVIs+Eh06Hh2anNn53obWQ2Tif78PSrWoWYymqzk2BG+alsJRH+XsfOjveNaUCmbR44NHJqJf9zM+WKy2b7nQXfZrv+qcm5TPrG8j89/tPM6kpKzoyyfzxG32ZOH/j5+oAYOf9lW/9djzineOLuij40LfacBJ9/ruDr+W9D9mkEPWy/SfjL5c0rX/3j90xL5uOT7NUJVHuPhz9/kfOfe2VDbQRB4CVV9sLFBYgCDM4IDFZdnLu0tMzoaURixmNxiSrBfX6RYO+97rd1Fv7sExWdjkxFAWzCT1zjrNZUX9QrKnGKRIxm9ALnZwkAoKAyeifmPDarGgyVaj+/qxv8dgl+0i1mBTULjcovrBDf/S+75+aAKB2mTHqnUpgVuXH8iysO/++UbE0ZRl+8+Wu069Me08mulOP/GtP34mYYi7VLDPc+Pna5783h7K4nIcth+nm+HWfrt3zqVxJhNcfHH3+u0UqHr1XMIC5Bmk2g50CDQpzs5XtlZ80OjXX/HVL19v+7ncCqs6KPn+IqnGZb9qM4FjqWGEd6TlYV1/84XD+o6zi4jthtb1hlWmmgNlNrb4uN8d+8lv9+Y+yijd+Maa0oxiy+a7FLDZXAgSFHnx88rUFhWhOdKcKtJWKZJg7dekRV10kKpT0Av3qtbr25eVTUKloaiC+8jeme+/WuV3Yh96vN+jQSg9203W0KMGq5WSFG9NQyBc+a/zqP5iVvUrLLddrN62nlF7KXpu1yO3+873F8SAXD7AAYHZR6gwULs0HBU46+WLujuTPCnESVdxt8SAXD+Yi100OcsPtufn+kae8BdpKxYkX/Mefy/kHd95fRRvncAZdzsOmIJ9bfOd9lbf+XS4w6o1fjj43H23ltC8rWPsrAAKI3dpaXVmcSmROuKFmA3K1B2pp0JWjrRQUXSUEAOO16wK/fNH3o6e1KxsRbNppl/oNPCMdeXLWPMn+UzlSiPw5v4q1NzgVP0gqwncfLm73cow4eCb33W7eaC5xJosIgZde/MHwlRg5MJzztWtNRZ5jiWVRDY2gqH7FvInVt2yk0hkplZZPnuFYTq6rwUfHxYEhwePCWpvxwWGhrgYfnxReejWj7FVacBy2baaUXsreaKxwCvPnfotHO3IqtaJ16iNRv9IIAL6BTDLMRSYZAKhdMaWwPE1a5bTzzau1NzlxIvcuvPXbUrGRb17aq9Fh626cI9Xm8h82Np37DGy63X33vzQr23t/Pfbsd3LaCgGkse6a5oYb7NY2gtA211/fXH+9lra7HMvrqne2Nd1qMTcY9BW1Vdtqq7abjbUETtfXXNVcf73T3p4vL4OsRNIsABTQSuUu5U8eOBZy74IAfH4uDgDEINwvXzgpvwMAtJnMRHnFk5UPIRzXNFZQ9W4AIFxW3DrlkSz1iRg6l2DSsy4PJcO5rxOtL6JQG9bkjjHenSrhZVY9l866wgixK4ShMwn1zBcXApdTB+qjnw+EIDC9ng+FUufm7T74+W+S6jV89Ml0fsny//h2HAB+/1hKknLZGMre/BYAePiJdNEynH/ut3j0YlJZ0ats0fWfiCmNioWlrBuOdaSsFZqadoMamVjZUsSB1bTOrGxEvIy3v1TW50R3KuZnzS4KAJrXmw88Vors//IftmxKBICV19jv+2arYpq/+ZuxZ749xZhis7ZksmGv/wwANNRePe49zrCxtqbb0tlgIjk+OnG4remWzt6nU2n/yPgBhZJfS9s7ev5YIN/Vt3CuqwqowwAHgCgEu+XTaUgCwNXIXQggB+QXRRARQM1gq0farOAigJiEYSUbcTa2BiEY07RUAwDvj+rWtXLesBDJKdNSCqv0nVMDjtTYmXyofs22LZZyCAl05ncphLXo9GdesFfTS7dbq5fqbZUavZWgjTipwUgaJag5LGE+HBJTCyl4V6AOZpYsVzSR8r+yN78lX6YAf+63WF3mq7jklrJ6NEY7CQATPWkAGO1MrrzWThtwZ53WP5TJl8xfIqxsyTV6e+fOUZ/oSSsKq2pp4dy/AJf/sDEpoXqp/qPfWaJYhW/9dvzp/5rG74RhFM/nCMUwlBBFVpYlJSyG41NKIB4A5DvDWC5eVH7BsCAOAOCBOycfVu0pCUQMcBRwEUQZpCgEo3KwHVnvgdoVyJaT8tswO+MoNxYkPLZ5c7pn4gvPI9OZ50elWtQquRKYzQlVDmqWGe78+8bmDeYF9EUwjHJXSFY23XFhbul3C3/ut1i1klTtWbdqyu6DvHlf7XKDorCmlgg7prSJ+luS0bkfj1QkZzTprXNcgct52BRQWuz+b7apUSP9p2IFAuFob2vjLUZDVSI5Mek/1VB3jSjy/uBFrXYaz1oiNdlUf30gdDG/2NI0edruca2maVsmEwzn0faXAx0YACAIk/mzPxFEDHAMsPxL0C2ftiFuM9g8UOOF0dkYR+fN6a6gdLhgaWh0uUvMpMXMZd+2RYQoLDAKbv3Nrg//V5saoMSz0nh3yj+USYX5TEJg00LzBvOqPbPW/hEzmcTxI5q6hvLLyZQJN1aHI0RKissg6VFzUoqyctaJVY8JPUbUpkdNMTGEIbgZdSSlaEya5k7+c7/FiRCnTNCUmBIAqFthAABZzhlQauhD7XKDwkSmLBEmQjmHvQLq0m/hixXQLIDqCKf1c9iMC37YVLz/X5tNzqkZ00e/veS7950Z65xStYLAdPT8EUEwWRYBoLvv+RwzxCW91Nn7FABMeI+rFX/7h3K0TulMcEoeoHfw5YWdJA4kAGTkaeakBCIAEEDkO6hEEP0wVg1NTqTKj4617nDIEjibDHt/OI2/rFxO90UElxWV0N6zrwcf+qfuK3QUBer358rB1aC9/z9bFW3FpMXnvzt49BkfO51/jtRiJRQWptfhFitK04t+blrUMMhfqMWXACAjQmcd0T7Md6C55RQZB1IEvhJrSskxI2otUFiXg3fzFpfAaEfS7KI0OszspmI+tnaZAQACw5lsQgCAVISPTDKKGwsA9FbCYCNhRox7NiXoTAQAKAGipUHRmNqrnDM023EASCdEowVXSIoyKUlnxDJJ0WDG0gmRY2UULc4CYnJSsgyH/+hdea1dbyFIGvurny7/9t2n87UtACjaKrcpywiKNG932mp0Rx6aWklUK/5Ox6zy5UN92PIbeeA0oCVBAzDNgErIUUDAAGYl0p1NC97uQmd/uZzui4h0TFCeZsNcZvPlgzZccYV1zceqlRmNLMODn7vYc7RIapVqfBWFmEwiOJ4pmZezMIhy7kFk5UwF3sDKGR1qMqAWI2pFABWAt6CupBQhECouBUsPNS+8m7e4BEYvJlfstgOAu0Eb97NKTMnwual3YORC0lqhqWzTIwh4GovHuKejvKKwDNa5CfgNNkLtVc4ZbrrO5Kmh0gnRVUP2nc94aqjABJdNSySFDHRkV2w2pBPi2UPJomRbobHsQ//c038idvx531//ZiVOoGYX9Vc/Wfa9+8+WsI5lSU74s7YaHQBoLeS2jzchCJx6cjQ8mt79uVZcgw2fCI2fj235SANtJI89MuTvS6jyC4AAPAEkiWjyfwEHDADowBiGaRS7IggAQAAlCrIMsPKmyvBYuiDYnV5SmzramdxfpBjilfIcqd7cqqWFHrXyoUZnlNYF78IKY+slFoHh84mi2goA9JZS760sCKlzZxYWOFoaI0KX8r9PHPYKQ15hKC3FL3KHE1IkLoW8wpBPHPaJw+NCb1xaSCLIbFiUW3z5UF1R7gatrYqmDTgADJ+f0kdK9jWlxRy1WjXhcaxj2hui/lkQg1oUFZc89OPdZbHIRgOCd4QNefnjbySUbYGXDWYsm5H6zmX6L2TcdSSbLT4VPfRHr7L62X8y/uhXc8xQNcsMH/l2W5nxfBvvrT/x+PAb3+va+rHG5m3O8Gj6tf/u6HnHn46wxx8bHj4Zats9d8G00shCCgD0MC1YLwUJALAihZEfJGjgEuGyskposBWuEipLhEVxpSysgVNxJc9LSfIs+KCVCSYlKrF5Jb7hKIbkR9lcISisAFByFWlmztq7AARQGaaedXnGV1rdO3PXZWJRbnEBZDkXV4sWW5csCnVy56jTVl4KoZhuYeW2q5fqnfW5KXnB2fYei629yQkAZhdV2aaf6J51da9qiV51Kg2cjJVzhsfeyM2J8rmh1W2rizh7oKxLd/RZn6tBq0S6r9rjuOUL9XOG2gMASWNcWpBEGSNQSo9norkVg5U3V+ntVHAohWKXa7UkIGoEqwlsKGCK6woA4nIYELCBWwfGNEzdDgfigUv2F0ljiQCjs1EIikxjmMmw7r99nxCOA0DoD2/kH+tKWVinXg6oi+LX/VXNwgaJXnr+GtYUibRWsPIau2LMX1GoJKKzBTe7G7X1xcLBrzQqdK0aTE+glI6w4ChJYToMwTWYHkNwDWbAERJBUBS5IlPmRbnFBVDjJC2eWUtAFyAZ5mI+FgBslRrF9c6zUj55w2hHLkzM3ai1V9O5LtNTl0+9ElDj0a7+aFWJw+3+SG4vz0gnX56fQzA/+1PdPnswOdJTbsbS898bPPtGbl5/3adrC7LxVdjr9KturW7YaG/a6jj99Ojuv2m7/ivtHa9P9u0PLL+pcvfnW1t3uURBstboKpaaJFHOl5/XL1IQln0AgAFmg6nzCYNfBAEBZBWy1Q4eHAgt6FuQlTZwA0AMQgDAJARSi3NZoSDSPf7qseDvXo2+eCT64pHph7piFlZ4gjn9anDdTU4AWHWt45pPVO/91VhRSRRDGteaivIuDZ6JVzTrAKCm3bB0u7XzQGE4tdlF3fmPjYt86sUQGs1WLdEDQN0KI06iaoyoAkKDfuhb5ZroiwsS1Troem+6x0g4tbSJk7Jx1lelX5bkQwkuaNNU8RIbZq4IVfyi3OICBEeZ6qV6AFiyzTrzOs+G0Y6k2U3ZKjVcRgSA8a5U/vIckxICQxlXg9bdqLNXa6AYq0w2Kez7w/h1n64FgI23u7sPRwuKGylYf7Nrw225BKPDT3lTkXd7bVSW4Xdf6bY9olHogO77j9bQGDN4ujAsIDScevXbUwShL/77eQRBJEkGgKf+4TSGo6IgAUDXmz7xUv52vvx8EYYADxwBpBmxB+VcJK0Iwij010MbDbpVyNaCLmPyAADwrHj0keGZAxp2rBTjqfSpXk1bjWHr8tjLR9mhXD7GFYx++uM3+9S1jDu+0vj5X61Yda3D7KYoLaa3EpWt+nU3OT/47y3feGfz/d8oLJeo4NgzUw/NA99v33qPh9LmjAWdidjyPs9Xnlhj9Wi47MLX5stExyVdafFQH/has3oaANCwxvSlR9bUrTS+C6cxEwiCEihFYTo9Yc0KiYwQt1AVoiyIEh/nfHEuoMXNqld+0XH5t7gAXYdy19lWqfnYd5bkr+jTBlx1HhVAiV2wVmqUoND8+WBO4EISADxNWlsVDdMjsFS8/KMRdZ744f/b9sF/a8k/nKdJ94Gvtaieo8Bw5rn/eW8SjzlG/NlnLiqXHSfRT/9omcoONBtkGaQ8E0bRVgAgLhKnkwRiv3zhtHygT57GvTEkdyqWVAEGoTMOpdypZLVTyrCmGzbq1rT4f/Ksfn2buusKxpenIvzPPnvxcw+uUOLrlmy1LtlqLSoZGi1eemjwTPzEi/71N7sAgNJi9/576we+1pKM8DiBaE2E8uhEJpnHvt772QcXzgNXDt75/fi293uUuefmuzyrr3f6BzM8IzrqtIp7KxnmfvbZi195fE2JQaqXGmqXGzR6jDbgtAHX6DDFQ6xg0+3u6iX6bFJk0gKTErNJgUkJZ98IleaKG0ycQACRQe6L54znMEzZUxSmu0Lm39OLnAAAC75JREFUlYLLv8UF2PeHiR0frFAWH1ftcaza40jHeEmUKR2mBK8UZZRVokM1OkyZEg6dn6mwEhtuc6mxWkXdbQIv/fyzFz/3yxUVzToERba9v2Lb+ysUPiwlmUGVDI8zP/vMRbZYUcV3BzE/+9O/uvjFR1aRGkxvJT7zs+Xf+cCZosnn7xomoIg3TQLptLy/FlrdSA0NOgnEBETH5L4gzFHJVWI4RENqmqswow7T05BXg/nKJsSMXkx++55T9/1Ha+vmWbm6ZRmGZ2fRfeRfejEcXXN9bmqNYojq/waA8a7Ur7/YGfOzqrP2CiER4h78fMenftSu6CyNDst3sQdHsz/7zAXfQCY4mnXUzBpptf4W59Ufm3X5w9WgdTUULneOXDgxJ7llCW/6FdVWCi7/Fucj5md/8TcdD3y/XVXl5cTTj0yf4s1mYU2d8yzrAzE/+917z9z9f5o23OZWHidSgxVE+Z19PfjYv/VdoXTU8jHWmfztV7o++YNlCAKeJt0D/7v0J5++UIKe+72CBNIQdA3JhQSQ7mW74hPd2aivaK/o0/s1rdX+HzyFaEjrXTsT+86qu654Bl94nPnBx841rTevvs7RvN5kclJaI86zUiLEefvT/Sfi598MBWf//HKM+KsvdBzYaN54h7thldHkpDAcSYQ5X3/m1EuBky8FFBK1qI+xeq5shYX+E7Fv3nxi14erlu202as1KIakIrxvMHP2jeDRZ3xKhPTg6XgJhfX/V1zmLS5A9+HoN24+seO+yiVbLY4amtJiTFpMx3hvf3qs2FQOAFIRPuplFT99KsLPpCod706JgqxwW6tO+qLIJoXf/2P3m78ZX3+Ls22L1eKhaAOucLr3Ho2dejmwKIuhi4Jzb4Se/96gwny/ZJv1ff/c9MR/zC+lpkzgGr27fSdGaQNdB2mzi9RZSJ052Hs0f5vPxB1tW3FSkwqMJP0D7mW7EQSCvccENqP2zcZ8lauvRzEi6RsAAHvTehQnI0Pnkr5CZkcxmVFK1QPDBX/7Sv6uWc0S11KrtcHouxAmaNyz0h7siVrqDBoTlQ5kx08FGndVnnuif6awpc4wuG+yYWcFocFJPRHqj4usqHRHMcRUrY8MJLQ2zcA7E027q3wXw8o4M48ly2BvNuns9NGfXSznmpqMNXqdWxCZTCZkMtakUl5KY8IxKp0OiBKvtCAIStPWdCbA81mrpTGZmownxmqqto+OH6Aoo8O2ZHzymE7rMBqqeT6TyYYUGUmSqis3jY4f5IWsImMyVuu0rlTaS9M25RCxxEjZd//SdccwkGcp+YmiavFtsq5C01qXPn7RuGczP+5H9VqEJOIv7DPdslPmhcSrh4w3bMWMemUXSlOxZ982Xr8VwbH4i/sBwPL+65RdidcWp7qXwdVIGWxM3C+Jgt5Rl4lOgixrLRUCn5V4LjbeYa5qj413uNt3+Tre0RidRk9TJjKBoLjSi0vHzNXLAj2HaJNLZ68R2DSTCCkysiQ627b5Ot4Ruawio3fU0mZ3JjJJGe0YQWVj/lRgHuyapMemW92U7RlDMJSqcTJDPrLChtIkOxqUecFyw4bI84fFFGPY0Bp99YRx+3JlF2agUyd69OtbxXha6YVbDUqLEElS1Y5s7zg3eVnhbE32bayQSrGhLB93GppHo6fNdKWBcgoSqyOtyq5oNkdiY6YrDZSDwvXjsXOKcJVpBYHRjJBMc2EzXZlkAhrCiKNkig1JsqCn7LHspCjxl0au0FOOJOPXklZFhhMzNm1tgvXHspP11o1DkWNlXUydxeCqJw02WeRTgZFMeKxm051MPKBuT5x+pWr9rUP7HwaAitXXhftPculo7eb3DR96Qu2bCY/jGn24/wQAuJftykQmU/6hmk13Dh96vPyrN6vTXZZljZHkMkLLnmo2xbmWWnES49I8TmOpQBadnsiqCpuq9ABgrjYYPNoLTw1UrnGo3fVu7cSpoPdCGCNRz3IbiiPqODOPVbnGceHJAYEt102gpe2iyAoC43IsFwTGYKjUamwT3hMGQ6XaQlGmaHw4nhjDcQ3LJszGOrU7yyYQBAOAdCaIYWQkNqDKpNLeZMqbSvtVGZOxZtJ30mJuVA9RcDIIhhEOB4LjmMmEajSY0ahsIySJm80ISeJmE6rX61atQmmacDoxnY6w21UZ3YoVmF5/aShUyjCatnpu1IfQGrZvVIyn9NvXIBQppTL67WtQWqPukpjcPIX3how3bKMaq9RdZV7GOUHqzEn/YCo4Yq1bJfKMzlalMTpEnhG5LGWwAQBlnCrfgJEUl0nonQ1qLy4TR1AMALJxP0pQCW+fKpOJTGYik9mYT5XRO+qCfceM7iaNwR7sPaqzVSMohqDlLhMZNrVFXz7GDEzSbdWxvad1K+oJtyX2+im6qYId9rHDPnY0IEQSCI4BgLqLdFkAgHRb1V5qC8gyqqfVi7xgyLI0Fjtroj2MkFQiTnSkVZBYXmTUXaqwVVs9FjsryYIqjKK4ILE4SroNSwSRNWrcWsKs9JIBcFQjSJwqbKarxmPnrLo6VQZHKUZIWehZXRMzYWtca61fKfCMQgEoibwkigiKF2zz6Zgij+GkyLOyJCEont8XIzUCM2Uj89mEJPLIPF05s04JUQxhk1zVWkewN6YxkpPnQq4lFlmUAcBaZ3S0WpxLLIGuaIEwE+eW3lJH6gkUQ9pvq89GmKQ3rXS31Bn4jAAAg+9M3vK/2174wkF1nJnHsjeZlt5Sh89F2KJCEBit1p5MeZO4l8DpeGLUZMxFBiXTuRYtbRdFDgDMxlpeyMog6bROg85l0HskSTDoPQZ9hV7nwlBCS1tVGVmWKNKg0zoAQJFhuaTbtZpl4wRRfNFKt2YNpqURksJtViEUFjMZTKfDbVZ2dIwbH0d1OsPmTeEnn5JlGSSJqqrKdHdr29sRksRtVnZ4BCGnvDbswDg37FUISxV2K3ZwHBDEuGdz6uCZqTxqdRdA4tVDUy0D40WqmF8eJIEFgEx0Eie1qeAwSZs0RkcmOklo9PbG9ThB02a31lKhtVbqnfUim1UijpReGpNTa63QWqu0FjeKEZTRrsrIskTQBo3JCQCKDJdN2BrWctk4TuXUN67V6yobEwMXMY1WZDIYrRUySdJo5RJRnNbxqWmr++xE2Hrr5kzXqBBNmXau5MNJ3JhzEcqihFn0ZKUdAKh6t6bBI2dzakhMZU1XrUK1FDcZVnohKKK0AIZKaUbbXpc4cFl8G6KcC4bQkTYD5TRq3ILEaklrkg3oZVuBMCtkKk3LUQRXhWVZVryWSTZAYJpYdsKizYWGIYAIEmvV1iQYvyLMCqkK0zKWT5J47rdbtFW8yMgg6ym7gXIYNa4EUySAIx+yJFIGO4qTSo60o3kjNEN05LzGaFe38+WDvccr19wg8Vx0+ByKE2rf+HhX7aa79I7adKh4+Es5KKXeUByVBAkACuJQyxFefW/L2cf6lF4L6F5mLxX1NVeFIj02S/Pw2D4EQQsKNBRpAWTOyG9VZqZw6e769etRipRYTspmUYoSk0nMZFK2U6dOGbdvw82W5LFj+rVrUqdO69eu4UNhmWMRkpKyWUyrxSzm5OEjYrKUrwQz6sXE5XItXSaUq1qx4trYeKepotV78a0iRBTlUFOoMmV0N7esZqMB67LNTGgyGxynLC5Mo0UJkjLZvAdfELLT8xBUZT2vE5t5Ppc2EAyTZ7KRXTYa7VuDqX67rn4wfLTI6cz+sBV5Mst41Mt5+AsPhGKyJAKAe9mu2FgnmwzJkpS/PbOHSgKh9i0YamG4UktrWqsmE3k3ikoowDCK1pjTmeCVqE87X+jXrUMpKnX2rJRfNrXEa6lC2bXY/DNXFBhBkXorE/O/C1eesjgtbWuFTIowmpngZLT7lGXJepSkJI4V2WxiaPETy98d4ChJE6YUF/5TeHpLw1yzLBMa4zLxgu13De9FdPZf8BdcFhCV2MCyZB1KULHesyI7R0ntv+Av+Av+gr/gL/gL/oK/4C/4C4rh/wO1L5iM/8hLqgAAAABJRU5ErkJggg==
"
>
</div>

</div>

</div>
</div>

</div>
<div class="cell border-box-sizing code_cell rendered">
<div class="input">
<div class="prompt input_prompt">In&nbsp;[47]:</div>
<div class="inner_cell">
    <div class="input_area">
<div class=" highlight hl-ipython3"><pre><span></span><span class="o">%%</span><span class="k">nose</span>

# one or more tests of the students code. 
# The @solution should pass the tests.
# The purpose of the tests is to try to catch common errors and to 
# give the student a hint on how to resolve these errors.

def test_example():
    assert long_string == &#39; &#39;.join(papers[&#39;title_processed&#39;]), \
    &#39;The titles were not parsed correctly to a single long string.&#39;
</pre></div>

</div>
</div>
</div>

<div class="output_wrapper">
<div class="output">


<div class="output_area">

<div class="prompt"></div>





</div>

<div class="output_area">

<div class="prompt output_prompt">Out[47]:</div>




<div class="output_text output_subarea output_execute_result">
<pre>1/1 tests passed
</pre>
</div>

</div>

</div>
</div>

</div>
<div class="cell border-box-sizing text_cell rendered"><div class="prompt input_prompt">
</div>
<div class="inner_cell">
<div class="text_cell_render border-box-sizing rendered_html">
<h2 id="6.--Prepare-the-text-for-LDA-analysis">6.  Prepare the text for LDA analysis<a class="anchor-link" href="#6.--Prepare-the-text-for-LDA-analysis">&#182;</a></h2><p>The main text analysis method that we will use is latent Dirichlet allocation (LDA). LDA is able to perform topic detection on large document sets, determining what the main 'topics' are in a large unlabeled set of texts. A 'topic' is a collection of words that tend to co-occur often. The hypothesis is that LDA might be able to clarify what the different topics in the research titles are. These topics can then be used as a starting point for further analysis.</p>
<p>LDA does not work directly on text data. First, it is necessary to convert the documents into a simple vector representation. This representation will then be used by LDA to determine the topics. Each entry of a 'document vector' will correspond with the number of times a word occurred in the document. In conclusion, we will convert a list of titles into a list of vectors, all with length equal to the vocabulary. For example, <em>'Analyzing machine learning trends with neural networks.'</em> would be transformed into <code>[1, 0, 1, ..., 1, 0]</code>.</p>
<p>We'll then plot the 10 most common words based on the outcome of this operation (the list of document vectors). As a check, these words should also occur in the word cloud.</p>
</div>
</div>
</div>
<div class="cell border-box-sizing code_cell rendered">
<div class="input">
<div class="prompt input_prompt">In&nbsp;[48]:</div>
<div class="inner_cell">
    <div class="input_area">
<div class=" highlight hl-ipython3"><pre><span></span><span class="c1"># Load the library with the CountVectorizer method</span>
<span class="kn">from</span> <span class="nn">sklearn.feature_extraction.text</span> <span class="k">import</span> <span class="n">CountVectorizer</span>
<span class="kn">import</span> <span class="nn">numpy</span> <span class="k">as</span> <span class="nn">np</span>

<span class="c1"># Helper function</span>
<span class="k">def</span> <span class="nf">plot_10_most_common_words</span><span class="p">(</span><span class="n">count_data</span><span class="p">,</span> <span class="n">count_vectorizer</span><span class="p">):</span>
    <span class="kn">import</span> <span class="nn">matplotlib.pyplot</span> <span class="k">as</span> <span class="nn">plt</span>
    <span class="n">words</span> <span class="o">=</span> <span class="n">count_vectorizer</span><span class="o">.</span><span class="n">get_feature_names</span><span class="p">()</span>
    <span class="n">total_counts</span> <span class="o">=</span> <span class="n">np</span><span class="o">.</span><span class="n">zeros</span><span class="p">(</span><span class="nb">len</span><span class="p">(</span><span class="n">words</span><span class="p">))</span>
    <span class="k">for</span> <span class="n">t</span> <span class="ow">in</span> <span class="n">count_data</span><span class="p">:</span>
        <span class="n">total_counts</span><span class="o">+=</span><span class="n">t</span><span class="o">.</span><span class="n">toarray</span><span class="p">()[</span><span class="mi">0</span><span class="p">]</span>
    
    <span class="n">count_dict</span> <span class="o">=</span> <span class="p">(</span><span class="nb">zip</span><span class="p">(</span><span class="n">words</span><span class="p">,</span> <span class="n">total_counts</span><span class="p">))</span>
    <span class="n">count_dict</span> <span class="o">=</span> <span class="nb">sorted</span><span class="p">(</span><span class="n">count_dict</span><span class="p">,</span> <span class="n">key</span><span class="o">=</span><span class="k">lambda</span> <span class="n">x</span><span class="p">:</span><span class="n">x</span><span class="p">[</span><span class="mi">1</span><span class="p">],</span> <span class="n">reverse</span><span class="o">=</span><span class="kc">True</span><span class="p">)[</span><span class="mi">0</span><span class="p">:</span><span class="mi">10</span><span class="p">]</span>
    <span class="n">words</span> <span class="o">=</span> <span class="p">[</span><span class="n">w</span><span class="p">[</span><span class="mi">0</span><span class="p">]</span> <span class="k">for</span> <span class="n">w</span> <span class="ow">in</span> <span class="n">count_dict</span><span class="p">]</span>
    <span class="n">counts</span> <span class="o">=</span> <span class="p">[</span><span class="n">w</span><span class="p">[</span><span class="mi">1</span><span class="p">]</span> <span class="k">for</span> <span class="n">w</span> <span class="ow">in</span> <span class="n">count_dict</span><span class="p">]</span>
    <span class="n">x_pos</span> <span class="o">=</span> <span class="n">np</span><span class="o">.</span><span class="n">arange</span><span class="p">(</span><span class="nb">len</span><span class="p">(</span><span class="n">words</span><span class="p">))</span> 

    <span class="n">plt</span><span class="o">.</span><span class="n">bar</span><span class="p">(</span><span class="n">x_pos</span><span class="p">,</span> <span class="n">counts</span><span class="p">,</span><span class="n">align</span><span class="o">=</span><span class="s1">&#39;center&#39;</span><span class="p">)</span>
    <span class="n">plt</span><span class="o">.</span><span class="n">xticks</span><span class="p">(</span><span class="n">x_pos</span><span class="p">,</span> <span class="n">words</span><span class="p">,</span> <span class="n">rotation</span><span class="o">=</span><span class="mi">90</span><span class="p">)</span> 
    <span class="n">plt</span><span class="o">.</span><span class="n">xlabel</span><span class="p">(</span><span class="s1">&#39;words&#39;</span><span class="p">)</span>
    <span class="n">plt</span><span class="o">.</span><span class="n">ylabel</span><span class="p">(</span><span class="s1">&#39;counts&#39;</span><span class="p">)</span>
    <span class="n">plt</span><span class="o">.</span><span class="n">title</span><span class="p">(</span><span class="s1">&#39;10 most common words&#39;</span><span class="p">)</span>
    <span class="n">plt</span><span class="o">.</span><span class="n">show</span><span class="p">()</span>

<span class="c1"># Initialise the count vectorizer with the English stop words</span>
<span class="n">count_vectorizer</span> <span class="o">=</span> <span class="n">CountVectorizer</span><span class="p">(</span><span class="n">stop_words</span><span class="o">=</span><span class="s1">&#39;english&#39;</span><span class="p">)</span>

<span class="c1"># Fit and transform the processed titles</span>
<span class="n">count_data</span> <span class="o">=</span> <span class="n">count_vectorizer</span><span class="o">.</span><span class="n">fit_transform</span><span class="p">(</span><span class="n">papers</span><span class="p">[</span><span class="s1">&#39;title_processed&#39;</span><span class="p">])</span>

<span class="c1"># Visualise the 10 most common words</span>
<span class="n">plot_10_most_common_words</span><span class="p">(</span><span class="n">count_data</span><span class="p">,</span> <span class="n">count_vectorizer</span><span class="p">)</span>
</pre></div>

</div>
</div>
</div>

<div class="output_wrapper">
<div class="output">


<div class="output_area">

<div class="prompt"></div>




<div class="output_png output_subarea ">
<img src="data:image/png;base64,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
"
>
</div>

</div>

</div>
</div>

</div>
<div class="cell border-box-sizing code_cell rendered">
<div class="input">
<div class="prompt input_prompt">In&nbsp;[49]:</div>
<div class="inner_cell">
    <div class="input_area">
<div class=" highlight hl-ipython3"><pre><span></span><span class="o">%%</span><span class="k">nose</span>

# one or more tests of the students code. 
# The @solution should pass the tests.
# The purpose of the tests is to try to catch common errors and to 
# give the student a hint on how to resolve these errors.

def test_count_data():
    assert &quot;count_data&quot; in globals(), \
        &quot;The variable count_data should be defined.&quot;
</pre></div>

</div>
</div>
</div>

<div class="output_wrapper">
<div class="output">


<div class="output_area">

<div class="prompt"></div>





</div>

<div class="output_area">

<div class="prompt output_prompt">Out[49]:</div>




<div class="output_text output_subarea output_execute_result">
<pre>1/1 tests passed
</pre>
</div>

</div>

</div>
</div>

</div>
<div class="cell border-box-sizing text_cell rendered"><div class="prompt input_prompt">
</div>
<div class="inner_cell">
<div class="text_cell_render border-box-sizing rendered_html">
<h2 id="7.-Analysing-trends-with-LDA">7. Analysing trends with LDA<a class="anchor-link" href="#7.-Analysing-trends-with-LDA">&#182;</a></h2><p>Finally, the research titles will be analyzed using LDA. Note that in order to process a new set of documents (e.g. news articles), a similar set of steps will be required to preprocess the data. The flow that was constructed here can thus easily be exported for a new text dataset.</p>
<p>The only parameter we will tweak is the number of topics in the LDA algorithm. Typically, one would calculate the 'perplexity' metric to determine which number of topics is best and iterate over different amounts of topics until the lowest 'perplexity' is found. For now, let's play around with a different number of topics. From there, we can distinguish what each topic is about ('neural networks', 'reinforcement learning', 'kernel methods', 'gaussian processes', etc.).</p>
</div>
</div>
</div>
<div class="cell border-box-sizing code_cell rendered">
<div class="input">
<div class="prompt input_prompt">In&nbsp;[50]:</div>
<div class="inner_cell">
    <div class="input_area">
<div class=" highlight hl-ipython3"><pre><span></span><span class="kn">import</span> <span class="nn">warnings</span>
<span class="n">warnings</span><span class="o">.</span><span class="n">simplefilter</span><span class="p">(</span><span class="s2">&quot;ignore&quot;</span><span class="p">,</span> <span class="ne">DeprecationWarning</span><span class="p">)</span>

<span class="c1"># Load the LDA model from sk-learn</span>
<span class="kn">from</span> <span class="nn">sklearn.decomposition</span> <span class="k">import</span> <span class="n">LatentDirichletAllocation</span> <span class="k">as</span> <span class="n">LDA</span>
 
<span class="c1"># Helper function</span>
<span class="k">def</span> <span class="nf">print_topics</span><span class="p">(</span><span class="n">model</span><span class="p">,</span> <span class="n">count_vectorizer</span><span class="p">,</span> <span class="n">n_top_words</span><span class="p">):</span>
    <span class="n">words</span> <span class="o">=</span> <span class="n">count_vectorizer</span><span class="o">.</span><span class="n">get_feature_names</span><span class="p">()</span>
    <span class="k">for</span> <span class="n">topic_idx</span><span class="p">,</span> <span class="n">topic</span> <span class="ow">in</span> <span class="nb">enumerate</span><span class="p">(</span><span class="n">model</span><span class="o">.</span><span class="n">components_</span><span class="p">):</span>
        <span class="nb">print</span><span class="p">(</span><span class="s2">&quot;</span><span class="se">\n</span><span class="s2">Topic #</span><span class="si">%d</span><span class="s2">:&quot;</span> <span class="o">%</span> <span class="n">topic_idx</span><span class="p">)</span>
        <span class="nb">print</span><span class="p">(</span><span class="s2">&quot; &quot;</span><span class="o">.</span><span class="n">join</span><span class="p">([</span><span class="n">words</span><span class="p">[</span><span class="n">i</span><span class="p">]</span>
                        <span class="k">for</span> <span class="n">i</span> <span class="ow">in</span> <span class="n">topic</span><span class="o">.</span><span class="n">argsort</span><span class="p">()[:</span><span class="o">-</span><span class="n">n_top_words</span> <span class="o">-</span> <span class="mi">1</span><span class="p">:</span><span class="o">-</span><span class="mi">1</span><span class="p">]]))</span>
        
<span class="c1"># Tweak the two parameters below (use int values below 15)</span>
<span class="n">number_topics</span> <span class="o">=</span> <span class="mi">10</span>
<span class="n">number_words</span> <span class="o">=</span> <span class="mi">10</span>

<span class="c1"># Create and fit the LDA model</span>
<span class="n">lda</span> <span class="o">=</span> <span class="n">LDA</span><span class="p">(</span><span class="n">n_components</span><span class="o">=</span><span class="n">number_topics</span><span class="p">)</span>
<span class="n">lda</span><span class="o">.</span><span class="n">fit</span><span class="p">(</span><span class="n">count_data</span><span class="p">)</span>

<span class="c1"># Print the topics found by the LDA model</span>
<span class="nb">print</span><span class="p">(</span><span class="s2">&quot;Topics found via LDA:&quot;</span><span class="p">)</span>
<span class="n">print_topics</span><span class="p">(</span><span class="n">lda</span><span class="p">,</span> <span class="n">count_vectorizer</span><span class="p">,</span> <span class="n">number_words</span><span class="p">)</span>
</pre></div>

</div>
</div>
</div>

<div class="output_wrapper">
<div class="output">


<div class="output_area">

<div class="prompt"></div>


<div class="output_subarea output_stream output_stdout output_text">
<pre>Topics found via LDA:

Topic #0:
information probabilistic search temporal approximation complexity policy sample space maximum

Topic #1:
optimization image latent analysis brain kernel models variable rates general

Topic #2:
learning efficient statistical active algorithm rank theory robust adversarial scalable

Topic #3:
models estimation high detection learning graphical hierarchical using generative state

Topic #4:
neural networks network recurrent markov using recognition time regularization model

Topic #5:
learning multi stochastic linear online inference bayesian variational algorithms optimal

Topic #6:
learning sparse model visual functions multiple method decision object graph

Topic #7:
learning data clustering analysis reinforcement non fast gradient structured using

Topic #8:
deep gaussian regression large processes process time scale supervised training

Topic #9:
classification random adaptive spectral propagation applications based mixtures segmentation adaptation
</pre>
</div>
</div>

</div>
</div>

</div>
<div class="cell border-box-sizing code_cell rendered">
<div class="input">
<div class="prompt input_prompt">In&nbsp;[51]:</div>
<div class="inner_cell">
    <div class="input_area">
<div class=" highlight hl-ipython3"><pre><span></span><span class="o">%%</span><span class="k">nose</span>

# No standard testing procedure exists for printing at the moment

def test_nothing():
    assert True, &quot;Nothing to test&quot;
</pre></div>

</div>
</div>
</div>

<div class="output_wrapper">
<div class="output">


<div class="output_area">

<div class="prompt"></div>





</div>

<div class="output_area">

<div class="prompt output_prompt">Out[51]:</div>




<div class="output_text output_subarea output_execute_result">
<pre>1/1 tests passed
</pre>
</div>

</div>

</div>
</div>

</div>
<div class="cell border-box-sizing text_cell rendered"><div class="prompt input_prompt">
</div>
<div class="inner_cell">
<div class="text_cell_render border-box-sizing rendered_html">
<h2 id="8.-The-future-of-machine-learning">8. The future of machine learning<a class="anchor-link" href="#8.-The-future-of-machine-learning">&#182;</a></h2><p>Machine learning has become increasingly popular over the past years. The number of NIPS conference papers has risen exponentially, and people are continuously looking for ways on how they can incorporate machine learning into their products and services.</p>
<p>Although this analysis focused on analyzing machine learning trends in research, a lot of these techniques are rapidly being adopted in industry. Following the latest machine learning trends is a critical skill for a data scientist, and it is recommended to continuously keep learning by going through blogs, tutorials, and courses.</p>
</div>
</div>
</div>
<div class="cell border-box-sizing code_cell rendered">
<div class="input">
<div class="prompt input_prompt">In&nbsp;[52]:</div>
<div class="inner_cell">
    <div class="input_area">
<div class=" highlight hl-ipython3"><pre><span></span><span class="c1"># The historical data indicates that:</span>
<span class="n">more_papers_published_in_2018</span> <span class="o">=</span> <span class="kc">True</span>
</pre></div>

</div>
</div>
</div>

</div>
<div class="cell border-box-sizing code_cell rendered">
<div class="input">
<div class="prompt input_prompt">In&nbsp;[53]:</div>
<div class="inner_cell">
    <div class="input_area">
<div class=" highlight hl-ipython3"><pre><span></span><span class="o">%%</span><span class="k">nose</span>

# one or more tests of the students code. 
# The @solution should pass the tests.
# The purpose of the tests is to try to catch common errors and to 
# give the student a hint on how to resolve these errors.

def test():
        assert more_papers_published_in_2018 == True, \
    &#39;The number published papers has been rising the past 10 years!&#39;
</pre></div>

</div>
</div>
</div>

<div class="output_wrapper">
<div class="output">


<div class="output_area">

<div class="prompt"></div>





</div>

<div class="output_area">

<div class="prompt output_prompt">Out[53]:</div>




<div class="output_text output_subarea output_execute_result">
<pre>1/1 tests passed
</pre>
</div>

</div>

</div>
</div>

</div>
    </div>
  </div>
</body>

 


</html>
